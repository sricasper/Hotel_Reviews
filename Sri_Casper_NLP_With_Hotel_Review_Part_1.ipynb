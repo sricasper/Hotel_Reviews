{
 "cells": [
  {
   "cell_type": "markdown",
   "id": "48594e23",
   "metadata": {},
   "source": [
    "<div id=\"container\" style=\"position:relative;\">\n",
    "<div style=\"float:left\"><h1> NLP with Hotel Review Part 1</h1>\n",
    "</div>\n",
    "<div style=\"position:relative; float:right\">"
   ]
  },
  {
   "cell_type": "markdown",
   "id": "70027aa0",
   "metadata": {},
   "source": [
    "### Sri Casper"
   ]
  },
  {
   "cell_type": "markdown",
   "id": "36369fda",
   "metadata": {},
   "source": [
    "### Dataset\n",
    "\n",
    "Hotel_Reviews dataset will be used in this report. The dataset contains information about customer reviews about the hotels they stayed from many countries around the world. The dataset contains the data from 2015 to 2017."
   ]
  },
  {
   "cell_type": "markdown",
   "id": "84439fd2",
   "metadata": {},
   "source": [
    "#### Data Dictionary\n",
    "\n",
    "- Hotel_Address                               --  object \n",
    "- Additional_Number_of_Scoring                --  int64  \n",
    "- Review_Date                                 --  object \n",
    "- Average_Score                               --  float64\n",
    "- Hotel_Name                                  --  object \n",
    "- Reviewer_Nationality                        --  object \n",
    "- Negative_Review                             --  object \n",
    "- Review_Total_Negative_Word_Counts           --  int64  \n",
    "- Total_Number_of_Reviews                     --  int64  \n",
    "- Positive_Review                             --  object \n",
    "- Review_Total_Positive_Word_Counts           --  int64  \n",
    "- Total_Number_of_Reviews_Reviewer_Has_Given  --  int64  \n",
    "- Reviewer_Score                              --  float64\n",
    "- Tags                                        --  object \n",
    "- days_since_review                           --  object \n",
    "- lat                                         --  float64\n",
    "- lng                                         --  float64"
   ]
  },
  {
   "cell_type": "markdown",
   "id": "4cc1f7d5",
   "metadata": {},
   "source": [
    "### Exploratory Data Analysis"
   ]
  },
  {
   "cell_type": "code",
   "execution_count": 1,
   "id": "331bd41d",
   "metadata": {},
   "outputs": [],
   "source": [
    "# Import libraries\n",
    "\n",
    "import pandas as pd\n",
    "import numpy as np\n",
    "import matplotlib.pyplot as plt\n",
    "%matplotlib inline\n",
    "import seaborn as sns\n",
    "\n",
    "from sklearn.model_selection import train_test_split\n",
    "\n",
    "from sklearn.preprocessing import MinMaxScaler\n",
    "from sklearn.preprocessing import StandardScaler\n",
    "from sklearn.preprocessing import RobustScaler\n",
    "\n",
    "from sklearn.linear_model import LogisticRegression\n",
    "from sklearn.neighbors import KNeighborsClassifier\n",
    "from sklearn.tree import DecisionTreeClassifier"
   ]
  },
  {
   "cell_type": "code",
   "execution_count": 2,
   "id": "149954e4",
   "metadata": {},
   "outputs": [],
   "source": [
    "# Get the data from a .csv file\n",
    "# Assign the file to 'mosquito_data'\n",
    "\n",
    "hr_data = pd.read_csv('Hotel_Reviews.csv')"
   ]
  },
  {
   "cell_type": "code",
   "execution_count": 3,
   "id": "02e8c0b4",
   "metadata": {},
   "outputs": [
    {
     "data": {
      "text/plain": [
       "(515738, 17)"
      ]
     },
     "execution_count": 3,
     "metadata": {},
     "output_type": "execute_result"
    }
   ],
   "source": [
    "# Shape of the dataframe\n",
    "\n",
    "hr_data.shape"
   ]
  },
  {
   "cell_type": "code",
   "execution_count": 4,
   "id": "e6e050a7",
   "metadata": {},
   "outputs": [
    {
     "name": "stdout",
     "output_type": "stream",
     "text": [
      "We have 515738 rows and 17 columns in the dataframe.\n"
     ]
    }
   ],
   "source": [
    "# Print out rows and columns of the dataframe\n",
    "\n",
    "print(f\"We have {hr_data.shape[0]} rows and {hr_data.shape[1]} columns in the dataframe.\")"
   ]
  },
  {
   "cell_type": "code",
   "execution_count": 5,
   "id": "19466541",
   "metadata": {
    "scrolled": false
   },
   "outputs": [
    {
     "name": "stdout",
     "output_type": "stream",
     "text": [
      "<class 'pandas.core.frame.DataFrame'>\n",
      "RangeIndex: 515738 entries, 0 to 515737\n",
      "Data columns (total 17 columns):\n",
      " #   Column                                      Non-Null Count   Dtype  \n",
      "---  ------                                      --------------   -----  \n",
      " 0   Hotel_Address                               515738 non-null  object \n",
      " 1   Additional_Number_of_Scoring                515738 non-null  int64  \n",
      " 2   Review_Date                                 515738 non-null  object \n",
      " 3   Average_Score                               515738 non-null  float64\n",
      " 4   Hotel_Name                                  515738 non-null  object \n",
      " 5   Reviewer_Nationality                        515738 non-null  object \n",
      " 6   Negative_Review                             515738 non-null  object \n",
      " 7   Review_Total_Negative_Word_Counts           515738 non-null  int64  \n",
      " 8   Total_Number_of_Reviews                     515738 non-null  int64  \n",
      " 9   Positive_Review                             515738 non-null  object \n",
      " 10  Review_Total_Positive_Word_Counts           515738 non-null  int64  \n",
      " 11  Total_Number_of_Reviews_Reviewer_Has_Given  515738 non-null  int64  \n",
      " 12  Reviewer_Score                              515738 non-null  float64\n",
      " 13  Tags                                        515738 non-null  object \n",
      " 14  days_since_review                           515738 non-null  object \n",
      " 15  lat                                         512470 non-null  float64\n",
      " 16  lng                                         512470 non-null  float64\n",
      "dtypes: float64(4), int64(5), object(8)\n",
      "memory usage: 66.9+ MB\n"
     ]
    }
   ],
   "source": [
    "# See a quick summary of each column, the datatypes,\n",
    "# and the number of non-null values \n",
    "\n",
    "hr_data.info()"
   ]
  },
  {
   "cell_type": "markdown",
   "id": "cbc13438",
   "metadata": {},
   "source": [
    "- There are columns recorded in integers, floats, and objects.\n",
    "- Moreover, Lat and Lon are the only columns with missing values, having 512,470 values out of 515,738 total rows of data."
   ]
  },
  {
   "cell_type": "code",
   "execution_count": 6,
   "id": "1f2e7e0e",
   "metadata": {},
   "outputs": [
    {
     "data": {
      "text/html": [
       "<div>\n",
       "<style scoped>\n",
       "    .dataframe tbody tr th:only-of-type {\n",
       "        vertical-align: middle;\n",
       "    }\n",
       "\n",
       "    .dataframe tbody tr th {\n",
       "        vertical-align: top;\n",
       "    }\n",
       "\n",
       "    .dataframe thead th {\n",
       "        text-align: right;\n",
       "    }\n",
       "</style>\n",
       "<table border=\"1\" class=\"dataframe\">\n",
       "  <thead>\n",
       "    <tr style=\"text-align: right;\">\n",
       "      <th></th>\n",
       "      <th>Hotel_Address</th>\n",
       "      <th>Additional_Number_of_Scoring</th>\n",
       "      <th>Review_Date</th>\n",
       "      <th>Average_Score</th>\n",
       "      <th>Hotel_Name</th>\n",
       "      <th>Reviewer_Nationality</th>\n",
       "      <th>Negative_Review</th>\n",
       "      <th>Review_Total_Negative_Word_Counts</th>\n",
       "      <th>Total_Number_of_Reviews</th>\n",
       "      <th>Positive_Review</th>\n",
       "      <th>Review_Total_Positive_Word_Counts</th>\n",
       "      <th>Total_Number_of_Reviews_Reviewer_Has_Given</th>\n",
       "      <th>Reviewer_Score</th>\n",
       "      <th>Tags</th>\n",
       "      <th>days_since_review</th>\n",
       "      <th>lat</th>\n",
       "      <th>lng</th>\n",
       "    </tr>\n",
       "  </thead>\n",
       "  <tbody>\n",
       "    <tr>\n",
       "      <th>0</th>\n",
       "      <td>s Gravesandestraat 55 Oost 1092 AA Amsterdam ...</td>\n",
       "      <td>194</td>\n",
       "      <td>8/3/2017</td>\n",
       "      <td>7.7</td>\n",
       "      <td>Hotel Arena</td>\n",
       "      <td>Russia</td>\n",
       "      <td>I am so angry that i made this post available...</td>\n",
       "      <td>397</td>\n",
       "      <td>1403</td>\n",
       "      <td>Only the park outside of the hotel was beauti...</td>\n",
       "      <td>11</td>\n",
       "      <td>7</td>\n",
       "      <td>2.9</td>\n",
       "      <td>[' Leisure trip ', ' Couple ', ' Duplex Double...</td>\n",
       "      <td>0 days</td>\n",
       "      <td>52.360576</td>\n",
       "      <td>4.915968</td>\n",
       "    </tr>\n",
       "    <tr>\n",
       "      <th>1</th>\n",
       "      <td>s Gravesandestraat 55 Oost 1092 AA Amsterdam ...</td>\n",
       "      <td>194</td>\n",
       "      <td>8/3/2017</td>\n",
       "      <td>7.7</td>\n",
       "      <td>Hotel Arena</td>\n",
       "      <td>Ireland</td>\n",
       "      <td>No Negative</td>\n",
       "      <td>0</td>\n",
       "      <td>1403</td>\n",
       "      <td>No real complaints the hotel was great great ...</td>\n",
       "      <td>105</td>\n",
       "      <td>7</td>\n",
       "      <td>7.5</td>\n",
       "      <td>[' Leisure trip ', ' Couple ', ' Duplex Double...</td>\n",
       "      <td>0 days</td>\n",
       "      <td>52.360576</td>\n",
       "      <td>4.915968</td>\n",
       "    </tr>\n",
       "    <tr>\n",
       "      <th>2</th>\n",
       "      <td>s Gravesandestraat 55 Oost 1092 AA Amsterdam ...</td>\n",
       "      <td>194</td>\n",
       "      <td>7/31/2017</td>\n",
       "      <td>7.7</td>\n",
       "      <td>Hotel Arena</td>\n",
       "      <td>Australia</td>\n",
       "      <td>Rooms are nice but for elderly a bit difficul...</td>\n",
       "      <td>42</td>\n",
       "      <td>1403</td>\n",
       "      <td>Location was good and staff were ok It is cut...</td>\n",
       "      <td>21</td>\n",
       "      <td>9</td>\n",
       "      <td>7.1</td>\n",
       "      <td>[' Leisure trip ', ' Family with young childre...</td>\n",
       "      <td>3 days</td>\n",
       "      <td>52.360576</td>\n",
       "      <td>4.915968</td>\n",
       "    </tr>\n",
       "    <tr>\n",
       "      <th>3</th>\n",
       "      <td>s Gravesandestraat 55 Oost 1092 AA Amsterdam ...</td>\n",
       "      <td>194</td>\n",
       "      <td>7/31/2017</td>\n",
       "      <td>7.7</td>\n",
       "      <td>Hotel Arena</td>\n",
       "      <td>United Kingdom</td>\n",
       "      <td>My room was dirty and I was afraid to walk ba...</td>\n",
       "      <td>210</td>\n",
       "      <td>1403</td>\n",
       "      <td>Great location in nice surroundings the bar a...</td>\n",
       "      <td>26</td>\n",
       "      <td>1</td>\n",
       "      <td>3.8</td>\n",
       "      <td>[' Leisure trip ', ' Solo traveler ', ' Duplex...</td>\n",
       "      <td>3 days</td>\n",
       "      <td>52.360576</td>\n",
       "      <td>4.915968</td>\n",
       "    </tr>\n",
       "    <tr>\n",
       "      <th>4</th>\n",
       "      <td>s Gravesandestraat 55 Oost 1092 AA Amsterdam ...</td>\n",
       "      <td>194</td>\n",
       "      <td>7/24/2017</td>\n",
       "      <td>7.7</td>\n",
       "      <td>Hotel Arena</td>\n",
       "      <td>New Zealand</td>\n",
       "      <td>You When I booked with your company on line y...</td>\n",
       "      <td>140</td>\n",
       "      <td>1403</td>\n",
       "      <td>Amazing location and building Romantic setting</td>\n",
       "      <td>8</td>\n",
       "      <td>3</td>\n",
       "      <td>6.7</td>\n",
       "      <td>[' Leisure trip ', ' Couple ', ' Suite ', ' St...</td>\n",
       "      <td>10 days</td>\n",
       "      <td>52.360576</td>\n",
       "      <td>4.915968</td>\n",
       "    </tr>\n",
       "  </tbody>\n",
       "</table>\n",
       "</div>"
      ],
      "text/plain": [
       "                                       Hotel_Address  \\\n",
       "0   s Gravesandestraat 55 Oost 1092 AA Amsterdam ...   \n",
       "1   s Gravesandestraat 55 Oost 1092 AA Amsterdam ...   \n",
       "2   s Gravesandestraat 55 Oost 1092 AA Amsterdam ...   \n",
       "3   s Gravesandestraat 55 Oost 1092 AA Amsterdam ...   \n",
       "4   s Gravesandestraat 55 Oost 1092 AA Amsterdam ...   \n",
       "\n",
       "   Additional_Number_of_Scoring Review_Date  Average_Score   Hotel_Name  \\\n",
       "0                           194    8/3/2017            7.7  Hotel Arena   \n",
       "1                           194    8/3/2017            7.7  Hotel Arena   \n",
       "2                           194   7/31/2017            7.7  Hotel Arena   \n",
       "3                           194   7/31/2017            7.7  Hotel Arena   \n",
       "4                           194   7/24/2017            7.7  Hotel Arena   \n",
       "\n",
       "  Reviewer_Nationality                                    Negative_Review  \\\n",
       "0              Russia    I am so angry that i made this post available...   \n",
       "1             Ireland                                         No Negative   \n",
       "2           Australia    Rooms are nice but for elderly a bit difficul...   \n",
       "3      United Kingdom    My room was dirty and I was afraid to walk ba...   \n",
       "4         New Zealand    You When I booked with your company on line y...   \n",
       "\n",
       "   Review_Total_Negative_Word_Counts  Total_Number_of_Reviews  \\\n",
       "0                                397                     1403   \n",
       "1                                  0                     1403   \n",
       "2                                 42                     1403   \n",
       "3                                210                     1403   \n",
       "4                                140                     1403   \n",
       "\n",
       "                                     Positive_Review  \\\n",
       "0   Only the park outside of the hotel was beauti...   \n",
       "1   No real complaints the hotel was great great ...   \n",
       "2   Location was good and staff were ok It is cut...   \n",
       "3   Great location in nice surroundings the bar a...   \n",
       "4    Amazing location and building Romantic setting    \n",
       "\n",
       "   Review_Total_Positive_Word_Counts  \\\n",
       "0                                 11   \n",
       "1                                105   \n",
       "2                                 21   \n",
       "3                                 26   \n",
       "4                                  8   \n",
       "\n",
       "   Total_Number_of_Reviews_Reviewer_Has_Given  Reviewer_Score  \\\n",
       "0                                           7             2.9   \n",
       "1                                           7             7.5   \n",
       "2                                           9             7.1   \n",
       "3                                           1             3.8   \n",
       "4                                           3             6.7   \n",
       "\n",
       "                                                Tags days_since_review  \\\n",
       "0  [' Leisure trip ', ' Couple ', ' Duplex Double...            0 days   \n",
       "1  [' Leisure trip ', ' Couple ', ' Duplex Double...            0 days   \n",
       "2  [' Leisure trip ', ' Family with young childre...            3 days   \n",
       "3  [' Leisure trip ', ' Solo traveler ', ' Duplex...            3 days   \n",
       "4  [' Leisure trip ', ' Couple ', ' Suite ', ' St...           10 days   \n",
       "\n",
       "         lat       lng  \n",
       "0  52.360576  4.915968  \n",
       "1  52.360576  4.915968  \n",
       "2  52.360576  4.915968  \n",
       "3  52.360576  4.915968  \n",
       "4  52.360576  4.915968  "
      ]
     },
     "execution_count": 6,
     "metadata": {},
     "output_type": "execute_result"
    }
   ],
   "source": [
    "# Check the data (head)\n",
    "\n",
    "hr_data.head()"
   ]
  },
  {
   "cell_type": "code",
   "execution_count": 7,
   "id": "0f52a6ac",
   "metadata": {},
   "outputs": [
    {
     "data": {
      "text/html": [
       "<div>\n",
       "<style scoped>\n",
       "    .dataframe tbody tr th:only-of-type {\n",
       "        vertical-align: middle;\n",
       "    }\n",
       "\n",
       "    .dataframe tbody tr th {\n",
       "        vertical-align: top;\n",
       "    }\n",
       "\n",
       "    .dataframe thead th {\n",
       "        text-align: right;\n",
       "    }\n",
       "</style>\n",
       "<table border=\"1\" class=\"dataframe\">\n",
       "  <thead>\n",
       "    <tr style=\"text-align: right;\">\n",
       "      <th></th>\n",
       "      <th>Hotel_Address</th>\n",
       "      <th>Additional_Number_of_Scoring</th>\n",
       "      <th>Review_Date</th>\n",
       "      <th>Average_Score</th>\n",
       "      <th>Hotel_Name</th>\n",
       "      <th>Reviewer_Nationality</th>\n",
       "      <th>Negative_Review</th>\n",
       "      <th>Review_Total_Negative_Word_Counts</th>\n",
       "      <th>Total_Number_of_Reviews</th>\n",
       "      <th>Positive_Review</th>\n",
       "      <th>Review_Total_Positive_Word_Counts</th>\n",
       "      <th>Total_Number_of_Reviews_Reviewer_Has_Given</th>\n",
       "      <th>Reviewer_Score</th>\n",
       "      <th>Tags</th>\n",
       "      <th>days_since_review</th>\n",
       "      <th>lat</th>\n",
       "      <th>lng</th>\n",
       "    </tr>\n",
       "  </thead>\n",
       "  <tbody>\n",
       "    <tr>\n",
       "      <th>515733</th>\n",
       "      <td>Wurzbachgasse 21 15 Rudolfsheim F nfhaus 1150 ...</td>\n",
       "      <td>168</td>\n",
       "      <td>8/30/2015</td>\n",
       "      <td>8.1</td>\n",
       "      <td>Atlantis Hotel Vienna</td>\n",
       "      <td>Kuwait</td>\n",
       "      <td>no trolly or staff to help you take the lugga...</td>\n",
       "      <td>14</td>\n",
       "      <td>2823</td>\n",
       "      <td>location</td>\n",
       "      <td>2</td>\n",
       "      <td>8</td>\n",
       "      <td>7.0</td>\n",
       "      <td>[' Leisure trip ', ' Family with older childre...</td>\n",
       "      <td>704 day</td>\n",
       "      <td>48.203745</td>\n",
       "      <td>16.335677</td>\n",
       "    </tr>\n",
       "    <tr>\n",
       "      <th>515734</th>\n",
       "      <td>Wurzbachgasse 21 15 Rudolfsheim F nfhaus 1150 ...</td>\n",
       "      <td>168</td>\n",
       "      <td>8/22/2015</td>\n",
       "      <td>8.1</td>\n",
       "      <td>Atlantis Hotel Vienna</td>\n",
       "      <td>Estonia</td>\n",
       "      <td>The hotel looks like 3 but surely not 4</td>\n",
       "      <td>11</td>\n",
       "      <td>2823</td>\n",
       "      <td>Breakfast was ok and we got earlier check in</td>\n",
       "      <td>11</td>\n",
       "      <td>12</td>\n",
       "      <td>5.8</td>\n",
       "      <td>[' Leisure trip ', ' Family with young childre...</td>\n",
       "      <td>712 day</td>\n",
       "      <td>48.203745</td>\n",
       "      <td>16.335677</td>\n",
       "    </tr>\n",
       "    <tr>\n",
       "      <th>515735</th>\n",
       "      <td>Wurzbachgasse 21 15 Rudolfsheim F nfhaus 1150 ...</td>\n",
       "      <td>168</td>\n",
       "      <td>8/19/2015</td>\n",
       "      <td>8.1</td>\n",
       "      <td>Atlantis Hotel Vienna</td>\n",
       "      <td>Egypt</td>\n",
       "      <td>The ac was useless It was a hot week in vienn...</td>\n",
       "      <td>19</td>\n",
       "      <td>2823</td>\n",
       "      <td>No Positive</td>\n",
       "      <td>0</td>\n",
       "      <td>3</td>\n",
       "      <td>2.5</td>\n",
       "      <td>[' Leisure trip ', ' Family with older childre...</td>\n",
       "      <td>715 day</td>\n",
       "      <td>48.203745</td>\n",
       "      <td>16.335677</td>\n",
       "    </tr>\n",
       "    <tr>\n",
       "      <th>515736</th>\n",
       "      <td>Wurzbachgasse 21 15 Rudolfsheim F nfhaus 1150 ...</td>\n",
       "      <td>168</td>\n",
       "      <td>8/17/2015</td>\n",
       "      <td>8.1</td>\n",
       "      <td>Atlantis Hotel Vienna</td>\n",
       "      <td>Mexico</td>\n",
       "      <td>No Negative</td>\n",
       "      <td>0</td>\n",
       "      <td>2823</td>\n",
       "      <td>The rooms are enormous and really comfortable...</td>\n",
       "      <td>25</td>\n",
       "      <td>3</td>\n",
       "      <td>8.8</td>\n",
       "      <td>[' Leisure trip ', ' Group ', ' Standard Tripl...</td>\n",
       "      <td>717 day</td>\n",
       "      <td>48.203745</td>\n",
       "      <td>16.335677</td>\n",
       "    </tr>\n",
       "    <tr>\n",
       "      <th>515737</th>\n",
       "      <td>Wurzbachgasse 21 15 Rudolfsheim F nfhaus 1150 ...</td>\n",
       "      <td>168</td>\n",
       "      <td>8/9/2015</td>\n",
       "      <td>8.1</td>\n",
       "      <td>Atlantis Hotel Vienna</td>\n",
       "      <td>Hungary</td>\n",
       "      <td>I was in 3rd floor It didn t work Free Wife</td>\n",
       "      <td>13</td>\n",
       "      <td>2823</td>\n",
       "      <td>staff was very kind</td>\n",
       "      <td>6</td>\n",
       "      <td>1</td>\n",
       "      <td>8.3</td>\n",
       "      <td>[' Leisure trip ', ' Family with young childre...</td>\n",
       "      <td>725 day</td>\n",
       "      <td>48.203745</td>\n",
       "      <td>16.335677</td>\n",
       "    </tr>\n",
       "  </tbody>\n",
       "</table>\n",
       "</div>"
      ],
      "text/plain": [
       "                                            Hotel_Address  \\\n",
       "515733  Wurzbachgasse 21 15 Rudolfsheim F nfhaus 1150 ...   \n",
       "515734  Wurzbachgasse 21 15 Rudolfsheim F nfhaus 1150 ...   \n",
       "515735  Wurzbachgasse 21 15 Rudolfsheim F nfhaus 1150 ...   \n",
       "515736  Wurzbachgasse 21 15 Rudolfsheim F nfhaus 1150 ...   \n",
       "515737  Wurzbachgasse 21 15 Rudolfsheim F nfhaus 1150 ...   \n",
       "\n",
       "        Additional_Number_of_Scoring Review_Date  Average_Score  \\\n",
       "515733                           168   8/30/2015            8.1   \n",
       "515734                           168   8/22/2015            8.1   \n",
       "515735                           168   8/19/2015            8.1   \n",
       "515736                           168   8/17/2015            8.1   \n",
       "515737                           168    8/9/2015            8.1   \n",
       "\n",
       "                   Hotel_Name Reviewer_Nationality  \\\n",
       "515733  Atlantis Hotel Vienna              Kuwait    \n",
       "515734  Atlantis Hotel Vienna             Estonia    \n",
       "515735  Atlantis Hotel Vienna               Egypt    \n",
       "515736  Atlantis Hotel Vienna              Mexico    \n",
       "515737  Atlantis Hotel Vienna             Hungary    \n",
       "\n",
       "                                          Negative_Review  \\\n",
       "515733   no trolly or staff to help you take the lugga...   \n",
       "515734           The hotel looks like 3 but surely not 4    \n",
       "515735   The ac was useless It was a hot week in vienn...   \n",
       "515736                                        No Negative   \n",
       "515737       I was in 3rd floor It didn t work Free Wife    \n",
       "\n",
       "        Review_Total_Negative_Word_Counts  Total_Number_of_Reviews  \\\n",
       "515733                                 14                     2823   \n",
       "515734                                 11                     2823   \n",
       "515735                                 19                     2823   \n",
       "515736                                  0                     2823   \n",
       "515737                                 13                     2823   \n",
       "\n",
       "                                          Positive_Review  \\\n",
       "515733                                           location   \n",
       "515734      Breakfast was ok and we got earlier check in    \n",
       "515735                                        No Positive   \n",
       "515736   The rooms are enormous and really comfortable...   \n",
       "515737                               staff was very kind    \n",
       "\n",
       "        Review_Total_Positive_Word_Counts  \\\n",
       "515733                                  2   \n",
       "515734                                 11   \n",
       "515735                                  0   \n",
       "515736                                 25   \n",
       "515737                                  6   \n",
       "\n",
       "        Total_Number_of_Reviews_Reviewer_Has_Given  Reviewer_Score  \\\n",
       "515733                                           8             7.0   \n",
       "515734                                          12             5.8   \n",
       "515735                                           3             2.5   \n",
       "515736                                           3             8.8   \n",
       "515737                                           1             8.3   \n",
       "\n",
       "                                                     Tags days_since_review  \\\n",
       "515733  [' Leisure trip ', ' Family with older childre...           704 day   \n",
       "515734  [' Leisure trip ', ' Family with young childre...           712 day   \n",
       "515735  [' Leisure trip ', ' Family with older childre...           715 day   \n",
       "515736  [' Leisure trip ', ' Group ', ' Standard Tripl...           717 day   \n",
       "515737  [' Leisure trip ', ' Family with young childre...           725 day   \n",
       "\n",
       "              lat        lng  \n",
       "515733  48.203745  16.335677  \n",
       "515734  48.203745  16.335677  \n",
       "515735  48.203745  16.335677  \n",
       "515736  48.203745  16.335677  \n",
       "515737  48.203745  16.335677  "
      ]
     },
     "execution_count": 7,
     "metadata": {},
     "output_type": "execute_result"
    }
   ],
   "source": [
    "# Check the data (tail)\n",
    "\n",
    "hr_data.tail()"
   ]
  },
  {
   "cell_type": "code",
   "execution_count": 8,
   "id": "31a5a101",
   "metadata": {},
   "outputs": [
    {
     "data": {
      "text/html": [
       "<div>\n",
       "<style scoped>\n",
       "    .dataframe tbody tr th:only-of-type {\n",
       "        vertical-align: middle;\n",
       "    }\n",
       "\n",
       "    .dataframe tbody tr th {\n",
       "        vertical-align: top;\n",
       "    }\n",
       "\n",
       "    .dataframe thead th {\n",
       "        text-align: right;\n",
       "    }\n",
       "</style>\n",
       "<table border=\"1\" class=\"dataframe\">\n",
       "  <thead>\n",
       "    <tr style=\"text-align: right;\">\n",
       "      <th></th>\n",
       "      <th>Hotel_Address</th>\n",
       "      <th>Additional_Number_of_Scoring</th>\n",
       "      <th>Review_Date</th>\n",
       "      <th>Average_Score</th>\n",
       "      <th>Hotel_Name</th>\n",
       "      <th>Reviewer_Nationality</th>\n",
       "      <th>Negative_Review</th>\n",
       "      <th>Review_Total_Negative_Word_Counts</th>\n",
       "      <th>Total_Number_of_Reviews</th>\n",
       "      <th>Positive_Review</th>\n",
       "      <th>Review_Total_Positive_Word_Counts</th>\n",
       "      <th>Total_Number_of_Reviews_Reviewer_Has_Given</th>\n",
       "      <th>Reviewer_Score</th>\n",
       "      <th>Tags</th>\n",
       "      <th>days_since_review</th>\n",
       "      <th>lat</th>\n",
       "      <th>lng</th>\n",
       "    </tr>\n",
       "  </thead>\n",
       "  <tbody>\n",
       "    <tr>\n",
       "      <th>498362</th>\n",
       "      <td>Vijzelstraat 4 Amsterdam City Center 1017 HK A...</td>\n",
       "      <td>589</td>\n",
       "      <td>6/16/2016</td>\n",
       "      <td>7.0</td>\n",
       "      <td>NH Carlton Amsterdam</td>\n",
       "      <td>Brazil</td>\n",
       "      <td>No Negative</td>\n",
       "      <td>0</td>\n",
       "      <td>4231</td>\n",
       "      <td>Good space and neighboorhood</td>\n",
       "      <td>5</td>\n",
       "      <td>14</td>\n",
       "      <td>8.8</td>\n",
       "      <td>[' Leisure trip ', ' Couple ', ' Standard Doub...</td>\n",
       "      <td>413 day</td>\n",
       "      <td>52.366373</td>\n",
       "      <td>4.893051</td>\n",
       "    </tr>\n",
       "    <tr>\n",
       "      <th>86138</th>\n",
       "      <td>2 8 Great Suffolk Street Southwark London SE1 ...</td>\n",
       "      <td>570</td>\n",
       "      <td>7/12/2016</td>\n",
       "      <td>9.3</td>\n",
       "      <td>Hilton London Bankside</td>\n",
       "      <td>United Kingdom</td>\n",
       "      <td>No Negative</td>\n",
       "      <td>0</td>\n",
       "      <td>2319</td>\n",
       "      <td>Great hotel with a good location Staff where ...</td>\n",
       "      <td>25</td>\n",
       "      <td>1</td>\n",
       "      <td>9.6</td>\n",
       "      <td>[' Leisure trip ', ' Couple ', ' King Guest Ro...</td>\n",
       "      <td>387 day</td>\n",
       "      <td>51.505696</td>\n",
       "      <td>-0.101525</td>\n",
       "    </tr>\n",
       "    <tr>\n",
       "      <th>469505</th>\n",
       "      <td>Valencia 157 Eixample 08011 Barcelona Spain</td>\n",
       "      <td>230</td>\n",
       "      <td>9/26/2016</td>\n",
       "      <td>8.2</td>\n",
       "      <td>Sunotel Club Central</td>\n",
       "      <td>South Korea</td>\n",
       "      <td>The mini bar is not free</td>\n",
       "      <td>8</td>\n",
       "      <td>2836</td>\n",
       "      <td>The rooms are quite lovely They re very clean...</td>\n",
       "      <td>13</td>\n",
       "      <td>2</td>\n",
       "      <td>8.3</td>\n",
       "      <td>[' Leisure trip ', ' Solo traveler ', ' Basic ...</td>\n",
       "      <td>311 day</td>\n",
       "      <td>41.387930</td>\n",
       "      <td>2.156806</td>\n",
       "    </tr>\n",
       "    <tr>\n",
       "      <th>46447</th>\n",
       "      <td>130 Tottenham Court Road Camden London W1T 5AY...</td>\n",
       "      <td>713</td>\n",
       "      <td>1/2/2017</td>\n",
       "      <td>8.3</td>\n",
       "      <td>Radisson Blu Edwardian Grafton</td>\n",
       "      <td>United Kingdom</td>\n",
       "      <td>No Negative</td>\n",
       "      <td>0</td>\n",
       "      <td>2826</td>\n",
       "      <td>Friendly staff very welcoming Beautiful room ...</td>\n",
       "      <td>14</td>\n",
       "      <td>1</td>\n",
       "      <td>10.0</td>\n",
       "      <td>[' Leisure trip ', ' Couple ', ' Standard Doub...</td>\n",
       "      <td>213 day</td>\n",
       "      <td>51.524139</td>\n",
       "      <td>-0.138081</td>\n",
       "    </tr>\n",
       "    <tr>\n",
       "      <th>298142</th>\n",
       "      <td>Caspe 103 Eixample 08013 Barcelona Spain</td>\n",
       "      <td>312</td>\n",
       "      <td>1/20/2016</td>\n",
       "      <td>8.5</td>\n",
       "      <td>Ayre Hotel Caspe</td>\n",
       "      <td>United States of America</td>\n",
       "      <td>Changed rooms at first My key never worked wh...</td>\n",
       "      <td>24</td>\n",
       "      <td>3442</td>\n",
       "      <td>Clean easy</td>\n",
       "      <td>3</td>\n",
       "      <td>10</td>\n",
       "      <td>7.1</td>\n",
       "      <td>[' Leisure trip ', ' Couple ', ' Double or Twi...</td>\n",
       "      <td>561 day</td>\n",
       "      <td>41.396102</td>\n",
       "      <td>2.179469</td>\n",
       "    </tr>\n",
       "  </tbody>\n",
       "</table>\n",
       "</div>"
      ],
      "text/plain": [
       "                                            Hotel_Address  \\\n",
       "498362  Vijzelstraat 4 Amsterdam City Center 1017 HK A...   \n",
       "86138   2 8 Great Suffolk Street Southwark London SE1 ...   \n",
       "469505        Valencia 157 Eixample 08011 Barcelona Spain   \n",
       "46447   130 Tottenham Court Road Camden London W1T 5AY...   \n",
       "298142           Caspe 103 Eixample 08013 Barcelona Spain   \n",
       "\n",
       "        Additional_Number_of_Scoring Review_Date  Average_Score  \\\n",
       "498362                           589   6/16/2016            7.0   \n",
       "86138                            570   7/12/2016            9.3   \n",
       "469505                           230   9/26/2016            8.2   \n",
       "46447                            713    1/2/2017            8.3   \n",
       "298142                           312   1/20/2016            8.5   \n",
       "\n",
       "                            Hotel_Name        Reviewer_Nationality  \\\n",
       "498362            NH Carlton Amsterdam                     Brazil    \n",
       "86138           Hilton London Bankside             United Kingdom    \n",
       "469505            Sunotel Club Central                South Korea    \n",
       "46447   Radisson Blu Edwardian Grafton             United Kingdom    \n",
       "298142                Ayre Hotel Caspe   United States of America    \n",
       "\n",
       "                                          Negative_Review  \\\n",
       "498362                                        No Negative   \n",
       "86138                                         No Negative   \n",
       "469505                          The mini bar is not free    \n",
       "46447                                         No Negative   \n",
       "298142   Changed rooms at first My key never worked wh...   \n",
       "\n",
       "        Review_Total_Negative_Word_Counts  Total_Number_of_Reviews  \\\n",
       "498362                                  0                     4231   \n",
       "86138                                   0                     2319   \n",
       "469505                                  8                     2836   \n",
       "46447                                   0                     2826   \n",
       "298142                                 24                     3442   \n",
       "\n",
       "                                          Positive_Review  \\\n",
       "498362                       Good space and neighboorhood   \n",
       "86138    Great hotel with a good location Staff where ...   \n",
       "469505   The rooms are quite lovely They re very clean...   \n",
       "46447    Friendly staff very welcoming Beautiful room ...   \n",
       "298142                                         Clean easy   \n",
       "\n",
       "        Review_Total_Positive_Word_Counts  \\\n",
       "498362                                  5   \n",
       "86138                                  25   \n",
       "469505                                 13   \n",
       "46447                                  14   \n",
       "298142                                  3   \n",
       "\n",
       "        Total_Number_of_Reviews_Reviewer_Has_Given  Reviewer_Score  \\\n",
       "498362                                          14             8.8   \n",
       "86138                                            1             9.6   \n",
       "469505                                           2             8.3   \n",
       "46447                                            1            10.0   \n",
       "298142                                          10             7.1   \n",
       "\n",
       "                                                     Tags days_since_review  \\\n",
       "498362  [' Leisure trip ', ' Couple ', ' Standard Doub...           413 day   \n",
       "86138   [' Leisure trip ', ' Couple ', ' King Guest Ro...           387 day   \n",
       "469505  [' Leisure trip ', ' Solo traveler ', ' Basic ...           311 day   \n",
       "46447   [' Leisure trip ', ' Couple ', ' Standard Doub...           213 day   \n",
       "298142  [' Leisure trip ', ' Couple ', ' Double or Twi...           561 day   \n",
       "\n",
       "              lat       lng  \n",
       "498362  52.366373  4.893051  \n",
       "86138   51.505696 -0.101525  \n",
       "469505  41.387930  2.156806  \n",
       "46447   51.524139 -0.138081  \n",
       "298142  41.396102  2.179469  "
      ]
     },
     "execution_count": 8,
     "metadata": {},
     "output_type": "execute_result"
    }
   ],
   "source": [
    "# View 5 sample sets of the data\n",
    "\n",
    "hr_data.sample(5)"
   ]
  },
  {
   "cell_type": "code",
   "execution_count": 9,
   "id": "7d07f75b",
   "metadata": {},
   "outputs": [
    {
     "data": {
      "text/html": [
       "<div>\n",
       "<style scoped>\n",
       "    .dataframe tbody tr th:only-of-type {\n",
       "        vertical-align: middle;\n",
       "    }\n",
       "\n",
       "    .dataframe tbody tr th {\n",
       "        vertical-align: top;\n",
       "    }\n",
       "\n",
       "    .dataframe thead th {\n",
       "        text-align: right;\n",
       "    }\n",
       "</style>\n",
       "<table border=\"1\" class=\"dataframe\">\n",
       "  <thead>\n",
       "    <tr style=\"text-align: right;\">\n",
       "      <th></th>\n",
       "      <th>Additional_Number_of_Scoring</th>\n",
       "      <th>Review_Total_Negative_Word_Counts</th>\n",
       "      <th>Total_Number_of_Reviews</th>\n",
       "      <th>Review_Total_Positive_Word_Counts</th>\n",
       "      <th>Total_Number_of_Reviews_Reviewer_Has_Given</th>\n",
       "    </tr>\n",
       "  </thead>\n",
       "  <tbody>\n",
       "    <tr>\n",
       "      <th>0</th>\n",
       "      <td>194</td>\n",
       "      <td>397</td>\n",
       "      <td>1403</td>\n",
       "      <td>11</td>\n",
       "      <td>7</td>\n",
       "    </tr>\n",
       "    <tr>\n",
       "      <th>1</th>\n",
       "      <td>194</td>\n",
       "      <td>0</td>\n",
       "      <td>1403</td>\n",
       "      <td>105</td>\n",
       "      <td>7</td>\n",
       "    </tr>\n",
       "    <tr>\n",
       "      <th>2</th>\n",
       "      <td>194</td>\n",
       "      <td>42</td>\n",
       "      <td>1403</td>\n",
       "      <td>21</td>\n",
       "      <td>9</td>\n",
       "    </tr>\n",
       "    <tr>\n",
       "      <th>3</th>\n",
       "      <td>194</td>\n",
       "      <td>210</td>\n",
       "      <td>1403</td>\n",
       "      <td>26</td>\n",
       "      <td>1</td>\n",
       "    </tr>\n",
       "    <tr>\n",
       "      <th>4</th>\n",
       "      <td>194</td>\n",
       "      <td>140</td>\n",
       "      <td>1403</td>\n",
       "      <td>8</td>\n",
       "      <td>3</td>\n",
       "    </tr>\n",
       "  </tbody>\n",
       "</table>\n",
       "</div>"
      ],
      "text/plain": [
       "   Additional_Number_of_Scoring  Review_Total_Negative_Word_Counts  \\\n",
       "0                           194                                397   \n",
       "1                           194                                  0   \n",
       "2                           194                                 42   \n",
       "3                           194                                210   \n",
       "4                           194                                140   \n",
       "\n",
       "   Total_Number_of_Reviews  Review_Total_Positive_Word_Counts  \\\n",
       "0                     1403                                 11   \n",
       "1                     1403                                105   \n",
       "2                     1403                                 21   \n",
       "3                     1403                                 26   \n",
       "4                     1403                                  8   \n",
       "\n",
       "   Total_Number_of_Reviews_Reviewer_Has_Given  \n",
       "0                                           7  \n",
       "1                                           7  \n",
       "2                                           9  \n",
       "3                                           1  \n",
       "4                                           3  "
      ]
     },
     "execution_count": 9,
     "metadata": {},
     "output_type": "execute_result"
    }
   ],
   "source": [
    "# Filter out only the columns with 'int' datatype\n",
    "\n",
    "hr_data.select_dtypes('int64').head()"
   ]
  },
  {
   "cell_type": "code",
   "execution_count": 10,
   "id": "2baa226d",
   "metadata": {},
   "outputs": [
    {
     "data": {
      "text/html": [
       "<div>\n",
       "<style scoped>\n",
       "    .dataframe tbody tr th:only-of-type {\n",
       "        vertical-align: middle;\n",
       "    }\n",
       "\n",
       "    .dataframe tbody tr th {\n",
       "        vertical-align: top;\n",
       "    }\n",
       "\n",
       "    .dataframe thead th {\n",
       "        text-align: right;\n",
       "    }\n",
       "</style>\n",
       "<table border=\"1\" class=\"dataframe\">\n",
       "  <thead>\n",
       "    <tr style=\"text-align: right;\">\n",
       "      <th></th>\n",
       "      <th>Average_Score</th>\n",
       "      <th>Reviewer_Score</th>\n",
       "      <th>lat</th>\n",
       "      <th>lng</th>\n",
       "    </tr>\n",
       "  </thead>\n",
       "  <tbody>\n",
       "    <tr>\n",
       "      <th>0</th>\n",
       "      <td>7.7</td>\n",
       "      <td>2.9</td>\n",
       "      <td>52.360576</td>\n",
       "      <td>4.915968</td>\n",
       "    </tr>\n",
       "    <tr>\n",
       "      <th>1</th>\n",
       "      <td>7.7</td>\n",
       "      <td>7.5</td>\n",
       "      <td>52.360576</td>\n",
       "      <td>4.915968</td>\n",
       "    </tr>\n",
       "    <tr>\n",
       "      <th>2</th>\n",
       "      <td>7.7</td>\n",
       "      <td>7.1</td>\n",
       "      <td>52.360576</td>\n",
       "      <td>4.915968</td>\n",
       "    </tr>\n",
       "    <tr>\n",
       "      <th>3</th>\n",
       "      <td>7.7</td>\n",
       "      <td>3.8</td>\n",
       "      <td>52.360576</td>\n",
       "      <td>4.915968</td>\n",
       "    </tr>\n",
       "    <tr>\n",
       "      <th>4</th>\n",
       "      <td>7.7</td>\n",
       "      <td>6.7</td>\n",
       "      <td>52.360576</td>\n",
       "      <td>4.915968</td>\n",
       "    </tr>\n",
       "  </tbody>\n",
       "</table>\n",
       "</div>"
      ],
      "text/plain": [
       "   Average_Score  Reviewer_Score        lat       lng\n",
       "0            7.7             2.9  52.360576  4.915968\n",
       "1            7.7             7.5  52.360576  4.915968\n",
       "2            7.7             7.1  52.360576  4.915968\n",
       "3            7.7             3.8  52.360576  4.915968\n",
       "4            7.7             6.7  52.360576  4.915968"
      ]
     },
     "execution_count": 10,
     "metadata": {},
     "output_type": "execute_result"
    }
   ],
   "source": [
    "# Filter out only the columns with float datatype\n",
    "\n",
    "hr_data.select_dtypes('float64').head()"
   ]
  },
  {
   "cell_type": "code",
   "execution_count": 11,
   "id": "b25920f9",
   "metadata": {},
   "outputs": [
    {
     "data": {
      "text/html": [
       "<div>\n",
       "<style scoped>\n",
       "    .dataframe tbody tr th:only-of-type {\n",
       "        vertical-align: middle;\n",
       "    }\n",
       "\n",
       "    .dataframe tbody tr th {\n",
       "        vertical-align: top;\n",
       "    }\n",
       "\n",
       "    .dataframe thead th {\n",
       "        text-align: right;\n",
       "    }\n",
       "</style>\n",
       "<table border=\"1\" class=\"dataframe\">\n",
       "  <thead>\n",
       "    <tr style=\"text-align: right;\">\n",
       "      <th></th>\n",
       "      <th>Hotel_Address</th>\n",
       "      <th>Review_Date</th>\n",
       "      <th>Hotel_Name</th>\n",
       "      <th>Reviewer_Nationality</th>\n",
       "      <th>Negative_Review</th>\n",
       "      <th>Positive_Review</th>\n",
       "      <th>Tags</th>\n",
       "      <th>days_since_review</th>\n",
       "    </tr>\n",
       "  </thead>\n",
       "  <tbody>\n",
       "    <tr>\n",
       "      <th>0</th>\n",
       "      <td>s Gravesandestraat 55 Oost 1092 AA Amsterdam ...</td>\n",
       "      <td>8/3/2017</td>\n",
       "      <td>Hotel Arena</td>\n",
       "      <td>Russia</td>\n",
       "      <td>I am so angry that i made this post available...</td>\n",
       "      <td>Only the park outside of the hotel was beauti...</td>\n",
       "      <td>[' Leisure trip ', ' Couple ', ' Duplex Double...</td>\n",
       "      <td>0 days</td>\n",
       "    </tr>\n",
       "    <tr>\n",
       "      <th>1</th>\n",
       "      <td>s Gravesandestraat 55 Oost 1092 AA Amsterdam ...</td>\n",
       "      <td>8/3/2017</td>\n",
       "      <td>Hotel Arena</td>\n",
       "      <td>Ireland</td>\n",
       "      <td>No Negative</td>\n",
       "      <td>No real complaints the hotel was great great ...</td>\n",
       "      <td>[' Leisure trip ', ' Couple ', ' Duplex Double...</td>\n",
       "      <td>0 days</td>\n",
       "    </tr>\n",
       "    <tr>\n",
       "      <th>2</th>\n",
       "      <td>s Gravesandestraat 55 Oost 1092 AA Amsterdam ...</td>\n",
       "      <td>7/31/2017</td>\n",
       "      <td>Hotel Arena</td>\n",
       "      <td>Australia</td>\n",
       "      <td>Rooms are nice but for elderly a bit difficul...</td>\n",
       "      <td>Location was good and staff were ok It is cut...</td>\n",
       "      <td>[' Leisure trip ', ' Family with young childre...</td>\n",
       "      <td>3 days</td>\n",
       "    </tr>\n",
       "    <tr>\n",
       "      <th>3</th>\n",
       "      <td>s Gravesandestraat 55 Oost 1092 AA Amsterdam ...</td>\n",
       "      <td>7/31/2017</td>\n",
       "      <td>Hotel Arena</td>\n",
       "      <td>United Kingdom</td>\n",
       "      <td>My room was dirty and I was afraid to walk ba...</td>\n",
       "      <td>Great location in nice surroundings the bar a...</td>\n",
       "      <td>[' Leisure trip ', ' Solo traveler ', ' Duplex...</td>\n",
       "      <td>3 days</td>\n",
       "    </tr>\n",
       "    <tr>\n",
       "      <th>4</th>\n",
       "      <td>s Gravesandestraat 55 Oost 1092 AA Amsterdam ...</td>\n",
       "      <td>7/24/2017</td>\n",
       "      <td>Hotel Arena</td>\n",
       "      <td>New Zealand</td>\n",
       "      <td>You When I booked with your company on line y...</td>\n",
       "      <td>Amazing location and building Romantic setting</td>\n",
       "      <td>[' Leisure trip ', ' Couple ', ' Suite ', ' St...</td>\n",
       "      <td>10 days</td>\n",
       "    </tr>\n",
       "  </tbody>\n",
       "</table>\n",
       "</div>"
      ],
      "text/plain": [
       "                                       Hotel_Address Review_Date   Hotel_Name  \\\n",
       "0   s Gravesandestraat 55 Oost 1092 AA Amsterdam ...    8/3/2017  Hotel Arena   \n",
       "1   s Gravesandestraat 55 Oost 1092 AA Amsterdam ...    8/3/2017  Hotel Arena   \n",
       "2   s Gravesandestraat 55 Oost 1092 AA Amsterdam ...   7/31/2017  Hotel Arena   \n",
       "3   s Gravesandestraat 55 Oost 1092 AA Amsterdam ...   7/31/2017  Hotel Arena   \n",
       "4   s Gravesandestraat 55 Oost 1092 AA Amsterdam ...   7/24/2017  Hotel Arena   \n",
       "\n",
       "  Reviewer_Nationality                                    Negative_Review  \\\n",
       "0              Russia    I am so angry that i made this post available...   \n",
       "1             Ireland                                         No Negative   \n",
       "2           Australia    Rooms are nice but for elderly a bit difficul...   \n",
       "3      United Kingdom    My room was dirty and I was afraid to walk ba...   \n",
       "4         New Zealand    You When I booked with your company on line y...   \n",
       "\n",
       "                                     Positive_Review  \\\n",
       "0   Only the park outside of the hotel was beauti...   \n",
       "1   No real complaints the hotel was great great ...   \n",
       "2   Location was good and staff were ok It is cut...   \n",
       "3   Great location in nice surroundings the bar a...   \n",
       "4    Amazing location and building Romantic setting    \n",
       "\n",
       "                                                Tags days_since_review  \n",
       "0  [' Leisure trip ', ' Couple ', ' Duplex Double...            0 days  \n",
       "1  [' Leisure trip ', ' Couple ', ' Duplex Double...            0 days  \n",
       "2  [' Leisure trip ', ' Family with young childre...            3 days  \n",
       "3  [' Leisure trip ', ' Solo traveler ', ' Duplex...            3 days  \n",
       "4  [' Leisure trip ', ' Couple ', ' Suite ', ' St...           10 days  "
      ]
     },
     "execution_count": 11,
     "metadata": {},
     "output_type": "execute_result"
    }
   ],
   "source": [
    "# Filter out only the columns with object datatype\n",
    "\n",
    "hr_data.select_dtypes('object').head()"
   ]
  },
  {
   "cell_type": "markdown",
   "id": "a3cb5175",
   "metadata": {},
   "source": [
    "#### Convert 'Reviewer_Score' into integers from 1 to 10"
   ]
  },
  {
   "cell_type": "code",
   "execution_count": 12,
   "id": "39bb1d47",
   "metadata": {},
   "outputs": [
    {
     "data": {
      "text/plain": [
       "0         2.9\n",
       "1         7.5\n",
       "2         7.1\n",
       "3         3.8\n",
       "4         6.7\n",
       "         ... \n",
       "515733    7.0\n",
       "515734    5.8\n",
       "515735    2.5\n",
       "515736    8.8\n",
       "515737    8.3\n",
       "Name: Reviewer_Score, Length: 515738, dtype: float64"
      ]
     },
     "execution_count": 12,
     "metadata": {},
     "output_type": "execute_result"
    }
   ],
   "source": [
    "# Review the column 'Reviewer_Score'\n",
    "\n",
    "hr_data['Reviewer_Score']"
   ]
  },
  {
   "cell_type": "code",
   "execution_count": 13,
   "id": "deb7ef20",
   "metadata": {},
   "outputs": [],
   "source": [
    "# Round the values in 'Reviewer_Score'\n",
    "\n",
    "hr_data['Reviewer_Score'] = hr_data['Reviewer_Score'].round()"
   ]
  },
  {
   "cell_type": "code",
   "execution_count": 14,
   "id": "5bc00603",
   "metadata": {},
   "outputs": [
    {
     "data": {
      "text/plain": [
       "0         3.0\n",
       "1         8.0\n",
       "2         7.0\n",
       "3         4.0\n",
       "4         7.0\n",
       "         ... \n",
       "515733    7.0\n",
       "515734    6.0\n",
       "515735    2.0\n",
       "515736    9.0\n",
       "515737    8.0\n",
       "Name: Reviewer_Score, Length: 515738, dtype: float64"
      ]
     },
     "execution_count": 14,
     "metadata": {},
     "output_type": "execute_result"
    }
   ],
   "source": [
    "# Check the values in the column\n",
    "\n",
    "hr_data['Reviewer_Score']"
   ]
  },
  {
   "cell_type": "code",
   "execution_count": 15,
   "id": "b7bde8e4",
   "metadata": {},
   "outputs": [],
   "source": [
    "# Convert 'Reviewer_Score' column datatype to 'int'\n",
    "\n",
    "hr_data['Reviewer_Score'] = hr_data['Reviewer_Score'].astype('int64')"
   ]
  },
  {
   "cell_type": "code",
   "execution_count": 16,
   "id": "7cc51260",
   "metadata": {},
   "outputs": [
    {
     "data": {
      "text/plain": [
       "dtype('int64')"
      ]
     },
     "execution_count": 16,
     "metadata": {},
     "output_type": "execute_result"
    }
   ],
   "source": [
    "# Check the datatype of the column\n",
    "\n",
    "hr_data['Reviewer_Score'].dtypes"
   ]
  },
  {
   "cell_type": "code",
   "execution_count": 17,
   "id": "6a55148b",
   "metadata": {},
   "outputs": [
    {
     "data": {
      "text/plain": [
       "0         3\n",
       "1         8\n",
       "2         7\n",
       "3         4\n",
       "4         7\n",
       "         ..\n",
       "515733    7\n",
       "515734    6\n",
       "515735    2\n",
       "515736    9\n",
       "515737    8\n",
       "Name: Reviewer_Score, Length: 515738, dtype: int64"
      ]
     },
     "execution_count": 17,
     "metadata": {},
     "output_type": "execute_result"
    }
   ],
   "source": [
    "# Review the values in 'Reviewer_Score'\n",
    "\n",
    "hr_data['Reviewer_Score']"
   ]
  },
  {
   "cell_type": "markdown",
   "id": "bb2df5a5",
   "metadata": {},
   "source": [
    "#### Distribution of 'Reviewer_Score'"
   ]
  },
  {
   "cell_type": "code",
   "execution_count": 18,
   "id": "d89e89ba",
   "metadata": {},
   "outputs": [
    {
     "data": {
      "text/plain": [
       "10    187744\n",
       "8     110155\n",
       "9     105722\n",
       "7      44088\n",
       "6      27800\n",
       "5      24188\n",
       "4       9436\n",
       "3       4406\n",
       "2       2199\n",
       "Name: Reviewer_Score, dtype: int64"
      ]
     },
     "execution_count": 18,
     "metadata": {},
     "output_type": "execute_result"
    }
   ],
   "source": [
    "# Check the distribution\n",
    "\n",
    "hr_data['Reviewer_Score'].value_counts()"
   ]
  },
  {
   "cell_type": "code",
   "execution_count": 19,
   "id": "91e4006d",
   "metadata": {},
   "outputs": [
    {
     "data": {
      "text/plain": [
       "10    0.364030\n",
       "8     0.213587\n",
       "9     0.204992\n",
       "7     0.085485\n",
       "6     0.053903\n",
       "5     0.046900\n",
       "4     0.018296\n",
       "3     0.008543\n",
       "2     0.004264\n",
       "Name: Reviewer_Score, dtype: float64"
      ]
     },
     "execution_count": 19,
     "metadata": {},
     "output_type": "execute_result"
    }
   ],
   "source": [
    "# Check the distribution\n",
    "\n",
    "hr_data['Reviewer_Score'].value_counts(normalize = True)"
   ]
  },
  {
   "cell_type": "markdown",
   "id": "5aff3fa2",
   "metadata": {},
   "source": [
    "- Approximately 36.4% of the records show 10 as the majority of reviewer scores."
   ]
  },
  {
   "cell_type": "code",
   "execution_count": 20,
   "id": "04769a82",
   "metadata": {
    "scrolled": true
   },
   "outputs": [
    {
     "name": "stdout",
     "output_type": "stream",
     "text": [
      "There are 9 unique scores in the 'Reviewer_Score' column (from 2 to 10).\n"
     ]
    }
   ],
   "source": [
    "# Print out the total number of unique values in 'Reviewer_Score'\n",
    "\n",
    "print(f\"There are {hr_data['Reviewer_Score'].nunique()} unique scores in the 'Reviewer_Score' column (from 2 to 10).\")"
   ]
  },
  {
   "cell_type": "code",
   "execution_count": 21,
   "id": "2b1be67f",
   "metadata": {
    "scrolled": false
   },
   "outputs": [
    {
     "data": {
      "image/png": "[encoded data removed]",
      "text/plain": [
       "<Figure size 720x720 with 1 Axes>"
      ]
     },
     "metadata": {
      "needs_background": "light"
     },
     "output_type": "display_data"
    }
   ],
   "source": [
    "# Plot bar charts for 'Reviewer_Score'\n",
    "\n",
    "columns = ['Reviewer_Score']\n",
    "\n",
    "plt.subplots(figsize = (10, 10))\n",
    "\n",
    "counter = 0\n",
    "\n",
    "for col in columns:\n",
    "    counter +=1\n",
    "    plt.subplot(1, 1, counter)\n",
    "    hr_data[col].value_counts().plot.bar(rot = 45)\n",
    "    plt.title(columns[counter - 1])\n",
    "    \n",
    "plt.tight_layout();"
   ]
  },
  {
   "cell_type": "markdown",
   "id": "217ef57b",
   "metadata": {},
   "source": [
    "- The frequency is decreasing respectively from 10, 8, 9, and then 7 to 2.\n",
    "- Moreover, the amount of values in 10, 8, and 9 are drastically higher than the others."
   ]
  },
  {
   "cell_type": "code",
   "execution_count": 22,
   "id": "eba6c50d",
   "metadata": {},
   "outputs": [
    {
     "name": "stdout",
     "output_type": "stream",
     "text": [
      "The mean of 'Reviewer_Score' is 8.45757729699964.\n",
      "The median of 'Reviewer_Score' is 9.0.\n"
     ]
    }
   ],
   "source": [
    "print(f\"The mean of 'Reviewer_Score' is {hr_data['Reviewer_Score'].mean()}.\")\n",
    "print(f\"The median of 'Reviewer_Score' is {hr_data['Reviewer_Score'].median()}.\")"
   ]
  },
  {
   "cell_type": "markdown",
   "id": "11f02157",
   "metadata": {},
   "source": [
    "The values in 'Reviewer_Score' are discrete (2-10) and evenly separated. Given this will be a classification problem, a potential problem that might occur with this distribution is that it could be a sentiment analysis, where the task is to classify a given review as positive, negative, or neutral. However, the machine is not able to identify which score would be considered as positive, negative, or neutral. Sentiment analysis involves using natural language processing techniques to extract relevant features. Thus, we might need to labeled dataset of Reviewer_Score with their corresponding sentiment labels, and used them to train a model. Once the model is trained, it can be used to classify new reviews as positive, negative, or neutral."
   ]
  },
  {
   "cell_type": "markdown",
   "id": "2fa12513",
   "metadata": {},
   "source": [
    "#### Numeric columns"
   ]
  },
  {
   "cell_type": "code",
   "execution_count": 23,
   "id": "550e8726",
   "metadata": {},
   "outputs": [],
   "source": [
    "# Assign numeric and non-numeric columns\n",
    "\n",
    "numeric = hr_data.select_dtypes(exclude = 'object').columns  # all data types expect 'object'\n",
    "\n",
    "categorical = hr_data.select_dtypes('object').columns"
   ]
  },
  {
   "cell_type": "code",
   "execution_count": 24,
   "id": "d906c2e6",
   "metadata": {},
   "outputs": [
    {
     "data": {
      "text/plain": [
       "['Additional_Number_of_Scoring',\n",
       " 'Average_Score',\n",
       " 'Review_Total_Negative_Word_Counts',\n",
       " 'Total_Number_of_Reviews',\n",
       " 'Review_Total_Positive_Word_Counts',\n",
       " 'Total_Number_of_Reviews_Reviewer_Has_Given',\n",
       " 'Reviewer_Score',\n",
       " 'lat',\n",
       " 'lng']"
      ]
     },
     "execution_count": 24,
     "metadata": {},
     "output_type": "execute_result"
    }
   ],
   "source": [
    "list(numeric)"
   ]
  },
  {
   "cell_type": "code",
   "execution_count": 25,
   "id": "e3ab49f9",
   "metadata": {
    "scrolled": true
   },
   "outputs": [
    {
     "name": "stdout",
     "output_type": "stream",
     "text": [
      "Here's the list of all numeric columns: ['Additional_Number_of_Scoring', 'Average_Score', 'Review_Total_Negative_Word_Counts', 'Total_Number_of_Reviews', 'Review_Total_Positive_Word_Counts', 'Total_Number_of_Reviews_Reviewer_Has_Given', 'Reviewer_Score', 'lat', 'lng'].\n"
     ]
    }
   ],
   "source": [
    "print(f\"Here's the list of all numeric columns: {list(numeric)}.\")"
   ]
  },
  {
   "cell_type": "code",
   "execution_count": 26,
   "id": "d8bba8a5",
   "metadata": {},
   "outputs": [
    {
     "data": {
      "text/html": [
       "<div>\n",
       "<style scoped>\n",
       "    .dataframe tbody tr th:only-of-type {\n",
       "        vertical-align: middle;\n",
       "    }\n",
       "\n",
       "    .dataframe tbody tr th {\n",
       "        vertical-align: top;\n",
       "    }\n",
       "\n",
       "    .dataframe thead th {\n",
       "        text-align: right;\n",
       "    }\n",
       "</style>\n",
       "<table border=\"1\" class=\"dataframe\">\n",
       "  <thead>\n",
       "    <tr style=\"text-align: right;\">\n",
       "      <th></th>\n",
       "      <th>Additional_Number_of_Scoring</th>\n",
       "      <th>Average_Score</th>\n",
       "      <th>Review_Total_Negative_Word_Counts</th>\n",
       "      <th>Total_Number_of_Reviews</th>\n",
       "      <th>Review_Total_Positive_Word_Counts</th>\n",
       "      <th>Total_Number_of_Reviews_Reviewer_Has_Given</th>\n",
       "      <th>Reviewer_Score</th>\n",
       "      <th>lat</th>\n",
       "      <th>lng</th>\n",
       "    </tr>\n",
       "  </thead>\n",
       "  <tbody>\n",
       "    <tr>\n",
       "      <th>count</th>\n",
       "      <td>515738.000000</td>\n",
       "      <td>515738.000000</td>\n",
       "      <td>515738.000000</td>\n",
       "      <td>515738.000000</td>\n",
       "      <td>515738.000000</td>\n",
       "      <td>515738.000000</td>\n",
       "      <td>515738.000000</td>\n",
       "      <td>512470.000000</td>\n",
       "      <td>512470.000000</td>\n",
       "    </tr>\n",
       "    <tr>\n",
       "      <th>mean</th>\n",
       "      <td>498.081836</td>\n",
       "      <td>8.397487</td>\n",
       "      <td>18.539450</td>\n",
       "      <td>2743.743944</td>\n",
       "      <td>17.776458</td>\n",
       "      <td>7.166001</td>\n",
       "      <td>8.457577</td>\n",
       "      <td>49.442439</td>\n",
       "      <td>2.823803</td>\n",
       "    </tr>\n",
       "    <tr>\n",
       "      <th>std</th>\n",
       "      <td>500.538467</td>\n",
       "      <td>0.548048</td>\n",
       "      <td>29.690831</td>\n",
       "      <td>2317.464868</td>\n",
       "      <td>21.804185</td>\n",
       "      <td>11.040228</td>\n",
       "      <td>1.683671</td>\n",
       "      <td>3.466325</td>\n",
       "      <td>4.579425</td>\n",
       "    </tr>\n",
       "    <tr>\n",
       "      <th>min</th>\n",
       "      <td>1.000000</td>\n",
       "      <td>5.200000</td>\n",
       "      <td>0.000000</td>\n",
       "      <td>43.000000</td>\n",
       "      <td>0.000000</td>\n",
       "      <td>1.000000</td>\n",
       "      <td>2.000000</td>\n",
       "      <td>41.328376</td>\n",
       "      <td>-0.369758</td>\n",
       "    </tr>\n",
       "    <tr>\n",
       "      <th>25%</th>\n",
       "      <td>169.000000</td>\n",
       "      <td>8.100000</td>\n",
       "      <td>2.000000</td>\n",
       "      <td>1161.000000</td>\n",
       "      <td>5.000000</td>\n",
       "      <td>1.000000</td>\n",
       "      <td>8.000000</td>\n",
       "      <td>48.214662</td>\n",
       "      <td>-0.143372</td>\n",
       "    </tr>\n",
       "    <tr>\n",
       "      <th>50%</th>\n",
       "      <td>341.000000</td>\n",
       "      <td>8.400000</td>\n",
       "      <td>9.000000</td>\n",
       "      <td>2134.000000</td>\n",
       "      <td>11.000000</td>\n",
       "      <td>3.000000</td>\n",
       "      <td>9.000000</td>\n",
       "      <td>51.499981</td>\n",
       "      <td>0.010607</td>\n",
       "    </tr>\n",
       "    <tr>\n",
       "      <th>75%</th>\n",
       "      <td>660.000000</td>\n",
       "      <td>8.800000</td>\n",
       "      <td>23.000000</td>\n",
       "      <td>3613.000000</td>\n",
       "      <td>22.000000</td>\n",
       "      <td>8.000000</td>\n",
       "      <td>10.000000</td>\n",
       "      <td>51.516288</td>\n",
       "      <td>4.834443</td>\n",
       "    </tr>\n",
       "    <tr>\n",
       "      <th>max</th>\n",
       "      <td>2682.000000</td>\n",
       "      <td>9.800000</td>\n",
       "      <td>408.000000</td>\n",
       "      <td>16670.000000</td>\n",
       "      <td>395.000000</td>\n",
       "      <td>355.000000</td>\n",
       "      <td>10.000000</td>\n",
       "      <td>52.400181</td>\n",
       "      <td>16.429233</td>\n",
       "    </tr>\n",
       "  </tbody>\n",
       "</table>\n",
       "</div>"
      ],
      "text/plain": [
       "       Additional_Number_of_Scoring  Average_Score  \\\n",
       "count                 515738.000000  515738.000000   \n",
       "mean                     498.081836       8.397487   \n",
       "std                      500.538467       0.548048   \n",
       "min                        1.000000       5.200000   \n",
       "25%                      169.000000       8.100000   \n",
       "50%                      341.000000       8.400000   \n",
       "75%                      660.000000       8.800000   \n",
       "max                     2682.000000       9.800000   \n",
       "\n",
       "       Review_Total_Negative_Word_Counts  Total_Number_of_Reviews  \\\n",
       "count                      515738.000000            515738.000000   \n",
       "mean                           18.539450              2743.743944   \n",
       "std                            29.690831              2317.464868   \n",
       "min                             0.000000                43.000000   \n",
       "25%                             2.000000              1161.000000   \n",
       "50%                             9.000000              2134.000000   \n",
       "75%                            23.000000              3613.000000   \n",
       "max                           408.000000             16670.000000   \n",
       "\n",
       "       Review_Total_Positive_Word_Counts  \\\n",
       "count                      515738.000000   \n",
       "mean                           17.776458   \n",
       "std                            21.804185   \n",
       "min                             0.000000   \n",
       "25%                             5.000000   \n",
       "50%                            11.000000   \n",
       "75%                            22.000000   \n",
       "max                           395.000000   \n",
       "\n",
       "       Total_Number_of_Reviews_Reviewer_Has_Given  Reviewer_Score  \\\n",
       "count                               515738.000000   515738.000000   \n",
       "mean                                     7.166001        8.457577   \n",
       "std                                     11.040228        1.683671   \n",
       "min                                      1.000000        2.000000   \n",
       "25%                                      1.000000        8.000000   \n",
       "50%                                      3.000000        9.000000   \n",
       "75%                                      8.000000       10.000000   \n",
       "max                                    355.000000       10.000000   \n",
       "\n",
       "                 lat            lng  \n",
       "count  512470.000000  512470.000000  \n",
       "mean       49.442439       2.823803  \n",
       "std         3.466325       4.579425  \n",
       "min        41.328376      -0.369758  \n",
       "25%        48.214662      -0.143372  \n",
       "50%        51.499981       0.010607  \n",
       "75%        51.516288       4.834443  \n",
       "max        52.400181      16.429233  "
      ]
     },
     "execution_count": 26,
     "metadata": {},
     "output_type": "execute_result"
    }
   ],
   "source": [
    "# Summarize numerical data\n",
    "\n",
    "hr_data[numeric].describe()"
   ]
  },
  {
   "cell_type": "code",
   "execution_count": 27,
   "id": "d6c19068",
   "metadata": {
    "scrolled": false
   },
   "outputs": [
    {
     "data": {
      "image/png": "[encoded data removed]",
      "text/plain": [
       "<Figure size 1080x1080 with 9 Axes>"
      ]
     },
     "metadata": {
      "needs_background": "light"
     },
     "output_type": "display_data"
    }
   ],
   "source": [
    "# Plot distribution of all the numerical columns\n",
    "\n",
    "plt.subplots(3, 3, figsize = (15, 15))\n",
    "\n",
    "counter = 1\n",
    "\n",
    "for col in list(numeric):\n",
    "    plt.subplot(3, 3, counter)\n",
    "    sns.histplot(hr_data[col])\n",
    "    \n",
    "    counter+=1"
   ]
  },
  {
   "cell_type": "markdown",
   "id": "383f2118",
   "metadata": {},
   "source": [
    "- Seems like 'Average_Score' is the only column with normal distribution while the rest are either left-skewed or right-skewed."
   ]
  },
  {
   "cell_type": "markdown",
   "id": "046ba06f",
   "metadata": {},
   "source": [
    "#### Non-numeric columns"
   ]
  },
  {
   "cell_type": "code",
   "execution_count": 28,
   "id": "d04e8250",
   "metadata": {},
   "outputs": [
    {
     "data": {
      "text/plain": [
       "['Hotel_Address',\n",
       " 'Review_Date',\n",
       " 'Hotel_Name',\n",
       " 'Reviewer_Nationality',\n",
       " 'Negative_Review',\n",
       " 'Positive_Review',\n",
       " 'Tags',\n",
       " 'days_since_review']"
      ]
     },
     "execution_count": 28,
     "metadata": {},
     "output_type": "execute_result"
    }
   ],
   "source": [
    "list(categorical)"
   ]
  },
  {
   "cell_type": "code",
   "execution_count": 29,
   "id": "c63c458c",
   "metadata": {},
   "outputs": [
    {
     "name": "stdout",
     "output_type": "stream",
     "text": [
      "Here's the list of all non-numeric columns: ['Hotel_Address', 'Review_Date', 'Hotel_Name', 'Reviewer_Nationality', 'Negative_Review', 'Positive_Review', 'Tags', 'days_since_review'].\n"
     ]
    }
   ],
   "source": [
    "print(f\"Here's the list of all non-numeric columns: {list(categorical)}.\")"
   ]
  },
  {
   "cell_type": "code",
   "execution_count": 30,
   "id": "68ea9bcd",
   "metadata": {},
   "outputs": [
    {
     "data": {
      "text/html": [
       "<div>\n",
       "<style scoped>\n",
       "    .dataframe tbody tr th:only-of-type {\n",
       "        vertical-align: middle;\n",
       "    }\n",
       "\n",
       "    .dataframe tbody tr th {\n",
       "        vertical-align: top;\n",
       "    }\n",
       "\n",
       "    .dataframe thead th {\n",
       "        text-align: right;\n",
       "    }\n",
       "</style>\n",
       "<table border=\"1\" class=\"dataframe\">\n",
       "  <thead>\n",
       "    <tr style=\"text-align: right;\">\n",
       "      <th></th>\n",
       "      <th>Hotel_Address</th>\n",
       "      <th>Review_Date</th>\n",
       "      <th>Hotel_Name</th>\n",
       "      <th>Reviewer_Nationality</th>\n",
       "      <th>Negative_Review</th>\n",
       "      <th>Positive_Review</th>\n",
       "      <th>Tags</th>\n",
       "      <th>days_since_review</th>\n",
       "    </tr>\n",
       "  </thead>\n",
       "  <tbody>\n",
       "    <tr>\n",
       "      <th>count</th>\n",
       "      <td>515738</td>\n",
       "      <td>515738</td>\n",
       "      <td>515738</td>\n",
       "      <td>515738</td>\n",
       "      <td>515738</td>\n",
       "      <td>515738</td>\n",
       "      <td>515738</td>\n",
       "      <td>515738</td>\n",
       "    </tr>\n",
       "    <tr>\n",
       "      <th>unique</th>\n",
       "      <td>1493</td>\n",
       "      <td>731</td>\n",
       "      <td>1492</td>\n",
       "      <td>227</td>\n",
       "      <td>330011</td>\n",
       "      <td>412601</td>\n",
       "      <td>55242</td>\n",
       "      <td>731</td>\n",
       "    </tr>\n",
       "    <tr>\n",
       "      <th>top</th>\n",
       "      <td>163 Marsh Wall Docklands Tower Hamlets London ...</td>\n",
       "      <td>8/2/2017</td>\n",
       "      <td>Britannia International Hotel Canary Wharf</td>\n",
       "      <td>United Kingdom</td>\n",
       "      <td>No Negative</td>\n",
       "      <td>No Positive</td>\n",
       "      <td>[' Leisure trip ', ' Couple ', ' Double Room '...</td>\n",
       "      <td>1 days</td>\n",
       "    </tr>\n",
       "    <tr>\n",
       "      <th>freq</th>\n",
       "      <td>4789</td>\n",
       "      <td>2585</td>\n",
       "      <td>4789</td>\n",
       "      <td>245246</td>\n",
       "      <td>127890</td>\n",
       "      <td>35946</td>\n",
       "      <td>5101</td>\n",
       "      <td>2585</td>\n",
       "    </tr>\n",
       "  </tbody>\n",
       "</table>\n",
       "</div>"
      ],
      "text/plain": [
       "                                            Hotel_Address Review_Date  \\\n",
       "count                                              515738      515738   \n",
       "unique                                               1493         731   \n",
       "top     163 Marsh Wall Docklands Tower Hamlets London ...    8/2/2017   \n",
       "freq                                                 4789        2585   \n",
       "\n",
       "                                        Hotel_Name Reviewer_Nationality  \\\n",
       "count                                       515738               515738   \n",
       "unique                                        1492                  227   \n",
       "top     Britannia International Hotel Canary Wharf      United Kingdom    \n",
       "freq                                          4789               245246   \n",
       "\n",
       "       Negative_Review Positive_Review  \\\n",
       "count           515738          515738   \n",
       "unique          330011          412601   \n",
       "top        No Negative     No Positive   \n",
       "freq            127890           35946   \n",
       "\n",
       "                                                     Tags days_since_review  \n",
       "count                                              515738            515738  \n",
       "unique                                              55242               731  \n",
       "top     [' Leisure trip ', ' Couple ', ' Double Room '...            1 days  \n",
       "freq                                                 5101              2585  "
      ]
     },
     "execution_count": 30,
     "metadata": {},
     "output_type": "execute_result"
    }
   ],
   "source": [
    "# Summarize non-numeric data\n",
    "\n",
    "hr_data[categorical].describe()"
   ]
  },
  {
   "cell_type": "code",
   "execution_count": 31,
   "id": "55238cba",
   "metadata": {},
   "outputs": [
    {
     "data": {
      "text/html": [
       "<div>\n",
       "<style scoped>\n",
       "    .dataframe tbody tr th:only-of-type {\n",
       "        vertical-align: middle;\n",
       "    }\n",
       "\n",
       "    .dataframe tbody tr th {\n",
       "        vertical-align: top;\n",
       "    }\n",
       "\n",
       "    .dataframe thead th {\n",
       "        text-align: right;\n",
       "    }\n",
       "</style>\n",
       "<table border=\"1\" class=\"dataframe\">\n",
       "  <thead>\n",
       "    <tr style=\"text-align: right;\">\n",
       "      <th></th>\n",
       "      <th>Hotel_Address</th>\n",
       "      <th>Review_Date</th>\n",
       "      <th>Hotel_Name</th>\n",
       "      <th>Reviewer_Nationality</th>\n",
       "      <th>Negative_Review</th>\n",
       "      <th>Positive_Review</th>\n",
       "      <th>Tags</th>\n",
       "      <th>days_since_review</th>\n",
       "    </tr>\n",
       "  </thead>\n",
       "  <tbody>\n",
       "    <tr>\n",
       "      <th>0</th>\n",
       "      <td>s Gravesandestraat 55 Oost 1092 AA Amsterdam ...</td>\n",
       "      <td>8/3/2017</td>\n",
       "      <td>Hotel Arena</td>\n",
       "      <td>Russia</td>\n",
       "      <td>I am so angry that i made this post available...</td>\n",
       "      <td>Only the park outside of the hotel was beauti...</td>\n",
       "      <td>[' Leisure trip ', ' Couple ', ' Duplex Double...</td>\n",
       "      <td>0 days</td>\n",
       "    </tr>\n",
       "    <tr>\n",
       "      <th>1</th>\n",
       "      <td>s Gravesandestraat 55 Oost 1092 AA Amsterdam ...</td>\n",
       "      <td>8/3/2017</td>\n",
       "      <td>Hotel Arena</td>\n",
       "      <td>Ireland</td>\n",
       "      <td>No Negative</td>\n",
       "      <td>No real complaints the hotel was great great ...</td>\n",
       "      <td>[' Leisure trip ', ' Couple ', ' Duplex Double...</td>\n",
       "      <td>0 days</td>\n",
       "    </tr>\n",
       "    <tr>\n",
       "      <th>2</th>\n",
       "      <td>s Gravesandestraat 55 Oost 1092 AA Amsterdam ...</td>\n",
       "      <td>7/31/2017</td>\n",
       "      <td>Hotel Arena</td>\n",
       "      <td>Australia</td>\n",
       "      <td>Rooms are nice but for elderly a bit difficul...</td>\n",
       "      <td>Location was good and staff were ok It is cut...</td>\n",
       "      <td>[' Leisure trip ', ' Family with young childre...</td>\n",
       "      <td>3 days</td>\n",
       "    </tr>\n",
       "    <tr>\n",
       "      <th>3</th>\n",
       "      <td>s Gravesandestraat 55 Oost 1092 AA Amsterdam ...</td>\n",
       "      <td>7/31/2017</td>\n",
       "      <td>Hotel Arena</td>\n",
       "      <td>United Kingdom</td>\n",
       "      <td>My room was dirty and I was afraid to walk ba...</td>\n",
       "      <td>Great location in nice surroundings the bar a...</td>\n",
       "      <td>[' Leisure trip ', ' Solo traveler ', ' Duplex...</td>\n",
       "      <td>3 days</td>\n",
       "    </tr>\n",
       "    <tr>\n",
       "      <th>4</th>\n",
       "      <td>s Gravesandestraat 55 Oost 1092 AA Amsterdam ...</td>\n",
       "      <td>7/24/2017</td>\n",
       "      <td>Hotel Arena</td>\n",
       "      <td>New Zealand</td>\n",
       "      <td>You When I booked with your company on line y...</td>\n",
       "      <td>Amazing location and building Romantic setting</td>\n",
       "      <td>[' Leisure trip ', ' Couple ', ' Suite ', ' St...</td>\n",
       "      <td>10 days</td>\n",
       "    </tr>\n",
       "  </tbody>\n",
       "</table>\n",
       "</div>"
      ],
      "text/plain": [
       "                                       Hotel_Address Review_Date   Hotel_Name  \\\n",
       "0   s Gravesandestraat 55 Oost 1092 AA Amsterdam ...    8/3/2017  Hotel Arena   \n",
       "1   s Gravesandestraat 55 Oost 1092 AA Amsterdam ...    8/3/2017  Hotel Arena   \n",
       "2   s Gravesandestraat 55 Oost 1092 AA Amsterdam ...   7/31/2017  Hotel Arena   \n",
       "3   s Gravesandestraat 55 Oost 1092 AA Amsterdam ...   7/31/2017  Hotel Arena   \n",
       "4   s Gravesandestraat 55 Oost 1092 AA Amsterdam ...   7/24/2017  Hotel Arena   \n",
       "\n",
       "  Reviewer_Nationality                                    Negative_Review  \\\n",
       "0              Russia    I am so angry that i made this post available...   \n",
       "1             Ireland                                         No Negative   \n",
       "2           Australia    Rooms are nice but for elderly a bit difficul...   \n",
       "3      United Kingdom    My room was dirty and I was afraid to walk ba...   \n",
       "4         New Zealand    You When I booked with your company on line y...   \n",
       "\n",
       "                                     Positive_Review  \\\n",
       "0   Only the park outside of the hotel was beauti...   \n",
       "1   No real complaints the hotel was great great ...   \n",
       "2   Location was good and staff were ok It is cut...   \n",
       "3   Great location in nice surroundings the bar a...   \n",
       "4    Amazing location and building Romantic setting    \n",
       "\n",
       "                                                Tags days_since_review  \n",
       "0  [' Leisure trip ', ' Couple ', ' Duplex Double...            0 days  \n",
       "1  [' Leisure trip ', ' Couple ', ' Duplex Double...            0 days  \n",
       "2  [' Leisure trip ', ' Family with young childre...            3 days  \n",
       "3  [' Leisure trip ', ' Solo traveler ', ' Duplex...            3 days  \n",
       "4  [' Leisure trip ', ' Couple ', ' Suite ', ' St...           10 days  "
      ]
     },
     "execution_count": 31,
     "metadata": {},
     "output_type": "execute_result"
    }
   ],
   "source": [
    "# Review non-numeric data\n",
    "\n",
    "hr_data[categorical].head()"
   ]
  },
  {
   "cell_type": "markdown",
   "id": "7da96a3c",
   "metadata": {},
   "source": [
    "#### Turn some of the non-numeric columns to numeric"
   ]
  },
  {
   "cell_type": "markdown",
   "id": "a5c6d47a",
   "metadata": {},
   "source": [
    "#### days_since_review\n",
    "\n",
    "This column should be turned to numeric because the values represent the amount of days since review. Also, the data type should be converted to 'int64'."
   ]
  },
  {
   "cell_type": "code",
   "execution_count": 32,
   "id": "05191a07",
   "metadata": {},
   "outputs": [
    {
     "data": {
      "text/plain": [
       "dtype('O')"
      ]
     },
     "execution_count": 32,
     "metadata": {},
     "output_type": "execute_result"
    }
   ],
   "source": [
    "# Check the data type\n",
    "\n",
    "hr_data['days_since_review'].dtypes"
   ]
  },
  {
   "cell_type": "code",
   "execution_count": 33,
   "id": "76ec207a",
   "metadata": {},
   "outputs": [
    {
     "data": {
      "text/plain": [
       "386457    391 day\n",
       "332456    120 day\n",
       "49490     487 day\n",
       "440865    513 day\n",
       "497498    619 day\n",
       "Name: days_since_review, dtype: object"
      ]
     },
     "execution_count": 33,
     "metadata": {},
     "output_type": "execute_result"
    }
   ],
   "source": [
    "# View sample of the column\n",
    "\n",
    "hr_data['days_since_review'].sample(5)"
   ]
  },
  {
   "cell_type": "code",
   "execution_count": 34,
   "id": "b8925453",
   "metadata": {},
   "outputs": [
    {
     "data": {
      "text/plain": [
       "0          [0, days]\n",
       "1          [0, days]\n",
       "2          [3, days]\n",
       "3          [3, days]\n",
       "4         [10, days]\n",
       "             ...    \n",
       "515733    [704, day]\n",
       "515734    [712, day]\n",
       "515735    [715, day]\n",
       "515736    [717, day]\n",
       "515737    [725, day]\n",
       "Name: days_since_review, Length: 515738, dtype: object"
      ]
     },
     "execution_count": 34,
     "metadata": {},
     "output_type": "execute_result"
    }
   ],
   "source": [
    "# Identify where to split\n",
    "\n",
    "hr_data['days_since_review'].str.split(' ')"
   ]
  },
  {
   "cell_type": "code",
   "execution_count": 35,
   "id": "8ee0cd93",
   "metadata": {},
   "outputs": [
    {
     "data": {
      "text/html": [
       "<div>\n",
       "<style scoped>\n",
       "    .dataframe tbody tr th:only-of-type {\n",
       "        vertical-align: middle;\n",
       "    }\n",
       "\n",
       "    .dataframe tbody tr th {\n",
       "        vertical-align: top;\n",
       "    }\n",
       "\n",
       "    .dataframe thead th {\n",
       "        text-align: right;\n",
       "    }\n",
       "</style>\n",
       "<table border=\"1\" class=\"dataframe\">\n",
       "  <thead>\n",
       "    <tr style=\"text-align: right;\">\n",
       "      <th></th>\n",
       "      <th>0</th>\n",
       "      <th>1</th>\n",
       "    </tr>\n",
       "  </thead>\n",
       "  <tbody>\n",
       "    <tr>\n",
       "      <th>0</th>\n",
       "      <td>0</td>\n",
       "      <td>days</td>\n",
       "    </tr>\n",
       "    <tr>\n",
       "      <th>1</th>\n",
       "      <td>0</td>\n",
       "      <td>days</td>\n",
       "    </tr>\n",
       "    <tr>\n",
       "      <th>2</th>\n",
       "      <td>3</td>\n",
       "      <td>days</td>\n",
       "    </tr>\n",
       "    <tr>\n",
       "      <th>3</th>\n",
       "      <td>3</td>\n",
       "      <td>days</td>\n",
       "    </tr>\n",
       "    <tr>\n",
       "      <th>4</th>\n",
       "      <td>10</td>\n",
       "      <td>days</td>\n",
       "    </tr>\n",
       "  </tbody>\n",
       "</table>\n",
       "</div>"
      ],
      "text/plain": [
       "    0     1\n",
       "0   0  days\n",
       "1   0  days\n",
       "2   3  days\n",
       "3   3  days\n",
       "4  10  days"
      ]
     },
     "execution_count": 35,
     "metadata": {},
     "output_type": "execute_result"
    }
   ],
   "source": [
    "day_df = hr_data['days_since_review'].str.split(' ', expand = True)\n",
    "\n",
    "day_df.head()"
   ]
  },
  {
   "cell_type": "code",
   "execution_count": 36,
   "id": "84f87abc",
   "metadata": {},
   "outputs": [],
   "source": [
    "# Rename the columns to 'Days_Since_Review' and 'day'\n",
    "\n",
    "day_df = day_df.rename(columns = {0:'Days_Since_Review', 1:'day'})"
   ]
  },
  {
   "cell_type": "code",
   "execution_count": 37,
   "id": "ed22f803",
   "metadata": {},
   "outputs": [
    {
     "data": {
      "text/html": [
       "<div>\n",
       "<style scoped>\n",
       "    .dataframe tbody tr th:only-of-type {\n",
       "        vertical-align: middle;\n",
       "    }\n",
       "\n",
       "    .dataframe tbody tr th {\n",
       "        vertical-align: top;\n",
       "    }\n",
       "\n",
       "    .dataframe thead th {\n",
       "        text-align: right;\n",
       "    }\n",
       "</style>\n",
       "<table border=\"1\" class=\"dataframe\">\n",
       "  <thead>\n",
       "    <tr style=\"text-align: right;\">\n",
       "      <th></th>\n",
       "      <th>Days_Since_Review</th>\n",
       "      <th>day</th>\n",
       "    </tr>\n",
       "  </thead>\n",
       "  <tbody>\n",
       "    <tr>\n",
       "      <th>0</th>\n",
       "      <td>0</td>\n",
       "      <td>days</td>\n",
       "    </tr>\n",
       "    <tr>\n",
       "      <th>1</th>\n",
       "      <td>0</td>\n",
       "      <td>days</td>\n",
       "    </tr>\n",
       "    <tr>\n",
       "      <th>2</th>\n",
       "      <td>3</td>\n",
       "      <td>days</td>\n",
       "    </tr>\n",
       "    <tr>\n",
       "      <th>3</th>\n",
       "      <td>3</td>\n",
       "      <td>days</td>\n",
       "    </tr>\n",
       "    <tr>\n",
       "      <th>4</th>\n",
       "      <td>10</td>\n",
       "      <td>days</td>\n",
       "    </tr>\n",
       "  </tbody>\n",
       "</table>\n",
       "</div>"
      ],
      "text/plain": [
       "  Days_Since_Review   day\n",
       "0                 0  days\n",
       "1                 0  days\n",
       "2                 3  days\n",
       "3                 3  days\n",
       "4                10  days"
      ]
     },
     "execution_count": 37,
     "metadata": {},
     "output_type": "execute_result"
    }
   ],
   "source": [
    "# Check if the column names changed\n",
    "\n",
    "day_df.head()"
   ]
  },
  {
   "cell_type": "code",
   "execution_count": 38,
   "id": "8b9a2d02",
   "metadata": {},
   "outputs": [],
   "source": [
    "# Use these outputs to reinject 'Days_Since_Review' and 'day' columns into the dataframe\n",
    "\n",
    "hr_data = pd.concat([hr_data, day_df], axis = 1)"
   ]
  },
  {
   "cell_type": "code",
   "execution_count": 39,
   "id": "1d4664b3",
   "metadata": {},
   "outputs": [],
   "source": [
    "# Drop 'days_since_review' and 'day' columns\n",
    "\n",
    "hr_data = hr_data.drop(columns = ['days_since_review', 'day'])"
   ]
  },
  {
   "cell_type": "markdown",
   "id": "e9df6652",
   "metadata": {},
   "source": [
    "- These two columns are dropped because they are not necessary. 'day' only contains the word 'day', and 'days_since_review' is already updated to 'Days_Since_Review'."
   ]
  },
  {
   "cell_type": "code",
   "execution_count": 40,
   "id": "6ad5470c",
   "metadata": {},
   "outputs": [
    {
     "data": {
      "text/html": [
       "<div>\n",
       "<style scoped>\n",
       "    .dataframe tbody tr th:only-of-type {\n",
       "        vertical-align: middle;\n",
       "    }\n",
       "\n",
       "    .dataframe tbody tr th {\n",
       "        vertical-align: top;\n",
       "    }\n",
       "\n",
       "    .dataframe thead th {\n",
       "        text-align: right;\n",
       "    }\n",
       "</style>\n",
       "<table border=\"1\" class=\"dataframe\">\n",
       "  <thead>\n",
       "    <tr style=\"text-align: right;\">\n",
       "      <th></th>\n",
       "      <th>Hotel_Address</th>\n",
       "      <th>Additional_Number_of_Scoring</th>\n",
       "      <th>Review_Date</th>\n",
       "      <th>Average_Score</th>\n",
       "      <th>Hotel_Name</th>\n",
       "      <th>Reviewer_Nationality</th>\n",
       "      <th>Negative_Review</th>\n",
       "      <th>Review_Total_Negative_Word_Counts</th>\n",
       "      <th>Total_Number_of_Reviews</th>\n",
       "      <th>Positive_Review</th>\n",
       "      <th>Review_Total_Positive_Word_Counts</th>\n",
       "      <th>Total_Number_of_Reviews_Reviewer_Has_Given</th>\n",
       "      <th>Reviewer_Score</th>\n",
       "      <th>Tags</th>\n",
       "      <th>lat</th>\n",
       "      <th>lng</th>\n",
       "      <th>Days_Since_Review</th>\n",
       "    </tr>\n",
       "  </thead>\n",
       "  <tbody>\n",
       "    <tr>\n",
       "      <th>0</th>\n",
       "      <td>s Gravesandestraat 55 Oost 1092 AA Amsterdam ...</td>\n",
       "      <td>194</td>\n",
       "      <td>8/3/2017</td>\n",
       "      <td>7.7</td>\n",
       "      <td>Hotel Arena</td>\n",
       "      <td>Russia</td>\n",
       "      <td>I am so angry that i made this post available...</td>\n",
       "      <td>397</td>\n",
       "      <td>1403</td>\n",
       "      <td>Only the park outside of the hotel was beauti...</td>\n",
       "      <td>11</td>\n",
       "      <td>7</td>\n",
       "      <td>3</td>\n",
       "      <td>[' Leisure trip ', ' Couple ', ' Duplex Double...</td>\n",
       "      <td>52.360576</td>\n",
       "      <td>4.915968</td>\n",
       "      <td>0</td>\n",
       "    </tr>\n",
       "    <tr>\n",
       "      <th>1</th>\n",
       "      <td>s Gravesandestraat 55 Oost 1092 AA Amsterdam ...</td>\n",
       "      <td>194</td>\n",
       "      <td>8/3/2017</td>\n",
       "      <td>7.7</td>\n",
       "      <td>Hotel Arena</td>\n",
       "      <td>Ireland</td>\n",
       "      <td>No Negative</td>\n",
       "      <td>0</td>\n",
       "      <td>1403</td>\n",
       "      <td>No real complaints the hotel was great great ...</td>\n",
       "      <td>105</td>\n",
       "      <td>7</td>\n",
       "      <td>8</td>\n",
       "      <td>[' Leisure trip ', ' Couple ', ' Duplex Double...</td>\n",
       "      <td>52.360576</td>\n",
       "      <td>4.915968</td>\n",
       "      <td>0</td>\n",
       "    </tr>\n",
       "    <tr>\n",
       "      <th>2</th>\n",
       "      <td>s Gravesandestraat 55 Oost 1092 AA Amsterdam ...</td>\n",
       "      <td>194</td>\n",
       "      <td>7/31/2017</td>\n",
       "      <td>7.7</td>\n",
       "      <td>Hotel Arena</td>\n",
       "      <td>Australia</td>\n",
       "      <td>Rooms are nice but for elderly a bit difficul...</td>\n",
       "      <td>42</td>\n",
       "      <td>1403</td>\n",
       "      <td>Location was good and staff were ok It is cut...</td>\n",
       "      <td>21</td>\n",
       "      <td>9</td>\n",
       "      <td>7</td>\n",
       "      <td>[' Leisure trip ', ' Family with young childre...</td>\n",
       "      <td>52.360576</td>\n",
       "      <td>4.915968</td>\n",
       "      <td>3</td>\n",
       "    </tr>\n",
       "    <tr>\n",
       "      <th>3</th>\n",
       "      <td>s Gravesandestraat 55 Oost 1092 AA Amsterdam ...</td>\n",
       "      <td>194</td>\n",
       "      <td>7/31/2017</td>\n",
       "      <td>7.7</td>\n",
       "      <td>Hotel Arena</td>\n",
       "      <td>United Kingdom</td>\n",
       "      <td>My room was dirty and I was afraid to walk ba...</td>\n",
       "      <td>210</td>\n",
       "      <td>1403</td>\n",
       "      <td>Great location in nice surroundings the bar a...</td>\n",
       "      <td>26</td>\n",
       "      <td>1</td>\n",
       "      <td>4</td>\n",
       "      <td>[' Leisure trip ', ' Solo traveler ', ' Duplex...</td>\n",
       "      <td>52.360576</td>\n",
       "      <td>4.915968</td>\n",
       "      <td>3</td>\n",
       "    </tr>\n",
       "    <tr>\n",
       "      <th>4</th>\n",
       "      <td>s Gravesandestraat 55 Oost 1092 AA Amsterdam ...</td>\n",
       "      <td>194</td>\n",
       "      <td>7/24/2017</td>\n",
       "      <td>7.7</td>\n",
       "      <td>Hotel Arena</td>\n",
       "      <td>New Zealand</td>\n",
       "      <td>You When I booked with your company on line y...</td>\n",
       "      <td>140</td>\n",
       "      <td>1403</td>\n",
       "      <td>Amazing location and building Romantic setting</td>\n",
       "      <td>8</td>\n",
       "      <td>3</td>\n",
       "      <td>7</td>\n",
       "      <td>[' Leisure trip ', ' Couple ', ' Suite ', ' St...</td>\n",
       "      <td>52.360576</td>\n",
       "      <td>4.915968</td>\n",
       "      <td>10</td>\n",
       "    </tr>\n",
       "  </tbody>\n",
       "</table>\n",
       "</div>"
      ],
      "text/plain": [
       "                                       Hotel_Address  \\\n",
       "0   s Gravesandestraat 55 Oost 1092 AA Amsterdam ...   \n",
       "1   s Gravesandestraat 55 Oost 1092 AA Amsterdam ...   \n",
       "2   s Gravesandestraat 55 Oost 1092 AA Amsterdam ...   \n",
       "3   s Gravesandestraat 55 Oost 1092 AA Amsterdam ...   \n",
       "4   s Gravesandestraat 55 Oost 1092 AA Amsterdam ...   \n",
       "\n",
       "   Additional_Number_of_Scoring Review_Date  Average_Score   Hotel_Name  \\\n",
       "0                           194    8/3/2017            7.7  Hotel Arena   \n",
       "1                           194    8/3/2017            7.7  Hotel Arena   \n",
       "2                           194   7/31/2017            7.7  Hotel Arena   \n",
       "3                           194   7/31/2017            7.7  Hotel Arena   \n",
       "4                           194   7/24/2017            7.7  Hotel Arena   \n",
       "\n",
       "  Reviewer_Nationality                                    Negative_Review  \\\n",
       "0              Russia    I am so angry that i made this post available...   \n",
       "1             Ireland                                         No Negative   \n",
       "2           Australia    Rooms are nice but for elderly a bit difficul...   \n",
       "3      United Kingdom    My room was dirty and I was afraid to walk ba...   \n",
       "4         New Zealand    You When I booked with your company on line y...   \n",
       "\n",
       "   Review_Total_Negative_Word_Counts  Total_Number_of_Reviews  \\\n",
       "0                                397                     1403   \n",
       "1                                  0                     1403   \n",
       "2                                 42                     1403   \n",
       "3                                210                     1403   \n",
       "4                                140                     1403   \n",
       "\n",
       "                                     Positive_Review  \\\n",
       "0   Only the park outside of the hotel was beauti...   \n",
       "1   No real complaints the hotel was great great ...   \n",
       "2   Location was good and staff were ok It is cut...   \n",
       "3   Great location in nice surroundings the bar a...   \n",
       "4    Amazing location and building Romantic setting    \n",
       "\n",
       "   Review_Total_Positive_Word_Counts  \\\n",
       "0                                 11   \n",
       "1                                105   \n",
       "2                                 21   \n",
       "3                                 26   \n",
       "4                                  8   \n",
       "\n",
       "   Total_Number_of_Reviews_Reviewer_Has_Given  Reviewer_Score  \\\n",
       "0                                           7               3   \n",
       "1                                           7               8   \n",
       "2                                           9               7   \n",
       "3                                           1               4   \n",
       "4                                           3               7   \n",
       "\n",
       "                                                Tags        lat       lng  \\\n",
       "0  [' Leisure trip ', ' Couple ', ' Duplex Double...  52.360576  4.915968   \n",
       "1  [' Leisure trip ', ' Couple ', ' Duplex Double...  52.360576  4.915968   \n",
       "2  [' Leisure trip ', ' Family with young childre...  52.360576  4.915968   \n",
       "3  [' Leisure trip ', ' Solo traveler ', ' Duplex...  52.360576  4.915968   \n",
       "4  [' Leisure trip ', ' Couple ', ' Suite ', ' St...  52.360576  4.915968   \n",
       "\n",
       "  Days_Since_Review  \n",
       "0                 0  \n",
       "1                 0  \n",
       "2                 3  \n",
       "3                 3  \n",
       "4                10  "
      ]
     },
     "execution_count": 40,
     "metadata": {},
     "output_type": "execute_result"
    }
   ],
   "source": [
    "# Check if 'days_since_review' and 'day' columns are dropped\n",
    "\n",
    "hr_data.head()"
   ]
  },
  {
   "cell_type": "code",
   "execution_count": 41,
   "id": "41fb3dc4",
   "metadata": {},
   "outputs": [
    {
     "data": {
      "text/plain": [
       "dtype('O')"
      ]
     },
     "execution_count": 41,
     "metadata": {},
     "output_type": "execute_result"
    }
   ],
   "source": [
    "# Check the data type of the new column 'Days_Since_Review'\n",
    "\n",
    "hr_data['Days_Since_Review'].dtypes"
   ]
  },
  {
   "cell_type": "markdown",
   "id": "0ce66d2b",
   "metadata": {},
   "source": [
    "- The data type of 'Days_Since_Review' is object."
   ]
  },
  {
   "cell_type": "code",
   "execution_count": 42,
   "id": "f709f743",
   "metadata": {},
   "outputs": [
    {
     "data": {
      "text/plain": [
       "False"
      ]
     },
     "execution_count": 42,
     "metadata": {},
     "output_type": "execute_result"
    }
   ],
   "source": [
    "# Check if the column is numeric\n",
    "\n",
    "from pandas.api.types import is_numeric_dtype\n",
    "\n",
    "is_numeric_dtype(hr_data['Days_Since_Review'])"
   ]
  },
  {
   "cell_type": "markdown",
   "id": "f2898638",
   "metadata": {},
   "source": [
    "- 'Days_Since_Review' is not numeric."
   ]
  },
  {
   "cell_type": "code",
   "execution_count": 43,
   "id": "ba13730a",
   "metadata": {},
   "outputs": [],
   "source": [
    "# Convert 'Days_Since_Review' column to be numeric\n",
    "\n",
    "hr_data['Days_Since_Review'] = pd.to_numeric(hr_data['Days_Since_Review'])"
   ]
  },
  {
   "cell_type": "code",
   "execution_count": 44,
   "id": "c37659b9",
   "metadata": {},
   "outputs": [
    {
     "data": {
      "text/plain": [
       "True"
      ]
     },
     "execution_count": 44,
     "metadata": {},
     "output_type": "execute_result"
    }
   ],
   "source": [
    "# Check if the column is numeric\n",
    "\n",
    "is_numeric_dtype(hr_data['Days_Since_Review'])"
   ]
  },
  {
   "cell_type": "markdown",
   "id": "180f89c2",
   "metadata": {},
   "source": [
    "- The 'Days_Since_Review' column is now numeric."
   ]
  },
  {
   "cell_type": "code",
   "execution_count": 45,
   "id": "88269546",
   "metadata": {},
   "outputs": [
    {
     "data": {
      "text/plain": [
       "dtype('int64')"
      ]
     },
     "execution_count": 45,
     "metadata": {},
     "output_type": "execute_result"
    }
   ],
   "source": [
    "hr_data['Days_Since_Review'].dtypes"
   ]
  },
  {
   "cell_type": "markdown",
   "id": "eb5704d3",
   "metadata": {},
   "source": [
    "- The data type of the column is also 'int64'."
   ]
  },
  {
   "cell_type": "code",
   "execution_count": 46,
   "id": "9484bf65",
   "metadata": {},
   "outputs": [
    {
     "data": {
      "text/plain": [
       "0           0\n",
       "1           0\n",
       "2           3\n",
       "3           3\n",
       "4          10\n",
       "         ... \n",
       "515733    704\n",
       "515734    712\n",
       "515735    715\n",
       "515736    717\n",
       "515737    725\n",
       "Name: Days_Since_Review, Length: 515738, dtype: int64"
      ]
     },
     "execution_count": 46,
     "metadata": {},
     "output_type": "execute_result"
    }
   ],
   "source": [
    "# Review the column\n",
    "\n",
    "hr_data['Days_Since_Review']"
   ]
  },
  {
   "cell_type": "markdown",
   "id": "3f9ac342",
   "metadata": {},
   "source": [
    "#### Review_Date\n",
    "\n",
    "'Review_Date' should be converted to 'datetime' because it helps identify and process time-related elements and can extract date formats from strings."
   ]
  },
  {
   "cell_type": "code",
   "execution_count": 47,
   "id": "86fddfc7",
   "metadata": {},
   "outputs": [
    {
     "data": {
      "text/plain": [
       "113534     12/5/2016\n",
       "81378      1/23/2017\n",
       "137567     10/7/2015\n",
       "486526    10/16/2016\n",
       "277840      2/5/2017\n",
       "Name: Review_Date, dtype: object"
      ]
     },
     "execution_count": 47,
     "metadata": {},
     "output_type": "execute_result"
    }
   ],
   "source": [
    "# View sample of the column\n",
    "\n",
    "hr_data['Review_Date'].sample(5)"
   ]
  },
  {
   "cell_type": "code",
   "execution_count": 48,
   "id": "d74fba60",
   "metadata": {},
   "outputs": [
    {
     "data": {
      "text/plain": [
       "dtype('O')"
      ]
     },
     "execution_count": 48,
     "metadata": {},
     "output_type": "execute_result"
    }
   ],
   "source": [
    "# Check the data type\n",
    "\n",
    "hr_data['Review_Date'].dtypes"
   ]
  },
  {
   "cell_type": "code",
   "execution_count": 49,
   "id": "3b86ea26",
   "metadata": {},
   "outputs": [],
   "source": [
    "# Convert 'Review_Date' to 'datetime'\n",
    "\n",
    "hr_data['Review_Date'] = pd.to_datetime(hr_data['Review_Date'])"
   ]
  },
  {
   "cell_type": "code",
   "execution_count": 50,
   "id": "a1480653",
   "metadata": {},
   "outputs": [
    {
     "data": {
      "text/plain": [
       "dtype('<M8[ns]')"
      ]
     },
     "execution_count": 50,
     "metadata": {},
     "output_type": "execute_result"
    }
   ],
   "source": [
    "# Check the data type\n",
    "\n",
    "hr_data['Review_Date'].dtypes"
   ]
  },
  {
   "cell_type": "markdown",
   "id": "e11a2e85",
   "metadata": {},
   "source": [
    "- The data type of 'Review_Date' is now 'datetime64'."
   ]
  },
  {
   "cell_type": "code",
   "execution_count": 51,
   "id": "320d1988",
   "metadata": {},
   "outputs": [
    {
     "name": "stdout",
     "output_type": "stream",
     "text": [
      "<class 'pandas.core.frame.DataFrame'>\n",
      "RangeIndex: 515738 entries, 0 to 515737\n",
      "Data columns (total 17 columns):\n",
      " #   Column                                      Non-Null Count   Dtype         \n",
      "---  ------                                      --------------   -----         \n",
      " 0   Hotel_Address                               515738 non-null  object        \n",
      " 1   Additional_Number_of_Scoring                515738 non-null  int64         \n",
      " 2   Review_Date                                 515738 non-null  datetime64[ns]\n",
      " 3   Average_Score                               515738 non-null  float64       \n",
      " 4   Hotel_Name                                  515738 non-null  object        \n",
      " 5   Reviewer_Nationality                        515738 non-null  object        \n",
      " 6   Negative_Review                             515738 non-null  object        \n",
      " 7   Review_Total_Negative_Word_Counts           515738 non-null  int64         \n",
      " 8   Total_Number_of_Reviews                     515738 non-null  int64         \n",
      " 9   Positive_Review                             515738 non-null  object        \n",
      " 10  Review_Total_Positive_Word_Counts           515738 non-null  int64         \n",
      " 11  Total_Number_of_Reviews_Reviewer_Has_Given  515738 non-null  int64         \n",
      " 12  Reviewer_Score                              515738 non-null  int64         \n",
      " 13  Tags                                        515738 non-null  object        \n",
      " 14  lat                                         512470 non-null  float64       \n",
      " 15  lng                                         512470 non-null  float64       \n",
      " 16  Days_Since_Review                           515738 non-null  int64         \n",
      "dtypes: datetime64[ns](1), float64(3), int64(7), object(6)\n",
      "memory usage: 66.9+ MB\n"
     ]
    }
   ],
   "source": [
    "# Sanity check\n",
    "\n",
    "hr_data.info()"
   ]
  },
  {
   "cell_type": "code",
   "execution_count": 52,
   "id": "94d0060a",
   "metadata": {
    "scrolled": false
   },
   "outputs": [
    {
     "data": {
      "text/plain": [
       "2017-08-02    2585\n",
       "2016-09-15    2308\n",
       "2017-04-05    2284\n",
       "2016-08-30    1963\n",
       "2016-02-16    1940\n",
       "              ... \n",
       "2016-09-10     199\n",
       "2015-11-27     194\n",
       "2017-04-03     192\n",
       "2017-04-01     173\n",
       "2017-04-02     143\n",
       "Name: Review_Date, Length: 731, dtype: int64"
      ]
     },
     "execution_count": 52,
     "metadata": {},
     "output_type": "execute_result"
    }
   ],
   "source": [
    "# Check the amount of reviews for each date\n",
    "\n",
    "hr_data['Review_Date'].value_counts()"
   ]
  },
  {
   "cell_type": "code",
   "execution_count": 53,
   "id": "919178ab",
   "metadata": {},
   "outputs": [],
   "source": [
    "# Assign and update numeric and non-numeric columns\n",
    "\n",
    "numeric_col = hr_data.select_dtypes(exclude = 'object').columns  # all data types expect 'object'\n",
    "\n",
    "categorical_col = hr_data.select_dtypes('object').columns"
   ]
  },
  {
   "cell_type": "code",
   "execution_count": 54,
   "id": "e3dcd3b2",
   "metadata": {},
   "outputs": [
    {
     "data": {
      "text/plain": [
       "['Additional_Number_of_Scoring',\n",
       " 'Review_Date',\n",
       " 'Average_Score',\n",
       " 'Review_Total_Negative_Word_Counts',\n",
       " 'Total_Number_of_Reviews',\n",
       " 'Review_Total_Positive_Word_Counts',\n",
       " 'Total_Number_of_Reviews_Reviewer_Has_Given',\n",
       " 'Reviewer_Score',\n",
       " 'lat',\n",
       " 'lng',\n",
       " 'Days_Since_Review']"
      ]
     },
     "execution_count": 54,
     "metadata": {},
     "output_type": "execute_result"
    }
   ],
   "source": [
    "# View numeric list\n",
    "\n",
    "list(numeric_col)"
   ]
  },
  {
   "cell_type": "code",
   "execution_count": 55,
   "id": "41035b65",
   "metadata": {},
   "outputs": [
    {
     "data": {
      "text/plain": [
       "['Hotel_Address',\n",
       " 'Hotel_Name',\n",
       " 'Reviewer_Nationality',\n",
       " 'Negative_Review',\n",
       " 'Positive_Review',\n",
       " 'Tags']"
      ]
     },
     "execution_count": 55,
     "metadata": {},
     "output_type": "execute_result"
    }
   ],
   "source": [
    "# View categorical list\n",
    "\n",
    "list(categorical_col)"
   ]
  },
  {
   "cell_type": "code",
   "execution_count": 56,
   "id": "3bd535c1",
   "metadata": {},
   "outputs": [
    {
     "data": {
      "text/html": [
       "<div>\n",
       "<style scoped>\n",
       "    .dataframe tbody tr th:only-of-type {\n",
       "        vertical-align: middle;\n",
       "    }\n",
       "\n",
       "    .dataframe tbody tr th {\n",
       "        vertical-align: top;\n",
       "    }\n",
       "\n",
       "    .dataframe thead th {\n",
       "        text-align: right;\n",
       "    }\n",
       "</style>\n",
       "<table border=\"1\" class=\"dataframe\">\n",
       "  <thead>\n",
       "    <tr style=\"text-align: right;\">\n",
       "      <th></th>\n",
       "      <th>Additional_Number_of_Scoring</th>\n",
       "      <th>Average_Score</th>\n",
       "      <th>Review_Total_Negative_Word_Counts</th>\n",
       "      <th>Total_Number_of_Reviews</th>\n",
       "      <th>Review_Total_Positive_Word_Counts</th>\n",
       "      <th>Total_Number_of_Reviews_Reviewer_Has_Given</th>\n",
       "      <th>Reviewer_Score</th>\n",
       "      <th>lat</th>\n",
       "      <th>lng</th>\n",
       "      <th>Days_Since_Review</th>\n",
       "    </tr>\n",
       "  </thead>\n",
       "  <tbody>\n",
       "    <tr>\n",
       "      <th>count</th>\n",
       "      <td>515738.000000</td>\n",
       "      <td>515738.000000</td>\n",
       "      <td>515738.000000</td>\n",
       "      <td>515738.000000</td>\n",
       "      <td>515738.000000</td>\n",
       "      <td>515738.000000</td>\n",
       "      <td>515738.000000</td>\n",
       "      <td>512470.000000</td>\n",
       "      <td>512470.000000</td>\n",
       "      <td>515738.000000</td>\n",
       "    </tr>\n",
       "    <tr>\n",
       "      <th>mean</th>\n",
       "      <td>498.081836</td>\n",
       "      <td>8.397487</td>\n",
       "      <td>18.539450</td>\n",
       "      <td>2743.743944</td>\n",
       "      <td>17.776458</td>\n",
       "      <td>7.166001</td>\n",
       "      <td>8.457577</td>\n",
       "      <td>49.442439</td>\n",
       "      <td>2.823803</td>\n",
       "      <td>354.441932</td>\n",
       "    </tr>\n",
       "    <tr>\n",
       "      <th>std</th>\n",
       "      <td>500.538467</td>\n",
       "      <td>0.548048</td>\n",
       "      <td>29.690831</td>\n",
       "      <td>2317.464868</td>\n",
       "      <td>21.804185</td>\n",
       "      <td>11.040228</td>\n",
       "      <td>1.683671</td>\n",
       "      <td>3.466325</td>\n",
       "      <td>4.579425</td>\n",
       "      <td>208.928124</td>\n",
       "    </tr>\n",
       "    <tr>\n",
       "      <th>min</th>\n",
       "      <td>1.000000</td>\n",
       "      <td>5.200000</td>\n",
       "      <td>0.000000</td>\n",
       "      <td>43.000000</td>\n",
       "      <td>0.000000</td>\n",
       "      <td>1.000000</td>\n",
       "      <td>2.000000</td>\n",
       "      <td>41.328376</td>\n",
       "      <td>-0.369758</td>\n",
       "      <td>0.000000</td>\n",
       "    </tr>\n",
       "    <tr>\n",
       "      <th>25%</th>\n",
       "      <td>169.000000</td>\n",
       "      <td>8.100000</td>\n",
       "      <td>2.000000</td>\n",
       "      <td>1161.000000</td>\n",
       "      <td>5.000000</td>\n",
       "      <td>1.000000</td>\n",
       "      <td>8.000000</td>\n",
       "      <td>48.214662</td>\n",
       "      <td>-0.143372</td>\n",
       "      <td>175.000000</td>\n",
       "    </tr>\n",
       "    <tr>\n",
       "      <th>50%</th>\n",
       "      <td>341.000000</td>\n",
       "      <td>8.400000</td>\n",
       "      <td>9.000000</td>\n",
       "      <td>2134.000000</td>\n",
       "      <td>11.000000</td>\n",
       "      <td>3.000000</td>\n",
       "      <td>9.000000</td>\n",
       "      <td>51.499981</td>\n",
       "      <td>0.010607</td>\n",
       "      <td>353.000000</td>\n",
       "    </tr>\n",
       "    <tr>\n",
       "      <th>75%</th>\n",
       "      <td>660.000000</td>\n",
       "      <td>8.800000</td>\n",
       "      <td>23.000000</td>\n",
       "      <td>3613.000000</td>\n",
       "      <td>22.000000</td>\n",
       "      <td>8.000000</td>\n",
       "      <td>10.000000</td>\n",
       "      <td>51.516288</td>\n",
       "      <td>4.834443</td>\n",
       "      <td>527.000000</td>\n",
       "    </tr>\n",
       "    <tr>\n",
       "      <th>max</th>\n",
       "      <td>2682.000000</td>\n",
       "      <td>9.800000</td>\n",
       "      <td>408.000000</td>\n",
       "      <td>16670.000000</td>\n",
       "      <td>395.000000</td>\n",
       "      <td>355.000000</td>\n",
       "      <td>10.000000</td>\n",
       "      <td>52.400181</td>\n",
       "      <td>16.429233</td>\n",
       "      <td>730.000000</td>\n",
       "    </tr>\n",
       "  </tbody>\n",
       "</table>\n",
       "</div>"
      ],
      "text/plain": [
       "       Additional_Number_of_Scoring  Average_Score  \\\n",
       "count                 515738.000000  515738.000000   \n",
       "mean                     498.081836       8.397487   \n",
       "std                      500.538467       0.548048   \n",
       "min                        1.000000       5.200000   \n",
       "25%                      169.000000       8.100000   \n",
       "50%                      341.000000       8.400000   \n",
       "75%                      660.000000       8.800000   \n",
       "max                     2682.000000       9.800000   \n",
       "\n",
       "       Review_Total_Negative_Word_Counts  Total_Number_of_Reviews  \\\n",
       "count                      515738.000000            515738.000000   \n",
       "mean                           18.539450              2743.743944   \n",
       "std                            29.690831              2317.464868   \n",
       "min                             0.000000                43.000000   \n",
       "25%                             2.000000              1161.000000   \n",
       "50%                             9.000000              2134.000000   \n",
       "75%                            23.000000              3613.000000   \n",
       "max                           408.000000             16670.000000   \n",
       "\n",
       "       Review_Total_Positive_Word_Counts  \\\n",
       "count                      515738.000000   \n",
       "mean                           17.776458   \n",
       "std                            21.804185   \n",
       "min                             0.000000   \n",
       "25%                             5.000000   \n",
       "50%                            11.000000   \n",
       "75%                            22.000000   \n",
       "max                           395.000000   \n",
       "\n",
       "       Total_Number_of_Reviews_Reviewer_Has_Given  Reviewer_Score  \\\n",
       "count                               515738.000000   515738.000000   \n",
       "mean                                     7.166001        8.457577   \n",
       "std                                     11.040228        1.683671   \n",
       "min                                      1.000000        2.000000   \n",
       "25%                                      1.000000        8.000000   \n",
       "50%                                      3.000000        9.000000   \n",
       "75%                                      8.000000       10.000000   \n",
       "max                                    355.000000       10.000000   \n",
       "\n",
       "                 lat            lng  Days_Since_Review  \n",
       "count  512470.000000  512470.000000      515738.000000  \n",
       "mean       49.442439       2.823803         354.441932  \n",
       "std         3.466325       4.579425         208.928124  \n",
       "min        41.328376      -0.369758           0.000000  \n",
       "25%        48.214662      -0.143372         175.000000  \n",
       "50%        51.499981       0.010607         353.000000  \n",
       "75%        51.516288       4.834443         527.000000  \n",
       "max        52.400181      16.429233         730.000000  "
      ]
     },
     "execution_count": 56,
     "metadata": {},
     "output_type": "execute_result"
    }
   ],
   "source": [
    "hr_data[numeric_col].describe()"
   ]
  },
  {
   "cell_type": "code",
   "execution_count": 57,
   "id": "6efca931",
   "metadata": {},
   "outputs": [
    {
     "data": {
      "text/html": [
       "<div>\n",
       "<style scoped>\n",
       "    .dataframe tbody tr th:only-of-type {\n",
       "        vertical-align: middle;\n",
       "    }\n",
       "\n",
       "    .dataframe tbody tr th {\n",
       "        vertical-align: top;\n",
       "    }\n",
       "\n",
       "    .dataframe thead th {\n",
       "        text-align: right;\n",
       "    }\n",
       "</style>\n",
       "<table border=\"1\" class=\"dataframe\">\n",
       "  <thead>\n",
       "    <tr style=\"text-align: right;\">\n",
       "      <th></th>\n",
       "      <th>Hotel_Address</th>\n",
       "      <th>Hotel_Name</th>\n",
       "      <th>Reviewer_Nationality</th>\n",
       "      <th>Negative_Review</th>\n",
       "      <th>Positive_Review</th>\n",
       "      <th>Tags</th>\n",
       "    </tr>\n",
       "  </thead>\n",
       "  <tbody>\n",
       "    <tr>\n",
       "      <th>count</th>\n",
       "      <td>515738</td>\n",
       "      <td>515738</td>\n",
       "      <td>515738</td>\n",
       "      <td>515738</td>\n",
       "      <td>515738</td>\n",
       "      <td>515738</td>\n",
       "    </tr>\n",
       "    <tr>\n",
       "      <th>unique</th>\n",
       "      <td>1493</td>\n",
       "      <td>1492</td>\n",
       "      <td>227</td>\n",
       "      <td>330011</td>\n",
       "      <td>412601</td>\n",
       "      <td>55242</td>\n",
       "    </tr>\n",
       "    <tr>\n",
       "      <th>top</th>\n",
       "      <td>163 Marsh Wall Docklands Tower Hamlets London ...</td>\n",
       "      <td>Britannia International Hotel Canary Wharf</td>\n",
       "      <td>United Kingdom</td>\n",
       "      <td>No Negative</td>\n",
       "      <td>No Positive</td>\n",
       "      <td>[' Leisure trip ', ' Couple ', ' Double Room '...</td>\n",
       "    </tr>\n",
       "    <tr>\n",
       "      <th>freq</th>\n",
       "      <td>4789</td>\n",
       "      <td>4789</td>\n",
       "      <td>245246</td>\n",
       "      <td>127890</td>\n",
       "      <td>35946</td>\n",
       "      <td>5101</td>\n",
       "    </tr>\n",
       "  </tbody>\n",
       "</table>\n",
       "</div>"
      ],
      "text/plain": [
       "                                            Hotel_Address  \\\n",
       "count                                              515738   \n",
       "unique                                               1493   \n",
       "top     163 Marsh Wall Docklands Tower Hamlets London ...   \n",
       "freq                                                 4789   \n",
       "\n",
       "                                        Hotel_Name Reviewer_Nationality  \\\n",
       "count                                       515738               515738   \n",
       "unique                                        1492                  227   \n",
       "top     Britannia International Hotel Canary Wharf      United Kingdom    \n",
       "freq                                          4789               245246   \n",
       "\n",
       "       Negative_Review Positive_Review  \\\n",
       "count           515738          515738   \n",
       "unique          330011          412601   \n",
       "top        No Negative     No Positive   \n",
       "freq            127890           35946   \n",
       "\n",
       "                                                     Tags  \n",
       "count                                              515738  \n",
       "unique                                              55242  \n",
       "top     [' Leisure trip ', ' Couple ', ' Double Room '...  \n",
       "freq                                                 5101  "
      ]
     },
     "execution_count": 57,
     "metadata": {},
     "output_type": "execute_result"
    }
   ],
   "source": [
    "hr_data[categorical_col].describe()"
   ]
  },
  {
   "cell_type": "markdown",
   "id": "7cb7fdb4",
   "metadata": {},
   "source": [
    "#### Duplicate"
   ]
  },
  {
   "cell_type": "code",
   "execution_count": 58,
   "id": "c4ac17c5",
   "metadata": {
    "scrolled": true
   },
   "outputs": [
    {
     "data": {
      "text/plain": [
       "0         False\n",
       "1         False\n",
       "2         False\n",
       "3         False\n",
       "4         False\n",
       "          ...  \n",
       "515733    False\n",
       "515734    False\n",
       "515735    False\n",
       "515736    False\n",
       "515737    False\n",
       "Length: 515738, dtype: bool"
      ]
     },
     "execution_count": 58,
     "metadata": {},
     "output_type": "execute_result"
    }
   ],
   "source": [
    "# Checking for any duplicate\n",
    "\n",
    "hr_data.duplicated()"
   ]
  },
  {
   "cell_type": "code",
   "execution_count": 59,
   "id": "fd63aadf",
   "metadata": {
    "scrolled": true
   },
   "outputs": [
    {
     "data": {
      "text/plain": [
       "526"
      ]
     },
     "execution_count": 59,
     "metadata": {},
     "output_type": "execute_result"
    }
   ],
   "source": [
    "# Sum the resultant array to get the total number of duplicate rows\n",
    "\n",
    "hr_data.duplicated().sum()"
   ]
  },
  {
   "cell_type": "markdown",
   "id": "d1794b68",
   "metadata": {},
   "source": [
    "- There are 526 duplicate rows."
   ]
  },
  {
   "cell_type": "code",
   "execution_count": 60,
   "id": "a5e6e3a6",
   "metadata": {},
   "outputs": [
    {
     "data": {
      "text/plain": [
       "0.10198976999949588"
      ]
     },
     "execution_count": 60,
     "metadata": {},
     "output_type": "execute_result"
    }
   ],
   "source": [
    "# Check what % of the dataset is duplicated\n",
    "\n",
    "((hr_data.duplicated().sum()) / hr_data.shape[0]) * 100"
   ]
  },
  {
   "cell_type": "markdown",
   "id": "7a53e07e",
   "metadata": {},
   "source": [
    "- Approximately 0.1% of the dataset is duplicated which is very small."
   ]
  },
  {
   "cell_type": "code",
   "execution_count": 61,
   "id": "bd853ef5",
   "metadata": {},
   "outputs": [
    {
     "data": {
      "text/html": [
       "<div>\n",
       "<style scoped>\n",
       "    .dataframe tbody tr th:only-of-type {\n",
       "        vertical-align: middle;\n",
       "    }\n",
       "\n",
       "    .dataframe tbody tr th {\n",
       "        vertical-align: top;\n",
       "    }\n",
       "\n",
       "    .dataframe thead th {\n",
       "        text-align: right;\n",
       "    }\n",
       "</style>\n",
       "<table border=\"1\" class=\"dataframe\">\n",
       "  <thead>\n",
       "    <tr style=\"text-align: right;\">\n",
       "      <th></th>\n",
       "      <th>Hotel_Address</th>\n",
       "      <th>Additional_Number_of_Scoring</th>\n",
       "      <th>Review_Date</th>\n",
       "      <th>Average_Score</th>\n",
       "      <th>Hotel_Name</th>\n",
       "      <th>Reviewer_Nationality</th>\n",
       "      <th>Negative_Review</th>\n",
       "      <th>Review_Total_Negative_Word_Counts</th>\n",
       "      <th>Total_Number_of_Reviews</th>\n",
       "      <th>Positive_Review</th>\n",
       "      <th>Review_Total_Positive_Word_Counts</th>\n",
       "      <th>Total_Number_of_Reviews_Reviewer_Has_Given</th>\n",
       "      <th>Reviewer_Score</th>\n",
       "      <th>Tags</th>\n",
       "      <th>lat</th>\n",
       "      <th>lng</th>\n",
       "      <th>Days_Since_Review</th>\n",
       "    </tr>\n",
       "  </thead>\n",
       "  <tbody>\n",
       "    <tr>\n",
       "      <th>68983</th>\n",
       "      <td>167 rue de Rome 17th arr 75017 Paris France</td>\n",
       "      <td>11</td>\n",
       "      <td>2017-08-02</td>\n",
       "      <td>6.8</td>\n",
       "      <td>Villa Eugenie</td>\n",
       "      <td>United States of America</td>\n",
       "      <td>Place is old not worthy of 4 stars</td>\n",
       "      <td>9</td>\n",
       "      <td>165</td>\n",
       "      <td>Location friendly staff cell phone for use du...</td>\n",
       "      <td>12</td>\n",
       "      <td>21</td>\n",
       "      <td>7</td>\n",
       "      <td>[' Leisure trip ', ' Solo traveler ', ' Standa...</td>\n",
       "      <td>48.887128</td>\n",
       "      <td>2.314205</td>\n",
       "      <td>1</td>\n",
       "    </tr>\n",
       "    <tr>\n",
       "      <th>180251</th>\n",
       "      <td>40 Rue du Commandant Ren Mouchotte 14th arr 75...</td>\n",
       "      <td>228</td>\n",
       "      <td>2017-08-01</td>\n",
       "      <td>7.9</td>\n",
       "      <td>H tel Concorde Montparnasse</td>\n",
       "      <td>Lebanon</td>\n",
       "      <td>Room sevice</td>\n",
       "      <td>3</td>\n",
       "      <td>2515</td>\n",
       "      <td>Location</td>\n",
       "      <td>2</td>\n",
       "      <td>16</td>\n",
       "      <td>10</td>\n",
       "      <td>[' Leisure trip ', ' Family with young childre...</td>\n",
       "      <td>48.838108</td>\n",
       "      <td>2.318669</td>\n",
       "      <td>2</td>\n",
       "    </tr>\n",
       "    <tr>\n",
       "      <th>180113</th>\n",
       "      <td>40 Rue du Commandant Ren Mouchotte 14th arr 75...</td>\n",
       "      <td>228</td>\n",
       "      <td>2017-07-31</td>\n",
       "      <td>7.9</td>\n",
       "      <td>H tel Concorde Montparnasse</td>\n",
       "      <td>Netherlands</td>\n",
       "      <td>Hotel had no shower gel no soap no shampoo ba...</td>\n",
       "      <td>116</td>\n",
       "      <td>2515</td>\n",
       "      <td>The room was OK</td>\n",
       "      <td>5</td>\n",
       "      <td>1</td>\n",
       "      <td>6</td>\n",
       "      <td>[' Leisure trip ', ' Group ', ' Classic Double...</td>\n",
       "      <td>48.838108</td>\n",
       "      <td>2.318669</td>\n",
       "      <td>3</td>\n",
       "    </tr>\n",
       "    <tr>\n",
       "      <th>180114</th>\n",
       "      <td>40 Rue du Commandant Ren Mouchotte 14th arr 75...</td>\n",
       "      <td>228</td>\n",
       "      <td>2017-07-29</td>\n",
       "      <td>7.9</td>\n",
       "      <td>H tel Concorde Montparnasse</td>\n",
       "      <td>Lebanon</td>\n",
       "      <td>The original agreement with the reservation w...</td>\n",
       "      <td>80</td>\n",
       "      <td>2515</td>\n",
       "      <td>Breakfast was good rooms ok</td>\n",
       "      <td>6</td>\n",
       "      <td>1</td>\n",
       "      <td>6</td>\n",
       "      <td>[' Leisure trip ', ' Solo traveler ', ' 2 Adja...</td>\n",
       "      <td>48.838108</td>\n",
       "      <td>2.318669</td>\n",
       "      <td>5</td>\n",
       "    </tr>\n",
       "    <tr>\n",
       "      <th>61876</th>\n",
       "      <td>16 22 Great Russell Street Camden London WC1B ...</td>\n",
       "      <td>300</td>\n",
       "      <td>2017-07-27</td>\n",
       "      <td>9.0</td>\n",
       "      <td>The Bloomsbury Hotel</td>\n",
       "      <td>Israel</td>\n",
       "      <td>No Negative</td>\n",
       "      <td>0</td>\n",
       "      <td>1254</td>\n",
       "      <td>The attention received by Sebastian and his t...</td>\n",
       "      <td>12</td>\n",
       "      <td>4</td>\n",
       "      <td>10</td>\n",
       "      <td>[' Leisure trip ', ' Couple ', ' Superior Doub...</td>\n",
       "      <td>51.517167</td>\n",
       "      <td>-0.129053</td>\n",
       "      <td>7</td>\n",
       "    </tr>\n",
       "    <tr>\n",
       "      <th>...</th>\n",
       "      <td>...</td>\n",
       "      <td>...</td>\n",
       "      <td>...</td>\n",
       "      <td>...</td>\n",
       "      <td>...</td>\n",
       "      <td>...</td>\n",
       "      <td>...</td>\n",
       "      <td>...</td>\n",
       "      <td>...</td>\n",
       "      <td>...</td>\n",
       "      <td>...</td>\n",
       "      <td>...</td>\n",
       "      <td>...</td>\n",
       "      <td>...</td>\n",
       "      <td>...</td>\n",
       "      <td>...</td>\n",
       "      <td>...</td>\n",
       "    </tr>\n",
       "    <tr>\n",
       "      <th>260243</th>\n",
       "      <td>9 Rue Sainte Beuve 6th arr 75006 Paris France</td>\n",
       "      <td>22</td>\n",
       "      <td>2015-08-08</td>\n",
       "      <td>8.9</td>\n",
       "      <td>Hotel Le Sainte Beuve</td>\n",
       "      <td>Australia</td>\n",
       "      <td>No Negative</td>\n",
       "      <td>0</td>\n",
       "      <td>143</td>\n",
       "      <td>Friendly staff</td>\n",
       "      <td>3</td>\n",
       "      <td>2</td>\n",
       "      <td>10</td>\n",
       "      <td>[' Leisure trip ', ' Couple ', ' Superior Room...</td>\n",
       "      <td>48.843900</td>\n",
       "      <td>2.329486</td>\n",
       "      <td>726</td>\n",
       "    </tr>\n",
       "    <tr>\n",
       "      <th>180249</th>\n",
       "      <td>40 Rue du Commandant Ren Mouchotte 14th arr 75...</td>\n",
       "      <td>228</td>\n",
       "      <td>2015-08-07</td>\n",
       "      <td>7.9</td>\n",
       "      <td>H tel Concorde Montparnasse</td>\n",
       "      <td>Australia</td>\n",
       "      <td>The cleaning staff have an appauling attitude...</td>\n",
       "      <td>28</td>\n",
       "      <td>2515</td>\n",
       "      <td>I liked the staff at the front desk very help...</td>\n",
       "      <td>14</td>\n",
       "      <td>3</td>\n",
       "      <td>5</td>\n",
       "      <td>[' Leisure trip ', ' Couple ', ' Classic Doubl...</td>\n",
       "      <td>48.838108</td>\n",
       "      <td>2.318669</td>\n",
       "      <td>727</td>\n",
       "    </tr>\n",
       "    <tr>\n",
       "      <th>180250</th>\n",
       "      <td>40 Rue du Commandant Ren Mouchotte 14th arr 75...</td>\n",
       "      <td>228</td>\n",
       "      <td>2015-08-06</td>\n",
       "      <td>7.9</td>\n",
       "      <td>H tel Concorde Montparnasse</td>\n",
       "      <td>Ireland</td>\n",
       "      <td>Paper cups and plastic spoons for tea Temp co...</td>\n",
       "      <td>22</td>\n",
       "      <td>2515</td>\n",
       "      <td>Bed wasnt too bad pillows comfy and duvet lig...</td>\n",
       "      <td>14</td>\n",
       "      <td>1</td>\n",
       "      <td>6</td>\n",
       "      <td>[' Leisure trip ', ' Couple ', ' Superior Doub...</td>\n",
       "      <td>48.838108</td>\n",
       "      <td>2.318669</td>\n",
       "      <td>728</td>\n",
       "    </tr>\n",
       "    <tr>\n",
       "      <th>68997</th>\n",
       "      <td>167 rue de Rome 17th arr 75017 Paris France</td>\n",
       "      <td>11</td>\n",
       "      <td>2015-08-05</td>\n",
       "      <td>6.8</td>\n",
       "      <td>Villa Eugenie</td>\n",
       "      <td>Switzerland</td>\n",
       "      <td>nothing</td>\n",
       "      <td>2</td>\n",
       "      <td>165</td>\n",
       "      <td>the place was very clean and quite</td>\n",
       "      <td>8</td>\n",
       "      <td>1</td>\n",
       "      <td>8</td>\n",
       "      <td>[' Leisure trip ', ' Family with older childre...</td>\n",
       "      <td>48.887128</td>\n",
       "      <td>2.314205</td>\n",
       "      <td>729</td>\n",
       "    </tr>\n",
       "    <tr>\n",
       "      <th>180458</th>\n",
       "      <td>40 Rue du Commandant Ren Mouchotte 14th arr 75...</td>\n",
       "      <td>228</td>\n",
       "      <td>2015-08-04</td>\n",
       "      <td>7.9</td>\n",
       "      <td>H tel Concorde Montparnasse</td>\n",
       "      <td>United Kingdom</td>\n",
       "      <td>Need better directions from Metro</td>\n",
       "      <td>6</td>\n",
       "      <td>2515</td>\n",
       "      <td>Very convenient for Gare de Montparnasse</td>\n",
       "      <td>7</td>\n",
       "      <td>9</td>\n",
       "      <td>9</td>\n",
       "      <td>[' Leisure trip ', ' Couple ', ' Classic Twin ...</td>\n",
       "      <td>48.838108</td>\n",
       "      <td>2.318669</td>\n",
       "      <td>730</td>\n",
       "    </tr>\n",
       "  </tbody>\n",
       "</table>\n",
       "<p>526 rows × 17 columns</p>\n",
       "</div>"
      ],
      "text/plain": [
       "                                            Hotel_Address  \\\n",
       "68983         167 rue de Rome 17th arr 75017 Paris France   \n",
       "180251  40 Rue du Commandant Ren Mouchotte 14th arr 75...   \n",
       "180113  40 Rue du Commandant Ren Mouchotte 14th arr 75...   \n",
       "180114  40 Rue du Commandant Ren Mouchotte 14th arr 75...   \n",
       "61876   16 22 Great Russell Street Camden London WC1B ...   \n",
       "...                                                   ...   \n",
       "260243      9 Rue Sainte Beuve 6th arr 75006 Paris France   \n",
       "180249  40 Rue du Commandant Ren Mouchotte 14th arr 75...   \n",
       "180250  40 Rue du Commandant Ren Mouchotte 14th arr 75...   \n",
       "68997         167 rue de Rome 17th arr 75017 Paris France   \n",
       "180458  40 Rue du Commandant Ren Mouchotte 14th arr 75...   \n",
       "\n",
       "        Additional_Number_of_Scoring Review_Date  Average_Score  \\\n",
       "68983                             11  2017-08-02            6.8   \n",
       "180251                           228  2017-08-01            7.9   \n",
       "180113                           228  2017-07-31            7.9   \n",
       "180114                           228  2017-07-29            7.9   \n",
       "61876                            300  2017-07-27            9.0   \n",
       "...                              ...         ...            ...   \n",
       "260243                            22  2015-08-08            8.9   \n",
       "180249                           228  2015-08-07            7.9   \n",
       "180250                           228  2015-08-06            7.9   \n",
       "68997                             11  2015-08-05            6.8   \n",
       "180458                           228  2015-08-04            7.9   \n",
       "\n",
       "                         Hotel_Name        Reviewer_Nationality  \\\n",
       "68983                 Villa Eugenie   United States of America    \n",
       "180251  H tel Concorde Montparnasse                    Lebanon    \n",
       "180113  H tel Concorde Montparnasse                Netherlands    \n",
       "180114  H tel Concorde Montparnasse                    Lebanon    \n",
       "61876          The Bloomsbury Hotel                     Israel    \n",
       "...                             ...                         ...   \n",
       "260243        Hotel Le Sainte Beuve                  Australia    \n",
       "180249  H tel Concorde Montparnasse                  Australia    \n",
       "180250  H tel Concorde Montparnasse                    Ireland    \n",
       "68997                 Villa Eugenie                Switzerland    \n",
       "180458  H tel Concorde Montparnasse             United Kingdom    \n",
       "\n",
       "                                          Negative_Review  \\\n",
       "68983                  Place is old not worthy of 4 stars   \n",
       "180251                                        Room sevice   \n",
       "180113   Hotel had no shower gel no soap no shampoo ba...   \n",
       "180114   The original agreement with the reservation w...   \n",
       "61876                                         No Negative   \n",
       "...                                                   ...   \n",
       "260243                                        No Negative   \n",
       "180249   The cleaning staff have an appauling attitude...   \n",
       "180250   Paper cups and plastic spoons for tea Temp co...   \n",
       "68997                                             nothing   \n",
       "180458                  Need better directions from Metro   \n",
       "\n",
       "        Review_Total_Negative_Word_Counts  Total_Number_of_Reviews  \\\n",
       "68983                                   9                      165   \n",
       "180251                                  3                     2515   \n",
       "180113                                116                     2515   \n",
       "180114                                 80                     2515   \n",
       "61876                                   0                     1254   \n",
       "...                                   ...                      ...   \n",
       "260243                                  0                      143   \n",
       "180249                                 28                     2515   \n",
       "180250                                 22                     2515   \n",
       "68997                                   2                      165   \n",
       "180458                                  6                     2515   \n",
       "\n",
       "                                          Positive_Review  \\\n",
       "68983    Location friendly staff cell phone for use du...   \n",
       "180251                                           Location   \n",
       "180113                                    The room was OK   \n",
       "180114                        Breakfast was good rooms ok   \n",
       "61876    The attention received by Sebastian and his t...   \n",
       "...                                                   ...   \n",
       "260243                                     Friendly staff   \n",
       "180249   I liked the staff at the front desk very help...   \n",
       "180250   Bed wasnt too bad pillows comfy and duvet lig...   \n",
       "68997                  the place was very clean and quite   \n",
       "180458           Very convenient for Gare de Montparnasse   \n",
       "\n",
       "        Review_Total_Positive_Word_Counts  \\\n",
       "68983                                  12   \n",
       "180251                                  2   \n",
       "180113                                  5   \n",
       "180114                                  6   \n",
       "61876                                  12   \n",
       "...                                   ...   \n",
       "260243                                  3   \n",
       "180249                                 14   \n",
       "180250                                 14   \n",
       "68997                                   8   \n",
       "180458                                  7   \n",
       "\n",
       "        Total_Number_of_Reviews_Reviewer_Has_Given  Reviewer_Score  \\\n",
       "68983                                           21               7   \n",
       "180251                                          16              10   \n",
       "180113                                           1               6   \n",
       "180114                                           1               6   \n",
       "61876                                            4              10   \n",
       "...                                            ...             ...   \n",
       "260243                                           2              10   \n",
       "180249                                           3               5   \n",
       "180250                                           1               6   \n",
       "68997                                            1               8   \n",
       "180458                                           9               9   \n",
       "\n",
       "                                                     Tags        lat  \\\n",
       "68983   [' Leisure trip ', ' Solo traveler ', ' Standa...  48.887128   \n",
       "180251  [' Leisure trip ', ' Family with young childre...  48.838108   \n",
       "180113  [' Leisure trip ', ' Group ', ' Classic Double...  48.838108   \n",
       "180114  [' Leisure trip ', ' Solo traveler ', ' 2 Adja...  48.838108   \n",
       "61876   [' Leisure trip ', ' Couple ', ' Superior Doub...  51.517167   \n",
       "...                                                   ...        ...   \n",
       "260243  [' Leisure trip ', ' Couple ', ' Superior Room...  48.843900   \n",
       "180249  [' Leisure trip ', ' Couple ', ' Classic Doubl...  48.838108   \n",
       "180250  [' Leisure trip ', ' Couple ', ' Superior Doub...  48.838108   \n",
       "68997   [' Leisure trip ', ' Family with older childre...  48.887128   \n",
       "180458  [' Leisure trip ', ' Couple ', ' Classic Twin ...  48.838108   \n",
       "\n",
       "             lng  Days_Since_Review  \n",
       "68983   2.314205                  1  \n",
       "180251  2.318669                  2  \n",
       "180113  2.318669                  3  \n",
       "180114  2.318669                  5  \n",
       "61876  -0.129053                  7  \n",
       "...          ...                ...  \n",
       "260243  2.329486                726  \n",
       "180249  2.318669                727  \n",
       "180250  2.318669                728  \n",
       "68997   2.314205                729  \n",
       "180458  2.318669                730  \n",
       "\n",
       "[526 rows x 17 columns]"
      ]
     },
     "execution_count": 61,
     "metadata": {},
     "output_type": "execute_result"
    }
   ],
   "source": [
    "# Get rid of the duplicated row,\n",
    "# but first check what is in them \n",
    "# Check if there is any pattern being duplicated\n",
    "\n",
    "hr_data.loc[hr_data.duplicated(), :].sort_values('Days_Since_Review')"
   ]
  },
  {
   "cell_type": "markdown",
   "id": "7521d45a",
   "metadata": {},
   "source": [
    "- There is a pattern among the duplicates.\n",
    "- What most duplicates have in common are including 'Hotel_Address', 'Hotel_Name', and 'Total_Number_of_Reviews', 'Tags', 'lat', and 'lng'."
   ]
  },
  {
   "cell_type": "code",
   "execution_count": 62,
   "id": "1fdd09d7",
   "metadata": {},
   "outputs": [],
   "source": [
    "# Assign the dataframe to 'hotel_reviews'\n",
    "\n",
    "hotel_reviews = hr_data.drop_duplicates()"
   ]
  },
  {
   "cell_type": "code",
   "execution_count": 63,
   "id": "a64af2bf",
   "metadata": {},
   "outputs": [
    {
     "data": {
      "text/plain": [
       "(515212, 17)"
      ]
     },
     "execution_count": 63,
     "metadata": {},
     "output_type": "execute_result"
    }
   ],
   "source": [
    "# Shape of the clean dataframe\n",
    "\n",
    "hotel_reviews.shape"
   ]
  },
  {
   "cell_type": "code",
   "execution_count": 64,
   "id": "a4c40825",
   "metadata": {},
   "outputs": [
    {
     "name": "stdout",
     "output_type": "stream",
     "text": [
      "We have 515212 rows and 17 columns in the new dataframe.\n"
     ]
    }
   ],
   "source": [
    "# Print out rows and columns of the new dataframe\n",
    "\n",
    "print(f\"We have {hotel_reviews.shape[0]} rows and {hotel_reviews.shape[1]} columns in the new dataframe.\")"
   ]
  },
  {
   "cell_type": "code",
   "execution_count": 65,
   "id": "0764027d",
   "metadata": {
    "scrolled": true
   },
   "outputs": [
    {
     "data": {
      "text/plain": [
       "Hotel_Address                                 False\n",
       "Additional_Number_of_Scoring                  False\n",
       "Review_Date                                   False\n",
       "Average_Score                                 False\n",
       "Hotel_Name                                    False\n",
       "Reviewer_Nationality                          False\n",
       "Negative_Review                               False\n",
       "Review_Total_Negative_Word_Counts             False\n",
       "Total_Number_of_Reviews                       False\n",
       "Positive_Review                               False\n",
       "Review_Total_Positive_Word_Counts             False\n",
       "Total_Number_of_Reviews_Reviewer_Has_Given    False\n",
       "Reviewer_Score                                False\n",
       "Tags                                          False\n",
       "lat                                           False\n",
       "lng                                           False\n",
       "Days_Since_Review                             False\n",
       "dtype: bool"
      ]
     },
     "execution_count": 65,
     "metadata": {},
     "output_type": "execute_result"
    }
   ],
   "source": [
    "# Checking if there is any duplicate in columns\n",
    "\n",
    "hotel_reviews.T.duplicated()"
   ]
  },
  {
   "cell_type": "markdown",
   "id": "76e92525",
   "metadata": {},
   "source": [
    "- Thereis no duplicate."
   ]
  },
  {
   "cell_type": "markdown",
   "id": "dfa431c1",
   "metadata": {},
   "source": [
    "#### Missing value"
   ]
  },
  {
   "cell_type": "code",
   "execution_count": 66,
   "id": "48566907",
   "metadata": {
    "scrolled": true
   },
   "outputs": [
    {
     "data": {
      "text/plain": [
       "Hotel_Address                                    0\n",
       "Additional_Number_of_Scoring                     0\n",
       "Review_Date                                      0\n",
       "Average_Score                                    0\n",
       "Hotel_Name                                       0\n",
       "Reviewer_Nationality                             0\n",
       "Negative_Review                                  0\n",
       "Review_Total_Negative_Word_Counts                0\n",
       "Total_Number_of_Reviews                          0\n",
       "Positive_Review                                  0\n",
       "Review_Total_Positive_Word_Counts                0\n",
       "Total_Number_of_Reviews_Reviewer_Has_Given       0\n",
       "Reviewer_Score                                   0\n",
       "Tags                                             0\n",
       "lat                                           3268\n",
       "lng                                           3268\n",
       "Days_Since_Review                                0\n",
       "dtype: int64"
      ]
     },
     "execution_count": 66,
     "metadata": {},
     "output_type": "execute_result"
    }
   ],
   "source": [
    "# Check if there is any missing value\n",
    "\n",
    "hotel_reviews.isna().sum()"
   ]
  },
  {
   "cell_type": "markdown",
   "id": "2425b2b8",
   "metadata": {},
   "source": [
    "- There are some missing values in 'lat' and 'lng'."
   ]
  },
  {
   "cell_type": "code",
   "execution_count": 67,
   "id": "dcc20095",
   "metadata": {
    "scrolled": true
   },
   "outputs": [
    {
     "data": {
      "text/plain": [
       "Hotel_Address                                 0.000000\n",
       "Additional_Number_of_Scoring                  0.000000\n",
       "Review_Date                                   0.000000\n",
       "Average_Score                                 0.000000\n",
       "Hotel_Name                                    0.000000\n",
       "Reviewer_Nationality                          0.000000\n",
       "Negative_Review                               0.000000\n",
       "Review_Total_Negative_Word_Counts             0.000000\n",
       "Total_Number_of_Reviews                       0.000000\n",
       "Positive_Review                               0.000000\n",
       "Review_Total_Positive_Word_Counts             0.000000\n",
       "Total_Number_of_Reviews_Reviewer_Has_Given    0.000000\n",
       "Reviewer_Score                                0.000000\n",
       "Tags                                          0.000000\n",
       "lat                                           0.634302\n",
       "lng                                           0.634302\n",
       "Days_Since_Review                             0.000000\n",
       "dtype: float64"
      ]
     },
     "execution_count": 67,
     "metadata": {},
     "output_type": "execute_result"
    }
   ],
   "source": [
    "# Calculate the proportion of missing values\n",
    "\n",
    "(hotel_reviews.isna().sum() / hotel_reviews.shape[0]) * 100"
   ]
  },
  {
   "cell_type": "markdown",
   "id": "b1daa91f",
   "metadata": {},
   "source": [
    "- There are only 0.63% missing values in 'lat' and 'lng'."
   ]
  },
  {
   "cell_type": "markdown",
   "id": "84cd054a",
   "metadata": {},
   "source": [
    "#### Clean 'lat' column"
   ]
  },
  {
   "cell_type": "code",
   "execution_count": 68,
   "id": "3c47bfe0",
   "metadata": {},
   "outputs": [
    {
     "data": {
      "text/plain": [
       "count    511944.000000\n",
       "mean         49.443040\n",
       "std           3.468029\n",
       "min          41.328376\n",
       "25%          48.214277\n",
       "50%          51.499981\n",
       "75%          51.516288\n",
       "max          52.400181\n",
       "Name: lat, dtype: float64"
      ]
     },
     "execution_count": 68,
     "metadata": {},
     "output_type": "execute_result"
    }
   ],
   "source": [
    "# Get the statistics for 'lat'\n",
    "\n",
    "hotel_reviews['lat'].describe()"
   ]
  },
  {
   "cell_type": "code",
   "execution_count": 69,
   "id": "38387a3c",
   "metadata": {},
   "outputs": [
    {
     "data": {
      "image/png": "[encoded data removed]",
      "text/plain": [
       "<Figure size 432x288 with 1 Axes>"
      ]
     },
     "metadata": {
      "needs_background": "light"
     },
     "output_type": "display_data"
    }
   ],
   "source": [
    "# Plot a histogram for 'lat'\n",
    "\n",
    "plt.figure()\n",
    "\n",
    "plt.hist(hotel_reviews['lat'])\n",
    "plt.xlabel('Lat')\n",
    "plt.ylabel('Count')\n",
    "plt.axvline(hotel_reviews['lat'].mean(), label = 'mean', c = 'r')\n",
    "plt.axvline(hotel_reviews['lat'].median(), label = 'median', c = 'r', linestyle = '--')\n",
    "\n",
    "plt.legend()\n",
    "plt.show()"
   ]
  },
  {
   "cell_type": "code",
   "execution_count": 70,
   "id": "c9ba9733",
   "metadata": {},
   "outputs": [
    {
     "data": {
      "text/plain": [
       "51.5019097"
      ]
     },
     "execution_count": 70,
     "metadata": {},
     "output_type": "execute_result"
    }
   ],
   "source": [
    "# Get mode of 'lat'\n",
    "\n",
    "lat_mode = hotel_reviews['lat'].mode()[0]\n",
    "\n",
    "lat_mode"
   ]
  },
  {
   "cell_type": "code",
   "execution_count": 71,
   "id": "22c7f367",
   "metadata": {},
   "outputs": [
    {
     "name": "stderr",
     "output_type": "stream",
     "text": [
      "/var/folders/3r/xt5d5yjn5vj2x8xpx00xsy4c0000gn/T/ipykernel_25423/2510616494.py:3: SettingWithCopyWarning: \n",
      "A value is trying to be set on a copy of a slice from a DataFrame.\n",
      "Try using .loc[row_indexer,col_indexer] = value instead\n",
      "\n",
      "See the caveats in the documentation: https://pandas.pydata.org/pandas-docs/stable/user_guide/indexing.html#returning-a-view-versus-a-copy\n",
      "  hotel_reviews.loc[:, 'lat'] = hotel_reviews.loc[:,'lat'].fillna(lat_mode)\n"
     ]
    }
   ],
   "source": [
    "# Fill the missing values with mode\n",
    "\n",
    "hotel_reviews.loc[:, 'lat'] = hotel_reviews.loc[:,'lat'].fillna(lat_mode)"
   ]
  },
  {
   "cell_type": "code",
   "execution_count": 72,
   "id": "87b31b45",
   "metadata": {},
   "outputs": [
    {
     "data": {
      "text/plain": [
       "0"
      ]
     },
     "execution_count": 72,
     "metadata": {},
     "output_type": "execute_result"
    }
   ],
   "source": [
    "# Sanity check\n",
    "\n",
    "hotel_reviews['lat'].isna().sum()"
   ]
  },
  {
   "cell_type": "markdown",
   "id": "5592915f",
   "metadata": {},
   "source": [
    "- There is no missing value in 'lat'."
   ]
  },
  {
   "cell_type": "markdown",
   "id": "d4eddd70",
   "metadata": {},
   "source": [
    "#### Clean 'lng' column"
   ]
  },
  {
   "cell_type": "code",
   "execution_count": 73,
   "id": "39fc27ad",
   "metadata": {},
   "outputs": [
    {
     "data": {
      "text/plain": [
       "count    511944.000000\n",
       "mean          2.824222\n",
       "std           4.581637\n",
       "min          -0.369758\n",
       "25%          -0.143649\n",
       "50%          -0.000250\n",
       "75%           4.834443\n",
       "max          16.429233\n",
       "Name: lng, dtype: float64"
      ]
     },
     "execution_count": 73,
     "metadata": {},
     "output_type": "execute_result"
    }
   ],
   "source": [
    "# Get the statistics for 'lng'\n",
    "\n",
    "hotel_reviews['lng'].describe()"
   ]
  },
  {
   "cell_type": "code",
   "execution_count": 74,
   "id": "df29fa59",
   "metadata": {},
   "outputs": [
    {
     "data": {
      "image/png": "[encoded data removed]",
      "text/plain": [
       "<Figure size 432x288 with 1 Axes>"
      ]
     },
     "metadata": {
      "needs_background": "light"
     },
     "output_type": "display_data"
    }
   ],
   "source": [
    "# Plot a histogram for 'lng'\n",
    "\n",
    "plt.figure()\n",
    "\n",
    "plt.hist(hotel_reviews['lng'])\n",
    "plt.xlabel('Lng')\n",
    "plt.ylabel('Count')\n",
    "plt.axvline(hotel_reviews['lng'].mean(), label = 'mean', c = 'r')\n",
    "plt.axvline(hotel_reviews['lng'].median(), label = 'median', c = 'r', linestyle = '--')\n",
    "\n",
    "plt.legend()\n",
    "plt.show()"
   ]
  },
  {
   "cell_type": "code",
   "execution_count": 75,
   "id": "84fe7700",
   "metadata": {},
   "outputs": [
    {
     "data": {
      "text/plain": [
       "-0.0232208"
      ]
     },
     "execution_count": 75,
     "metadata": {},
     "output_type": "execute_result"
    }
   ],
   "source": [
    "# Get mode of 'lng'\n",
    "\n",
    "lng_mode = hotel_reviews['lng'].mode()[0]\n",
    "\n",
    "lng_mode"
   ]
  },
  {
   "cell_type": "code",
   "execution_count": 76,
   "id": "90a1036e",
   "metadata": {},
   "outputs": [
    {
     "name": "stderr",
     "output_type": "stream",
     "text": [
      "/var/folders/3r/xt5d5yjn5vj2x8xpx00xsy4c0000gn/T/ipykernel_25423/1968365243.py:3: SettingWithCopyWarning: \n",
      "A value is trying to be set on a copy of a slice from a DataFrame.\n",
      "Try using .loc[row_indexer,col_indexer] = value instead\n",
      "\n",
      "See the caveats in the documentation: https://pandas.pydata.org/pandas-docs/stable/user_guide/indexing.html#returning-a-view-versus-a-copy\n",
      "  hotel_reviews.loc[:, 'lng'] = hotel_reviews.loc[:,'lng'].fillna(lng_mode)\n"
     ]
    }
   ],
   "source": [
    "# Fill the missing values with mode\n",
    "\n",
    "hotel_reviews.loc[:, 'lng'] = hotel_reviews.loc[:,'lng'].fillna(lng_mode)"
   ]
  },
  {
   "cell_type": "code",
   "execution_count": 77,
   "id": "894e2808",
   "metadata": {},
   "outputs": [
    {
     "data": {
      "text/plain": [
       "0"
      ]
     },
     "execution_count": 77,
     "metadata": {},
     "output_type": "execute_result"
    }
   ],
   "source": [
    "# Sanity check\n",
    "\n",
    "hotel_reviews['lng'].isna().sum()"
   ]
  },
  {
   "cell_type": "markdown",
   "id": "36bf8762",
   "metadata": {},
   "source": [
    "- There is no missing value in 'lng'."
   ]
  },
  {
   "cell_type": "code",
   "execution_count": 78,
   "id": "be639a15",
   "metadata": {},
   "outputs": [
    {
     "data": {
      "text/plain": [
       "Hotel_Address                                 0\n",
       "Additional_Number_of_Scoring                  0\n",
       "Review_Date                                   0\n",
       "Average_Score                                 0\n",
       "Hotel_Name                                    0\n",
       "Reviewer_Nationality                          0\n",
       "Negative_Review                               0\n",
       "Review_Total_Negative_Word_Counts             0\n",
       "Total_Number_of_Reviews                       0\n",
       "Positive_Review                               0\n",
       "Review_Total_Positive_Word_Counts             0\n",
       "Total_Number_of_Reviews_Reviewer_Has_Given    0\n",
       "Reviewer_Score                                0\n",
       "Tags                                          0\n",
       "lat                                           0\n",
       "lng                                           0\n",
       "Days_Since_Review                             0\n",
       "dtype: int64"
      ]
     },
     "execution_count": 78,
     "metadata": {},
     "output_type": "execute_result"
    }
   ],
   "source": [
    "# Check if there is still any missing value\n",
    "\n",
    "hotel_reviews.isna().sum()"
   ]
  },
  {
   "cell_type": "markdown",
   "id": "4aecafed",
   "metadata": {},
   "source": [
    "- There is no missing value."
   ]
  },
  {
   "cell_type": "markdown",
   "id": "624111bf",
   "metadata": {},
   "source": [
    "### Data Wrangling"
   ]
  },
  {
   "cell_type": "markdown",
   "id": "cdd801db",
   "metadata": {},
   "source": [
    "#### Convert the 'Reviewer_Score' column into a binary column in the following way\n",
    "\n",
    "- Reviews that are below 9 should be encoded as 0 ('not good')\n",
    "- Reviews with scores 9 and 10 as 1 ('good')"
   ]
  },
  {
   "cell_type": "code",
   "execution_count": 79,
   "id": "0bbe490f",
   "metadata": {},
   "outputs": [
    {
     "data": {
      "text/plain": [
       "23774     10\n",
       "279367     8\n",
       "31854      8\n",
       "138167     9\n",
       "194115    10\n",
       "471223     9\n",
       "245723    10\n",
       "481376     9\n",
       "485359     2\n",
       "373036    10\n",
       "Name: Reviewer_Score, dtype: int64"
      ]
     },
     "execution_count": 79,
     "metadata": {},
     "output_type": "execute_result"
    }
   ],
   "source": [
    "# View the column\n",
    "\n",
    "hotel_reviews['Reviewer_Score'].sample(10)"
   ]
  },
  {
   "cell_type": "code",
   "execution_count": 80,
   "id": "887aad5b",
   "metadata": {
    "scrolled": false
   },
   "outputs": [
    {
     "data": {
      "text/plain": [
       "10    187592\n",
       "8     110035\n",
       "9     105621\n",
       "7      44041\n",
       "6      27765\n",
       "5      24152\n",
       "4       9421\n",
       "3       4393\n",
       "2       2192\n",
       "Name: Reviewer_Score, dtype: int64"
      ]
     },
     "execution_count": 80,
     "metadata": {},
     "output_type": "execute_result"
    }
   ],
   "source": [
    "# Check all distinct values\n",
    "\n",
    "hotel_reviews['Reviewer_Score'].value_counts()"
   ]
  },
  {
   "cell_type": "code",
   "execution_count": 81,
   "id": "a3289fe0",
   "metadata": {
    "scrolled": true
   },
   "outputs": [
    {
     "data": {
      "image/png": "[encoded data removed]",
      "text/plain": [
       "<Figure size 432x288 with 1 Axes>"
      ]
     },
     "metadata": {
      "needs_background": "light"
     },
     "output_type": "display_data"
    }
   ],
   "source": [
    "# View all distinct values on a bar chart\n",
    "\n",
    "hotel_reviews['Reviewer_Score'].value_counts().plot(kind='barh')\n",
    "\n",
    "plt.title('Reviewer_Score')\n",
    "plt.xlabel('Count')\n",
    "plt.ylabel('Result')\n",
    "\n",
    "plt.show()"
   ]
  },
  {
   "cell_type": "markdown",
   "id": "a3e17ad0",
   "metadata": {},
   "source": [
    "- Reviewer Score at 2, 3, 4, and 5 are less than 25,000."
   ]
  },
  {
   "cell_type": "code",
   "execution_count": 82,
   "id": "7431d85e",
   "metadata": {},
   "outputs": [
    {
     "data": {
      "text/plain": [
       "10    0.364106\n",
       "8     0.213572\n",
       "9     0.205005\n",
       "7     0.085481\n",
       "6     0.053890\n",
       "5     0.046878\n",
       "4     0.018286\n",
       "3     0.008527\n",
       "2     0.004255\n",
       "Name: Reviewer_Score, dtype: float64"
      ]
     },
     "execution_count": 82,
     "metadata": {},
     "output_type": "execute_result"
    }
   ],
   "source": [
    "# Checking the distribution\n",
    "\n",
    "hotel_reviews['Reviewer_Score'].value_counts(normalize = True)"
   ]
  },
  {
   "cell_type": "markdown",
   "id": "16085be5",
   "metadata": {},
   "source": [
    "- Approximately 36.4% of the records show 10 as the majority of reviewer scores."
   ]
  },
  {
   "cell_type": "code",
   "execution_count": 83,
   "id": "2ef48ec5",
   "metadata": {},
   "outputs": [
    {
     "name": "stderr",
     "output_type": "stream",
     "text": [
      "/var/folders/3r/xt5d5yjn5vj2x8xpx00xsy4c0000gn/T/ipykernel_25423/1580041614.py:3: SettingWithCopyWarning: \n",
      "A value is trying to be set on a copy of a slice from a DataFrame.\n",
      "Try using .loc[row_indexer,col_indexer] = value instead\n",
      "\n",
      "See the caveats in the documentation: https://pandas.pydata.org/pandas-docs/stable/user_guide/indexing.html#returning-a-view-versus-a-copy\n",
      "  hotel_reviews['Reviewer_Score'] = np.where(hotel_reviews['Reviewer_Score'] < 9, 0, 1)\n"
     ]
    }
   ],
   "source": [
    "# Use the np.where to convert\n",
    "\n",
    "hotel_reviews['Reviewer_Score'] = np.where(hotel_reviews['Reviewer_Score'] < 9, 0, 1)"
   ]
  },
  {
   "cell_type": "markdown",
   "id": "5a8c9e14",
   "metadata": {},
   "source": [
    "- 'Reviewer_Score' column is converted to a binary column, where reviews that are <b>below 9 represent 0 ('not good')</b>, and reviews with scores <b>9 and 10 represent 1 ('good')</b>."
   ]
  },
  {
   "cell_type": "code",
   "execution_count": 84,
   "id": "9299d162",
   "metadata": {},
   "outputs": [
    {
     "data": {
      "text/plain": [
       "1    293213\n",
       "0    221999\n",
       "Name: Reviewer_Score, dtype: int64"
      ]
     },
     "execution_count": 84,
     "metadata": {},
     "output_type": "execute_result"
    }
   ],
   "source": [
    "# Check if the column is converted\n",
    "\n",
    "hotel_reviews['Reviewer_Score'].value_counts()"
   ]
  },
  {
   "cell_type": "markdown",
   "id": "50fb2944",
   "metadata": {},
   "source": [
    "- <b>'Reviewer_Score'</b> column is now converted to a <b>binary</b> column."
   ]
  },
  {
   "cell_type": "markdown",
   "id": "deae1d64",
   "metadata": {},
   "source": [
    "#### Convert the columns 'Reviewer_Score' into numeric columns, and drop all non-numeric columns except Positive_Review and Negative_Review"
   ]
  },
  {
   "cell_type": "code",
   "execution_count": 85,
   "id": "a47286e8",
   "metadata": {},
   "outputs": [
    {
     "data": {
      "text/plain": [
       "dtype('int64')"
      ]
     },
     "execution_count": 85,
     "metadata": {},
     "output_type": "execute_result"
    }
   ],
   "source": [
    "# Check the data type of 'Days_Sine_Review' column\n",
    "\n",
    "hotel_reviews['Reviewer_Score'].dtypes"
   ]
  },
  {
   "cell_type": "code",
   "execution_count": 86,
   "id": "1c2b54c4",
   "metadata": {},
   "outputs": [
    {
     "data": {
      "text/plain": [
       "True"
      ]
     },
     "execution_count": 86,
     "metadata": {},
     "output_type": "execute_result"
    }
   ],
   "source": [
    "# Check if the column is numeric\n",
    "\n",
    "is_numeric_dtype(hotel_reviews['Reviewer_Score'])"
   ]
  },
  {
   "cell_type": "markdown",
   "id": "42d32c80",
   "metadata": {},
   "source": [
    "- 'Reviewer_Score' is already a numeric column."
   ]
  },
  {
   "cell_type": "code",
   "execution_count": 87,
   "id": "9d5491dd",
   "metadata": {
    "scrolled": true
   },
   "outputs": [
    {
     "data": {
      "text/plain": [
       "0         0\n",
       "1         0\n",
       "2         0\n",
       "3         0\n",
       "4         0\n",
       "         ..\n",
       "515733    0\n",
       "515734    0\n",
       "515735    0\n",
       "515736    1\n",
       "515737    0\n",
       "Name: Reviewer_Score, Length: 515212, dtype: int64"
      ]
     },
     "execution_count": 87,
     "metadata": {},
     "output_type": "execute_result"
    }
   ],
   "source": [
    "# View the column\n",
    "\n",
    "hotel_reviews['Reviewer_Score']"
   ]
  },
  {
   "cell_type": "markdown",
   "id": "cecbad3c",
   "metadata": {},
   "source": [
    "- This shows that 'Days_Since_Review' is a numeric column."
   ]
  },
  {
   "cell_type": "code",
   "execution_count": 88,
   "id": "40279b01",
   "metadata": {},
   "outputs": [
    {
     "data": {
      "text/plain": [
       "1    293213\n",
       "0    221999\n",
       "Name: Reviewer_Score, dtype: int64"
      ]
     },
     "execution_count": 88,
     "metadata": {},
     "output_type": "execute_result"
    }
   ],
   "source": [
    "hotel_reviews['Reviewer_Score'].value_counts()"
   ]
  },
  {
   "cell_type": "code",
   "execution_count": 89,
   "id": "87d5955b",
   "metadata": {},
   "outputs": [
    {
     "data": {
      "text/plain": [
       "1    0.569111\n",
       "0    0.430889\n",
       "Name: Reviewer_Score, dtype: float64"
      ]
     },
     "execution_count": 89,
     "metadata": {},
     "output_type": "execute_result"
    }
   ],
   "source": [
    "# Checking the distribution\n",
    "\n",
    "hotel_reviews['Reviewer_Score'].value_counts(normalize = True)"
   ]
  },
  {
   "cell_type": "markdown",
   "id": "22c66271",
   "metadata": {},
   "source": [
    "- Now approximately <b>57% represents 'good'</b> while 43% represents 'not good' reviewer score."
   ]
  },
  {
   "cell_type": "code",
   "execution_count": 90,
   "id": "da430159",
   "metadata": {},
   "outputs": [
    {
     "data": {
      "image/png": "[encoded data removed]",
      "text/plain": [
       "<Figure size 432x288 with 1 Axes>"
      ]
     },
     "metadata": {
      "needs_background": "light"
     },
     "output_type": "display_data"
    }
   ],
   "source": [
    "# View all distinct values on a bar chart\n",
    "\n",
    "hotel_reviews['Reviewer_Score'].value_counts().plot(kind='barh')\n",
    "\n",
    "plt.title('Reviewer_Score')\n",
    "plt.xlabel('Count')\n",
    "plt.ylabel('Result')\n",
    "\n",
    "plt.show()"
   ]
  },
  {
   "cell_type": "markdown",
   "id": "f8bc203a",
   "metadata": {},
   "source": [
    "- According to the plot, 1 or 'good' is the majority of 'Reviewer_Score'."
   ]
  },
  {
   "cell_type": "markdown",
   "id": "d8de013c",
   "metadata": {},
   "source": [
    "#### Drop all non-numeric columns except 'Positive_Review' and 'Negative_Review'"
   ]
  },
  {
   "cell_type": "code",
   "execution_count": 91,
   "id": "c6329251",
   "metadata": {},
   "outputs": [
    {
     "data": {
      "text/plain": [
       "['Hotel_Address',\n",
       " 'Hotel_Name',\n",
       " 'Reviewer_Nationality',\n",
       " 'Negative_Review',\n",
       " 'Positive_Review',\n",
       " 'Tags']"
      ]
     },
     "execution_count": 91,
     "metadata": {},
     "output_type": "execute_result"
    }
   ],
   "source": [
    "# View non-numeric columns\n",
    "\n",
    "list(categorical_col)"
   ]
  },
  {
   "cell_type": "code",
   "execution_count": 92,
   "id": "125ab394",
   "metadata": {},
   "outputs": [
    {
     "data": {
      "text/html": [
       "<div>\n",
       "<style scoped>\n",
       "    .dataframe tbody tr th:only-of-type {\n",
       "        vertical-align: middle;\n",
       "    }\n",
       "\n",
       "    .dataframe tbody tr th {\n",
       "        vertical-align: top;\n",
       "    }\n",
       "\n",
       "    .dataframe thead th {\n",
       "        text-align: right;\n",
       "    }\n",
       "</style>\n",
       "<table border=\"1\" class=\"dataframe\">\n",
       "  <thead>\n",
       "    <tr style=\"text-align: right;\">\n",
       "      <th></th>\n",
       "      <th>Hotel_Address</th>\n",
       "      <th>Hotel_Name</th>\n",
       "      <th>Reviewer_Nationality</th>\n",
       "      <th>Negative_Review</th>\n",
       "      <th>Positive_Review</th>\n",
       "      <th>Tags</th>\n",
       "    </tr>\n",
       "  </thead>\n",
       "  <tbody>\n",
       "    <tr>\n",
       "      <th>count</th>\n",
       "      <td>515212</td>\n",
       "      <td>515212</td>\n",
       "      <td>515212</td>\n",
       "      <td>515212</td>\n",
       "      <td>515212</td>\n",
       "      <td>515212</td>\n",
       "    </tr>\n",
       "    <tr>\n",
       "      <th>unique</th>\n",
       "      <td>1493</td>\n",
       "      <td>1492</td>\n",
       "      <td>227</td>\n",
       "      <td>330011</td>\n",
       "      <td>412601</td>\n",
       "      <td>55242</td>\n",
       "    </tr>\n",
       "    <tr>\n",
       "      <th>top</th>\n",
       "      <td>163 Marsh Wall Docklands Tower Hamlets London ...</td>\n",
       "      <td>Britannia International Hotel Canary Wharf</td>\n",
       "      <td>United Kingdom</td>\n",
       "      <td>No Negative</td>\n",
       "      <td>No Positive</td>\n",
       "      <td>[' Leisure trip ', ' Couple ', ' Double Room '...</td>\n",
       "    </tr>\n",
       "    <tr>\n",
       "      <th>freq</th>\n",
       "      <td>4789</td>\n",
       "      <td>4789</td>\n",
       "      <td>245110</td>\n",
       "      <td>127757</td>\n",
       "      <td>35904</td>\n",
       "      <td>5101</td>\n",
       "    </tr>\n",
       "  </tbody>\n",
       "</table>\n",
       "</div>"
      ],
      "text/plain": [
       "                                            Hotel_Address  \\\n",
       "count                                              515212   \n",
       "unique                                               1493   \n",
       "top     163 Marsh Wall Docklands Tower Hamlets London ...   \n",
       "freq                                                 4789   \n",
       "\n",
       "                                        Hotel_Name Reviewer_Nationality  \\\n",
       "count                                       515212               515212   \n",
       "unique                                        1492                  227   \n",
       "top     Britannia International Hotel Canary Wharf      United Kingdom    \n",
       "freq                                          4789               245110   \n",
       "\n",
       "       Negative_Review Positive_Review  \\\n",
       "count           515212          515212   \n",
       "unique          330011          412601   \n",
       "top        No Negative     No Positive   \n",
       "freq            127757           35904   \n",
       "\n",
       "                                                     Tags  \n",
       "count                                              515212  \n",
       "unique                                              55242  \n",
       "top     [' Leisure trip ', ' Couple ', ' Double Room '...  \n",
       "freq                                                 5101  "
      ]
     },
     "execution_count": 92,
     "metadata": {},
     "output_type": "execute_result"
    }
   ],
   "source": [
    "hotel_reviews[categorical_col].describe()"
   ]
  },
  {
   "cell_type": "code",
   "execution_count": 93,
   "id": "1b608dc0",
   "metadata": {},
   "outputs": [
    {
     "data": {
      "text/html": [
       "<div>\n",
       "<style scoped>\n",
       "    .dataframe tbody tr th:only-of-type {\n",
       "        vertical-align: middle;\n",
       "    }\n",
       "\n",
       "    .dataframe tbody tr th {\n",
       "        vertical-align: top;\n",
       "    }\n",
       "\n",
       "    .dataframe thead th {\n",
       "        text-align: right;\n",
       "    }\n",
       "</style>\n",
       "<table border=\"1\" class=\"dataframe\">\n",
       "  <thead>\n",
       "    <tr style=\"text-align: right;\">\n",
       "      <th></th>\n",
       "      <th>Hotel_Address</th>\n",
       "      <th>Hotel_Name</th>\n",
       "      <th>Reviewer_Nationality</th>\n",
       "      <th>Negative_Review</th>\n",
       "      <th>Positive_Review</th>\n",
       "      <th>Tags</th>\n",
       "    </tr>\n",
       "  </thead>\n",
       "  <tbody>\n",
       "    <tr>\n",
       "      <th>0</th>\n",
       "      <td>s Gravesandestraat 55 Oost 1092 AA Amsterdam ...</td>\n",
       "      <td>Hotel Arena</td>\n",
       "      <td>Russia</td>\n",
       "      <td>I am so angry that i made this post available...</td>\n",
       "      <td>Only the park outside of the hotel was beauti...</td>\n",
       "      <td>[' Leisure trip ', ' Couple ', ' Duplex Double...</td>\n",
       "    </tr>\n",
       "    <tr>\n",
       "      <th>1</th>\n",
       "      <td>s Gravesandestraat 55 Oost 1092 AA Amsterdam ...</td>\n",
       "      <td>Hotel Arena</td>\n",
       "      <td>Ireland</td>\n",
       "      <td>No Negative</td>\n",
       "      <td>No real complaints the hotel was great great ...</td>\n",
       "      <td>[' Leisure trip ', ' Couple ', ' Duplex Double...</td>\n",
       "    </tr>\n",
       "    <tr>\n",
       "      <th>2</th>\n",
       "      <td>s Gravesandestraat 55 Oost 1092 AA Amsterdam ...</td>\n",
       "      <td>Hotel Arena</td>\n",
       "      <td>Australia</td>\n",
       "      <td>Rooms are nice but for elderly a bit difficul...</td>\n",
       "      <td>Location was good and staff were ok It is cut...</td>\n",
       "      <td>[' Leisure trip ', ' Family with young childre...</td>\n",
       "    </tr>\n",
       "    <tr>\n",
       "      <th>3</th>\n",
       "      <td>s Gravesandestraat 55 Oost 1092 AA Amsterdam ...</td>\n",
       "      <td>Hotel Arena</td>\n",
       "      <td>United Kingdom</td>\n",
       "      <td>My room was dirty and I was afraid to walk ba...</td>\n",
       "      <td>Great location in nice surroundings the bar a...</td>\n",
       "      <td>[' Leisure trip ', ' Solo traveler ', ' Duplex...</td>\n",
       "    </tr>\n",
       "    <tr>\n",
       "      <th>4</th>\n",
       "      <td>s Gravesandestraat 55 Oost 1092 AA Amsterdam ...</td>\n",
       "      <td>Hotel Arena</td>\n",
       "      <td>New Zealand</td>\n",
       "      <td>You When I booked with your company on line y...</td>\n",
       "      <td>Amazing location and building Romantic setting</td>\n",
       "      <td>[' Leisure trip ', ' Couple ', ' Suite ', ' St...</td>\n",
       "    </tr>\n",
       "  </tbody>\n",
       "</table>\n",
       "</div>"
      ],
      "text/plain": [
       "                                       Hotel_Address   Hotel_Name  \\\n",
       "0   s Gravesandestraat 55 Oost 1092 AA Amsterdam ...  Hotel Arena   \n",
       "1   s Gravesandestraat 55 Oost 1092 AA Amsterdam ...  Hotel Arena   \n",
       "2   s Gravesandestraat 55 Oost 1092 AA Amsterdam ...  Hotel Arena   \n",
       "3   s Gravesandestraat 55 Oost 1092 AA Amsterdam ...  Hotel Arena   \n",
       "4   s Gravesandestraat 55 Oost 1092 AA Amsterdam ...  Hotel Arena   \n",
       "\n",
       "  Reviewer_Nationality                                    Negative_Review  \\\n",
       "0              Russia    I am so angry that i made this post available...   \n",
       "1             Ireland                                         No Negative   \n",
       "2           Australia    Rooms are nice but for elderly a bit difficul...   \n",
       "3      United Kingdom    My room was dirty and I was afraid to walk ba...   \n",
       "4         New Zealand    You When I booked with your company on line y...   \n",
       "\n",
       "                                     Positive_Review  \\\n",
       "0   Only the park outside of the hotel was beauti...   \n",
       "1   No real complaints the hotel was great great ...   \n",
       "2   Location was good and staff were ok It is cut...   \n",
       "3   Great location in nice surroundings the bar a...   \n",
       "4    Amazing location and building Romantic setting    \n",
       "\n",
       "                                                Tags  \n",
       "0  [' Leisure trip ', ' Couple ', ' Duplex Double...  \n",
       "1  [' Leisure trip ', ' Couple ', ' Duplex Double...  \n",
       "2  [' Leisure trip ', ' Family with young childre...  \n",
       "3  [' Leisure trip ', ' Solo traveler ', ' Duplex...  \n",
       "4  [' Leisure trip ', ' Couple ', ' Suite ', ' St...  "
      ]
     },
     "execution_count": 93,
     "metadata": {},
     "output_type": "execute_result"
    }
   ],
   "source": [
    "hotel_reviews[categorical_col].head()"
   ]
  },
  {
   "cell_type": "code",
   "execution_count": 94,
   "id": "e287fda2",
   "metadata": {},
   "outputs": [],
   "source": [
    "# Drop all non-numeric columns except 'Positive_Review' and 'Negative_Review'\n",
    "\n",
    "hotel_reviews = hotel_reviews.drop(columns = ['Hotel_Address',\n",
    "                                              'Hotel_Name',\n",
    "                                              'Reviewer_Nationality',\n",
    "                                              'Tags'])"
   ]
  },
  {
   "cell_type": "code",
   "execution_count": 95,
   "id": "b0e53c77",
   "metadata": {
    "scrolled": false
   },
   "outputs": [
    {
     "data": {
      "text/html": [
       "<div>\n",
       "<style scoped>\n",
       "    .dataframe tbody tr th:only-of-type {\n",
       "        vertical-align: middle;\n",
       "    }\n",
       "\n",
       "    .dataframe tbody tr th {\n",
       "        vertical-align: top;\n",
       "    }\n",
       "\n",
       "    .dataframe thead th {\n",
       "        text-align: right;\n",
       "    }\n",
       "</style>\n",
       "<table border=\"1\" class=\"dataframe\">\n",
       "  <thead>\n",
       "    <tr style=\"text-align: right;\">\n",
       "      <th></th>\n",
       "      <th>Additional_Number_of_Scoring</th>\n",
       "      <th>Review_Date</th>\n",
       "      <th>Average_Score</th>\n",
       "      <th>Negative_Review</th>\n",
       "      <th>Review_Total_Negative_Word_Counts</th>\n",
       "      <th>Total_Number_of_Reviews</th>\n",
       "      <th>Positive_Review</th>\n",
       "      <th>Review_Total_Positive_Word_Counts</th>\n",
       "      <th>Total_Number_of_Reviews_Reviewer_Has_Given</th>\n",
       "      <th>Reviewer_Score</th>\n",
       "      <th>lat</th>\n",
       "      <th>lng</th>\n",
       "      <th>Days_Since_Review</th>\n",
       "    </tr>\n",
       "  </thead>\n",
       "  <tbody>\n",
       "    <tr>\n",
       "      <th>0</th>\n",
       "      <td>194</td>\n",
       "      <td>2017-08-03</td>\n",
       "      <td>7.7</td>\n",
       "      <td>I am so angry that i made this post available...</td>\n",
       "      <td>397</td>\n",
       "      <td>1403</td>\n",
       "      <td>Only the park outside of the hotel was beauti...</td>\n",
       "      <td>11</td>\n",
       "      <td>7</td>\n",
       "      <td>0</td>\n",
       "      <td>52.360576</td>\n",
       "      <td>4.915968</td>\n",
       "      <td>0</td>\n",
       "    </tr>\n",
       "    <tr>\n",
       "      <th>1</th>\n",
       "      <td>194</td>\n",
       "      <td>2017-08-03</td>\n",
       "      <td>7.7</td>\n",
       "      <td>No Negative</td>\n",
       "      <td>0</td>\n",
       "      <td>1403</td>\n",
       "      <td>No real complaints the hotel was great great ...</td>\n",
       "      <td>105</td>\n",
       "      <td>7</td>\n",
       "      <td>0</td>\n",
       "      <td>52.360576</td>\n",
       "      <td>4.915968</td>\n",
       "      <td>0</td>\n",
       "    </tr>\n",
       "    <tr>\n",
       "      <th>2</th>\n",
       "      <td>194</td>\n",
       "      <td>2017-07-31</td>\n",
       "      <td>7.7</td>\n",
       "      <td>Rooms are nice but for elderly a bit difficul...</td>\n",
       "      <td>42</td>\n",
       "      <td>1403</td>\n",
       "      <td>Location was good and staff were ok It is cut...</td>\n",
       "      <td>21</td>\n",
       "      <td>9</td>\n",
       "      <td>0</td>\n",
       "      <td>52.360576</td>\n",
       "      <td>4.915968</td>\n",
       "      <td>3</td>\n",
       "    </tr>\n",
       "    <tr>\n",
       "      <th>3</th>\n",
       "      <td>194</td>\n",
       "      <td>2017-07-31</td>\n",
       "      <td>7.7</td>\n",
       "      <td>My room was dirty and I was afraid to walk ba...</td>\n",
       "      <td>210</td>\n",
       "      <td>1403</td>\n",
       "      <td>Great location in nice surroundings the bar a...</td>\n",
       "      <td>26</td>\n",
       "      <td>1</td>\n",
       "      <td>0</td>\n",
       "      <td>52.360576</td>\n",
       "      <td>4.915968</td>\n",
       "      <td>3</td>\n",
       "    </tr>\n",
       "    <tr>\n",
       "      <th>4</th>\n",
       "      <td>194</td>\n",
       "      <td>2017-07-24</td>\n",
       "      <td>7.7</td>\n",
       "      <td>You When I booked with your company on line y...</td>\n",
       "      <td>140</td>\n",
       "      <td>1403</td>\n",
       "      <td>Amazing location and building Romantic setting</td>\n",
       "      <td>8</td>\n",
       "      <td>3</td>\n",
       "      <td>0</td>\n",
       "      <td>52.360576</td>\n",
       "      <td>4.915968</td>\n",
       "      <td>10</td>\n",
       "    </tr>\n",
       "  </tbody>\n",
       "</table>\n",
       "</div>"
      ],
      "text/plain": [
       "   Additional_Number_of_Scoring Review_Date  Average_Score  \\\n",
       "0                           194  2017-08-03            7.7   \n",
       "1                           194  2017-08-03            7.7   \n",
       "2                           194  2017-07-31            7.7   \n",
       "3                           194  2017-07-31            7.7   \n",
       "4                           194  2017-07-24            7.7   \n",
       "\n",
       "                                     Negative_Review  \\\n",
       "0   I am so angry that i made this post available...   \n",
       "1                                        No Negative   \n",
       "2   Rooms are nice but for elderly a bit difficul...   \n",
       "3   My room was dirty and I was afraid to walk ba...   \n",
       "4   You When I booked with your company on line y...   \n",
       "\n",
       "   Review_Total_Negative_Word_Counts  Total_Number_of_Reviews  \\\n",
       "0                                397                     1403   \n",
       "1                                  0                     1403   \n",
       "2                                 42                     1403   \n",
       "3                                210                     1403   \n",
       "4                                140                     1403   \n",
       "\n",
       "                                     Positive_Review  \\\n",
       "0   Only the park outside of the hotel was beauti...   \n",
       "1   No real complaints the hotel was great great ...   \n",
       "2   Location was good and staff were ok It is cut...   \n",
       "3   Great location in nice surroundings the bar a...   \n",
       "4    Amazing location and building Romantic setting    \n",
       "\n",
       "   Review_Total_Positive_Word_Counts  \\\n",
       "0                                 11   \n",
       "1                                105   \n",
       "2                                 21   \n",
       "3                                 26   \n",
       "4                                  8   \n",
       "\n",
       "   Total_Number_of_Reviews_Reviewer_Has_Given  Reviewer_Score        lat  \\\n",
       "0                                           7               0  52.360576   \n",
       "1                                           7               0  52.360576   \n",
       "2                                           9               0  52.360576   \n",
       "3                                           1               0  52.360576   \n",
       "4                                           3               0  52.360576   \n",
       "\n",
       "        lng  Days_Since_Review  \n",
       "0  4.915968                  0  \n",
       "1  4.915968                  0  \n",
       "2  4.915968                  3  \n",
       "3  4.915968                  3  \n",
       "4  4.915968                 10  "
      ]
     },
     "execution_count": 95,
     "metadata": {},
     "output_type": "execute_result"
    }
   ],
   "source": [
    "# Sanity check\n",
    "\n",
    "hotel_reviews.head()"
   ]
  },
  {
   "cell_type": "code",
   "execution_count": 96,
   "id": "4ef788eb",
   "metadata": {},
   "outputs": [
    {
     "data": {
      "text/plain": [
       "(515212, 13)"
      ]
     },
     "execution_count": 96,
     "metadata": {},
     "output_type": "execute_result"
    }
   ],
   "source": [
    "hotel_reviews.shape"
   ]
  },
  {
   "cell_type": "markdown",
   "id": "8d12cb59",
   "metadata": {},
   "source": [
    "- After dropping all non-numeric columns except 'Positive_Review' and 'Negative_Review', now there are 13 columns in total in the new dataframe."
   ]
  },
  {
   "cell_type": "code",
   "execution_count": 97,
   "id": "53b98ab4",
   "metadata": {},
   "outputs": [
    {
     "name": "stdout",
     "output_type": "stream",
     "text": [
      "Total rows: 515212\n",
      "Total columns: 13\n",
      "Null values: 0\n"
     ]
    }
   ],
   "source": [
    "# basic EDA summary\n",
    "\n",
    "print(f\"Total rows: {hotel_reviews.shape[0]}\")\n",
    "print(f\"Total columns: {hotel_reviews.shape[1]}\")\n",
    "print(f\"Null values: {hotel_reviews.isna().sum().sum()}\")"
   ]
  },
  {
   "cell_type": "markdown",
   "id": "2e46d7c9",
   "metadata": {},
   "source": [
    "#### Split the data into train and test sets"
   ]
  },
  {
   "cell_type": "code",
   "execution_count": 98,
   "id": "9ef760dd",
   "metadata": {},
   "outputs": [],
   "source": [
    "# Split the data into train and test sets\n",
    "X = hotel_reviews[['Positive_Review','Negative_Review']]\n",
    "y = hotel_reviews['Reviewer_Score']\n",
    "\n",
    "X_train, X_test, y_train, y_test = train_test_split(X,\n",
    "                                                    y, \n",
    "                                                    test_size = 0.1, \n",
    "                                                    stratify = y, \n",
    "                                                    random_state = 1)"
   ]
  },
  {
   "cell_type": "markdown",
   "id": "576ce393",
   "metadata": {},
   "source": [
    "- test_size = 0.1: represents 10% of the data\n",
    "- stratify = y: to ensure the same proportion is represented in both the train and test subsets\n",
    "- random_state = 1: ensures to get reproducible results"
   ]
  },
  {
   "cell_type": "code",
   "execution_count": 99,
   "id": "c99d1017",
   "metadata": {},
   "outputs": [
    {
     "data": {
      "text/plain": [
       "(463690, 2)"
      ]
     },
     "execution_count": 99,
     "metadata": {},
     "output_type": "execute_result"
    }
   ],
   "source": [
    "X_train.shape"
   ]
  },
  {
   "cell_type": "markdown",
   "id": "3b0da271",
   "metadata": {},
   "source": [
    "### Use a count vectorizer to combine 'Positive_Review' and 'Negative_Review' with the numeric data"
   ]
  },
  {
   "cell_type": "code",
   "execution_count": 100,
   "id": "daecc84a",
   "metadata": {},
   "outputs": [],
   "source": [
    "# You should vectorize each column separately,\n",
    "# ending up with two sparse matrixes,\n",
    "# and then combine the three matrixes \n",
    "# (numeric data, positive matrix, negative matrix). \n",
    "# You may have to adjust the min_df parameter.\n",
    "\n",
    "from sklearn.feature_extraction.text import CountVectorizer"
   ]
  },
  {
   "cell_type": "markdown",
   "id": "32fa6cc8",
   "metadata": {},
   "source": [
    "#### Vectorize 'Positive_Review'"
   ]
  },
  {
   "cell_type": "code",
   "execution_count": 101,
   "id": "98f7e9ba",
   "metadata": {},
   "outputs": [
    {
     "data": {
      "text/plain": [
       "<515212x13041 sparse matrix of type '<class 'numpy.int64'>'\n",
       "\twith 4380727 stored elements in Compressed Sparse Row format>"
      ]
     },
     "execution_count": 101,
     "metadata": {},
     "output_type": "execute_result"
    }
   ],
   "source": [
    "# 'Positive_Review'\n",
    "\n",
    "# 1. Instantiate \n",
    "pos_vec = CountVectorizer(stop_words = 'english', min_df = 5)\n",
    "\n",
    "# 2. Fit \n",
    "pos_vec.fit(hotel_reviews['Positive_Review'])\n",
    "\n",
    "# 3. Transform\n",
    "pos_transformed = pos_vec.transform(hotel_reviews['Positive_Review'])\n",
    "pos_transformed"
   ]
  },
  {
   "cell_type": "code",
   "execution_count": 102,
   "id": "6e9066f5",
   "metadata": {},
   "outputs": [
    {
     "data": {
      "text/plain": [
       "array(['00', '000', '00am', ..., 'zuid', 'zum', 'zurich'], dtype=object)"
      ]
     },
     "execution_count": 102,
     "metadata": {},
     "output_type": "execute_result"
    }
   ],
   "source": [
    "# These are now the features, they are the individual tokens\n",
    "\n",
    "pos_vec.get_feature_names_out()"
   ]
  },
  {
   "cell_type": "code",
   "execution_count": 103,
   "id": "25f529b6",
   "metadata": {},
   "outputs": [
    {
     "data": {
      "text/plain": [
       "array([[0, 0, 0, ..., 0, 0, 0],\n",
       "       [0, 0, 0, ..., 0, 0, 0],\n",
       "       [0, 0, 0, ..., 0, 0, 0],\n",
       "       ...,\n",
       "       [0, 0, 0, ..., 0, 0, 0],\n",
       "       [0, 0, 0, ..., 0, 0, 0],\n",
       "       [0, 0, 0, ..., 0, 0, 0]])"
      ]
     },
     "execution_count": 103,
     "metadata": {},
     "output_type": "execute_result"
    }
   ],
   "source": [
    "# Convert the sparse matrix into a numpy array\n",
    "\n",
    "pos_transformed.toarray()"
   ]
  },
  {
   "cell_type": "markdown",
   "id": "eb204b98",
   "metadata": {},
   "source": [
    "#### Vectorize 'Negative_Review'"
   ]
  },
  {
   "cell_type": "code",
   "execution_count": 104,
   "id": "d40b5bfb",
   "metadata": {},
   "outputs": [
    {
     "data": {
      "text/plain": [
       "<515212x15157 sparse matrix of type '<class 'numpy.int64'>'\n",
       "\twith 3818868 stored elements in Compressed Sparse Row format>"
      ]
     },
     "execution_count": 104,
     "metadata": {},
     "output_type": "execute_result"
    }
   ],
   "source": [
    "# 'Negative_Review'\n",
    "\n",
    "# 1. Instantiate \n",
    "neg_vec = CountVectorizer(stop_words = 'english', min_df = 5)\n",
    "\n",
    "# 2. Fit \n",
    "neg_vec.fit(hotel_reviews['Negative_Review'])\n",
    "\n",
    "# 3. Transform\n",
    "neg_transformed = neg_vec.transform(hotel_reviews['Negative_Review'])\n",
    "neg_transformed"
   ]
  },
  {
   "cell_type": "code",
   "execution_count": 105,
   "id": "a2f71e3d",
   "metadata": {},
   "outputs": [
    {
     "data": {
      "text/plain": [
       "array(['00', '000', '001', ..., 'zoo', 'zoom', 'zuid'], dtype=object)"
      ]
     },
     "execution_count": 105,
     "metadata": {},
     "output_type": "execute_result"
    }
   ],
   "source": [
    "# These are now the features, they are the individual tokens\n",
    "\n",
    "neg_vec.get_feature_names_out()"
   ]
  },
  {
   "cell_type": "code",
   "execution_count": 106,
   "id": "cab73b1b",
   "metadata": {},
   "outputs": [
    {
     "data": {
      "text/plain": [
       "array([[1, 0, 0, ..., 0, 0, 0],\n",
       "       [0, 0, 0, ..., 0, 0, 0],\n",
       "       [0, 0, 0, ..., 0, 0, 0],\n",
       "       ...,\n",
       "       [0, 0, 0, ..., 0, 0, 0],\n",
       "       [0, 0, 0, ..., 0, 0, 0],\n",
       "       [0, 0, 0, ..., 0, 0, 0]])"
      ]
     },
     "execution_count": 106,
     "metadata": {},
     "output_type": "execute_result"
    }
   ],
   "source": [
    "# Convert the sparse matrix into a numpy array\n",
    "\n",
    "neg_transformed.toarray()"
   ]
  },
  {
   "cell_type": "code",
   "execution_count": 170,
   "id": "1dd8ac72",
   "metadata": {},
   "outputs": [],
   "source": [
    "# Assign 'numeric_data'\n",
    "\n",
    "numeric_data = hotel_reviews[numeric_col]"
   ]
  },
  {
   "cell_type": "code",
   "execution_count": 171,
   "id": "e8c8f6f6",
   "metadata": {
    "scrolled": false
   },
   "outputs": [
    {
     "name": "stdout",
     "output_type": "stream",
     "text": [
      "<class 'pandas.core.frame.DataFrame'>\n",
      "Int64Index: 515212 entries, 0 to 515737\n",
      "Data columns (total 11 columns):\n",
      " #   Column                                      Non-Null Count   Dtype         \n",
      "---  ------                                      --------------   -----         \n",
      " 0   Additional_Number_of_Scoring                515212 non-null  int64         \n",
      " 1   Review_Date                                 515212 non-null  datetime64[ns]\n",
      " 2   Average_Score                               515212 non-null  float64       \n",
      " 3   Review_Total_Negative_Word_Counts           515212 non-null  int64         \n",
      " 4   Total_Number_of_Reviews                     515212 non-null  int64         \n",
      " 5   Review_Total_Positive_Word_Counts           515212 non-null  int64         \n",
      " 6   Total_Number_of_Reviews_Reviewer_Has_Given  515212 non-null  int64         \n",
      " 7   Reviewer_Score                              515212 non-null  int64         \n",
      " 8   lat                                         515212 non-null  float64       \n",
      " 9   lng                                         515212 non-null  float64       \n",
      " 10  Days_Since_Review                           515212 non-null  int64         \n",
      "dtypes: datetime64[ns](1), float64(3), int64(7)\n",
      "memory usage: 63.3 MB\n"
     ]
    }
   ],
   "source": [
    "# Review 'numeric_data' to check the data type of all columns\n",
    "\n",
    "numeric_data.info()"
   ]
  },
  {
   "cell_type": "markdown",
   "id": "b0514199",
   "metadata": {},
   "source": [
    "- Notice that the data type of <b>'Review_Date'</b> is 'datetime64' which could cause an issue when combining the required matrixes (numeric_data, Positive_Review, Negative_Review). Thus, it needs to be removed."
   ]
  },
  {
   "cell_type": "code",
   "execution_count": 174,
   "id": "59199a17",
   "metadata": {},
   "outputs": [],
   "source": [
    "# Drop 'Review_Date'\n",
    "\n",
    "numeric_data = numeric_data.drop(columns = ['Review_Date'], axis = 1)"
   ]
  },
  {
   "cell_type": "code",
   "execution_count": 175,
   "id": "02a39b1f",
   "metadata": {
    "scrolled": true
   },
   "outputs": [
    {
     "name": "stdout",
     "output_type": "stream",
     "text": [
      "<class 'pandas.core.frame.DataFrame'>\n",
      "Int64Index: 515212 entries, 0 to 515737\n",
      "Data columns (total 10 columns):\n",
      " #   Column                                      Non-Null Count   Dtype  \n",
      "---  ------                                      --------------   -----  \n",
      " 0   Additional_Number_of_Scoring                515212 non-null  int64  \n",
      " 1   Average_Score                               515212 non-null  float64\n",
      " 2   Review_Total_Negative_Word_Counts           515212 non-null  int64  \n",
      " 3   Total_Number_of_Reviews                     515212 non-null  int64  \n",
      " 4   Review_Total_Positive_Word_Counts           515212 non-null  int64  \n",
      " 5   Total_Number_of_Reviews_Reviewer_Has_Given  515212 non-null  int64  \n",
      " 6   Reviewer_Score                              515212 non-null  int64  \n",
      " 7   lat                                         515212 non-null  float64\n",
      " 8   lng                                         515212 non-null  float64\n",
      " 9   Days_Since_Review                           515212 non-null  int64  \n",
      "dtypes: float64(3), int64(7)\n",
      "memory usage: 59.4 MB\n"
     ]
    }
   ],
   "source": [
    "# Sanity Check\n",
    "\n",
    "numeric_data.info()"
   ]
  },
  {
   "cell_type": "markdown",
   "id": "fa5a8415",
   "metadata": {},
   "source": [
    "- 'Review_Date' is dropped. The data type of the rest of the columns are either 'int64' or 'float64'."
   ]
  },
  {
   "cell_type": "code",
   "execution_count": 176,
   "id": "bc1d38af",
   "metadata": {},
   "outputs": [
    {
     "data": {
      "text/plain": [
       "<515212x10 sparse matrix of type '<class 'numpy.float64'>'\n",
       "\twith 4765605 stored elements in Compressed Sparse Row format>"
      ]
     },
     "execution_count": 176,
     "metadata": {},
     "output_type": "execute_result"
    }
   ],
   "source": [
    "# Convert the dataframe to a matrix\n",
    "\n",
    "import scipy.sparse\n",
    "\n",
    "numeric_data_matrix = scipy.sparse.csr_matrix(numeric_data.values)\n",
    "\n",
    "numeric_data_matrix"
   ]
  },
  {
   "cell_type": "markdown",
   "id": "9de71f56",
   "metadata": {},
   "source": [
    "#### Check the shape of each matrix to assure they have the same number of dimensions"
   ]
  },
  {
   "cell_type": "code",
   "execution_count": 163,
   "id": "b7cbc1cd",
   "metadata": {},
   "outputs": [
    {
     "data": {
      "text/plain": [
       "(515212, 13041)"
      ]
     },
     "execution_count": 163,
     "metadata": {},
     "output_type": "execute_result"
    }
   ],
   "source": [
    "# Check the shape of 'pos_transformed'\n",
    "\n",
    "pos_transformed.shape"
   ]
  },
  {
   "cell_type": "code",
   "execution_count": 158,
   "id": "139b944a",
   "metadata": {},
   "outputs": [
    {
     "data": {
      "text/plain": [
       "(515212, 15157)"
      ]
     },
     "execution_count": 158,
     "metadata": {},
     "output_type": "execute_result"
    }
   ],
   "source": [
    "# Check the shape of 'neg_transformed'\n",
    "\n",
    "neg_transformed.shape"
   ]
  },
  {
   "cell_type": "code",
   "execution_count": 177,
   "id": "28760e10",
   "metadata": {},
   "outputs": [
    {
     "data": {
      "text/plain": [
       "(515212, 10)"
      ]
     },
     "execution_count": 177,
     "metadata": {},
     "output_type": "execute_result"
    }
   ],
   "source": [
    "# Check the shape of 'numeric_data_matrix'\n",
    "\n",
    "numeric_data_matrix.shape"
   ]
  },
  {
   "cell_type": "markdown",
   "id": "cb499a17",
   "metadata": {},
   "source": [
    "- The three matrixes have the same dimensions."
   ]
  },
  {
   "cell_type": "markdown",
   "id": "ced14290",
   "metadata": {},
   "source": [
    "#### Combine the three matrices (numeric_data_matrix, pos_transformed, neg_transformed) using hstack"
   ]
  },
  {
   "cell_type": "code",
   "execution_count": 178,
   "id": "55515c6f",
   "metadata": {},
   "outputs": [
    {
     "data": {
      "text/plain": [
       "<515212x28208 sparse matrix of type '<class 'numpy.float64'>'\n",
       "\twith 12965200 stored elements in Compressed Sparse Row format>"
      ]
     },
     "execution_count": 178,
     "metadata": {},
     "output_type": "execute_result"
    }
   ],
   "source": [
    "# Combine the three matrices\n",
    "\n",
    "from scipy.sparse import hstack\n",
    "\n",
    "combined_matrix = hstack((numeric_data_matrix, pos_transformed, neg_transformed))\n",
    "\n",
    "combined_matrix"
   ]
  },
  {
   "cell_type": "markdown",
   "id": "fab8a356",
   "metadata": {},
   "source": [
    "- 'combined_matrix' has 515,212 rows and 28,208 columns.\n",
    "- The columns are the combination of the columns of each matrix (the values above: 13041 + 15157 + 10 = 28208) "
   ]
  },
  {
   "cell_type": "markdown",
   "id": "fcf639a5",
   "metadata": {},
   "source": [
    "#### What does the min_df parameter do?\n",
    "\n",
    "- It removes terms that appear too infrequently. It can be a float between zero and one or an integer. If it is a float, the term must appear in at least x% of the documents to be included - for example, min_df of .01 would only include terms that appear in at least 1% of documents. If it is an integer, it is the lowest amount of times the term must appear. For example, min_df = 5 will only include terms appearing in at least 5 documents.\n"
   ]
  }
 ],
 "metadata": {
  "kernelspec": {
   "display_name": "Python [conda env:machine_learning_techniques] *",
   "language": "python",
   "name": "conda-env-machine_learning_techniques-py"
  },
  "language_info": {
   "codemirror_mode": {
    "name": "ipython",
    "version": 3
   },
   "file_extension": ".py",
   "mimetype": "text/x-python",
   "name": "python",
   "nbconvert_exporter": "python",
   "pygments_lexer": "ipython3",
   "version": "3.9.16"
  }
 },
 "nbformat": 4,
 "nbformat_minor": 0
}

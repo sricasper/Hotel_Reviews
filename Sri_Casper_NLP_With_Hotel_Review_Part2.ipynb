{
 "cells": [
  {
   "cell_type": "markdown",
   "id": "49689245",
   "metadata": {},
   "source": [
    "<div id=\"container\" style=\"position:relative;\">\n",
    "<div style=\"float:left\"><h1> NLP with Hotel Review Part 2</h1>\n",
    "</div>\n",
    "<div style=\"position:relative; float:right\">"
   ]
  },
  {
   "cell_type": "markdown",
   "id": "8a44d455",
   "metadata": {},
   "source": [
    "## Sri Casper"
   ]
  },
  {
   "cell_type": "markdown",
   "id": "8ff9e146",
   "metadata": {},
   "source": [
    "## Table of Contents:\n",
    "* [Exploratory Data Analysis](#Exploratory-Data-Analysis)\n",
    "* [Linear Classifier](#Linear-Classifier)\n",
    "* [K-Nearest Neighbour Classifier](#K-Nearest-Neighbour-Classifier)\n",
    "* [Decision Tree Classifier](#Decision-Tree-Classifier)\n",
    "* [Purpose of the Validation Set](#Purpose-of-the-Validation-Set)\n",
    "* [Re-run a Decision Tree or Logistic Regression](#Re-run-a-Decision-Tree-or-Logistic-Regression)\n",
    "* [Create One New Feature](#Create-One-New-Feature)"
   ]
  },
  {
   "cell_type": "markdown",
   "id": "750205d9",
   "metadata": {},
   "source": [
    "## Exploratory Data Analysis"
   ]
  },
  {
   "cell_type": "code",
   "execution_count": 56,
   "id": "45265d25",
   "metadata": {},
   "outputs": [],
   "source": [
    "# Import libraries\n",
    "\n",
    "import pandas as pd\n",
    "import numpy as np\n",
    "import matplotlib.pyplot as plt\n",
    "%matplotlib inline\n",
    "import seaborn as sns\n",
    "\n",
    "from sklearn.model_selection import train_test_split\n",
    "from sklearn.preprocessing import MinMaxScaler\n",
    "from sklearn.preprocessing import StandardScaler\n",
    "from sklearn.preprocessing import RobustScaler\n",
    "from sklearn.linear_model import LogisticRegression\n",
    "from sklearn.neighbors import KNeighborsClassifier\n",
    "from sklearn.tree import DecisionTreeClassifier\n",
    "from sklearn.metrics import confusion_matrix, recall_score, precision_score, f1_score, roc_curve, roc_auc_score, precision_recall_curve, average_precision_score, auc\n",
    "\n",
    "from imblearn.over_sampling import SMOTE\n",
    "\n",
    "import statsmodels.api as sm\n",
    "\n",
    "import warnings\n",
    "warnings.filterwarnings('ignore')"
   ]
  },
  {
   "cell_type": "code",
   "execution_count": 2,
   "id": "94e5e70c",
   "metadata": {},
   "outputs": [],
   "source": [
    "# Get the data from .csv files\n",
    "# Assign the file to 'test_df' and 'train_df'\n",
    "\n",
    "test_df = pd.read_csv('clean_data/clean_test_dataframe.csv')\n",
    "train_df = pd.read_csv('clean_data/clean_train_dataframe.csv')"
   ]
  },
  {
   "cell_type": "code",
   "execution_count": 3,
   "id": "a27d8e85",
   "metadata": {},
   "outputs": [
    {
     "data": {
      "text/plain": [
       "(4267, 2744)"
      ]
     },
     "execution_count": 3,
     "metadata": {},
     "output_type": "execute_result"
    }
   ],
   "source": [
    "# Shape of 'test_df' dataframe\n",
    "\n",
    "test_df.shape"
   ]
  },
  {
   "cell_type": "code",
   "execution_count": 4,
   "id": "2eae1585",
   "metadata": {},
   "outputs": [
    {
     "data": {
      "text/plain": [
       "(12798, 2744)"
      ]
     },
     "execution_count": 4,
     "metadata": {},
     "output_type": "execute_result"
    }
   ],
   "source": [
    "# Shape of 'train_df' dataframe\n",
    "\n",
    "train_df.shape"
   ]
  },
  {
   "cell_type": "code",
   "execution_count": 5,
   "id": "2d5f52bd",
   "metadata": {},
   "outputs": [
    {
     "name": "stdout",
     "output_type": "stream",
     "text": [
      "There are 4267 rows and 2744 columns in 'test_df'.\n",
      "There are 12798 rows and 2744 columns in 'train_df'.\n"
     ]
    }
   ],
   "source": [
    "# Print out rows and columns of the dataframes\n",
    "\n",
    "print(f\"There are {test_df.shape[0]} rows and {test_df.shape[1]} columns in 'test_df'.\")\n",
    "print(f\"There are {train_df.shape[0]} rows and {train_df.shape[1]} columns in 'train_df'.\")"
   ]
  },
  {
   "cell_type": "code",
   "execution_count": 6,
   "id": "11f936bd",
   "metadata": {},
   "outputs": [
    {
     "name": "stdout",
     "output_type": "stream",
     "text": [
      "<class 'pandas.core.frame.DataFrame'>\n",
      "RangeIndex: 4267 entries, 0 to 4266\n",
      "Columns: 2744 entries, Additional_Number_of_Scoring to rating\n",
      "dtypes: float64(3), int64(2741)\n",
      "memory usage: 89.3 MB\n"
     ]
    }
   ],
   "source": [
    "# See a quick summary of each column, the datatypes\n",
    "\n",
    "test_df.info()"
   ]
  },
  {
   "cell_type": "code",
   "execution_count": 7,
   "id": "ac0b17e4",
   "metadata": {},
   "outputs": [
    {
     "name": "stdout",
     "output_type": "stream",
     "text": [
      "<class 'pandas.core.frame.DataFrame'>\n",
      "RangeIndex: 12798 entries, 0 to 12797\n",
      "Columns: 2744 entries, Additional_Number_of_Scoring to rating\n",
      "dtypes: float64(3), int64(2741)\n",
      "memory usage: 267.9 MB\n"
     ]
    }
   ],
   "source": [
    "# See a quick summary of each column, the datatypes\n",
    "\n",
    "train_df.info()"
   ]
  },
  {
   "cell_type": "markdown",
   "id": "e45f0ce8",
   "metadata": {},
   "source": [
    "- There are two kinds of data types in both dataframes including <b>3 columns of 'float64' and 2741 'int64'</b>."
   ]
  },
  {
   "cell_type": "code",
   "execution_count": 8,
   "id": "78a7659b",
   "metadata": {},
   "outputs": [
    {
     "data": {
      "text/html": [
       "<div>\n",
       "<style scoped>\n",
       "    .dataframe tbody tr th:only-of-type {\n",
       "        vertical-align: middle;\n",
       "    }\n",
       "\n",
       "    .dataframe tbody tr th {\n",
       "        vertical-align: top;\n",
       "    }\n",
       "\n",
       "    .dataframe thead th {\n",
       "        text-align: right;\n",
       "    }\n",
       "</style>\n",
       "<table border=\"1\" class=\"dataframe\">\n",
       "  <thead>\n",
       "    <tr style=\"text-align: right;\">\n",
       "      <th></th>\n",
       "      <th>Additional_Number_of_Scoring</th>\n",
       "      <th>Average_Score</th>\n",
       "      <th>Review_Total_Negative_Word_Counts</th>\n",
       "      <th>Total_Number_of_Reviews</th>\n",
       "      <th>Review_Total_Positive_Word_Counts</th>\n",
       "      <th>Total_Number_of_Reviews_Reviewer_Has_Given</th>\n",
       "      <th>days_since_review</th>\n",
       "      <th>lat</th>\n",
       "      <th>lng</th>\n",
       "      <th>weekday_of_review</th>\n",
       "      <th>...</th>\n",
       "      <th>n_worry</th>\n",
       "      <th>n_worth</th>\n",
       "      <th>n_would</th>\n",
       "      <th>n_write</th>\n",
       "      <th>n_wrong</th>\n",
       "      <th>n_year</th>\n",
       "      <th>n_yes</th>\n",
       "      <th>n_yet</th>\n",
       "      <th>n_young</th>\n",
       "      <th>rating</th>\n",
       "    </tr>\n",
       "  </thead>\n",
       "  <tbody>\n",
       "    <tr>\n",
       "      <th>0</th>\n",
       "      <td>1005</td>\n",
       "      <td>8.3</td>\n",
       "      <td>0</td>\n",
       "      <td>3469</td>\n",
       "      <td>6</td>\n",
       "      <td>2</td>\n",
       "      <td>297</td>\n",
       "      <td>51.559096</td>\n",
       "      <td>-0.284704</td>\n",
       "      <td>0</td>\n",
       "      <td>...</td>\n",
       "      <td>0</td>\n",
       "      <td>0</td>\n",
       "      <td>0</td>\n",
       "      <td>0</td>\n",
       "      <td>0</td>\n",
       "      <td>0</td>\n",
       "      <td>0</td>\n",
       "      <td>0</td>\n",
       "      <td>0</td>\n",
       "      <td>0</td>\n",
       "    </tr>\n",
       "    <tr>\n",
       "      <th>1</th>\n",
       "      <td>487</td>\n",
       "      <td>8.8</td>\n",
       "      <td>46</td>\n",
       "      <td>1805</td>\n",
       "      <td>121</td>\n",
       "      <td>1</td>\n",
       "      <td>4</td>\n",
       "      <td>51.474469</td>\n",
       "      <td>-0.019428</td>\n",
       "      <td>6</td>\n",
       "      <td>...</td>\n",
       "      <td>0</td>\n",
       "      <td>0</td>\n",
       "      <td>0</td>\n",
       "      <td>0</td>\n",
       "      <td>0</td>\n",
       "      <td>0</td>\n",
       "      <td>0</td>\n",
       "      <td>0</td>\n",
       "      <td>0</td>\n",
       "      <td>1</td>\n",
       "    </tr>\n",
       "    <tr>\n",
       "      <th>2</th>\n",
       "      <td>570</td>\n",
       "      <td>9.3</td>\n",
       "      <td>0</td>\n",
       "      <td>2319</td>\n",
       "      <td>9</td>\n",
       "      <td>1</td>\n",
       "      <td>590</td>\n",
       "      <td>51.505696</td>\n",
       "      <td>-0.101525</td>\n",
       "      <td>1</td>\n",
       "      <td>...</td>\n",
       "      <td>0</td>\n",
       "      <td>0</td>\n",
       "      <td>0</td>\n",
       "      <td>0</td>\n",
       "      <td>0</td>\n",
       "      <td>0</td>\n",
       "      <td>0</td>\n",
       "      <td>0</td>\n",
       "      <td>0</td>\n",
       "      <td>1</td>\n",
       "    </tr>\n",
       "    <tr>\n",
       "      <th>3</th>\n",
       "      <td>2623</td>\n",
       "      <td>8.7</td>\n",
       "      <td>19</td>\n",
       "      <td>12158</td>\n",
       "      <td>0</td>\n",
       "      <td>2</td>\n",
       "      <td>269</td>\n",
       "      <td>51.500961</td>\n",
       "      <td>-0.116591</td>\n",
       "      <td>0</td>\n",
       "      <td>...</td>\n",
       "      <td>0</td>\n",
       "      <td>0</td>\n",
       "      <td>0</td>\n",
       "      <td>0</td>\n",
       "      <td>0</td>\n",
       "      <td>0</td>\n",
       "      <td>0</td>\n",
       "      <td>0</td>\n",
       "      <td>0</td>\n",
       "      <td>0</td>\n",
       "    </tr>\n",
       "    <tr>\n",
       "      <th>4</th>\n",
       "      <td>365</td>\n",
       "      <td>8.1</td>\n",
       "      <td>13</td>\n",
       "      <td>1567</td>\n",
       "      <td>0</td>\n",
       "      <td>2</td>\n",
       "      <td>373</td>\n",
       "      <td>51.515125</td>\n",
       "      <td>-0.160066</td>\n",
       "      <td>1</td>\n",
       "      <td>...</td>\n",
       "      <td>0</td>\n",
       "      <td>0</td>\n",
       "      <td>0</td>\n",
       "      <td>0</td>\n",
       "      <td>0</td>\n",
       "      <td>0</td>\n",
       "      <td>0</td>\n",
       "      <td>0</td>\n",
       "      <td>0</td>\n",
       "      <td>0</td>\n",
       "    </tr>\n",
       "  </tbody>\n",
       "</table>\n",
       "<p>5 rows × 2744 columns</p>\n",
       "</div>"
      ],
      "text/plain": [
       "   Additional_Number_of_Scoring  Average_Score  \\\n",
       "0                          1005            8.3   \n",
       "1                           487            8.8   \n",
       "2                           570            9.3   \n",
       "3                          2623            8.7   \n",
       "4                           365            8.1   \n",
       "\n",
       "   Review_Total_Negative_Word_Counts  Total_Number_of_Reviews  \\\n",
       "0                                  0                     3469   \n",
       "1                                 46                     1805   \n",
       "2                                  0                     2319   \n",
       "3                                 19                    12158   \n",
       "4                                 13                     1567   \n",
       "\n",
       "   Review_Total_Positive_Word_Counts  \\\n",
       "0                                  6   \n",
       "1                                121   \n",
       "2                                  9   \n",
       "3                                  0   \n",
       "4                                  0   \n",
       "\n",
       "   Total_Number_of_Reviews_Reviewer_Has_Given  days_since_review        lat  \\\n",
       "0                                           2                297  51.559096   \n",
       "1                                           1                  4  51.474469   \n",
       "2                                           1                590  51.505696   \n",
       "3                                           2                269  51.500961   \n",
       "4                                           2                373  51.515125   \n",
       "\n",
       "        lng  weekday_of_review  ...  n_worry  n_worth  n_would  n_write  \\\n",
       "0 -0.284704                  0  ...        0        0        0        0   \n",
       "1 -0.019428                  6  ...        0        0        0        0   \n",
       "2 -0.101525                  1  ...        0        0        0        0   \n",
       "3 -0.116591                  0  ...        0        0        0        0   \n",
       "4 -0.160066                  1  ...        0        0        0        0   \n",
       "\n",
       "   n_wrong  n_year  n_yes  n_yet  n_young  rating  \n",
       "0        0       0      0      0        0       0  \n",
       "1        0       0      0      0        0       1  \n",
       "2        0       0      0      0        0       1  \n",
       "3        0       0      0      0        0       0  \n",
       "4        0       0      0      0        0       0  \n",
       "\n",
       "[5 rows x 2744 columns]"
      ]
     },
     "execution_count": 8,
     "metadata": {},
     "output_type": "execute_result"
    }
   ],
   "source": [
    "# Check the data (head)\n",
    "\n",
    "test_df.head()"
   ]
  },
  {
   "cell_type": "code",
   "execution_count": 9,
   "id": "ca821b8f",
   "metadata": {},
   "outputs": [
    {
     "data": {
      "text/html": [
       "<div>\n",
       "<style scoped>\n",
       "    .dataframe tbody tr th:only-of-type {\n",
       "        vertical-align: middle;\n",
       "    }\n",
       "\n",
       "    .dataframe tbody tr th {\n",
       "        vertical-align: top;\n",
       "    }\n",
       "\n",
       "    .dataframe thead th {\n",
       "        text-align: right;\n",
       "    }\n",
       "</style>\n",
       "<table border=\"1\" class=\"dataframe\">\n",
       "  <thead>\n",
       "    <tr style=\"text-align: right;\">\n",
       "      <th></th>\n",
       "      <th>Additional_Number_of_Scoring</th>\n",
       "      <th>Average_Score</th>\n",
       "      <th>Review_Total_Negative_Word_Counts</th>\n",
       "      <th>Total_Number_of_Reviews</th>\n",
       "      <th>Review_Total_Positive_Word_Counts</th>\n",
       "      <th>Total_Number_of_Reviews_Reviewer_Has_Given</th>\n",
       "      <th>days_since_review</th>\n",
       "      <th>lat</th>\n",
       "      <th>lng</th>\n",
       "      <th>weekday_of_review</th>\n",
       "      <th>...</th>\n",
       "      <th>n_worry</th>\n",
       "      <th>n_worth</th>\n",
       "      <th>n_would</th>\n",
       "      <th>n_write</th>\n",
       "      <th>n_wrong</th>\n",
       "      <th>n_year</th>\n",
       "      <th>n_yes</th>\n",
       "      <th>n_yet</th>\n",
       "      <th>n_young</th>\n",
       "      <th>rating</th>\n",
       "    </tr>\n",
       "  </thead>\n",
       "  <tbody>\n",
       "    <tr>\n",
       "      <th>0</th>\n",
       "      <td>620</td>\n",
       "      <td>9.0</td>\n",
       "      <td>0</td>\n",
       "      <td>1974</td>\n",
       "      <td>164</td>\n",
       "      <td>1</td>\n",
       "      <td>562</td>\n",
       "      <td>51.506558</td>\n",
       "      <td>-0.004514</td>\n",
       "      <td>1</td>\n",
       "      <td>...</td>\n",
       "      <td>0</td>\n",
       "      <td>0</td>\n",
       "      <td>0</td>\n",
       "      <td>0</td>\n",
       "      <td>0</td>\n",
       "      <td>0</td>\n",
       "      <td>0</td>\n",
       "      <td>0</td>\n",
       "      <td>0</td>\n",
       "      <td>1</td>\n",
       "    </tr>\n",
       "    <tr>\n",
       "      <th>1</th>\n",
       "      <td>1258</td>\n",
       "      <td>9.4</td>\n",
       "      <td>6</td>\n",
       "      <td>4204</td>\n",
       "      <td>4</td>\n",
       "      <td>5</td>\n",
       "      <td>276</td>\n",
       "      <td>51.502435</td>\n",
       "      <td>-0.000250</td>\n",
       "      <td>0</td>\n",
       "      <td>...</td>\n",
       "      <td>0</td>\n",
       "      <td>0</td>\n",
       "      <td>0</td>\n",
       "      <td>0</td>\n",
       "      <td>0</td>\n",
       "      <td>0</td>\n",
       "      <td>0</td>\n",
       "      <td>0</td>\n",
       "      <td>0</td>\n",
       "      <td>1</td>\n",
       "    </tr>\n",
       "    <tr>\n",
       "      <th>2</th>\n",
       "      <td>995</td>\n",
       "      <td>8.1</td>\n",
       "      <td>2</td>\n",
       "      <td>3826</td>\n",
       "      <td>38</td>\n",
       "      <td>1</td>\n",
       "      <td>129</td>\n",
       "      <td>51.504348</td>\n",
       "      <td>-0.033444</td>\n",
       "      <td>0</td>\n",
       "      <td>...</td>\n",
       "      <td>0</td>\n",
       "      <td>0</td>\n",
       "      <td>0</td>\n",
       "      <td>0</td>\n",
       "      <td>0</td>\n",
       "      <td>0</td>\n",
       "      <td>0</td>\n",
       "      <td>0</td>\n",
       "      <td>0</td>\n",
       "      <td>1</td>\n",
       "    </tr>\n",
       "    <tr>\n",
       "      <th>3</th>\n",
       "      <td>853</td>\n",
       "      <td>8.4</td>\n",
       "      <td>7</td>\n",
       "      <td>2726</td>\n",
       "      <td>10</td>\n",
       "      <td>10</td>\n",
       "      <td>164</td>\n",
       "      <td>51.507377</td>\n",
       "      <td>0.038657</td>\n",
       "      <td>0</td>\n",
       "      <td>...</td>\n",
       "      <td>0</td>\n",
       "      <td>0</td>\n",
       "      <td>0</td>\n",
       "      <td>0</td>\n",
       "      <td>0</td>\n",
       "      <td>0</td>\n",
       "      <td>0</td>\n",
       "      <td>0</td>\n",
       "      <td>0</td>\n",
       "      <td>0</td>\n",
       "    </tr>\n",
       "    <tr>\n",
       "      <th>4</th>\n",
       "      <td>1243</td>\n",
       "      <td>8.1</td>\n",
       "      <td>11</td>\n",
       "      <td>6608</td>\n",
       "      <td>8</td>\n",
       "      <td>69</td>\n",
       "      <td>639</td>\n",
       "      <td>51.513556</td>\n",
       "      <td>-0.180002</td>\n",
       "      <td>1</td>\n",
       "      <td>...</td>\n",
       "      <td>0</td>\n",
       "      <td>0</td>\n",
       "      <td>0</td>\n",
       "      <td>0</td>\n",
       "      <td>0</td>\n",
       "      <td>0</td>\n",
       "      <td>0</td>\n",
       "      <td>0</td>\n",
       "      <td>0</td>\n",
       "      <td>0</td>\n",
       "    </tr>\n",
       "  </tbody>\n",
       "</table>\n",
       "<p>5 rows × 2744 columns</p>\n",
       "</div>"
      ],
      "text/plain": [
       "   Additional_Number_of_Scoring  Average_Score  \\\n",
       "0                           620            9.0   \n",
       "1                          1258            9.4   \n",
       "2                           995            8.1   \n",
       "3                           853            8.4   \n",
       "4                          1243            8.1   \n",
       "\n",
       "   Review_Total_Negative_Word_Counts  Total_Number_of_Reviews  \\\n",
       "0                                  0                     1974   \n",
       "1                                  6                     4204   \n",
       "2                                  2                     3826   \n",
       "3                                  7                     2726   \n",
       "4                                 11                     6608   \n",
       "\n",
       "   Review_Total_Positive_Word_Counts  \\\n",
       "0                                164   \n",
       "1                                  4   \n",
       "2                                 38   \n",
       "3                                 10   \n",
       "4                                  8   \n",
       "\n",
       "   Total_Number_of_Reviews_Reviewer_Has_Given  days_since_review        lat  \\\n",
       "0                                           1                562  51.506558   \n",
       "1                                           5                276  51.502435   \n",
       "2                                           1                129  51.504348   \n",
       "3                                          10                164  51.507377   \n",
       "4                                          69                639  51.513556   \n",
       "\n",
       "        lng  weekday_of_review  ...  n_worry  n_worth  n_would  n_write  \\\n",
       "0 -0.004514                  1  ...        0        0        0        0   \n",
       "1 -0.000250                  0  ...        0        0        0        0   \n",
       "2 -0.033444                  0  ...        0        0        0        0   \n",
       "3  0.038657                  0  ...        0        0        0        0   \n",
       "4 -0.180002                  1  ...        0        0        0        0   \n",
       "\n",
       "   n_wrong  n_year  n_yes  n_yet  n_young  rating  \n",
       "0        0       0      0      0        0       1  \n",
       "1        0       0      0      0        0       1  \n",
       "2        0       0      0      0        0       1  \n",
       "3        0       0      0      0        0       0  \n",
       "4        0       0      0      0        0       0  \n",
       "\n",
       "[5 rows x 2744 columns]"
      ]
     },
     "execution_count": 9,
     "metadata": {},
     "output_type": "execute_result"
    }
   ],
   "source": [
    "# Check the data (head)\n",
    "\n",
    "train_df.head()"
   ]
  },
  {
   "cell_type": "markdown",
   "id": "27cfccc1",
   "metadata": {},
   "source": [
    "- These two dataframes have the same amount of columns."
   ]
  },
  {
   "cell_type": "code",
   "execution_count": 10,
   "id": "f9a52cbb",
   "metadata": {},
   "outputs": [
    {
     "data": {
      "text/plain": [
       "33.34114705422722"
      ]
     },
     "execution_count": 10,
     "metadata": {},
     "output_type": "execute_result"
    }
   ],
   "source": [
    "(test_df.shape[0]/train_df.shape[0])*100"
   ]
  },
  {
   "cell_type": "markdown",
   "id": "c2b9c888",
   "metadata": {},
   "source": [
    "- The records (rows) in test_df are 33% of the records in train_df."
   ]
  },
  {
   "cell_type": "code",
   "execution_count": 11,
   "id": "0ae75d30",
   "metadata": {},
   "outputs": [
    {
     "data": {
      "text/plain": [
       "0"
      ]
     },
     "execution_count": 11,
     "metadata": {},
     "output_type": "execute_result"
    }
   ],
   "source": [
    "# Check if there is any duplicate\n",
    "\n",
    "test_df.duplicated().sum()"
   ]
  },
  {
   "cell_type": "code",
   "execution_count": 12,
   "id": "8d9b79c4",
   "metadata": {},
   "outputs": [
    {
     "data": {
      "text/plain": [
       "0"
      ]
     },
     "execution_count": 12,
     "metadata": {},
     "output_type": "execute_result"
    }
   ],
   "source": [
    "# Check if there is any duplicate\n",
    "\n",
    "train_df.duplicated().sum()"
   ]
  },
  {
   "cell_type": "markdown",
   "id": "0fcd2d01",
   "metadata": {},
   "source": [
    "- There is no duplicate in both dataframes."
   ]
  },
  {
   "cell_type": "code",
   "execution_count": 13,
   "id": "988ace79",
   "metadata": {},
   "outputs": [
    {
     "data": {
      "text/plain": [
       "Additional_Number_of_Scoring         0\n",
       "Average_Score                        0\n",
       "Review_Total_Negative_Word_Counts    0\n",
       "Total_Number_of_Reviews              0\n",
       "Review_Total_Positive_Word_Counts    0\n",
       "                                    ..\n",
       "n_year                               0\n",
       "n_yes                                0\n",
       "n_yet                                0\n",
       "n_young                              0\n",
       "rating                               0\n",
       "Length: 2744, dtype: int64"
      ]
     },
     "execution_count": 13,
     "metadata": {},
     "output_type": "execute_result"
    }
   ],
   "source": [
    "test_df.isna().sum()"
   ]
  },
  {
   "cell_type": "code",
   "execution_count": 14,
   "id": "73a0f6ba",
   "metadata": {},
   "outputs": [
    {
     "data": {
      "text/plain": [
       "Additional_Number_of_Scoring         0\n",
       "Average_Score                        0\n",
       "Review_Total_Negative_Word_Counts    0\n",
       "Total_Number_of_Reviews              0\n",
       "Review_Total_Positive_Word_Counts    0\n",
       "                                    ..\n",
       "n_year                               0\n",
       "n_yes                                0\n",
       "n_yet                                0\n",
       "n_young                              0\n",
       "rating                               0\n",
       "Length: 2744, dtype: int64"
      ]
     },
     "execution_count": 14,
     "metadata": {},
     "output_type": "execute_result"
    }
   ],
   "source": [
    "train_df.isna().sum()"
   ]
  },
  {
   "cell_type": "markdown",
   "id": "5c03ddcb",
   "metadata": {},
   "source": [
    "- There is no missing value in both dataframes."
   ]
  },
  {
   "cell_type": "code",
   "execution_count": 15,
   "id": "f9e052de",
   "metadata": {},
   "outputs": [
    {
     "name": "stdout",
     "output_type": "stream",
     "text": [
      "Total rows: 4267\n",
      "Total columns: 2744\n",
      "Null values: 0\n"
     ]
    }
   ],
   "source": [
    "# Basic EDA summary for test_df\n",
    "\n",
    "print(f\"Total rows: {test_df.shape[0]}\")\n",
    "print(f\"Total columns: {test_df.shape[1]}\")\n",
    "print(f\"Null values: {test_df.isna().sum().sum()}\")"
   ]
  },
  {
   "cell_type": "code",
   "execution_count": 16,
   "id": "ffd9735b",
   "metadata": {},
   "outputs": [
    {
     "name": "stdout",
     "output_type": "stream",
     "text": [
      "Total rows: 12798\n",
      "Total columns: 2744\n",
      "Null values: 0\n"
     ]
    }
   ],
   "source": [
    "# Basic EDA summary for train_df\n",
    "\n",
    "print(f\"Total rows: {train_df.shape[0]}\")\n",
    "print(f\"Total columns: {train_df.shape[1]}\")\n",
    "print(f\"Null values: {train_df.isna().sum().sum()}\")"
   ]
  },
  {
   "cell_type": "code",
   "execution_count": 17,
   "id": "402ded87",
   "metadata": {},
   "outputs": [
    {
     "data": {
      "text/plain": [
       "1    7373\n",
       "0    5425\n",
       "Name: rating, dtype: int64"
      ]
     },
     "execution_count": 17,
     "metadata": {},
     "output_type": "execute_result"
    }
   ],
   "source": [
    "# Check target distribution\n",
    "\n",
    "train_df['rating'].value_counts()"
   ]
  },
  {
   "cell_type": "code",
   "execution_count": 18,
   "id": "36ded837",
   "metadata": {},
   "outputs": [
    {
     "data": {
      "text/plain": [
       "1    0.576106\n",
       "0    0.423894\n",
       "Name: rating, dtype: float64"
      ]
     },
     "execution_count": 18,
     "metadata": {},
     "output_type": "execute_result"
    }
   ],
   "source": [
    "# Check target distribution\n",
    "\n",
    "train_df['rating'].value_counts(normalize=True)"
   ]
  },
  {
   "cell_type": "markdown",
   "id": "d435f50c",
   "metadata": {},
   "source": [
    "- There is slightly imbalance in the target class distribution since there is approximately <b>58% of 'good'</b> ratings (1) and <b>42% of 'bad'</b> ratings (0)."
   ]
  },
  {
   "cell_type": "markdown",
   "id": "dd9cb72c",
   "metadata": {},
   "source": [
    "## Linear Classifier"
   ]
  },
  {
   "cell_type": "markdown",
   "id": "256534f7",
   "metadata": {},
   "source": [
    "#### Train-test split"
   ]
  },
  {
   "cell_type": "markdown",
   "id": "b78e9035",
   "metadata": {},
   "source": [
    "`rating` is the target in this case, and split the data into a train and test set allow us to make a base model. "
   ]
  },
  {
   "cell_type": "code",
   "execution_count": 105,
   "id": "5e1addfd",
   "metadata": {},
   "outputs": [],
   "source": [
    "# Assign X and y to 'test_df' dataset\n",
    "\n",
    "# Independent variables\n",
    "# All columns but 'rating'\n",
    "X_test = test_df.drop(columns = ['rating'], axis = 1)\n",
    "\n",
    "# Dependent variable\n",
    "y_test = test_df['rating']"
   ]
  },
  {
   "cell_type": "code",
   "execution_count": 106,
   "id": "67c5cb3f",
   "metadata": {},
   "outputs": [],
   "source": [
    "# Assign X and y to 'train_df' dataset\n",
    "\n",
    "# Independent variables\n",
    "# All columns but 'rating'\n",
    "X_train = train_df.drop(columns = ['rating'], axis = 1)\n",
    "\n",
    "# Dependent variable\n",
    "y_train = train_df['rating']"
   ]
  },
  {
   "cell_type": "code",
   "execution_count": 21,
   "id": "f311a132",
   "metadata": {
    "scrolled": true
   },
   "outputs": [
    {
     "name": "stdout",
     "output_type": "stream",
     "text": [
      "The absolute class distribution is: \n",
      "1    7373\n",
      "0    5425\n",
      "Name: rating, dtype: int64\n",
      "\n",
      "The relative (%) class distribution is: \n",
      "1    57.610564\n",
      "0    42.389436\n",
      "Name: rating, dtype: float64\n"
     ]
    }
   ],
   "source": [
    "print('The absolute class distribution is:', f'\\n{y_train.value_counts()}')\n",
    "print(f'\\nThe relative (%) class distribution is: \\n{y_train.value_counts(normalize=True)*100}')"
   ]
  },
  {
   "cell_type": "code",
   "execution_count": 22,
   "id": "5b2fe51c",
   "metadata": {
    "scrolled": true
   },
   "outputs": [
    {
     "name": "stdout",
     "output_type": "stream",
     "text": [
      "Subset dimensions:\n",
      "X_train: (12798, 2743)\n",
      "y_train: (12798,)\n"
     ]
    }
   ],
   "source": [
    "# Check the shapes\n",
    "\n",
    "print(\"Subset dimensions:\")\n",
    "print(f\"X_train: {X_train.shape}\")\n",
    "print(f\"y_train: {y_train.shape}\")"
   ]
  },
  {
   "cell_type": "code",
   "execution_count": 23,
   "id": "f32f1d38",
   "metadata": {},
   "outputs": [
    {
     "data": {
      "text/plain": [
       "array([0, 1])"
      ]
     },
     "execution_count": 23,
     "metadata": {},
     "output_type": "execute_result"
    }
   ],
   "source": [
    "# checking binary target (in numpy)\n",
    "\n",
    "np.unique(y_train)"
   ]
  },
  {
   "cell_type": "markdown",
   "id": "ab729560",
   "metadata": {},
   "source": [
    "#### Fit a logisitic regression model to this data with the solver set to `lbfgs`"
   ]
  },
  {
   "cell_type": "code",
   "execution_count": 24,
   "id": "a1b316a2",
   "metadata": {},
   "outputs": [
    {
     "name": "stdout",
     "output_type": "stream",
     "text": [
      "Accuracy score on the train set: 0.7238631036099391\n",
      "Accuracy score on the test set: 0.7176001874853527\n"
     ]
    }
   ],
   "source": [
    "# Fit a log_reg model with solver='lbfgs'\n",
    "\n",
    "log_reg1 = LogisticRegression(solver='lbfgs') \n",
    "\n",
    "log_reg1.fit(X_train, y_train)\n",
    "\n",
    "print(f\"Accuracy score on the train set: {log_reg1.score(X_train, y_train)}\")\n",
    "print(f\"Accuracy score on the test set: {log_reg1.score(X_test, y_test)}\")"
   ]
  },
  {
   "cell_type": "code",
   "execution_count": 25,
   "id": "a9026a56",
   "metadata": {},
   "outputs": [
    {
     "name": "stdout",
     "output_type": "stream",
     "text": [
      "Accuracy score on the train set: 0.7223003594311611\n",
      "Accuracy score on the test set: 0.720881181157722\n"
     ]
    }
   ],
   "source": [
    "# Fit a log_reg model with C, penalty, and solver\n",
    "# Penalized logistic regression imposes a penalty to the logistic model for having too many variables.\n",
    "# This results in shrinking the coefficients of the less contributive variables toward zero.\n",
    "# This is also known as regularization.\n",
    "\n",
    "log_reg2 = LogisticRegression(C=0.1, penalty='l2', solver='lbfgs') \n",
    "\n",
    "log_reg2.fit(X_train, y_train)\n",
    "\n",
    "print(f\"Accuracy score on the train set: {log_reg2.score(X_train, y_train)}\")\n",
    "print(f\"Accuracy score on the test set: {log_reg2.score(X_test, y_test)}\")"
   ]
  },
  {
   "cell_type": "markdown",
   "id": "cdf6905f",
   "metadata": {},
   "source": [
    "#### Evaluate the performance of the models"
   ]
  },
  {
   "cell_type": "code",
   "execution_count": 26,
   "id": "66e2e3c9",
   "metadata": {},
   "outputs": [
    {
     "data": {
      "text/plain": [
       "array([[ 4.74461478e-04,  7.79814309e-02, -4.69763660e-02, ...,\n",
       "         5.36798594e-04, -4.25580088e-06,  2.86932300e-04]])"
      ]
     },
     "execution_count": 26,
     "metadata": {},
     "output_type": "execute_result"
    }
   ],
   "source": [
    "log_reg1.coef_"
   ]
  },
  {
   "cell_type": "code",
   "execution_count": 27,
   "id": "4fade963",
   "metadata": {},
   "outputs": [],
   "source": [
    "# remember we fit our model on X_withconstant\n",
    "model_predictions_prob = log_reg1.predict(X_train)\n",
    "\n",
    "# getting the binary predictions\n",
    "model_predictions_binary = np.where(model_predictions_prob>0.5,1,0) #50%"
   ]
  },
  {
   "cell_type": "code",
   "execution_count": 28,
   "id": "4f422875",
   "metadata": {},
   "outputs": [
    {
     "data": {
      "text/plain": [
       "array([1, 1, 1, ..., 1, 0, 1])"
      ]
     },
     "execution_count": 28,
     "metadata": {},
     "output_type": "execute_result"
    }
   ],
   "source": [
    "model_predictions_prob"
   ]
  },
  {
   "cell_type": "code",
   "execution_count": 29,
   "id": "c831429c",
   "metadata": {},
   "outputs": [
    {
     "data": {
      "text/plain": [
       "array([1, 1, 1, ..., 1, 0, 1])"
      ]
     },
     "execution_count": 29,
     "metadata": {},
     "output_type": "execute_result"
    }
   ],
   "source": [
    "model_predictions_binary"
   ]
  },
  {
   "cell_type": "code",
   "execution_count": 30,
   "id": "43f9aec1",
   "metadata": {},
   "outputs": [
    {
     "data": {
      "text/plain": [
       "9264"
      ]
     },
     "execution_count": 30,
     "metadata": {},
     "output_type": "execute_result"
    }
   ],
   "source": [
    "# comparing true and predicted \n",
    "\n",
    "(model_predictions_binary == train_df['rating']).sum() #True = 1"
   ]
  },
  {
   "cell_type": "code",
   "execution_count": 31,
   "id": "a1f5ffde",
   "metadata": {},
   "outputs": [
    {
     "data": {
      "text/plain": [
       "7373"
      ]
     },
     "execution_count": 31,
     "metadata": {},
     "output_type": "execute_result"
    }
   ],
   "source": [
    "train_df['rating'].sum()"
   ]
  },
  {
   "cell_type": "code",
   "execution_count": 32,
   "id": "aa0cf6ac",
   "metadata": {},
   "outputs": [
    {
     "data": {
      "text/plain": [
       "12798"
      ]
     },
     "execution_count": 32,
     "metadata": {},
     "output_type": "execute_result"
    }
   ],
   "source": [
    "# how many data points in total?\n",
    "len(train_df['rating'])"
   ]
  },
  {
   "cell_type": "markdown",
   "id": "0bfb2bf4",
   "metadata": {},
   "source": [
    "#### What are the 20 words most predictive of a good review (from the positive review column)? What are the 20 words most predictive with a bad review (from the negative review column)? Use the regression coefficients to answer this question"
   ]
  },
  {
   "cell_type": "code",
   "execution_count": 33,
   "id": "79136005",
   "metadata": {},
   "outputs": [],
   "source": [
    "from sklearn.feature_extraction.text import CountVectorizer\n",
    "\n",
    "# Instantiate\n",
    "bagofwords = CountVectorizer(stop_words=\"english\")\n",
    "\n",
    "# Fit the model\n",
    "bagofwords.fit(X_train)\n",
    "\n",
    "# Transform\n",
    "X_train_transformed = bagofwords.transform(X_train) \n",
    "X_test_transformed = bagofwords.transform(X_test) "
   ]
  },
  {
   "cell_type": "code",
   "execution_count": 34,
   "id": "127fdba6",
   "metadata": {},
   "outputs": [
    {
     "data": {
      "text/plain": [
       "(2743, 2801)"
      ]
     },
     "execution_count": 34,
     "metadata": {},
     "output_type": "execute_result"
    }
   ],
   "source": [
    "# Shape of X_train_transformed\n",
    "\n",
    "X_train_transformed.shape"
   ]
  },
  {
   "cell_type": "code",
   "execution_count": 35,
   "id": "3d46aa53",
   "metadata": {
    "scrolled": false
   },
   "outputs": [
    {
     "data": {
      "image/png": "[encoded data removed]",
      "text/plain": [
       "<Figure size 1080x360 with 1 Axes>"
      ]
     },
     "metadata": {
      "needs_background": "light"
     },
     "output_type": "display_data"
    }
   ],
   "source": [
    "# Top 20 most frequently occurring words\n",
    "\n",
    "word_counts = pd.DataFrame(\n",
    "    {\"counts\": X_train_transformed.toarray().sum(axis=0)},\n",
    "    index=bagofwords.get_feature_names_out()\n",
    ").sort_values(\"counts\", ascending=False)\n",
    "\n",
    "word_counts.head(20).plot(kind=\"bar\", figsize=(15, 5), legend=False)\n",
    "plt.title(\"Top 20 most frequently occurring words\")\n",
    "plt.ylabel(\"Count\")\n",
    "plt.xticks(rotation=45)\n",
    "plt.show()"
   ]
  },
  {
   "cell_type": "markdown",
   "id": "2cc2edad",
   "metadata": {},
   "source": [
    "- <b>'hotel', 'london', and 'hotel_name_the'</b> are the top 3 most frequently occuring words."
   ]
  },
  {
   "cell_type": "markdown",
   "id": "d3c6cfc3",
   "metadata": {},
   "source": [
    "####  Find the 20 words most predictive of a good review (from the positive review column) using Regression Coefficients"
   ]
  },
  {
   "cell_type": "code",
   "execution_count": 42,
   "id": "da479ef2",
   "metadata": {},
   "outputs": [
    {
     "data": {
      "text/plain": [
       "['p_',\n",
       " 'p_02',\n",
       " 'p_1',\n",
       " 'p_10',\n",
       " 'p_100',\n",
       " 'p_11',\n",
       " 'p_12',\n",
       " 'p_15',\n",
       " 'p_1st',\n",
       " 'p_2',\n",
       " 'p_20',\n",
       " 'p_24',\n",
       " 'p_2nd',\n",
       " 'p_3',\n",
       " 'p_30',\n",
       " 'p_4',\n",
       " 'p_5',\n",
       " 'p_50',\n",
       " 'p_6',\n",
       " 'p_7',\n",
       " 'p_8',\n",
       " 'p_able',\n",
       " 'p_absolutely',\n",
       " 'p_access',\n",
       " 'p_accessible',\n",
       " 'p_accommodate',\n",
       " 'p_accommodation',\n",
       " 'p_across',\n",
       " 'p_actually',\n",
       " 'p_add',\n",
       " 'p_adequate',\n",
       " 'p_afternoon',\n",
       " 'p_air',\n",
       " 'p_aircon',\n",
       " 'p_airport',\n",
       " 'p_airy',\n",
       " 'p_albert',\n",
       " 'p_allocate',\n",
       " 'p_allow',\n",
       " 'p_almost',\n",
       " 'p_along',\n",
       " 'p_already',\n",
       " 'p_also',\n",
       " 'p_although',\n",
       " 'p_always',\n",
       " 'p_amaze',\n",
       " 'p_amazingly',\n",
       " 'p_ambiance',\n",
       " 'p_ambience',\n",
       " 'p_amenity',\n",
       " 'p_anniversary',\n",
       " 'p_another',\n",
       " 'p_anyone',\n",
       " 'p_anything',\n",
       " 'p_anywhere',\n",
       " 'p_apart',\n",
       " 'p_apartment',\n",
       " 'p_apollo',\n",
       " 'p_apologetic',\n",
       " 'p_appear',\n",
       " 'p_appoint',\n",
       " 'p_appreciate',\n",
       " 'p_approachable',\n",
       " 'p_area',\n",
       " 'p_arena',\n",
       " 'p_around',\n",
       " 'p_arrange',\n",
       " 'p_arrival',\n",
       " 'p_arrive',\n",
       " 'p_ask',\n",
       " 'p_aspect',\n",
       " 'p_atmosphere',\n",
       " 'p_attend',\n",
       " 'p_attention',\n",
       " 'p_attentive',\n",
       " 'p_attitude',\n",
       " 'p_attraction',\n",
       " 'p_attractive',\n",
       " 'p_available',\n",
       " 'p_away',\n",
       " 'p_awesome',\n",
       " 'p_awful',\n",
       " 'p_baby',\n",
       " 'p_back',\n",
       " 'p_bad',\n",
       " 'p_bag',\n",
       " 'p_balcony',\n",
       " 'p_balloon',\n",
       " 'p_bank',\n",
       " 'p_bar',\n",
       " 'p_barbican',\n",
       " 'p_base',\n",
       " 'p_basement',\n",
       " 'p_basic',\n",
       " 'p_bath',\n",
       " 'p_bathroom',\n",
       " 'p_beautiful',\n",
       " 'p_beautifully',\n",
       " 'p_bed',\n",
       " 'p_bedroom',\n",
       " 'p_behind',\n",
       " 'p_believe',\n",
       " 'p_ben',\n",
       " 'p_best',\n",
       " 'p_beyond',\n",
       " 'p_big',\n",
       " 'p_birthday',\n",
       " 'p_biscuit',\n",
       " 'p_bite',\n",
       " 'p_black',\n",
       " 'p_blind',\n",
       " 'p_board',\n",
       " 'p_boat',\n",
       " 'p_bonus',\n",
       " 'p_book',\n",
       " 'p_bottle',\n",
       " 'p_boutique',\n",
       " 'p_box',\n",
       " 'p_boyfriend',\n",
       " 'p_brand',\n",
       " 'p_break',\n",
       " 'p_breakfast',\n",
       " 'p_bridge',\n",
       " 'p_bright',\n",
       " 'p_brilliant',\n",
       " 'p_bring',\n",
       " 'p_british',\n",
       " 'p_buckingham',\n",
       " 'p_buffet',\n",
       " 'p_build',\n",
       " 'p_bus',\n",
       " 'p_business',\n",
       " 'p_busy',\n",
       " 'p_buy',\n",
       " 'p_cafe',\n",
       " 'p_cake',\n",
       " 'p_call',\n",
       " 'p_calm',\n",
       " 'p_camden',\n",
       " 'p_canary',\n",
       " 'p_cannot',\n",
       " 'p_car',\n",
       " 'p_card',\n",
       " 'p_care',\n",
       " 'p_case',\n",
       " 'p_cater',\n",
       " 'p_celebrate',\n",
       " 'p_celebration',\n",
       " 'p_central',\n",
       " 'p_centrally',\n",
       " 'p_centre',\n",
       " 'p_certainly',\n",
       " 'p_champagne',\n",
       " 'p_change',\n",
       " 'p_character',\n",
       " 'p_charge',\n",
       " 'p_charm',\n",
       " 'p_cheap',\n",
       " 'p_check',\n",
       " 'p_checkin',\n",
       " 'p_checkout',\n",
       " 'p_cheerful',\n",
       " 'p_chef',\n",
       " 'p_child',\n",
       " 'p_chill',\n",
       " 'p_chocolate',\n",
       " 'p_choice',\n",
       " 'p_choose',\n",
       " 'p_christmas',\n",
       " 'p_city',\n",
       " 'p_class',\n",
       " 'p_classy',\n",
       " 'p_clean',\n",
       " 'p_cleanliness',\n",
       " 'p_clear',\n",
       " 'p_close',\n",
       " 'p_closeness',\n",
       " 'p_club',\n",
       " 'p_cocktail',\n",
       " 'p_coffee',\n",
       " 'p_cold',\n",
       " 'p_com',\n",
       " 'p_come',\n",
       " 'p_comfort',\n",
       " 'p_comfortable',\n",
       " 'p_comfy',\n",
       " 'p_comment',\n",
       " 'p_common',\n",
       " 'p_communal',\n",
       " 'p_compact',\n",
       " 'p_company',\n",
       " 'p_compare',\n",
       " 'p_complain',\n",
       " 'p_complaint',\n",
       " 'p_complementary',\n",
       " 'p_complete',\n",
       " 'p_complimentary',\n",
       " 'p_con',\n",
       " 'p_concert',\n",
       " 'p_concierge',\n",
       " 'p_condition',\n",
       " 'p_connect',\n",
       " 'p_consider',\n",
       " 'p_contact',\n",
       " 'p_contemporary',\n",
       " 'p_continental',\n",
       " 'p_control',\n",
       " 'p_convenience',\n",
       " 'p_convenient',\n",
       " 'p_conveniently',\n",
       " 'p_cook',\n",
       " 'p_cookie',\n",
       " 'p_cooky',\n",
       " 'p_cool',\n",
       " 'p_cor',\n",
       " 'p_corner',\n",
       " 'p_corridor',\n",
       " 'p_cost',\n",
       " 'p_cosy',\n",
       " 'p_could',\n",
       " 'p_couldnt',\n",
       " 'p_couple',\n",
       " 'p_course',\n",
       " 'p_court',\n",
       " 'p_courteous',\n",
       " 'p_courtesy',\n",
       " 'p_courtyard',\n",
       " 'p_covent',\n",
       " 'p_credit',\n",
       " 'p_croissant',\n",
       " 'p_cross',\n",
       " 'p_curtain',\n",
       " 'p_customer',\n",
       " 'p_date',\n",
       " 'p_daughter',\n",
       " 'p_day',\n",
       " 'p_deal',\n",
       " 'p_decent',\n",
       " 'p_decor',\n",
       " 'p_decorate',\n",
       " 'p_decoration',\n",
       " 'p_definately',\n",
       " 'p_definitely',\n",
       " 'p_delicious',\n",
       " 'p_delight',\n",
       " 'p_delightful',\n",
       " 'p_deliver',\n",
       " 'p_deluxe',\n",
       " 'p_departure',\n",
       " 'p_design',\n",
       " 'p_desk',\n",
       " 'p_despite',\n",
       " 'p_detail',\n",
       " 'p_didnt',\n",
       " 'p_different',\n",
       " 'p_din',\n",
       " 'p_dinner',\n",
       " 'p_direct',\n",
       " 'p_direction',\n",
       " 'p_disable',\n",
       " 'p_disappoint',\n",
       " 'p_distance',\n",
       " 'p_dlr',\n",
       " 'p_do',\n",
       " 'p_dock',\n",
       " 'p_door',\n",
       " 'p_doorman',\n",
       " 'p_doorstep',\n",
       " 'p_double',\n",
       " 'p_downstairs',\n",
       " 'p_dress',\n",
       " 'p_drink',\n",
       " 'p_drop',\n",
       " 'p_dry',\n",
       " 'p_due',\n",
       " 'p_duty',\n",
       " 'p_duvet',\n",
       " 'p_e',\n",
       " 'p_earl',\n",
       " 'p_early',\n",
       " 'p_ease',\n",
       " 'p_easily',\n",
       " 'p_easy',\n",
       " 'p_eat',\n",
       " 'p_eatery',\n",
       " 'p_efficient',\n",
       " 'p_effort',\n",
       " 'p_egg',\n",
       " 'p_either',\n",
       " 'p_elemi',\n",
       " 'p_else',\n",
       " 'p_en',\n",
       " 'p_end',\n",
       " 'p_english',\n",
       " 'p_enjoy',\n",
       " 'p_enjoyable',\n",
       " 'p_enough',\n",
       " 'p_ensure',\n",
       " 'p_enter',\n",
       " 'p_entrance',\n",
       " 'p_environment',\n",
       " 'p_equip',\n",
       " 'p_especially',\n",
       " 'p_etc',\n",
       " 'p_eurostar',\n",
       " 'p_euston',\n",
       " 'p_even',\n",
       " 'p_event',\n",
       " 'p_ever',\n",
       " 'p_every',\n",
       " 'p_everyone',\n",
       " 'p_everything',\n",
       " 'p_everywhere',\n",
       " 'p_exactly',\n",
       " 'p_exceed',\n",
       " 'p_excel',\n",
       " 'p_excellent',\n",
       " 'p_except',\n",
       " 'p_exceptional',\n",
       " 'p_exceptionally',\n",
       " 'p_executive',\n",
       " 'p_expect',\n",
       " 'p_expectation',\n",
       " 'p_expensive',\n",
       " 'p_experience',\n",
       " 'p_explore',\n",
       " 'p_express',\n",
       " 'p_extra',\n",
       " 'p_extremely',\n",
       " 'p_eye',\n",
       " 'p_fab',\n",
       " 'p_fabulous',\n",
       " 'p_face',\n",
       " 'p_facility',\n",
       " 'p_fact',\n",
       " 'p_fairly',\n",
       " 'p_family',\n",
       " 'p_fan',\n",
       " 'p_fantastic',\n",
       " 'p_far',\n",
       " 'p_fast',\n",
       " 'p_fault',\n",
       " 'p_faultless',\n",
       " 'p_favourite',\n",
       " 'p_feature',\n",
       " 'p_feel',\n",
       " 'p_felt',\n",
       " 'p_ferry',\n",
       " 'p_fi',\n",
       " 'p_fill',\n",
       " 'p_find',\n",
       " 'p_fine',\n",
       " 'p_finish',\n",
       " 'p_fire',\n",
       " 'p_firm',\n",
       " 'p_first',\n",
       " 'p_fit',\n",
       " 'p_fitting',\n",
       " 'p_five',\n",
       " 'p_floor',\n",
       " 'p_flower',\n",
       " 'p_fluffy',\n",
       " 'p_follow',\n",
       " 'p_food',\n",
       " 'p_foot',\n",
       " 'p_forget',\n",
       " 'p_forward',\n",
       " 'p_four',\n",
       " 'p_foyer',\n",
       " 'p_free',\n",
       " 'p_fresh',\n",
       " 'p_freshly',\n",
       " 'p_fridge',\n",
       " 'p_friend',\n",
       " 'p_friendliness',\n",
       " 'p_friendly',\n",
       " 'p_front',\n",
       " 'p_fruit',\n",
       " 'p_full',\n",
       " 'p_fun',\n",
       " 'p_functional',\n",
       " 'p_funky',\n",
       " 'p_furnish',\n",
       " 'p_furniture',\n",
       " 'p_fuss',\n",
       " 'p_future',\n",
       " 'p_garden',\n",
       " 'p_gate',\n",
       " 'p_gem',\n",
       " 'p_general',\n",
       " 'p_generally',\n",
       " 'p_generous',\n",
       " 'p_gentleman',\n",
       " 'p_gesture',\n",
       " 'p_get',\n",
       " 'p_gift',\n",
       " 'p_girl',\n",
       " 'p_girlfriend',\n",
       " 'p_give',\n",
       " 'p_glass',\n",
       " 'p_gloucester',\n",
       " 'p_go',\n",
       " 'p_good',\n",
       " 'p_gorgeous',\n",
       " 'p_grand',\n",
       " 'p_great',\n",
       " 'p_greenwich',\n",
       " 'p_greet',\n",
       " 'p_grind',\n",
       " 'p_group',\n",
       " 'p_guest',\n",
       " 'p_gym',\n",
       " 'p_hair',\n",
       " 'p_hairdryer',\n",
       " 'p_half',\n",
       " 'p_hall',\n",
       " 'p_hammersmith',\n",
       " 'p_hand',\n",
       " 'p_handy',\n",
       " 'p_hang',\n",
       " 'p_happy',\n",
       " 'p_hard',\n",
       " 'p_head',\n",
       " 'p_hear',\n",
       " 'p_heart',\n",
       " 'p_heat',\n",
       " 'p_help',\n",
       " 'p_helpful',\n",
       " 'p_helpfull',\n",
       " 'p_helpfulness',\n",
       " 'p_hesitate',\n",
       " 'p_high',\n",
       " 'p_highly',\n",
       " 'p_hill',\n",
       " 'p_hilton',\n",
       " 'p_history',\n",
       " 'p_holborn',\n",
       " 'p_hold',\n",
       " 'p_holiday',\n",
       " 'p_home',\n",
       " 'p_hospitality',\n",
       " 'p_hot',\n",
       " 'p_hotel',\n",
       " 'p_hour',\n",
       " 'p_house',\n",
       " 'p_housekeep',\n",
       " 'p_however',\n",
       " 'p_huge',\n",
       " 'p_husband',\n",
       " 'p_hyde',\n",
       " 'p_ice',\n",
       " 'p_idea',\n",
       " 'p_ideal',\n",
       " 'p_ideally',\n",
       " 'p_immaculate',\n",
       " 'p_immaculately',\n",
       " 'p_immediately',\n",
       " 'p_impeccable',\n",
       " 'p_important',\n",
       " 'p_impress',\n",
       " 'p_impression',\n",
       " 'p_impressive',\n",
       " 'p_include',\n",
       " 'p_incredible',\n",
       " 'p_incredibly',\n",
       " 'p_indeed',\n",
       " 'p_information',\n",
       " 'p_informative',\n",
       " 'p_inn',\n",
       " 'p_inside',\n",
       " 'p_interest',\n",
       " 'p_interior',\n",
       " 'p_internet',\n",
       " 'p_ipad',\n",
       " 'p_iron',\n",
       " 'p_issue',\n",
       " 'p_item',\n",
       " 'p_jacuzzi',\n",
       " 'p_job',\n",
       " 'p_journey',\n",
       " 'p_juice',\n",
       " 'p_junior',\n",
       " 'p_keep',\n",
       " 'p_kensington',\n",
       " 'p_kettle',\n",
       " 'p_kid',\n",
       " 'p_kind',\n",
       " 'p_kindly',\n",
       " 'p_king',\n",
       " 'p_kitchen',\n",
       " 'p_kitchenette',\n",
       " 'p_know',\n",
       " 'p_knowledgeable',\n",
       " 'p_lack',\n",
       " 'p_lady',\n",
       " 'p_lancaster',\n",
       " 'p_large',\n",
       " 'p_last',\n",
       " 'p_late',\n",
       " 'p_lay',\n",
       " 'p_layout',\n",
       " 'p_le',\n",
       " 'p_leave',\n",
       " 'p_leicester',\n",
       " 'p_leisure',\n",
       " 'p_let',\n",
       " 'p_level',\n",
       " 'p_lift',\n",
       " 'p_light',\n",
       " 'p_like',\n",
       " 'p_limit',\n",
       " 'p_line',\n",
       " 'p_linen',\n",
       " 'p_link',\n",
       " 'p_literally',\n",
       " 'p_little',\n",
       " 'p_live',\n",
       " 'p_lively',\n",
       " 'p_load',\n",
       " 'p_lobby',\n",
       " 'p_local',\n",
       " 'p_locate',\n",
       " 'p_location',\n",
       " 'p_london',\n",
       " 'p_long',\n",
       " 'p_look',\n",
       " 'p_lot',\n",
       " 'p_lounge',\n",
       " 'p_love',\n",
       " 'p_lovely',\n",
       " 'p_low',\n",
       " 'p_luggage',\n",
       " 'p_lunch',\n",
       " 'p_luxurious',\n",
       " 'p_luxury',\n",
       " 'p_machine',\n",
       " 'p_main',\n",
       " 'p_maintain',\n",
       " 'p_major',\n",
       " 'p_make',\n",
       " 'p_man',\n",
       " 'p_manage',\n",
       " 'p_management',\n",
       " 'p_manager',\n",
       " 'p_many',\n",
       " 'p_marathon',\n",
       " 'p_marble',\n",
       " 'p_mark',\n",
       " 'p_market',\n",
       " 'p_marylebone',\n",
       " 'p_massive',\n",
       " 'p_mattress',\n",
       " 'p_may',\n",
       " 'p_maybe',\n",
       " 'p_meal',\n",
       " 'p_mean',\n",
       " 'p_meet',\n",
       " 'p_member',\n",
       " 'p_memorable',\n",
       " 'p_mention',\n",
       " 'p_menu',\n",
       " 'p_microwave',\n",
       " 'p_middle',\n",
       " 'p_mile',\n",
       " 'p_milk',\n",
       " 'p_min',\n",
       " 'p_mini',\n",
       " 'p_minibar',\n",
       " 'p_minute',\n",
       " 'p_mirror',\n",
       " 'p_miss',\n",
       " 'p_mobile',\n",
       " 'p_modern',\n",
       " 'p_moment',\n",
       " 'p_money',\n",
       " 'p_mood',\n",
       " 'p_morning',\n",
       " 'p_mostly',\n",
       " 'p_move',\n",
       " 'p_movie',\n",
       " 'p_much',\n",
       " 'p_mum',\n",
       " 'p_museum',\n",
       " 'p_music',\n",
       " 'p_must',\n",
       " 'p_name',\n",
       " 'p_natural',\n",
       " 'p_near',\n",
       " 'p_nearby',\n",
       " 'p_need',\n",
       " 'p_nespresso',\n",
       " 'p_never',\n",
       " 'p_new',\n",
       " 'p_newly',\n",
       " 'p_newspaper',\n",
       " 'p_next',\n",
       " 'p_nice',\n",
       " 'p_nicely',\n",
       " 'p_night',\n",
       " 'p_noise',\n",
       " 'p_noisy',\n",
       " 'p_none',\n",
       " 'p_normal',\n",
       " 'p_note',\n",
       " 'p_nothing',\n",
       " 'p_notting',\n",
       " 'p_number',\n",
       " 'p_o2',\n",
       " 'p_occasion',\n",
       " 'p_offer',\n",
       " 'p_ok',\n",
       " 'p_old',\n",
       " 'p_olympia',\n",
       " 'p_olympic',\n",
       " 'p_one',\n",
       " 'p_open',\n",
       " 'p_opposite',\n",
       " 'p_option',\n",
       " 'p_order',\n",
       " 'p_organise',\n",
       " 'p_others',\n",
       " 'p_outlet',\n",
       " 'p_outside',\n",
       " 'p_outstanding',\n",
       " 'p_overall',\n",
       " 'p_overlook',\n",
       " 'p_overnight',\n",
       " 'p_oxford',\n",
       " 'p_paddington',\n",
       " 'p_palace',\n",
       " 'p_pancras',\n",
       " 'p_pantry',\n",
       " 'p_park',\n",
       " 'p_part',\n",
       " 'p_particular',\n",
       " 'p_particularly',\n",
       " 'p_partner',\n",
       " 'p_party',\n",
       " 'p_past',\n",
       " 'p_pastry',\n",
       " 'p_paul',\n",
       " 'p_pay',\n",
       " 'p_peaceful',\n",
       " 'p_people',\n",
       " 'p_per',\n",
       " 'p_perfect',\n",
       " 'p_perfectly',\n",
       " 'p_person',\n",
       " 'p_personal',\n",
       " 'p_petal',\n",
       " 'p_phone',\n",
       " 'p_picture',\n",
       " 'p_pillow',\n",
       " 'p_place',\n",
       " 'p_plan',\n",
       " 'p_plate',\n",
       " 'p_plaza',\n",
       " 'p_pleasant',\n",
       " 'p_pleasantly',\n",
       " 'p_please',\n",
       " 'p_pleasure',\n",
       " 'p_plentiful',\n",
       " 'p_plenty',\n",
       " 'p_plug',\n",
       " 'p_plus',\n",
       " 'p_point',\n",
       " 'p_polite',\n",
       " 'p_pool',\n",
       " 'p_poor',\n",
       " 'p_porter',\n",
       " 'p_position',\n",
       " 'p_positive',\n",
       " 'p_possible',\n",
       " 'p_poster',\n",
       " 'p_powerful',\n",
       " 'p_pre',\n",
       " 'p_prefer',\n",
       " 'p_prepare',\n",
       " 'p_present',\n",
       " 'p_pretty',\n",
       " 'p_previously',\n",
       " 'p_price',\n",
       " 'p_pricey',\n",
       " 'p_private',\n",
       " 'p_problem',\n",
       " 'p_product',\n",
       " 'p_professional',\n",
       " 'p_prompt',\n",
       " 'p_property',\n",
       " 'p_prosecco',\n",
       " 'p_provide',\n",
       " 'p_proximity',\n",
       " 'p_pub',\n",
       " 'p_public',\n",
       " 'p_purpose',\n",
       " 'p_put',\n",
       " 'p_quality',\n",
       " 'p_queen',\n",
       " 'p_quick',\n",
       " 'p_quickly',\n",
       " 'p_quiet',\n",
       " 'p_quietness',\n",
       " 'p_quirky',\n",
       " 'p_quite',\n",
       " 'p_radio',\n",
       " 'p_rail',\n",
       " 'p_range',\n",
       " 'p_rat',\n",
       " 'p_rate',\n",
       " 'p_rather',\n",
       " 'p_reach',\n",
       " 'p_read',\n",
       " 'p_ready',\n",
       " 'p_real',\n",
       " 'p_realise',\n",
       " 'p_really',\n",
       " 'p_reason',\n",
       " 'p_reasonable',\n",
       " 'p_reasonably',\n",
       " 'p_receive',\n",
       " 'p_recently',\n",
       " 'p_reception',\n",
       " 'p_receptionist',\n",
       " 'p_recommend',\n",
       " 'p_refurbish',\n",
       " 'p_regent',\n",
       " 'p_regularly',\n",
       " 'p_relatively',\n",
       " 'p_relax',\n",
       " 'p_request',\n",
       " 'p_require',\n",
       " 'p_rest',\n",
       " 'p_restaurant',\n",
       " 'p_return',\n",
       " 'p_review',\n",
       " 'p_ride',\n",
       " 'p_right',\n",
       " 'p_ring',\n",
       " 'p_rise',\n",
       " 'p_river',\n",
       " 'p_road',\n",
       " 'p_rob',\n",
       " 'p_roof',\n",
       " 'p_rooftop',\n",
       " 'p_room',\n",
       " 'p_roomy',\n",
       " 'p_round',\n",
       " 'p_rout',\n",
       " 'p_royal',\n",
       " 'p_run',\n",
       " 'p_safe',\n",
       " 'p_saturday',\n",
       " 'p_sauna',\n",
       " 'p_sausage',\n",
       " 'p_say',\n",
       " 'p_screen',\n",
       " 'p_seat',\n",
       " 'p_second',\n",
       " 'p_secure',\n",
       " 'p_security',\n",
       " 'p_see',\n",
       " 'p_seem',\n",
       " 'p_selection',\n",
       " 'p_send',\n",
       " 'p_separate',\n",
       " 'p_serve',\n",
       " 'p_service',\n",
       " 'p_set',\n",
       " 'p_several',\n",
       " 'p_shame',\n",
       " 'p_shard',\n",
       " 'p_sheet',\n",
       " 'p_shop',\n",
       " 'p_short',\n",
       " 'p_show',\n",
       " 'p_shower',\n",
       " 'p_shuttle',\n",
       " 'p_side',\n",
       " 'p_sight',\n",
       " 'p_sightsee',\n",
       " 'p_simple',\n",
       " 'p_simply',\n",
       " 'p_since',\n",
       " 'p_single',\n",
       " 'p_sink',\n",
       " 'p_sister',\n",
       " 'p_sit',\n",
       " 'p_site',\n",
       " 'p_situate',\n",
       " 'p_situation',\n",
       " 'p_size',\n",
       " 'p_sky',\n",
       " 'p_sleep',\n",
       " 'p_slipper',\n",
       " 'p_small',\n",
       " 'p_smart',\n",
       " 'p_smell',\n",
       " 'p_smelt',\n",
       " 'p_smile',\n",
       " 'p_smoke',\n",
       " 'p_snack',\n",
       " 'p_sofa',\n",
       " 'p_soft',\n",
       " 'p_soho',\n",
       " 'p_something',\n",
       " 'p_son',\n",
       " 'p_soon',\n",
       " 'p_sort',\n",
       " 'p_sound',\n",
       " 'p_soundproof',\n",
       " 'p_south',\n",
       " 'p_spa',\n",
       " 'p_space',\n",
       " 'p_spacious',\n",
       " 'p_speak',\n",
       " 'p_special',\n",
       " 'p_spectacular',\n",
       " 'p_spend',\n",
       " 'p_spoil',\n",
       " 'p_spot',\n",
       " 'p_spotless',\n",
       " 'p_spotlessly',\n",
       " 'p_square',\n",
       " 'p_st',\n",
       " 'p_stadium',\n",
       " 'p_staff',\n",
       " 'p_stair',\n",
       " 'p_stand',\n",
       " 'p_standard',\n",
       " 'p_star',\n",
       " 'p_start',\n",
       " 'p_station',\n",
       " 'p_stay',\n",
       " 'p_steam',\n",
       " 'p_step',\n",
       " 'p_still',\n",
       " 'p_stock',\n",
       " 'p_stop',\n",
       " 'p_store',\n",
       " 'p_straight',\n",
       " 'p_street',\n",
       " 'p_studio',\n",
       " 'p_stun',\n",
       " 'p_style',\n",
       " 'p_stylish',\n",
       " 'p_suit',\n",
       " 'p_suite',\n",
       " 'p_sunday',\n",
       " 'p_super',\n",
       " 'p_superb',\n",
       " 'p_superior',\n",
       " 'p_supply',\n",
       " 'p_sure',\n",
       " 'p_surprise',\n",
       " 'p_surprisingly',\n",
       " 'p_surround',\n",
       " 'p_swim',\n",
       " 'p_system',\n",
       " 'p_table',\n",
       " 'p_take',\n",
       " 'p_taste',\n",
       " 'p_tasty',\n",
       " 'p_taxi',\n",
       " 'p_tea',\n",
       " 'p_team',\n",
       " 'p_tech',\n",
       " 'p_technology',\n",
       " 'p_tell',\n",
       " 'p_temperature',\n",
       " 'p_terrace',\n",
       " 'p_tesco',\n",
       " 'p_thames',\n",
       " 'p_thank',\n",
       " 'p_theatre',\n",
       " 'p_thing',\n",
       " 'p_think',\n",
       " 'p_third',\n",
       " 'p_thoroughly',\n",
       " 'p_though',\n",
       " 'p_thoughtful',\n",
       " 'p_three',\n",
       " 'p_throughout',\n",
       " 'p_ticket',\n",
       " 'p_tidy',\n",
       " 'p_till',\n",
       " 'p_time',\n",
       " 'p_tire',\n",
       " 'p_toilet',\n",
       " 'p_toiletry',\n",
       " 'p_top',\n",
       " 'p_totally',\n",
       " 'p_touch',\n",
       " 'p_tourist',\n",
       " 'p_towel',\n",
       " 'p_tower',\n",
       " 'p_town',\n",
       " 'p_traditional',\n",
       " 'p_trafalgar',\n",
       " 'p_traffic',\n",
       " 'p_train',\n",
       " 'p_transport',\n",
       " 'p_travel',\n",
       " 'p_traveller',\n",
       " 'p_treat',\n",
       " 'p_trip',\n",
       " 'p_trouble',\n",
       " 'p_truly',\n",
       " 'p_try',\n",
       " 'p_tube',\n",
       " 'p_turn',\n",
       " 'p_tv',\n",
       " 'p_twin',\n",
       " 'p_two',\n",
       " 'p_u',\n",
       " 'p_underground',\n",
       " 'p_understand',\n",
       " 'p_unexpected',\n",
       " 'p_unfortunately',\n",
       " 'p_unique',\n",
       " 'p_update',\n",
       " 'p_upgrade',\n",
       " 'p_upon',\n",
       " 'p_use',\n",
       " 'p_useful',\n",
       " 'p_usual',\n",
       " 'p_v',\n",
       " 'p_value',\n",
       " 'p_variety',\n",
       " 'p_vary',\n",
       " 'p_venue',\n",
       " 'p_via',\n",
       " 'p_vibe',\n",
       " 'p_victoria',\n",
       " 'p_view',\n",
       " 'p_visit',\n",
       " 'p_voucher',\n",
       " 'p_wait',\n",
       " 'p_wake',\n",
       " 'p_walk',\n",
       " 'p_wall',\n",
       " 'p_want',\n",
       " 'p_warm',\n",
       " 'p_watch',\n",
       " 'p_water',\n",
       " 'p_waterloo',\n",
       " 'p_way',\n",
       " 'p_weather',\n",
       " 'p_wed',\n",
       " 'p_week',\n",
       " 'p_weekend',\n",
       " 'p_welcome',\n",
       " 'p_well',\n",
       " 'p_wembley',\n",
       " 'p_west',\n",
       " 'p_westfield',\n",
       " 'p_westminster',\n",
       " 'p_wharf',\n",
       " 'p_whilst',\n",
       " 'p_white',\n",
       " 'p_whole',\n",
       " 'p_wi',\n",
       " 'p_wide',\n",
       " 'p_wife',\n",
       " 'p_wifi',\n",
       " 'p_will',\n",
       " 'p_window',\n",
       " 'p_wine',\n",
       " 'p_wish',\n",
       " 'p_within',\n",
       " 'p_without',\n",
       " 'p_wonderful',\n",
       " 'p_work',\n",
       " 'p_world',\n",
       " 'p_worth',\n",
       " 'p_would',\n",
       " 'p_wow',\n",
       " 'p_x',\n",
       " 'p_yard',\n",
       " 'p_year',\n",
       " 'p_yes',\n",
       " 'p_yet',\n",
       " 'p_young',\n",
       " 'p_yummy']"
      ]
     },
     "execution_count": 42,
     "metadata": {},
     "output_type": "execute_result"
    }
   ],
   "source": [
    "# Assign pos_col to columns with positive words/reviews\n",
    "\n",
    "pos_col = [col for col in train_df if col.startswith('p_')]\n",
    "\n",
    "pos_col"
   ]
  },
  {
   "cell_type": "code",
   "execution_count": 64,
   "id": "fe2d4602",
   "metadata": {},
   "outputs": [
    {
     "name": "stdout",
     "output_type": "stream",
     "text": [
      "Array:  ['p_' 'p_02' 'p_1' 'p_10' 'p_100' 'p_11' 'p_12' 'p_15' 'p_1st' 'p_2'\n",
      " 'p_20' 'p_24' 'p_2nd' 'p_3' 'p_30' 'p_4' 'p_5' 'p_50' 'p_6' 'p_7' 'p_8'\n",
      " 'p_able' 'p_absolutely' 'p_access' 'p_accessible' 'p_accommodate'\n",
      " 'p_accommodation' 'p_across' 'p_actually' 'p_add' 'p_adequate'\n",
      " 'p_afternoon' 'p_air' 'p_aircon' 'p_airport' 'p_airy' 'p_albert'\n",
      " 'p_allocate' 'p_allow' 'p_almost' 'p_along' 'p_already' 'p_also'\n",
      " 'p_although' 'p_always' 'p_amaze' 'p_amazingly' 'p_ambiance' 'p_ambience'\n",
      " 'p_amenity' 'p_anniversary' 'p_another' 'p_anyone' 'p_anything'\n",
      " 'p_anywhere' 'p_apart' 'p_apartment' 'p_apollo' 'p_apologetic' 'p_appear'\n",
      " 'p_appoint' 'p_appreciate' 'p_approachable' 'p_area' 'p_arena' 'p_around'\n",
      " 'p_arrange' 'p_arrival' 'p_arrive' 'p_ask' 'p_aspect' 'p_atmosphere'\n",
      " 'p_attend' 'p_attention' 'p_attentive' 'p_attitude' 'p_attraction'\n",
      " 'p_attractive' 'p_available' 'p_away' 'p_awesome' 'p_awful' 'p_baby'\n",
      " 'p_back' 'p_bad' 'p_bag' 'p_balcony' 'p_balloon' 'p_bank' 'p_bar'\n",
      " 'p_barbican' 'p_base' 'p_basement' 'p_basic' 'p_bath' 'p_bathroom'\n",
      " 'p_beautiful' 'p_beautifully' 'p_bed' 'p_bedroom' 'p_behind' 'p_believe'\n",
      " 'p_ben' 'p_best' 'p_beyond' 'p_big' 'p_birthday' 'p_biscuit' 'p_bite'\n",
      " 'p_black' 'p_blind' 'p_board' 'p_boat' 'p_bonus' 'p_book' 'p_bottle'\n",
      " 'p_boutique' 'p_box' 'p_boyfriend' 'p_brand' 'p_break' 'p_breakfast'\n",
      " 'p_bridge' 'p_bright' 'p_brilliant' 'p_bring' 'p_british' 'p_buckingham'\n",
      " 'p_buffet' 'p_build' 'p_bus' 'p_business' 'p_busy' 'p_buy' 'p_cafe'\n",
      " 'p_cake' 'p_call' 'p_calm' 'p_camden' 'p_canary' 'p_cannot' 'p_car'\n",
      " 'p_card' 'p_care' 'p_case' 'p_cater' 'p_celebrate' 'p_celebration'\n",
      " 'p_central' 'p_centrally' 'p_centre' 'p_certainly' 'p_champagne'\n",
      " 'p_change' 'p_character' 'p_charge' 'p_charm' 'p_cheap' 'p_check'\n",
      " 'p_checkin' 'p_checkout' 'p_cheerful' 'p_chef' 'p_child' 'p_chill'\n",
      " 'p_chocolate' 'p_choice' 'p_choose' 'p_christmas' 'p_city' 'p_class'\n",
      " 'p_classy' 'p_clean' 'p_cleanliness' 'p_clear' 'p_close' 'p_closeness'\n",
      " 'p_club' 'p_cocktail' 'p_coffee' 'p_cold' 'p_com' 'p_come' 'p_comfort'\n",
      " 'p_comfortable' 'p_comfy' 'p_comment' 'p_common' 'p_communal' 'p_compact'\n",
      " 'p_company' 'p_compare' 'p_complain' 'p_complaint' 'p_complementary'\n",
      " 'p_complete' 'p_complimentary' 'p_con' 'p_concert' 'p_concierge'\n",
      " 'p_condition' 'p_connect' 'p_consider' 'p_contact' 'p_contemporary'\n",
      " 'p_continental' 'p_control' 'p_convenience' 'p_convenient'\n",
      " 'p_conveniently' 'p_cook' 'p_cookie' 'p_cooky' 'p_cool' 'p_cor'\n",
      " 'p_corner' 'p_corridor' 'p_cost' 'p_cosy' 'p_could' 'p_couldnt'\n",
      " 'p_couple' 'p_course' 'p_court' 'p_courteous' 'p_courtesy' 'p_courtyard'\n",
      " 'p_covent' 'p_credit' 'p_croissant' 'p_cross' 'p_curtain' 'p_customer'\n",
      " 'p_date' 'p_daughter' 'p_day' 'p_deal' 'p_decent' 'p_decor' 'p_decorate'\n",
      " 'p_decoration' 'p_definately' 'p_definitely' 'p_delicious' 'p_delight'\n",
      " 'p_delightful' 'p_deliver' 'p_deluxe' 'p_departure' 'p_design' 'p_desk'\n",
      " 'p_despite' 'p_detail' 'p_didnt' 'p_different' 'p_din' 'p_dinner'\n",
      " 'p_direct' 'p_direction' 'p_disable' 'p_disappoint' 'p_distance' 'p_dlr'\n",
      " 'p_do' 'p_dock' 'p_door' 'p_doorman' 'p_doorstep' 'p_double'\n",
      " 'p_downstairs' 'p_dress' 'p_drink' 'p_drop' 'p_dry' 'p_due' 'p_duty'\n",
      " 'p_duvet' 'p_e' 'p_earl' 'p_early' 'p_ease' 'p_easily' 'p_easy' 'p_eat'\n",
      " 'p_eatery' 'p_efficient' 'p_effort' 'p_egg' 'p_either' 'p_elemi' 'p_else'\n",
      " 'p_en' 'p_end' 'p_english' 'p_enjoy' 'p_enjoyable' 'p_enough' 'p_ensure'\n",
      " 'p_enter' 'p_entrance' 'p_environment' 'p_equip' 'p_especially' 'p_etc'\n",
      " 'p_eurostar' 'p_euston' 'p_even' 'p_event' 'p_ever' 'p_every'\n",
      " 'p_everyone' 'p_everything' 'p_everywhere' 'p_exactly' 'p_exceed'\n",
      " 'p_excel' 'p_excellent' 'p_except' 'p_exceptional' 'p_exceptionally'\n",
      " 'p_executive' 'p_expect' 'p_expectation' 'p_expensive' 'p_experience'\n",
      " 'p_explore' 'p_express' 'p_extra' 'p_extremely' 'p_eye' 'p_fab'\n",
      " 'p_fabulous' 'p_face' 'p_facility' 'p_fact' 'p_fairly' 'p_family' 'p_fan'\n",
      " 'p_fantastic' 'p_far' 'p_fast' 'p_fault' 'p_faultless' 'p_favourite'\n",
      " 'p_feature' 'p_feel' 'p_felt' 'p_ferry' 'p_fi' 'p_fill' 'p_find' 'p_fine'\n",
      " 'p_finish' 'p_fire' 'p_firm' 'p_first' 'p_fit' 'p_fitting' 'p_five'\n",
      " 'p_floor' 'p_flower' 'p_fluffy' 'p_follow' 'p_food' 'p_foot' 'p_forget'\n",
      " 'p_forward' 'p_four' 'p_foyer' 'p_free' 'p_fresh' 'p_freshly' 'p_fridge'\n",
      " 'p_friend' 'p_friendliness' 'p_friendly' 'p_front' 'p_fruit' 'p_full'\n",
      " 'p_fun' 'p_functional' 'p_funky' 'p_furnish' 'p_furniture' 'p_fuss'\n",
      " 'p_future' 'p_garden' 'p_gate' 'p_gem' 'p_general' 'p_generally'\n",
      " 'p_generous' 'p_gentleman' 'p_gesture' 'p_get' 'p_gift' 'p_girl'\n",
      " 'p_girlfriend' 'p_give' 'p_glass' 'p_gloucester' 'p_go' 'p_good'\n",
      " 'p_gorgeous' 'p_grand' 'p_great' 'p_greenwich' 'p_greet' 'p_grind'\n",
      " 'p_group' 'p_guest' 'p_gym' 'p_hair' 'p_hairdryer' 'p_half' 'p_hall'\n",
      " 'p_hammersmith' 'p_hand' 'p_handy' 'p_hang' 'p_happy' 'p_hard' 'p_head'\n",
      " 'p_hear' 'p_heart' 'p_heat' 'p_help' 'p_helpful' 'p_helpfull'\n",
      " 'p_helpfulness' 'p_hesitate' 'p_high' 'p_highly' 'p_hill' 'p_hilton'\n",
      " 'p_history' 'p_holborn' 'p_hold' 'p_holiday' 'p_home' 'p_hospitality'\n",
      " 'p_hot' 'p_hotel' 'p_hour' 'p_house' 'p_housekeep' 'p_however' 'p_huge'\n",
      " 'p_husband' 'p_hyde' 'p_ice' 'p_idea' 'p_ideal' 'p_ideally'\n",
      " 'p_immaculate' 'p_immaculately' 'p_immediately' 'p_impeccable'\n",
      " 'p_important' 'p_impress' 'p_impression' 'p_impressive' 'p_include'\n",
      " 'p_incredible' 'p_incredibly' 'p_indeed' 'p_information' 'p_informative'\n",
      " 'p_inn' 'p_inside' 'p_interest' 'p_interior' 'p_internet' 'p_ipad'\n",
      " 'p_iron' 'p_issue' 'p_item' 'p_jacuzzi' 'p_job' 'p_journey' 'p_juice'\n",
      " 'p_junior' 'p_keep' 'p_kensington' 'p_kettle' 'p_kid' 'p_kind' 'p_kindly'\n",
      " 'p_king' 'p_kitchen' 'p_kitchenette' 'p_know' 'p_knowledgeable' 'p_lack'\n",
      " 'p_lady' 'p_lancaster' 'p_large' 'p_last' 'p_late' 'p_lay' 'p_layout'\n",
      " 'p_le' 'p_leave' 'p_leicester' 'p_leisure' 'p_let' 'p_level' 'p_lift'\n",
      " 'p_light' 'p_like' 'p_limit' 'p_line' 'p_linen' 'p_link' 'p_literally'\n",
      " 'p_little' 'p_live' 'p_lively' 'p_load' 'p_lobby' 'p_local' 'p_locate'\n",
      " 'p_location' 'p_london' 'p_long' 'p_look' 'p_lot' 'p_lounge' 'p_love'\n",
      " 'p_lovely' 'p_low' 'p_luggage' 'p_lunch' 'p_luxurious' 'p_luxury'\n",
      " 'p_machine' 'p_main' 'p_maintain' 'p_major' 'p_make' 'p_man' 'p_manage'\n",
      " 'p_management' 'p_manager' 'p_many' 'p_marathon' 'p_marble' 'p_mark'\n",
      " 'p_market' 'p_marylebone' 'p_massive' 'p_mattress' 'p_may' 'p_maybe'\n",
      " 'p_meal' 'p_mean' 'p_meet' 'p_member' 'p_memorable' 'p_mention' 'p_menu'\n",
      " 'p_microwave' 'p_middle' 'p_mile' 'p_milk' 'p_min' 'p_mini' 'p_minibar'\n",
      " 'p_minute' 'p_mirror' 'p_miss' 'p_mobile' 'p_modern' 'p_moment' 'p_money'\n",
      " 'p_mood' 'p_morning' 'p_mostly' 'p_move' 'p_movie' 'p_much' 'p_mum'\n",
      " 'p_museum' 'p_music' 'p_must' 'p_name' 'p_natural' 'p_near' 'p_nearby'\n",
      " 'p_need' 'p_nespresso' 'p_never' 'p_new' 'p_newly' 'p_newspaper' 'p_next'\n",
      " 'p_nice' 'p_nicely' 'p_night' 'p_noise' 'p_noisy' 'p_none' 'p_normal'\n",
      " 'p_note' 'p_nothing' 'p_notting' 'p_number' 'p_o2' 'p_occasion' 'p_offer'\n",
      " 'p_ok' 'p_old' 'p_olympia' 'p_olympic' 'p_one' 'p_open' 'p_opposite'\n",
      " 'p_option' 'p_order' 'p_organise' 'p_others' 'p_outlet' 'p_outside'\n",
      " 'p_outstanding' 'p_overall' 'p_overlook' 'p_overnight' 'p_oxford'\n",
      " 'p_paddington' 'p_palace' 'p_pancras' 'p_pantry' 'p_park' 'p_part'\n",
      " 'p_particular' 'p_particularly' 'p_partner' 'p_party' 'p_past' 'p_pastry'\n",
      " 'p_paul' 'p_pay' 'p_peaceful' 'p_people' 'p_per' 'p_perfect'\n",
      " 'p_perfectly' 'p_person' 'p_personal' 'p_petal' 'p_phone' 'p_picture'\n",
      " 'p_pillow' 'p_place' 'p_plan' 'p_plate' 'p_plaza' 'p_pleasant'\n",
      " 'p_pleasantly' 'p_please' 'p_pleasure' 'p_plentiful' 'p_plenty' 'p_plug'\n",
      " 'p_plus' 'p_point' 'p_polite' 'p_pool' 'p_poor' 'p_porter' 'p_position'\n",
      " 'p_positive' 'p_possible' 'p_poster' 'p_powerful' 'p_pre' 'p_prefer'\n",
      " 'p_prepare' 'p_present' 'p_pretty' 'p_previously' 'p_price' 'p_pricey'\n",
      " 'p_private' 'p_problem' 'p_product' 'p_professional' 'p_prompt'\n",
      " 'p_property' 'p_prosecco' 'p_provide' 'p_proximity' 'p_pub' 'p_public'\n",
      " 'p_purpose' 'p_put' 'p_quality' 'p_queen' 'p_quick' 'p_quickly' 'p_quiet'\n",
      " 'p_quietness' 'p_quirky' 'p_quite' 'p_radio' 'p_rail' 'p_range' 'p_rat'\n",
      " 'p_rate' 'p_rather' 'p_reach' 'p_read' 'p_ready' 'p_real' 'p_realise'\n",
      " 'p_really' 'p_reason' 'p_reasonable' 'p_reasonably' 'p_receive'\n",
      " 'p_recently' 'p_reception' 'p_receptionist' 'p_recommend' 'p_refurbish'\n",
      " 'p_regent' 'p_regularly' 'p_relatively' 'p_relax' 'p_request' 'p_require'\n",
      " 'p_rest' 'p_restaurant' 'p_return' 'p_review' 'p_ride' 'p_right' 'p_ring'\n",
      " 'p_rise' 'p_river' 'p_road' 'p_rob' 'p_roof' 'p_rooftop' 'p_room'\n",
      " 'p_roomy' 'p_round' 'p_rout' 'p_royal' 'p_run' 'p_safe' 'p_saturday'\n",
      " 'p_sauna' 'p_sausage' 'p_say' 'p_screen' 'p_seat' 'p_second' 'p_secure'\n",
      " 'p_security' 'p_see' 'p_seem' 'p_selection' 'p_send' 'p_separate'\n",
      " 'p_serve' 'p_service' 'p_set' 'p_several' 'p_shame' 'p_shard' 'p_sheet'\n",
      " 'p_shop' 'p_short' 'p_show' 'p_shower' 'p_shuttle' 'p_side' 'p_sight'\n",
      " 'p_sightsee' 'p_simple' 'p_simply' 'p_since' 'p_single' 'p_sink'\n",
      " 'p_sister' 'p_sit' 'p_site' 'p_situate' 'p_situation' 'p_size' 'p_sky'\n",
      " 'p_sleep' 'p_slipper' 'p_small' 'p_smart' 'p_smell' 'p_smelt' 'p_smile'\n",
      " 'p_smoke' 'p_snack' 'p_sofa' 'p_soft' 'p_soho' 'p_something' 'p_son'\n",
      " 'p_soon' 'p_sort' 'p_sound' 'p_soundproof' 'p_south' 'p_spa' 'p_space'\n",
      " 'p_spacious' 'p_speak' 'p_special' 'p_spectacular' 'p_spend' 'p_spoil'\n",
      " 'p_spot' 'p_spotless' 'p_spotlessly' 'p_square' 'p_st' 'p_stadium'\n",
      " 'p_staff' 'p_stair' 'p_stand' 'p_standard' 'p_star' 'p_start' 'p_station'\n",
      " 'p_stay' 'p_steam' 'p_step' 'p_still' 'p_stock' 'p_stop' 'p_store'\n",
      " 'p_straight' 'p_street' 'p_studio' 'p_stun' 'p_style' 'p_stylish'\n",
      " 'p_suit' 'p_suite' 'p_sunday' 'p_super' 'p_superb' 'p_superior'\n",
      " 'p_supply' 'p_sure' 'p_surprise' 'p_surprisingly' 'p_surround' 'p_swim'\n",
      " 'p_system' 'p_table' 'p_take' 'p_taste' 'p_tasty' 'p_taxi' 'p_tea'\n",
      " 'p_team' 'p_tech' 'p_technology' 'p_tell' 'p_temperature' 'p_terrace'\n",
      " 'p_tesco' 'p_thames' 'p_thank' 'p_theatre' 'p_thing' 'p_think' 'p_third'\n",
      " 'p_thoroughly' 'p_though' 'p_thoughtful' 'p_three' 'p_throughout'\n",
      " 'p_ticket' 'p_tidy' 'p_till' 'p_time' 'p_tire' 'p_toilet' 'p_toiletry'\n",
      " 'p_top' 'p_totally' 'p_touch' 'p_tourist' 'p_towel' 'p_tower' 'p_town'\n",
      " 'p_traditional' 'p_trafalgar' 'p_traffic' 'p_train' 'p_transport'\n",
      " 'p_travel' 'p_traveller' 'p_treat' 'p_trip' 'p_trouble' 'p_truly' 'p_try'\n",
      " 'p_tube' 'p_turn' 'p_tv' 'p_twin' 'p_two' 'p_u' 'p_underground'\n",
      " 'p_understand' 'p_unexpected' 'p_unfortunately' 'p_unique' 'p_update'\n",
      " 'p_upgrade' 'p_upon' 'p_use' 'p_useful' 'p_usual' 'p_v' 'p_value'\n",
      " 'p_variety' 'p_vary' 'p_venue' 'p_via' 'p_vibe' 'p_victoria' 'p_view'\n",
      " 'p_visit' 'p_voucher' 'p_wait' 'p_wake' 'p_walk' 'p_wall' 'p_want'\n",
      " 'p_warm' 'p_watch' 'p_water' 'p_waterloo' 'p_way' 'p_weather' 'p_wed'\n",
      " 'p_week' 'p_weekend' 'p_welcome' 'p_well' 'p_wembley' 'p_west'\n",
      " 'p_westfield' 'p_westminster' 'p_wharf' 'p_whilst' 'p_white' 'p_whole'\n",
      " 'p_wi' 'p_wide' 'p_wife' 'p_wifi' 'p_will' 'p_window' 'p_wine' 'p_wish'\n",
      " 'p_within' 'p_without' 'p_wonderful' 'p_work' 'p_world' 'p_worth'\n",
      " 'p_would' 'p_wow' 'p_x' 'p_yard' 'p_year' 'p_yes' 'p_yet' 'p_young'\n",
      " 'p_yummy']\n"
     ]
    }
   ],
   "source": [
    "# Convert list to array\n",
    "pos_array = np.array(pos_col)\n",
    " \n",
    "# Print array\n",
    "print (\"Array: \", pos_array)"
   ]
  },
  {
   "cell_type": "code",
   "execution_count": 65,
   "id": "9f8ecde7",
   "metadata": {},
   "outputs": [
    {
     "name": "stdout",
     "output_type": "stream",
     "text": [
      "['p_']\n"
     ]
    }
   ],
   "source": [
    "# Identify the regression coefficients\n",
    "coefficients = log_reg1.coef_\n",
    "\n",
    "# Create a dictionary mapping words to coefficients\n",
    "word_coefficients = dict(zip(pos_array, coefficients))\n",
    "\n",
    "# Sort the words by their coefficients\n",
    "sorted_words = sorted(word_coefficients.items(), key=lambda x: x[1], reverse=True)\n",
    "\n",
    "# Select the top 20 words\n",
    "top_words = [word for word, coefficient in sorted_words[:20]]\n",
    "\n",
    "# Print the top 20 words\n",
    "print(top_words)"
   ]
  },
  {
   "cell_type": "code",
   "execution_count": 63,
   "id": "87ca32ad",
   "metadata": {},
   "outputs": [
    {
     "ename": "ValueError",
     "evalue": "Length of values (2743) does not match length of index (1343)",
     "output_type": "error",
     "traceback": [
      "\u001b[0;31m---------------------------------------------------------------------------\u001b[0m",
      "\u001b[0;31mValueError\u001b[0m                                Traceback (most recent call last)",
      "Input \u001b[0;32mIn [63]\u001b[0m, in \u001b[0;36m<cell line: 3>\u001b[0;34m()\u001b[0m\n\u001b[1;32m      1\u001b[0m \u001b[38;5;66;03m# Top 20 words in Positive Reviews\u001b[39;00m\n\u001b[0;32m----> 3\u001b[0m word_counts \u001b[38;5;241m=\u001b[39m \u001b[43mpd\u001b[49m\u001b[38;5;241;43m.\u001b[39;49m\u001b[43mDataFrame\u001b[49m\u001b[43m(\u001b[49m\n\u001b[1;32m      4\u001b[0m \u001b[43m    \u001b[49m\u001b[43m{\u001b[49m\u001b[38;5;124;43m\"\u001b[39;49m\u001b[38;5;124;43mcoefficients\u001b[39;49m\u001b[38;5;124;43m\"\u001b[39;49m\u001b[43m:\u001b[49m\u001b[43m \u001b[49m\u001b[43mlog_reg1\u001b[49m\u001b[38;5;241;43m.\u001b[39;49m\u001b[43mcoef_\u001b[49m\u001b[43m[\u001b[49m\u001b[38;5;241;43m0\u001b[39;49m\u001b[43m]\u001b[49m\u001b[43m}\u001b[49m\u001b[43m,\u001b[49m\n\u001b[1;32m      5\u001b[0m \u001b[43m    \u001b[49m\u001b[43mindex\u001b[49m\u001b[38;5;241;43m=\u001b[39;49m\u001b[43mneg_array\u001b[49m\u001b[43m)\u001b[49m\u001b[38;5;241m.\u001b[39msort_values(\u001b[38;5;124m\"\u001b[39m\u001b[38;5;124mcoefficients\u001b[39m\u001b[38;5;124m\"\u001b[39m, ascending\u001b[38;5;241m=\u001b[39m\u001b[38;5;28;01mFalse\u001b[39;00m)\n\u001b[1;32m      7\u001b[0m word_counts\u001b[38;5;241m.\u001b[39mhead(\u001b[38;5;241m20\u001b[39m)\u001b[38;5;241m.\u001b[39mplot(kind\u001b[38;5;241m=\u001b[39m\u001b[38;5;124m\"\u001b[39m\u001b[38;5;124mbar\u001b[39m\u001b[38;5;124m\"\u001b[39m, figsize\u001b[38;5;241m=\u001b[39m(\u001b[38;5;241m15\u001b[39m, \u001b[38;5;241m5\u001b[39m), legend\u001b[38;5;241m=\u001b[39m\u001b[38;5;28;01mFalse\u001b[39;00m)\n\u001b[1;32m      8\u001b[0m plt\u001b[38;5;241m.\u001b[39mtitle(\u001b[38;5;124m\"\u001b[39m\u001b[38;5;124mThe 20 highest model coefficients indicating positive sentiment\u001b[39m\u001b[38;5;124m\"\u001b[39m)\n",
      "File \u001b[0;32m~/opt/anaconda3/envs/machine_learning_techniques/lib/python3.9/site-packages/pandas/core/frame.py:664\u001b[0m, in \u001b[0;36mDataFrame.__init__\u001b[0;34m(self, data, index, columns, dtype, copy)\u001b[0m\n\u001b[1;32m    658\u001b[0m     mgr \u001b[38;5;241m=\u001b[39m \u001b[38;5;28mself\u001b[39m\u001b[38;5;241m.\u001b[39m_init_mgr(\n\u001b[1;32m    659\u001b[0m         data, axes\u001b[38;5;241m=\u001b[39m{\u001b[38;5;124m\"\u001b[39m\u001b[38;5;124mindex\u001b[39m\u001b[38;5;124m\"\u001b[39m: index, \u001b[38;5;124m\"\u001b[39m\u001b[38;5;124mcolumns\u001b[39m\u001b[38;5;124m\"\u001b[39m: columns}, dtype\u001b[38;5;241m=\u001b[39mdtype, copy\u001b[38;5;241m=\u001b[39mcopy\n\u001b[1;32m    660\u001b[0m     )\n\u001b[1;32m    662\u001b[0m \u001b[38;5;28;01melif\u001b[39;00m \u001b[38;5;28misinstance\u001b[39m(data, \u001b[38;5;28mdict\u001b[39m):\n\u001b[1;32m    663\u001b[0m     \u001b[38;5;66;03m# GH#38939 de facto copy defaults to False only in non-dict cases\u001b[39;00m\n\u001b[0;32m--> 664\u001b[0m     mgr \u001b[38;5;241m=\u001b[39m \u001b[43mdict_to_mgr\u001b[49m\u001b[43m(\u001b[49m\u001b[43mdata\u001b[49m\u001b[43m,\u001b[49m\u001b[43m \u001b[49m\u001b[43mindex\u001b[49m\u001b[43m,\u001b[49m\u001b[43m \u001b[49m\u001b[43mcolumns\u001b[49m\u001b[43m,\u001b[49m\u001b[43m \u001b[49m\u001b[43mdtype\u001b[49m\u001b[38;5;241;43m=\u001b[39;49m\u001b[43mdtype\u001b[49m\u001b[43m,\u001b[49m\u001b[43m \u001b[49m\u001b[43mcopy\u001b[49m\u001b[38;5;241;43m=\u001b[39;49m\u001b[43mcopy\u001b[49m\u001b[43m,\u001b[49m\u001b[43m \u001b[49m\u001b[43mtyp\u001b[49m\u001b[38;5;241;43m=\u001b[39;49m\u001b[43mmanager\u001b[49m\u001b[43m)\u001b[49m\n\u001b[1;32m    665\u001b[0m \u001b[38;5;28;01melif\u001b[39;00m \u001b[38;5;28misinstance\u001b[39m(data, ma\u001b[38;5;241m.\u001b[39mMaskedArray):\n\u001b[1;32m    666\u001b[0m     \u001b[38;5;28;01mimport\u001b[39;00m \u001b[38;5;21;01mnumpy\u001b[39;00m\u001b[38;5;21;01m.\u001b[39;00m\u001b[38;5;21;01mma\u001b[39;00m\u001b[38;5;21;01m.\u001b[39;00m\u001b[38;5;21;01mmrecords\u001b[39;00m \u001b[38;5;28;01mas\u001b[39;00m \u001b[38;5;21;01mmrecords\u001b[39;00m\n",
      "File \u001b[0;32m~/opt/anaconda3/envs/machine_learning_techniques/lib/python3.9/site-packages/pandas/core/internals/construction.py:493\u001b[0m, in \u001b[0;36mdict_to_mgr\u001b[0;34m(data, index, columns, dtype, typ, copy)\u001b[0m\n\u001b[1;32m    489\u001b[0m     \u001b[38;5;28;01melse\u001b[39;00m:\n\u001b[1;32m    490\u001b[0m         \u001b[38;5;66;03m# dtype check to exclude e.g. range objects, scalars\u001b[39;00m\n\u001b[1;32m    491\u001b[0m         arrays \u001b[38;5;241m=\u001b[39m [x\u001b[38;5;241m.\u001b[39mcopy() \u001b[38;5;28;01mif\u001b[39;00m \u001b[38;5;28mhasattr\u001b[39m(x, \u001b[38;5;124m\"\u001b[39m\u001b[38;5;124mdtype\u001b[39m\u001b[38;5;124m\"\u001b[39m) \u001b[38;5;28;01melse\u001b[39;00m x \u001b[38;5;28;01mfor\u001b[39;00m x \u001b[38;5;129;01min\u001b[39;00m arrays]\n\u001b[0;32m--> 493\u001b[0m \u001b[38;5;28;01mreturn\u001b[39;00m \u001b[43marrays_to_mgr\u001b[49m\u001b[43m(\u001b[49m\u001b[43marrays\u001b[49m\u001b[43m,\u001b[49m\u001b[43m \u001b[49m\u001b[43mcolumns\u001b[49m\u001b[43m,\u001b[49m\u001b[43m \u001b[49m\u001b[43mindex\u001b[49m\u001b[43m,\u001b[49m\u001b[43m \u001b[49m\u001b[43mdtype\u001b[49m\u001b[38;5;241;43m=\u001b[39;49m\u001b[43mdtype\u001b[49m\u001b[43m,\u001b[49m\u001b[43m \u001b[49m\u001b[43mtyp\u001b[49m\u001b[38;5;241;43m=\u001b[39;49m\u001b[43mtyp\u001b[49m\u001b[43m,\u001b[49m\u001b[43m \u001b[49m\u001b[43mconsolidate\u001b[49m\u001b[38;5;241;43m=\u001b[39;49m\u001b[43mcopy\u001b[49m\u001b[43m)\u001b[49m\n",
      "File \u001b[0;32m~/opt/anaconda3/envs/machine_learning_techniques/lib/python3.9/site-packages/pandas/core/internals/construction.py:123\u001b[0m, in \u001b[0;36marrays_to_mgr\u001b[0;34m(arrays, columns, index, dtype, verify_integrity, typ, consolidate)\u001b[0m\n\u001b[1;32m    120\u001b[0m         index \u001b[38;5;241m=\u001b[39m ensure_index(index)\n\u001b[1;32m    122\u001b[0m     \u001b[38;5;66;03m# don't force copy because getting jammed in an ndarray anyway\u001b[39;00m\n\u001b[0;32m--> 123\u001b[0m     arrays \u001b[38;5;241m=\u001b[39m \u001b[43m_homogenize\u001b[49m\u001b[43m(\u001b[49m\u001b[43marrays\u001b[49m\u001b[43m,\u001b[49m\u001b[43m \u001b[49m\u001b[43mindex\u001b[49m\u001b[43m,\u001b[49m\u001b[43m \u001b[49m\u001b[43mdtype\u001b[49m\u001b[43m)\u001b[49m\n\u001b[1;32m    124\u001b[0m     \u001b[38;5;66;03m# _homogenize ensures\u001b[39;00m\n\u001b[1;32m    125\u001b[0m     \u001b[38;5;66;03m#  - all(len(x) == len(index) for x in arrays)\u001b[39;00m\n\u001b[1;32m    126\u001b[0m     \u001b[38;5;66;03m#  - all(x.ndim == 1 for x in arrays)\u001b[39;00m\n\u001b[0;32m   (...)\u001b[0m\n\u001b[1;32m    129\u001b[0m \n\u001b[1;32m    130\u001b[0m \u001b[38;5;28;01melse\u001b[39;00m:\n\u001b[1;32m    131\u001b[0m     index \u001b[38;5;241m=\u001b[39m ensure_index(index)\n",
      "File \u001b[0;32m~/opt/anaconda3/envs/machine_learning_techniques/lib/python3.9/site-packages/pandas/core/internals/construction.py:620\u001b[0m, in \u001b[0;36m_homogenize\u001b[0;34m(data, index, dtype)\u001b[0m\n\u001b[1;32m    615\u001b[0m             val \u001b[38;5;241m=\u001b[39m lib\u001b[38;5;241m.\u001b[39mfast_multiget(val, oindex\u001b[38;5;241m.\u001b[39m_values, default\u001b[38;5;241m=\u001b[39mnp\u001b[38;5;241m.\u001b[39mnan)\n\u001b[1;32m    617\u001b[0m         val \u001b[38;5;241m=\u001b[39m sanitize_array(\n\u001b[1;32m    618\u001b[0m             val, index, dtype\u001b[38;5;241m=\u001b[39mdtype, copy\u001b[38;5;241m=\u001b[39m\u001b[38;5;28;01mFalse\u001b[39;00m, raise_cast_failure\u001b[38;5;241m=\u001b[39m\u001b[38;5;28;01mFalse\u001b[39;00m\n\u001b[1;32m    619\u001b[0m         )\n\u001b[0;32m--> 620\u001b[0m         \u001b[43mcom\u001b[49m\u001b[38;5;241;43m.\u001b[39;49m\u001b[43mrequire_length_match\u001b[49m\u001b[43m(\u001b[49m\u001b[43mval\u001b[49m\u001b[43m,\u001b[49m\u001b[43m \u001b[49m\u001b[43mindex\u001b[49m\u001b[43m)\u001b[49m\n\u001b[1;32m    622\u001b[0m     homogenized\u001b[38;5;241m.\u001b[39mappend(val)\n\u001b[1;32m    624\u001b[0m \u001b[38;5;28;01mreturn\u001b[39;00m homogenized\n",
      "File \u001b[0;32m~/opt/anaconda3/envs/machine_learning_techniques/lib/python3.9/site-packages/pandas/core/common.py:571\u001b[0m, in \u001b[0;36mrequire_length_match\u001b[0;34m(data, index)\u001b[0m\n\u001b[1;32m    567\u001b[0m \u001b[38;5;124;03m\"\"\"\u001b[39;00m\n\u001b[1;32m    568\u001b[0m \u001b[38;5;124;03mCheck the length of data matches the length of the index.\u001b[39;00m\n\u001b[1;32m    569\u001b[0m \u001b[38;5;124;03m\"\"\"\u001b[39;00m\n\u001b[1;32m    570\u001b[0m \u001b[38;5;28;01mif\u001b[39;00m \u001b[38;5;28mlen\u001b[39m(data) \u001b[38;5;241m!=\u001b[39m \u001b[38;5;28mlen\u001b[39m(index):\n\u001b[0;32m--> 571\u001b[0m     \u001b[38;5;28;01mraise\u001b[39;00m \u001b[38;5;167;01mValueError\u001b[39;00m(\n\u001b[1;32m    572\u001b[0m         \u001b[38;5;124m\"\u001b[39m\u001b[38;5;124mLength of values \u001b[39m\u001b[38;5;124m\"\u001b[39m\n\u001b[1;32m    573\u001b[0m         \u001b[38;5;124mf\u001b[39m\u001b[38;5;124m\"\u001b[39m\u001b[38;5;124m(\u001b[39m\u001b[38;5;132;01m{\u001b[39;00m\u001b[38;5;28mlen\u001b[39m(data)\u001b[38;5;132;01m}\u001b[39;00m\u001b[38;5;124m) \u001b[39m\u001b[38;5;124m\"\u001b[39m\n\u001b[1;32m    574\u001b[0m         \u001b[38;5;124m\"\u001b[39m\u001b[38;5;124mdoes not match length of index \u001b[39m\u001b[38;5;124m\"\u001b[39m\n\u001b[1;32m    575\u001b[0m         \u001b[38;5;124mf\u001b[39m\u001b[38;5;124m\"\u001b[39m\u001b[38;5;124m(\u001b[39m\u001b[38;5;132;01m{\u001b[39;00m\u001b[38;5;28mlen\u001b[39m(index)\u001b[38;5;132;01m}\u001b[39;00m\u001b[38;5;124m)\u001b[39m\u001b[38;5;124m\"\u001b[39m\n\u001b[1;32m    576\u001b[0m     )\n",
      "\u001b[0;31mValueError\u001b[0m: Length of values (2743) does not match length of index (1343)"
     ]
    }
   ],
   "source": [
    "# Another solution\n",
    "# Top 20 words in Positive Reviews\n",
    "\n",
    "word_counts = pd.DataFrame(\n",
    "    {\"coefficients\": log_reg1.coef_[0]},\n",
    "    index=pos_array).sort_values(\"coefficients\", ascending=False)\n",
    "\n",
    "word_counts.head(20).plot(kind=\"bar\", figsize=(15, 5), legend=False)\n",
    "plt.title(\"The 20 highest model coefficients indicating positive sentiment\")\n",
    "plt.ylabel(\"Coefficients\")\n",
    "plt.xticks(rotation=45)\n",
    "plt.show()"
   ]
  },
  {
   "cell_type": "markdown",
   "id": "dd819137",
   "metadata": {},
   "source": [
    "####  Find the 20 words most predictive of a bad review (from the negative review column) using Regression Coefficients"
   ]
  },
  {
   "cell_type": "code",
   "execution_count": 57,
   "id": "d8808b4c",
   "metadata": {},
   "outputs": [
    {
     "data": {
      "text/plain": [
       "['n_',\n",
       " 'n_00',\n",
       " 'n_02',\n",
       " 'n_1',\n",
       " 'n_10',\n",
       " 'n_100',\n",
       " 'n_11',\n",
       " 'n_11am',\n",
       " 'n_11pm',\n",
       " 'n_12',\n",
       " 'n_15',\n",
       " 'n_16',\n",
       " 'n_17',\n",
       " 'n_18',\n",
       " 'n_1st',\n",
       " 'n_2',\n",
       " 'n_20',\n",
       " 'n_200',\n",
       " 'n_21',\n",
       " 'n_24',\n",
       " 'n_25',\n",
       " 'n_2am',\n",
       " 'n_2nd',\n",
       " 'n_2pm',\n",
       " 'n_3',\n",
       " 'n_30',\n",
       " 'n_30am',\n",
       " 'n_30pm',\n",
       " 'n_3am',\n",
       " 'n_3pm',\n",
       " 'n_3rd',\n",
       " 'n_4',\n",
       " 'n_40',\n",
       " 'n_45',\n",
       " 'n_4th',\n",
       " 'n_5',\n",
       " 'n_50',\n",
       " 'n_5am',\n",
       " 'n_5th',\n",
       " 'n_6',\n",
       " 'n_6am',\n",
       " 'n_7',\n",
       " 'n_70',\n",
       " 'n_7th',\n",
       " 'n_8',\n",
       " 'n_8am',\n",
       " 'n_9',\n",
       " 'n_90',\n",
       " 'n_95',\n",
       " 'n_9am',\n",
       " 'n_abit',\n",
       " 'n_able',\n",
       " 'n_abrupt',\n",
       " 'n_absolutely',\n",
       " 'n_ac',\n",
       " 'n_accept',\n",
       " 'n_acceptable',\n",
       " 'n_access',\n",
       " 'n_accessible',\n",
       " 'n_accommodate',\n",
       " 'n_accommodation',\n",
       " 'n_account',\n",
       " 'n_across',\n",
       " 'n_actually',\n",
       " 'n_add',\n",
       " 'n_addition',\n",
       " 'n_additional',\n",
       " 'n_address',\n",
       " 'n_adequate',\n",
       " 'n_adjacent',\n",
       " 'n_adjoin',\n",
       " 'n_adult',\n",
       " 'n_advance',\n",
       " 'n_advertise',\n",
       " 'n_advise',\n",
       " 'n_affect',\n",
       " 'n_afternoon',\n",
       " 'n_age',\n",
       " 'n_ago',\n",
       " 'n_agree',\n",
       " 'n_ahead',\n",
       " 'n_air',\n",
       " 'n_aircon',\n",
       " 'n_alarm',\n",
       " 'n_allocate',\n",
       " 'n_allow',\n",
       " 'n_almost',\n",
       " 'n_along',\n",
       " 'n_already',\n",
       " 'n_also',\n",
       " 'n_alternative',\n",
       " 'n_although',\n",
       " 'n_always',\n",
       " 'n_amaze',\n",
       " 'n_amenity',\n",
       " 'n_amount',\n",
       " 'n_anniversary',\n",
       " 'n_annoy',\n",
       " 'n_another',\n",
       " 'n_answer',\n",
       " 'n_anyone',\n",
       " 'n_anything',\n",
       " 'n_anyway',\n",
       " 'n_anywhere',\n",
       " 'n_apart',\n",
       " 'n_apologetic',\n",
       " 'n_apologise',\n",
       " 'n_apology',\n",
       " 'n_appal',\n",
       " 'n_apparently',\n",
       " 'n_appear',\n",
       " 'n_apple',\n",
       " 'n_appreciate',\n",
       " 'n_area',\n",
       " 'n_argue',\n",
       " 'n_around',\n",
       " 'n_arrange',\n",
       " 'n_arrangement',\n",
       " 'n_arrival',\n",
       " 'n_arrive',\n",
       " 'n_ask',\n",
       " 'n_assume',\n",
       " 'n_atmosphere',\n",
       " 'n_attempt',\n",
       " 'n_attend',\n",
       " 'n_attention',\n",
       " 'n_attentive',\n",
       " 'n_attitude',\n",
       " 'n_available',\n",
       " 'n_average',\n",
       " 'n_avoid',\n",
       " 'n_awake',\n",
       " 'n_aware',\n",
       " 'n_away',\n",
       " 'n_awful',\n",
       " 'n_awkward',\n",
       " 'n_b',\n",
       " 'n_baby',\n",
       " 'n_back',\n",
       " 'n_bacon',\n",
       " 'n_bad',\n",
       " 'n_badly',\n",
       " 'n_bag',\n",
       " 'n_balcony',\n",
       " 'n_bang',\n",
       " 'n_bank',\n",
       " 'n_bar',\n",
       " 'n_barely',\n",
       " 'n_base',\n",
       " 'n_basement',\n",
       " 'n_basic',\n",
       " 'n_basically',\n",
       " 'n_basin',\n",
       " 'n_bath',\n",
       " 'n_bathroom',\n",
       " 'n_bathtub',\n",
       " 'n_bean',\n",
       " 'n_beautiful',\n",
       " 'n_become',\n",
       " 'n_bed',\n",
       " 'n_bedroom',\n",
       " 'n_bedside',\n",
       " 'n_beer',\n",
       " 'n_behind',\n",
       " 'n_believe',\n",
       " 'n_benefit',\n",
       " 'n_beside',\n",
       " 'n_best',\n",
       " 'n_big',\n",
       " 'n_bill',\n",
       " 'n_bin',\n",
       " 'n_birthday',\n",
       " 'n_biscuit',\n",
       " 'n_bite',\n",
       " 'n_black',\n",
       " 'n_blanket',\n",
       " 'n_blind',\n",
       " 'n_block',\n",
       " 'n_blow',\n",
       " 'n_board',\n",
       " 'n_boil',\n",
       " 'n_boiler',\n",
       " 'n_book',\n",
       " 'n_bother',\n",
       " 'n_bottle',\n",
       " 'n_bottom',\n",
       " 'n_box',\n",
       " 'n_bread',\n",
       " 'n_break',\n",
       " 'n_breakfast',\n",
       " 'n_brick',\n",
       " 'n_bridge',\n",
       " 'n_bright',\n",
       " 'n_brilliant',\n",
       " 'n_bring',\n",
       " 'n_brown',\n",
       " 'n_brush',\n",
       " 'n_budget',\n",
       " 'n_buffet',\n",
       " 'n_build',\n",
       " 'n_burn',\n",
       " 'n_bus',\n",
       " 'n_business',\n",
       " 'n_busy',\n",
       " 'n_butter',\n",
       " 'n_buy',\n",
       " 'n_c',\n",
       " 'n_cabinet',\n",
       " 'n_cafe',\n",
       " 'n_cake',\n",
       " 'n_call',\n",
       " 'n_cancel',\n",
       " 'n_cannot',\n",
       " 'n_car',\n",
       " 'n_card',\n",
       " 'n_care',\n",
       " 'n_carpet',\n",
       " 'n_carry',\n",
       " 'n_case',\n",
       " 'n_cash',\n",
       " 'n_catch',\n",
       " 'n_cause',\n",
       " 'n_ceiling',\n",
       " 'n_central',\n",
       " 'n_centre',\n",
       " 'n_cereal',\n",
       " 'n_certain',\n",
       " 'n_certainly',\n",
       " 'n_chain',\n",
       " 'n_chair',\n",
       " 'n_challenge',\n",
       " 'n_change',\n",
       " 'n_channel',\n",
       " 'n_chaotic',\n",
       " 'n_charge',\n",
       " 'n_charger',\n",
       " 'n_cheap',\n",
       " 'n_check',\n",
       " 'n_checkin',\n",
       " 'n_checkout',\n",
       " 'n_cheese',\n",
       " 'n_chef',\n",
       " 'n_child',\n",
       " 'n_chip',\n",
       " 'n_chocolate',\n",
       " 'n_choice',\n",
       " 'n_choose',\n",
       " 'n_christmas',\n",
       " 'n_cigarette',\n",
       " 'n_city',\n",
       " 'n_claustrophobic',\n",
       " 'n_clean',\n",
       " 'n_cleanliness',\n",
       " 'n_clear',\n",
       " 'n_clearly',\n",
       " 'n_climb',\n",
       " 'n_clock',\n",
       " 'n_close',\n",
       " 'n_clothe',\n",
       " 'n_club',\n",
       " 'n_coat',\n",
       " 'n_cocktail',\n",
       " 'n_coffee',\n",
       " 'n_cold',\n",
       " 'n_collect',\n",
       " 'n_colour',\n",
       " 'n_com',\n",
       " 'n_come',\n",
       " 'n_comfort',\n",
       " 'n_comfortable',\n",
       " 'n_comfy',\n",
       " 'n_comment',\n",
       " 'n_common',\n",
       " 'n_communication',\n",
       " 'n_compact',\n",
       " 'n_company',\n",
       " 'n_compare',\n",
       " 'n_compensation',\n",
       " 'n_complain',\n",
       " 'n_complaint',\n",
       " 'n_complete',\n",
       " 'n_completely',\n",
       " 'n_complicate',\n",
       " 'n_complimentary',\n",
       " 'n_computer',\n",
       " 'n_con',\n",
       " 'n_concern',\n",
       " 'n_concert',\n",
       " 'n_concierge',\n",
       " 'n_condition',\n",
       " 'n_confirm',\n",
       " 'n_confirmation',\n",
       " 'n_confuse',\n",
       " 'n_confusion',\n",
       " 'n_connect',\n",
       " 'n_connection',\n",
       " 'n_consider',\n",
       " 'n_constant',\n",
       " 'n_constantly',\n",
       " 'n_construction',\n",
       " 'n_contact',\n",
       " 'n_continental',\n",
       " 'n_continue',\n",
       " 'n_control',\n",
       " 'n_convenient',\n",
       " 'n_conversation',\n",
       " 'n_cook',\n",
       " 'n_cool',\n",
       " 'n_cor',\n",
       " 'n_corner',\n",
       " 'n_correct',\n",
       " 'n_corridor',\n",
       " 'n_cost',\n",
       " 'n_cosy',\n",
       " 'n_could',\n",
       " 'n_couldnt',\n",
       " 'n_couple',\n",
       " 'n_course',\n",
       " 'n_cover',\n",
       " 'n_crack',\n",
       " 'n_cramp',\n",
       " 'n_creak',\n",
       " 'n_creaky',\n",
       " 'n_credit',\n",
       " 'n_crisp',\n",
       " 'n_criticism',\n",
       " 'n_croissant',\n",
       " 'n_cross',\n",
       " 'n_crowd',\n",
       " 'n_cubicle',\n",
       " 'n_cup',\n",
       " 'n_cupboard',\n",
       " 'n_curtain',\n",
       " 'n_customer',\n",
       " 'n_cut',\n",
       " 'n_cutlery',\n",
       " 'n_damage',\n",
       " 'n_damp',\n",
       " 'n_dangerous',\n",
       " 'n_dark',\n",
       " 'n_date',\n",
       " 'n_daughter',\n",
       " 'n_day',\n",
       " 'n_daylight',\n",
       " 'n_deal',\n",
       " 'n_decent',\n",
       " 'n_decide',\n",
       " 'n_decor',\n",
       " 'n_decorate',\n",
       " 'n_decoration',\n",
       " 'n_deep',\n",
       " 'n_definitely',\n",
       " 'n_delay',\n",
       " 'n_deliver',\n",
       " 'n_deluxe',\n",
       " 'n_departure',\n",
       " 'n_deposit',\n",
       " 'n_describe',\n",
       " 'n_description',\n",
       " 'n_design',\n",
       " 'n_desire',\n",
       " 'n_desk',\n",
       " 'n_despite',\n",
       " 'n_detail',\n",
       " 'n_didnt',\n",
       " 'n_difference',\n",
       " 'n_different',\n",
       " 'n_difficult',\n",
       " 'n_difficulty',\n",
       " 'n_din',\n",
       " 'n_dingy',\n",
       " 'n_dinner',\n",
       " 'n_direct',\n",
       " 'n_direction',\n",
       " 'n_directly',\n",
       " 'n_dirty',\n",
       " 'n_disable',\n",
       " 'n_disappoint',\n",
       " 'n_disappointment',\n",
       " 'n_discount',\n",
       " 'n_disgust',\n",
       " 'n_dish',\n",
       " 'n_dislike',\n",
       " 'n_disorganise',\n",
       " 'n_display',\n",
       " 'n_distance',\n",
       " 'n_disturb',\n",
       " 'n_dlr',\n",
       " 'n_do',\n",
       " 'n_dock',\n",
       " 'n_dont',\n",
       " 'n_door',\n",
       " 'n_double',\n",
       " 'n_doubt',\n",
       " 'n_downside',\n",
       " 'n_downstairs',\n",
       " 'n_draft',\n",
       " 'n_drain',\n",
       " 'n_draw',\n",
       " 'n_drawer',\n",
       " 'n_dreadful',\n",
       " 'n_dress',\n",
       " 'n_drill',\n",
       " 'n_drink',\n",
       " 'n_drip',\n",
       " 'n_drive',\n",
       " 'n_drop',\n",
       " 'n_dry',\n",
       " 'n_due',\n",
       " 'n_dull',\n",
       " 'n_dust',\n",
       " 'n_dusty',\n",
       " 'n_duty',\n",
       " 'n_duvet',\n",
       " 'n_e',\n",
       " 'n_early',\n",
       " 'n_easily',\n",
       " 'n_easy',\n",
       " 'n_eat',\n",
       " 'n_edge',\n",
       " 'n_efficient',\n",
       " 'n_eg',\n",
       " 'n_egg',\n",
       " 'n_either',\n",
       " 'n_electrical',\n",
       " 'n_elevator',\n",
       " 'n_else',\n",
       " 'n_elsewhere',\n",
       " 'n_email',\n",
       " 'n_embarrass',\n",
       " 'n_empty',\n",
       " 'n_en',\n",
       " 'n_end',\n",
       " 'n_engineer',\n",
       " 'n_english',\n",
       " 'n_enjoy',\n",
       " 'n_enough',\n",
       " 'n_enter',\n",
       " 'n_entrance',\n",
       " 'n_error',\n",
       " 'n_especially',\n",
       " 'n_etc',\n",
       " 'n_even',\n",
       " 'n_event',\n",
       " 'n_eventually',\n",
       " 'n_ever',\n",
       " 'n_every',\n",
       " 'n_everyone',\n",
       " 'n_everything',\n",
       " 'n_everywhere',\n",
       " 'n_exactly',\n",
       " 'n_excellent',\n",
       " 'n_except',\n",
       " 'n_executive',\n",
       " 'n_exit',\n",
       " 'n_expect',\n",
       " 'n_expectation',\n",
       " 'n_expense',\n",
       " 'n_expensive',\n",
       " 'n_experience',\n",
       " 'n_explain',\n",
       " 'n_explanation',\n",
       " 'n_extortionate',\n",
       " 'n_extra',\n",
       " 'n_extractor',\n",
       " 'n_extremely',\n",
       " 'n_eye',\n",
       " 'n_face',\n",
       " 'n_facility',\n",
       " 'n_fact',\n",
       " 'n_fail',\n",
       " 'n_fair',\n",
       " 'n_fairly',\n",
       " 'n_fall',\n",
       " 'n_family',\n",
       " 'n_fan',\n",
       " 'n_fantastic',\n",
       " 'n_far',\n",
       " 'n_fashion',\n",
       " 'n_fast',\n",
       " 'n_fault',\n",
       " 'n_faulty',\n",
       " 'n_feather',\n",
       " 'n_feature',\n",
       " 'n_fee',\n",
       " 'n_feel',\n",
       " 'n_fell',\n",
       " 'n_felt',\n",
       " 'n_fi',\n",
       " 'n_fill',\n",
       " 'n_filthy',\n",
       " 'n_finally',\n",
       " 'n_find',\n",
       " 'n_fine',\n",
       " 'n_finish',\n",
       " 'n_fire',\n",
       " 'n_firm',\n",
       " 'n_first',\n",
       " 'n_fit',\n",
       " 'n_fitting',\n",
       " 'n_five',\n",
       " 'n_fix',\n",
       " 'n_flat',\n",
       " 'n_flight',\n",
       " 'n_flood',\n",
       " 'n_floor',\n",
       " 'n_flush',\n",
       " 'n_follow',\n",
       " 'n_food',\n",
       " 'n_foot',\n",
       " 'n_force',\n",
       " 'n_forget',\n",
       " 'n_form',\n",
       " 'n_forward',\n",
       " 'n_four',\n",
       " 'n_foyer',\n",
       " 'n_free',\n",
       " 'n_freeze',\n",
       " 'n_fresh',\n",
       " 'n_friday',\n",
       " 'n_fridge',\n",
       " 'n_friend',\n",
       " 'n_friendly',\n",
       " 'n_front',\n",
       " 'n_fruit',\n",
       " 'n_frustrate',\n",
       " 'n_fry',\n",
       " 'n_full',\n",
       " 'n_fully',\n",
       " 'n_function',\n",
       " 'n_funny',\n",
       " 'n_furnish',\n",
       " 'n_furniture',\n",
       " 'n_future',\n",
       " 'n_g',\n",
       " 'n_gap',\n",
       " 'n_garden',\n",
       " 'n_gel',\n",
       " 'n_general',\n",
       " 'n_generally',\n",
       " 'n_generator',\n",
       " 'n_get',\n",
       " 'n_girl',\n",
       " 'n_give',\n",
       " 'n_glass',\n",
       " 'n_glaze',\n",
       " 'n_gluten',\n",
       " 'n_go',\n",
       " 'n_good',\n",
       " 'n_gown',\n",
       " 'n_grab',\n",
       " 'n_grand',\n",
       " 'n_great',\n",
       " 'n_green',\n",
       " 'n_greet',\n",
       " 'n_grind',\n",
       " 'n_group',\n",
       " 'n_grubby',\n",
       " 'n_guess',\n",
       " 'n_guest',\n",
       " 'n_guy',\n",
       " 'n_gym',\n",
       " 'n_hair',\n",
       " 'n_hairdryer',\n",
       " 'n_half',\n",
       " 'n_hall',\n",
       " 'n_hallway',\n",
       " 'n_hand',\n",
       " 'n_handle',\n",
       " 'n_hang',\n",
       " 'n_happen',\n",
       " 'n_happy',\n",
       " 'n_hard',\n",
       " 'n_hardly',\n",
       " 'n_hate',\n",
       " 'n_head',\n",
       " 'n_hear',\n",
       " 'n_heat',\n",
       " 'n_heater',\n",
       " 'n_heavy',\n",
       " 'n_height',\n",
       " 'n_help',\n",
       " 'n_helpful',\n",
       " 'n_hence',\n",
       " 'n_hide',\n",
       " 'n_high',\n",
       " 'n_hilton',\n",
       " 'n_hit',\n",
       " 'n_hold',\n",
       " 'n_hole',\n",
       " 'n_holiday',\n",
       " 'n_home',\n",
       " 'n_honest',\n",
       " 'n_hook',\n",
       " 'n_hop',\n",
       " 'n_hope',\n",
       " 'n_horrendous',\n",
       " 'n_horrible',\n",
       " 'n_hot',\n",
       " 'n_hotel',\n",
       " 'n_hour',\n",
       " 'n_house',\n",
       " 'n_housekeep',\n",
       " 'n_however',\n",
       " 'n_huge',\n",
       " 'n_husband',\n",
       " 'n_ice',\n",
       " 'n_id',\n",
       " 'n_idea',\n",
       " 'n_ideal',\n",
       " 'n_ignore',\n",
       " 'n_ill',\n",
       " 'n_immediately',\n",
       " 'n_important',\n",
       " 'n_impossible',\n",
       " 'n_impress',\n",
       " 'n_impression',\n",
       " 'n_improve',\n",
       " 'n_include',\n",
       " 'n_inconvenience',\n",
       " 'n_inconvenient',\n",
       " 'n_incredibly',\n",
       " 'n_indicate',\n",
       " 'n_inform',\n",
       " 'n_information',\n",
       " 'n_initial',\n",
       " 'n_initially',\n",
       " 'n_inn',\n",
       " 'n_inside',\n",
       " 'n_insist',\n",
       " 'n_instead',\n",
       " 'n_instruction',\n",
       " 'n_insufficient',\n",
       " 'n_interest',\n",
       " 'n_internal',\n",
       " 'n_internet',\n",
       " 'n_iphone',\n",
       " 'n_iron',\n",
       " 'n_issue',\n",
       " 'n_item',\n",
       " 'n_jacuzzi',\n",
       " 'n_job',\n",
       " 'n_join',\n",
       " 'n_joke',\n",
       " 'n_juice',\n",
       " 'n_junior',\n",
       " 'n_keep',\n",
       " 'n_kettle',\n",
       " 'n_key',\n",
       " 'n_kid',\n",
       " 'n_kind',\n",
       " 'n_king',\n",
       " 'n_kitchen',\n",
       " 'n_knock',\n",
       " 'n_know',\n",
       " 'n_knowledge',\n",
       " 'n_lack',\n",
       " 'n_lady',\n",
       " 'n_lamp',\n",
       " 'n_language',\n",
       " 'n_large',\n",
       " 'n_last',\n",
       " 'n_late',\n",
       " 'n_laundry',\n",
       " 'n_lay',\n",
       " 'n_layout',\n",
       " 'n_le',\n",
       " 'n_lead',\n",
       " 'n_leak',\n",
       " 'n_least',\n",
       " 'n_leave',\n",
       " 'n_leg',\n",
       " 'n_leisure',\n",
       " 'n_let',\n",
       " 'n_level',\n",
       " 'n_lie',\n",
       " 'n_life',\n",
       " 'n_lift',\n",
       " 'n_light',\n",
       " 'n_like',\n",
       " 'n_limit',\n",
       " 'n_line',\n",
       " 'n_linen',\n",
       " 'n_list',\n",
       " 'n_listen',\n",
       " 'n_literally',\n",
       " 'n_little',\n",
       " 'n_live',\n",
       " 'n_load',\n",
       " 'n_lobby',\n",
       " 'n_local',\n",
       " 'n_locate',\n",
       " 'n_location',\n",
       " 'n_lock',\n",
       " 'n_lodge',\n",
       " 'n_lol',\n",
       " 'n_london',\n",
       " 'n_long',\n",
       " 'n_loo',\n",
       " 'n_look',\n",
       " 'n_loose',\n",
       " 'n_lose',\n",
       " 'n_lot',\n",
       " 'n_loud',\n",
       " 'n_loudly',\n",
       " 'n_lounge',\n",
       " 'n_love',\n",
       " 'n_lovely',\n",
       " 'n_low',\n",
       " 'n_luckily',\n",
       " 'n_lucky',\n",
       " 'n_luggage',\n",
       " 'n_luke',\n",
       " 'n_lumpy',\n",
       " 'n_lunch',\n",
       " 'n_luxurious',\n",
       " 'n_luxury',\n",
       " 'n_machine',\n",
       " 'n_maid',\n",
       " 'n_main',\n",
       " 'n_mainly',\n",
       " 'n_maintenance',\n",
       " 'n_major',\n",
       " 'n_make',\n",
       " 'n_makeup',\n",
       " 'n_male',\n",
       " 'n_man',\n",
       " 'n_manage',\n",
       " 'n_management',\n",
       " 'n_manager',\n",
       " 'n_many',\n",
       " 'n_mark',\n",
       " 'n_massive',\n",
       " 'n_mat',\n",
       " 'n_match',\n",
       " 'n_matter',\n",
       " 'n_mattress',\n",
       " 'n_may',\n",
       " 'n_maybe',\n",
       " 'n_meal',\n",
       " 'n_mean',\n",
       " 'n_medium',\n",
       " 'n_meet',\n",
       " 'n_member',\n",
       " 'n_men',\n",
       " 'n_mention',\n",
       " 'n_menu',\n",
       " 'n_mess',\n",
       " 'n_middle',\n",
       " 'n_midnight',\n",
       " 'n_might',\n",
       " 'n_mile',\n",
       " 'n_milk',\n",
       " 'n_min',\n",
       " 'n_mind',\n",
       " 'n_mini',\n",
       " 'n_minibar',\n",
       " 'n_minor',\n",
       " 'n_minute',\n",
       " 'n_mirror',\n",
       " 'n_miserable',\n",
       " 'n_mislead',\n",
       " 'n_miss',\n",
       " 'n_mistake',\n",
       " 'n_mix',\n",
       " 'n_mobile',\n",
       " 'n_modern',\n",
       " 'n_moment',\n",
       " 'n_monday',\n",
       " 'n_money',\n",
       " 'n_month',\n",
       " 'n_morning',\n",
       " 'n_mother',\n",
       " 'n_mould',\n",
       " 'n_mouse',\n",
       " 'n_move',\n",
       " 'n_movie',\n",
       " 'n_much',\n",
       " 'n_mug',\n",
       " 'n_music',\n",
       " 'n_must',\n",
       " 'n_n',\n",
       " 'n_name',\n",
       " 'n_narrow',\n",
       " 'n_natural',\n",
       " 'n_near',\n",
       " 'n_nearby',\n",
       " 'n_nearly',\n",
       " 'n_need',\n",
       " 'n_negative',\n",
       " 'n_neighbour',\n",
       " 'n_neither',\n",
       " 'n_net',\n",
       " 'n_never',\n",
       " 'n_new',\n",
       " 'n_next',\n",
       " 'n_nice',\n",
       " 'n_night',\n",
       " 'n_nightmare',\n",
       " 'n_nobody',\n",
       " 'n_noise',\n",
       " 'n_noisey',\n",
       " 'n_noisy',\n",
       " 'n_non',\n",
       " 'n_none',\n",
       " 'n_normal',\n",
       " 'n_normally',\n",
       " 'n_note',\n",
       " 'n_nothing',\n",
       " 'n_notice',\n",
       " 'n_nowhere',\n",
       " 'n_number',\n",
       " 'n_o2',\n",
       " 'n_obvious',\n",
       " 'n_obviously',\n",
       " 'n_occasion',\n",
       " 'n_occupant',\n",
       " 'n_odd',\n",
       " 'n_offer',\n",
       " 'n_office',\n",
       " 'n_often',\n",
       " 'n_ok',\n",
       " 'n_okay',\n",
       " 'n_old',\n",
       " 'n_one',\n",
       " 'n_online',\n",
       " 'n_onto',\n",
       " 'n_open',\n",
       " 'n_operate',\n",
       " 'n_opinion',\n",
       " 'n_opposite',\n",
       " 'n_option',\n",
       " 'n_order',\n",
       " 'n_ordinary',\n",
       " 'n_organise',\n",
       " 'n_original',\n",
       " 'n_others',\n",
       " 'n_otherwise',\n",
       " 'n_outdated',\n",
       " 'n_outside',\n",
       " 'n_overall',\n",
       " 'n_overcharge',\n",
       " 'n_overlook',\n",
       " 'n_overly',\n",
       " 'n_overnight',\n",
       " 'n_overprice',\n",
       " 'n_pack',\n",
       " 'n_pad',\n",
       " 'n_pain',\n",
       " 'n_paint',\n",
       " 'n_panel',\n",
       " 'n_paper',\n",
       " 'n_park',\n",
       " 'n_part',\n",
       " 'n_particular',\n",
       " 'n_particularly',\n",
       " 'n_partner',\n",
       " 'n_party',\n",
       " 'n_pas',\n",
       " 'n_past',\n",
       " 'n_pastry',\n",
       " 'n_pay',\n",
       " 'n_payment',\n",
       " 'n_people',\n",
       " 'n_per',\n",
       " 'n_perfect',\n",
       " 'n_perfectly',\n",
       " 'n_perhaps',\n",
       " 'n_person',\n",
       " 'n_personal',\n",
       " 'n_phone',\n",
       " 'n_photo',\n",
       " 'n_pick',\n",
       " 'n_picky',\n",
       " 'n_picture',\n",
       " 'n_pillow',\n",
       " 'n_pip',\n",
       " 'n_pizza',\n",
       " 'n_place',\n",
       " 'n_plan',\n",
       " 'n_plastic',\n",
       " 'n_plat',\n",
       " 'n_plate',\n",
       " 'n_play',\n",
       " 'n_pleasant',\n",
       " 'n_please',\n",
       " 'n_plenty',\n",
       " 'n_plug',\n",
       " 'n_plumb',\n",
       " 'n_plus',\n",
       " 'n_pm',\n",
       " 'n_poach',\n",
       " 'n_point',\n",
       " 'n_pokey',\n",
       " 'n_policy',\n",
       " 'n_polite',\n",
       " 'n_pool',\n",
       " 'n_poor',\n",
       " 'n_poorly',\n",
       " 'n_porter',\n",
       " 'n_position',\n",
       " 'n_possible',\n",
       " 'n_possibly',\n",
       " 'n_pot',\n",
       " 'n_potential',\n",
       " 'n_pound',\n",
       " 'n_power',\n",
       " 'n_powerful',\n",
       " 'n_pre',\n",
       " 'n_prefer',\n",
       " 'n_premier',\n",
       " 'n_premium',\n",
       " 'n_prepare',\n",
       " 'n_present',\n",
       " 'n_pressure',\n",
       " 'n_pretty',\n",
       " 'n_previous',\n",
       " 'n_previously',\n",
       " 'n_price',\n",
       " 'n_pricey',\n",
       " 'n_prior',\n",
       " 'n_privacy',\n",
       " 'n_private',\n",
       " 'n_probably',\n",
       " 'n_problem',\n",
       " 'n_process',\n",
       " 'n_product',\n",
       " 'n_promise',\n",
       " 'n_proof',\n",
       " 'n_proper',\n",
       " 'n_properly',\n",
       " 'n_property',\n",
       " 'n_provide',\n",
       " 'n_pub',\n",
       " 'n_public',\n",
       " 'n_pull',\n",
       " 'n_purchase',\n",
       " 'n_purpose',\n",
       " 'n_push',\n",
       " 'n_put',\n",
       " 'n_quality',\n",
       " 'n_quarter',\n",
       " 'n_queen',\n",
       " 'n_question',\n",
       " 'n_queue',\n",
       " 'n_quick',\n",
       " 'n_quickly',\n",
       " 'n_quiet',\n",
       " 'n_quite',\n",
       " 'n_radiator',\n",
       " 'n_radio',\n",
       " 'n_rail',\n",
       " 'n_railway',\n",
       " 'n_rain',\n",
       " 'n_range',\n",
       " 'n_rat',\n",
       " 'n_rate',\n",
       " 'n_rather',\n",
       " 'n_reach',\n",
       " 'n_read',\n",
       " 'n_ready',\n",
       " 'n_real',\n",
       " 'n_realise',\n",
       " 'n_really',\n",
       " 'n_rear',\n",
       " 'n_reason',\n",
       " 'n_reasonable',\n",
       " 'n_receipt',\n",
       " 'n_receive',\n",
       " 'n_reception',\n",
       " 'n_receptionist',\n",
       " 'n_recommend',\n",
       " 'n_record',\n",
       " 'n_rectify',\n",
       " 'n_reduce',\n",
       " 'n_reflect',\n",
       " 'n_refund',\n",
       " 'n_refurb',\n",
       " 'n_refurbish',\n",
       " 'n_refurbishment',\n",
       " 'n_refuse',\n",
       " 'n_regard',\n",
       " 'n_regular',\n",
       " 'n_relax',\n",
       " 'n_remote',\n",
       " 'n_remove',\n",
       " 'n_renovation',\n",
       " 'n_repair',\n",
       " 'n_replace',\n",
       " 'n_replacement',\n",
       " 'n_replenish',\n",
       " 'n_reply',\n",
       " 'n_report',\n",
       " 'n_request',\n",
       " 'n_require',\n",
       " 'n_reservation',\n",
       " 'n_reserve',\n",
       " 'n_resident',\n",
       " 'n_resolve',\n",
       " 'n_response',\n",
       " ...]"
      ]
     },
     "execution_count": 57,
     "metadata": {},
     "output_type": "execute_result"
    }
   ],
   "source": [
    "# Assign pos_col to columns with positive words/reviews\n",
    "\n",
    "neg_col = [col for col in train_df if col.startswith('n_')]\n",
    "\n",
    "neg_col"
   ]
  },
  {
   "cell_type": "code",
   "execution_count": 58,
   "id": "23a3e477",
   "metadata": {},
   "outputs": [
    {
     "name": "stdout",
     "output_type": "stream",
     "text": [
      "Array:  ['n_' 'n_00' 'n_02' ... 'n_yes' 'n_yet' 'n_young']\n"
     ]
    }
   ],
   "source": [
    "# Convert list to array\n",
    "neg_array = np.array(neg_col)\n",
    " \n",
    "# Print array\n",
    "print (\"Array: \", neg_array)"
   ]
  },
  {
   "cell_type": "code",
   "execution_count": 60,
   "id": "4f7be778",
   "metadata": {},
   "outputs": [
    {
     "name": "stdout",
     "output_type": "stream",
     "text": [
      "['n_']\n"
     ]
    }
   ],
   "source": [
    "# Identify the regression coefficients\n",
    "coefficients = log_reg1.coef_\n",
    "\n",
    "# Create a dictionary mapping words to coefficients\n",
    "word_coefficients = dict(zip(neg_array, coefficients))\n",
    "\n",
    "# Sort the words by their coefficients\n",
    "sorted_words = sorted(word_coefficients.items(), key=lambda x: x[1], reverse=True)\n",
    "\n",
    "# Select the top 20 words\n",
    "top_words = [word for word, coefficient in sorted_words[:20]]\n",
    "\n",
    "# Print the top 20 words\n",
    "print(top_words)"
   ]
  },
  {
   "cell_type": "code",
   "execution_count": null,
   "id": "92b3f6b2",
   "metadata": {},
   "outputs": [],
   "source": [
    "# Another solution\n",
    "# Top 20 words in Negative Reviews\n",
    "\n",
    "word_counts = pd.DataFrame(\n",
    "    {\"coefficients\": log_reg1.coef_[0]},\n",
    "    index=neg_array).sort_values(\"coefficients\", ascending=False)\n",
    "\n",
    "word_counts.sort_values(\"coefficients\", ascending=True).head(20).plot(kind=\"bar\", figsize=(15, 5), legend=False)\n",
    "plt.title(\"The 20 lowest model coefficients indicating negative sentiment\")\n",
    "plt.ylabel(\"Coefficients\")\n",
    "plt.xticks(rotation=45)\n",
    "plt.show()"
   ]
  },
  {
   "cell_type": "markdown",
   "id": "3756a8f4",
   "metadata": {},
   "source": [
    "#### Reduce the dimensionality of the dataset using PCA"
   ]
  },
  {
   "cell_type": "markdown",
   "id": "8d0ce45c",
   "metadata": {},
   "source": [
    "<b>All PCs will be kept for now</b>\n",
    "Applying PCA in Scikit-learn follows a similar process to scaling data. Here we will convert our scaled train and test data into Principal Components. In this case we are not setting a pre-determined number of components, so <b>the number of Principal Components will likely be quite high.</b>"
   ]
  },
  {
   "cell_type": "code",
   "execution_count": 77,
   "id": "a53c5a24",
   "metadata": {},
   "outputs": [],
   "source": [
    "from sklearn.decomposition import PCA\n",
    "\n",
    "# Instantiate and fit to scaled training data\n",
    "hotel_pca = PCA(n_components=None).fit(X_train)\n",
    "\n",
    "# Transform train and test sets \n",
    "X_train_PC = hotel_pca.transform(X_train)\n",
    "X_test_PC = hotel_pca.transform(X_test)"
   ]
  },
  {
   "cell_type": "code",
   "execution_count": null,
   "id": "f80401a1",
   "metadata": {},
   "outputs": [],
   "source": [
    "# Create a variable to assign the column names\n",
    "pca_cols = [f\"PC{x}\" for x in range(1, len(hotel_pca.components_)+1)]\n",
    "\n",
    "# Again putting training set into DataFrame\n",
    "X_train_PC = pd.DataFrame(X_train_PC, columns=pca_cols)\n",
    "\n",
    "# Visualize the Principal Components as a DataFrame\n",
    "X_train_PC.head()"
   ]
  },
  {
   "cell_type": "code",
   "execution_count": null,
   "id": "5df5840f",
   "metadata": {},
   "outputs": [],
   "source": [
    "# Plot the Principal Components by variable (only the first PC's)\n",
    "\n",
    "plt.figure()\n",
    "plt.scatter(X_train_PC.iloc[:, 0], X_train_PC.iloc[:, 1], c=y_train, s=20, alpha=0.5)\n",
    "plt.xlabel('PC1')\n",
    "plt.ylabel('PC2')\n",
    "plt.title('PCA Transformed Data')\n",
    "plt.show()"
   ]
  },
  {
   "cell_type": "markdown",
   "id": "7128045c",
   "metadata": {},
   "source": [
    "#### Check explained_variance_ratio"
   ]
  },
  {
   "cell_type": "code",
   "execution_count": null,
   "id": "2aaf47da",
   "metadata": {
    "scrolled": true
   },
   "outputs": [],
   "source": [
    "# Extract the components into a variable\n",
    "num_pcs = hotel_pca.components_\n",
    "\n",
    "# Plotting the PCs versus the variation that is being explained by the PC\n",
    "plt.figure()\n",
    "plt.plot(range(1, len(num_pcs)+1), hotel_pca.explained_variance_ratio_, label=\"Explained Var Ratio\", marker=\"*\")\n",
    "plt.plot(range(1, len(num_pcs)+1), hotel_pca.explained_variance_ratio_.cumsum(), label=\"Cumulative Explained Var Ratio\", marker=\"*\")\n",
    "plt.axhline(0.92, c='r', linestyle='--')\n",
    "plt.xlabel(\"Principal Component Number\")\n",
    "plt.ylabel(\"Explained Variance Ratio\")\n",
    "plt.title(' Explained Variance Ratio Plot')\n",
    "plt.legend()\n",
    "plt.show()"
   ]
  },
  {
   "cell_type": "markdown",
   "id": "213e3940",
   "metadata": {},
   "source": [
    "#### Check the weights of original features in PCs"
   ]
  },
  {
   "cell_type": "code",
   "execution_count": null,
   "id": "3678c9f2",
   "metadata": {},
   "outputs": [],
   "source": [
    "hotel_pca.components_.shape"
   ]
  },
  {
   "cell_type": "markdown",
   "id": "b45bd16f",
   "metadata": {},
   "source": [
    "- It would be very useful to plot a heatmap here, so we can see the relationship between each PC and each feature.\n",
    "- However, there are too many PCs (2,743). It would take a long time to run, and the plot would not be useful since it would be hard to see the relationship."
   ]
  },
  {
   "cell_type": "code",
   "execution_count": null,
   "id": "653670f1",
   "metadata": {},
   "outputs": [],
   "source": [
    "# All PCs will be used to train the model\n",
    "log_no = LogisticRegression(solver = 'lbfgs') \n",
    "\n",
    "log_no.fit(X_train, y_train)\n",
    "\n",
    "print(log_no.score(X_train, y_train))\n",
    "print(log_no.score(X_test, y_test))"
   ]
  },
  {
   "cell_type": "code",
   "execution_count": 79,
   "id": "24b7a61a",
   "metadata": {},
   "outputs": [
    {
     "ename": "NameError",
     "evalue": "name 'log_no' is not defined",
     "output_type": "error",
     "traceback": [
      "\u001b[0;31m---------------------------------------------------------------------------\u001b[0m",
      "\u001b[0;31mNameError\u001b[0m                                 Traceback (most recent call last)",
      "Input \u001b[0;32mIn [79]\u001b[0m, in \u001b[0;36m<cell line: 1>\u001b[0;34m()\u001b[0m\n\u001b[0;32m----> 1\u001b[0m model_summaries\u001b[38;5;241m.\u001b[39mloc[\u001b[38;5;124m'\u001b[39m\u001b[38;5;124mAll PCs\u001b[39m\u001b[38;5;124m'\u001b[39m] \u001b[38;5;241m=\u001b[39m [\u001b[43mlog_no\u001b[49m\u001b[38;5;241m.\u001b[39mscore(X_train, y_train)\u001b[38;5;241m*\u001b[39m\u001b[38;5;241m100\u001b[39m, log_no\u001b[38;5;241m.\u001b[39mscore(X_test, y_test)\u001b[38;5;241m*\u001b[39m\u001b[38;5;241m100\u001b[39m]\n",
      "\u001b[0;31mNameError\u001b[0m: name 'log_no' is not defined"
     ]
    }
   ],
   "source": [
    "model_summaries.loc['All PCs'] = [log_no.score(X_train, y_train)*100, log_no.score(X_test, y_test)*100]\n",
    "\n",
    "model_summaries.loc['All PCs']"
   ]
  },
  {
   "cell_type": "markdown",
   "id": "96a39cd2",
   "metadata": {},
   "source": [
    "#### Create a model with only the first 3 components and see how it performs"
   ]
  },
  {
   "cell_type": "code",
   "execution_count": null,
   "id": "78cb290b",
   "metadata": {},
   "outputs": [],
   "source": [
    "# Model with 3 components\n",
    "\n",
    "log_pc = LogisticRegression(solver = 'lbfgs') \n",
    "\n",
    "log_pc.fit(X_train_PC.iloc[:,:3], y_train)\n",
    "\n",
    "print(log_pc.score(X_train_PC.iloc[:,:3], y_train))\n",
    "print(log_pc.score(X_test_PC[:,:3], y_test))"
   ]
  },
  {
   "cell_type": "markdown",
   "id": "417b21ff",
   "metadata": {},
   "source": [
    "- The scores are considered very low which is not good."
   ]
  },
  {
   "cell_type": "code",
   "execution_count": null,
   "id": "4b2665ba",
   "metadata": {},
   "outputs": [],
   "source": [
    "# Model with 10 components\n",
    "\n",
    "log_pc10 = LogisticRegression(solver = 'lbfgs') \n",
    "\n",
    "log_pc10.fit(X_train_PC.iloc[:,:10], y_train)\n",
    "\n",
    "print(log_pc10.score(X_train_PC.iloc[:,:10], y_train))\n",
    "print(log_pc10.score(X_test_PC[:,:10], y_test))"
   ]
  },
  {
   "cell_type": "code",
   "execution_count": null,
   "id": "9436abfb",
   "metadata": {},
   "outputs": [],
   "source": [
    "# Model with 20 components\n",
    "\n",
    "log_pc20 = LogisticRegression(solver = 'lbfgs') \n",
    "\n",
    "log_pc20.fit(X_train_PC.iloc[:,:20], y_train)\n",
    "\n",
    "print(log_pc20.score(X_train_PC.iloc[:,:20], y_train))\n",
    "print(log_pc20.score(X_test_PC[:,:20], y_test))"
   ]
  },
  {
   "cell_type": "code",
   "execution_count": null,
   "id": "dc44b297",
   "metadata": {},
   "outputs": [],
   "source": [
    "# Model with 100 components\n",
    "\n",
    "log_pc100 = LogisticRegression(solver = 'lbfgs') \n",
    "\n",
    "log_pc100.fit(X_train_PC.iloc[:,:100], y_train)\n",
    "\n",
    "print(log_pc100.score(X_train_PC.iloc[:,:100], y_train))\n",
    "print(log_pc100.score(X_test_PC[:,:100], y_test))"
   ]
  },
  {
   "cell_type": "markdown",
   "id": "b1f345bd",
   "metadata": {},
   "source": [
    "#### Model summaries"
   ]
  },
  {
   "cell_type": "code",
   "execution_count": null,
   "id": "42b65b82",
   "metadata": {},
   "outputs": [],
   "source": [
    "model_summaries = pd.DataFrame(columns=['Train Accuracy', 'Test Accuracy'])"
   ]
  },
  {
   "cell_type": "code",
   "execution_count": null,
   "id": "6e562f13",
   "metadata": {},
   "outputs": [],
   "source": [
    "# Model summaries with 3 components\n",
    "\n",
    "model_summaries.loc['3 PCs'] = [log_pc.score(X_train_PC.iloc[:,:3], y_train)*100, log_pc.score(X_test_PC[:,:3], y_test)*100]\n",
    "\n",
    "model_summaries.loc['3 PCs']"
   ]
  },
  {
   "cell_type": "code",
   "execution_count": null,
   "id": "d2912146",
   "metadata": {},
   "outputs": [],
   "source": [
    "# Model summaries with 10 components\n",
    "\n",
    "model_summaries.loc['10 PCs'] = [log_pc10.score(X_train_PC.iloc[:,:10], y_train)*100, log_pc10.score(X_test_PC[:,:10], y_test)*100]\n",
    "\n",
    "model_summaries.loc['10 PCs']"
   ]
  },
  {
   "cell_type": "code",
   "execution_count": null,
   "id": "a61629fd",
   "metadata": {},
   "outputs": [],
   "source": [
    "# Model summaries with 20 components\n",
    "\n",
    "model_summaries.loc['20 PCs'] = [log_pc20.score(X_train_PC.iloc[:,:20], y_train)*100, log_pc20.score(X_test_PC[:,:20], y_test)*100]\n",
    "\n",
    "model_summaries.loc['20 PCs']"
   ]
  },
  {
   "cell_type": "code",
   "execution_count": null,
   "id": "60eba1cd",
   "metadata": {},
   "outputs": [],
   "source": [
    "# Model summaries with 100 components\n",
    "\n",
    "model_summaries.loc['100 PCs'] = [log_pc100.score(X_train_PC.iloc[:,:100], y_train)*100, log_pc100.score(X_test_PC[:,:100], y_test)*100]\n",
    "\n",
    "model_summaries.loc['100 PCs']"
   ]
  },
  {
   "cell_type": "markdown",
   "id": "3ec7f070",
   "metadata": {},
   "source": [
    "- We can see that with only 10 PCs (great reduction in the number of features the model had to fit on), the test accuracy dropped in less than 1% which is not significant."
   ]
  },
  {
   "cell_type": "code",
   "execution_count": null,
   "id": "aa4793f4",
   "metadata": {},
   "outputs": [],
   "source": [
    "# Logistic regression's coefficients\n",
    "\n",
    "log_pc10.coef_"
   ]
  },
  {
   "cell_type": "code",
   "execution_count": null,
   "id": "9012c151",
   "metadata": {},
   "outputs": [],
   "source": [
    "np.exp(log_pc10.coef_)"
   ]
  },
  {
   "cell_type": "code",
   "execution_count": null,
   "id": "53937017",
   "metadata": {},
   "outputs": [],
   "source": [
    "# Round every accuracy value to 2 decimal points\n",
    "# Using pd.DataFrame.applymap() to apply a function to every element of the dataframe - note it is different to pd.DataFrame.apply()\n",
    "\n",
    "model_summaries = model_summaries.applymap(lambda x: np.round(x, 2))"
   ]
  },
  {
   "cell_type": "code",
   "execution_count": null,
   "id": "bd105d5f",
   "metadata": {},
   "outputs": [],
   "source": [
    "# View the difference between the test and train accuracy\n",
    "\n",
    "model_summ = model_summaries.copy()\n",
    "model_summ['Diff'] = model_summ.apply(lambda x: x[1] - x[0], axis=1) \n",
    "# the axis is 1 here because I am calculating the difference between each row's column values \n",
    "# i.e. the function (lambda) sums column values together \n",
    "model_summ"
   ]
  },
  {
   "cell_type": "markdown",
   "id": "5aac4245",
   "metadata": {},
   "source": [
    "- Notice that at <b>10 PCs</b> is when the difference between the test and the train accuracies equals to zero."
   ]
  },
  {
   "cell_type": "code",
   "execution_count": null,
   "id": "8eb566df",
   "metadata": {},
   "outputs": [],
   "source": [
    "# Show the loadings of 10 PCA components\n",
    "# Create a dataframe of PCA components and visualizing a heatmap of PCs versus Variable to see the correlation\n",
    "\n",
    "weights = pd.DataFrame(hotel_pca.components_[:10],columns=X_train.columns,index = pca_cols[:10]).transpose()\n",
    "plt.figure(figsize=(10,5))\n",
    "sns.heatmap(round(abs(weights),2),cmap=\"Oranges\", vmin=0, vmax=1, center=0.5, annot=True, linewidths=2);"
   ]
  },
  {
   "cell_type": "markdown",
   "id": "76634884",
   "metadata": {},
   "source": [
    "#### Run-time for a logistic regression\n",
    "\n",
    "The models with 3 and 100 components will be compared since there is a big gap between the amount of the components. Moreover, we hope to see a big difference between the run-time of each model too."
   ]
  },
  {
   "cell_type": "code",
   "execution_count": 108,
   "id": "c2d3fd95",
   "metadata": {},
   "outputs": [],
   "source": [
    "#importing the time library \n",
    "import time "
   ]
  },
  {
   "cell_type": "code",
   "execution_count": null,
   "id": "1d7d0002",
   "metadata": {},
   "outputs": [],
   "source": [
    "# 3 components \n",
    "\n",
    "# Current time\n",
    "start = time.time()\n",
    "\n",
    "# Model summaries with 3 components\n",
    "model_summaries.loc['3 PCs'] = [log_pc.score(X_train_PC.iloc[:,:3], y_train)*100, log_pc.score(X_test_PC[:,:3], y_test)*100]\n",
    "\n",
    "model_summaries.loc['3 PCs']\n",
    "\n",
    "end = time.time()\n",
    "\n",
    "print(\"THE PROCESS TOOK :\",end - start)"
   ]
  },
  {
   "cell_type": "code",
   "execution_count": null,
   "id": "55cd0445",
   "metadata": {},
   "outputs": [],
   "source": [
    "# 100 components\n",
    "\n",
    "# Current time\n",
    "start = time.time()\n",
    "\n",
    "# Model summaries with 100 components\n",
    "model_summaries.loc['100 PCs'] = [log_pc100.score(X_train_PC.iloc[:,:100], y_train)*100, log_pc100.score(X_test_PC[:,:100], y_test)*100]\n",
    "\n",
    "model_summaries.loc['100 PCs']\n",
    "\n",
    "end = time.time()\n",
    "\n",
    "print(\"THE PROCESS TOOK :\",end - start)"
   ]
  },
  {
   "cell_type": "markdown",
   "id": "7f8e1cc6",
   "metadata": {},
   "source": [
    "- Although the run-time between the two models are slightly different, there is <b>less run-time when we run a model with less components.</b>"
   ]
  },
  {
   "cell_type": "markdown",
   "id": "4f702747",
   "metadata": {},
   "source": [
    "#### List some advantages and disadvantages of 'dimensionality reduction'\n",
    "\n",
    "Advantage:\n",
    "   - Less run-time\n",
    "   - Fewer features mean less complexity\n",
    "\n",
    "Disadvantage:\n",
    "   - Lost some data during the dimensionality reduction process, which can impact how well future training algorithms work\n",
    "   - Interpreting transformed characteristics might be challenging"
   ]
  },
  {
   "cell_type": "markdown",
   "id": "2038cb60",
   "metadata": {},
   "source": [
    "## K-Nearest Neighbour classifier"
   ]
  },
  {
   "cell_type": "markdown",
   "id": "d9c9ded8",
   "metadata": {},
   "source": [
    "#### Fit a KNN model to this data"
   ]
  },
  {
   "cell_type": "code",
   "execution_count": 86,
   "id": "8ec0d62e",
   "metadata": {},
   "outputs": [],
   "source": [
    "from sklearn.metrics import accuracy_score"
   ]
  },
  {
   "cell_type": "code",
   "execution_count": 88,
   "id": "4e4ac05e",
   "metadata": {},
   "outputs": [
    {
     "name": "stdout",
     "output_type": "stream",
     "text": [
      "Neighbours used during fit: 5\n",
      "Train ACC:0.7673073917799657\n",
      "Test ACC:0.648464963674713\n"
     ]
    }
   ],
   "source": [
    "KNN_model = KNeighborsClassifier().fit(X_train,y_train)\n",
    "\n",
    "print(\"Neighbours used during fit:\",KNN_model.n_neighbors)\n",
    "print(f\"Train Accuracy:{KNN_model.score(X_train,y_train)}\")\n",
    "print(f\"Test Accuracy:{KNN_model.score(X_test,y_test)}\")"
   ]
  },
  {
   "cell_type": "markdown",
   "id": "b9b55204",
   "metadata": {},
   "source": [
    "#### Reduce the number of observations (data points) in the dataset\n",
    "\n",
    "The KNN models with 10, 100, and 1,000 data points will be compared since there are big gaps between the amount of the data points. Moreover, we hope to see a big difference between the run-time of each model too."
   ]
  },
  {
   "cell_type": "code",
   "execution_count": 109,
   "id": "d7673571",
   "metadata": {},
   "outputs": [],
   "source": [
    "# 10 data points\n",
    "s10_train_df = train_df.sample(10)\n",
    "s10_test_df = test_df.sample(10)\n",
    "\n",
    "# Assign X and y to 's10_train_df' dataset\n",
    "# Independent variables\n",
    "# All columns but 'rating'\n",
    "X_train_s10 = s10_train_df.drop(columns = ['rating'], axis = 1)\n",
    "\n",
    "# Dependent variable\n",
    "y_trains_s10 = s10_train_df['rating']\n",
    "\n",
    "# Assign X and y to 's10_test_df' dataset\n",
    "# Independent variables\n",
    "# All columns but 'rating'\n",
    "X_test_s10 = s10_test_df.drop(columns = ['rating'], axis = 1)\n",
    "\n",
    "# Dependent variable\n",
    "y_test_s10 = s10_test_df['rating']"
   ]
  },
  {
   "cell_type": "code",
   "execution_count": 110,
   "id": "3226192b",
   "metadata": {},
   "outputs": [],
   "source": [
    "# 100 data points\n",
    "s100_train_df = train_df.sample(100)\n",
    "s100_test_df = test_df.sample(100)\n",
    "\n",
    "# Assign X and y to 's100_train_df' dataset\n",
    "# Independent variables\n",
    "# All columns but 'rating'\n",
    "X_train_s100 = s100_train_df.drop(columns = ['rating'], axis = 1)\n",
    "\n",
    "# Dependent variable\n",
    "y_trains_s100 = s100_train_df['rating']\n",
    "\n",
    "# Assign X and y to 's100_test_df' dataset\n",
    "# Independent variables\n",
    "# All columns but 'rating'\n",
    "X_test_s100 = s100_test_df.drop(columns = ['rating'], axis = 1)\n",
    "\n",
    "# Dependent variable\n",
    "y_test_s100 = s100_test_df['rating']"
   ]
  },
  {
   "cell_type": "code",
   "execution_count": 111,
   "id": "b38a5ef8",
   "metadata": {},
   "outputs": [],
   "source": [
    "# 1000 data points\n",
    "s1000_train_df = train_df.sample(1000)\n",
    "s1000_test_df = test_df.sample(1000)\n",
    "\n",
    "# Assign X and y to 's1000_train_df' dataset\n",
    "# Independent variables\n",
    "# All columns but 'rating'\n",
    "X_train_s1000 = s1000_train_df.drop(columns = ['rating'], axis = 1)\n",
    "\n",
    "# Dependent variable\n",
    "y_trains_s1000 = s1000_train_df['rating']\n",
    "\n",
    "# Assign X and y to 's10_df' dataset\n",
    "# Independent variables\n",
    "# All columns but 'rating'\n",
    "X_test_s1000 = s1000_test_df.drop(columns = ['rating'], axis = 1)\n",
    "\n",
    "# Dependent variable\n",
    "y_test_s1000 = s1000_test_df['rating']"
   ]
  },
  {
   "cell_type": "code",
   "execution_count": 112,
   "id": "c43164a1",
   "metadata": {},
   "outputs": [
    {
     "name": "stdout",
     "output_type": "stream",
     "text": [
      "Train Accuracy:0.6\n",
      "Test Accuracy:0.8\n",
      "THE PROCESS TOOK : 0.07363390922546387\n"
     ]
    }
   ],
   "source": [
    "# 10 data points\n",
    "\n",
    "# Current time\n",
    "start = time.time()\n",
    "\n",
    "KNN_model = KNeighborsClassifier(n_neighbors = 5).fit(X_train_s10,y_trains_s10)\n",
    "\n",
    "print(f\"Train Accuracy:{KNN_model.score(X_train_s10,y_trains_s10)}\")\n",
    "print(f\"Test Accuracy:{KNN_model.score(X_test_s10,y_test_s10)}\")\n",
    "\n",
    "end = time.time()\n",
    "\n",
    "print(\"THE PROCESS TOOK :\",end - start)"
   ]
  },
  {
   "cell_type": "code",
   "execution_count": 113,
   "id": "ed0d157a",
   "metadata": {},
   "outputs": [
    {
     "name": "stdout",
     "output_type": "stream",
     "text": [
      "Train Accuracy:0.72\n",
      "Test Accuracy:0.57\n",
      "THE PROCESS TOOK : 0.08794188499450684\n"
     ]
    }
   ],
   "source": [
    "# 100 data points\n",
    "\n",
    "# Current time\n",
    "start = time.time()\n",
    "\n",
    "KNN_model = KNeighborsClassifier(n_neighbors = 5).fit(X_train_s100,y_trains_s100)\n",
    "\n",
    "print(f\"Train Accuracy:{KNN_model.score(X_train_s100,y_trains_s100)}\")\n",
    "print(f\"Test Accuracy:{KNN_model.score(X_test_s100,y_test_s100)}\")\n",
    "\n",
    "end = time.time()\n",
    "\n",
    "print(\"THE PROCESS TOOK :\",end - start)"
   ]
  },
  {
   "cell_type": "code",
   "execution_count": 114,
   "id": "4e99e55a",
   "metadata": {},
   "outputs": [
    {
     "name": "stdout",
     "output_type": "stream",
     "text": [
      "Train Accuracy:0.724\n",
      "Test Accuracy:0.578\n",
      "THE PROCESS TOOK : 0.34137606620788574\n"
     ]
    }
   ],
   "source": [
    "# 1000 data points\n",
    "\n",
    "# Current time\n",
    "start = time.time()\n",
    "\n",
    "KNN_model = KNeighborsClassifier(n_neighbors = 5).fit(X_train_s1000,y_trains_s1000)\n",
    "\n",
    "print(f\"Train Accuracy:{KNN_model.score(X_train_s1000,y_trains_s1000)}\")\n",
    "print(f\"Test Accuracy:{KNN_model.score(X_test_s1000,y_test_s1000)}\")\n",
    "\n",
    "end = time.time()\n",
    "\n",
    "print(\"THE PROCESS TOOK :\",end - start)"
   ]
  },
  {
   "cell_type": "markdown",
   "id": "bdf30956",
   "metadata": {},
   "source": [
    "- Although the run-time between the two models, 10 and 100 data points, are slightly different, there is <b>less run-time when we run a model with less data points.</b>\n",
    "- Moreover, the run-time on the 1,000 data points is the highest. The difference between this run-time and the previous two's are significantly different."
   ]
  },
  {
   "cell_type": "markdown",
   "id": "ed5fcb3e",
   "metadata": {},
   "source": [
    "#### List one advantage and one disadvantage of 'reducing the number of observations'\n",
    "\n",
    "Advantage:\n",
    "   - Less run-time\n",
    "\n",
    "Disadvantage:\n",
    "   - Lost some data during the dimensionality reduction process, which can impact how well future training algorithms work"
   ]
  },
  {
   "cell_type": "markdown",
   "id": "a927b507",
   "metadata": {},
   "source": [
    "#### Use the dataset to find an optimal value for K in the KNN algorithm. You will need to split your dataset into train and validation sets."
   ]
  },
  {
   "cell_type": "code",
   "execution_count": 127,
   "id": "5d919755",
   "metadata": {},
   "outputs": [],
   "source": [
    "# Assign X and y to 'test_df' dataset\n",
    "\n",
    "# Independent variables\n",
    "# All columns but 'rating'\n",
    "X_test = test_df.drop(columns = ['rating'], axis = 1)\n",
    "\n",
    "# Dependent variable\n",
    "y_test = test_df['rating']"
   ]
  },
  {
   "cell_type": "code",
   "execution_count": 128,
   "id": "a6e22e22",
   "metadata": {},
   "outputs": [],
   "source": [
    "# Assign X and y to 'train_df' dataset\n",
    "\n",
    "# Independent variables\n",
    "# All columns but 'rating'\n",
    "X_train = train_df.drop(columns = ['rating'], axis = 1)\n",
    "\n",
    "# Dependent variable\n",
    "y_train = train_df['rating']"
   ]
  },
  {
   "cell_type": "code",
   "execution_count": 132,
   "id": "620d53a6",
   "metadata": {},
   "outputs": [],
   "source": [
    "w"
   ]
  },
  {
   "cell_type": "code",
   "execution_count": 133,
   "id": "a06e04b1",
   "metadata": {},
   "outputs": [
    {
     "data": {
      "image/png": "[encoded data removed]",
      "text/plain": [
       "<Figure size 720x504 with 1 Axes>"
      ]
     },
     "metadata": {
      "needs_background": "light"
     },
     "output_type": "display_data"
    }
   ],
   "source": [
    "# Create a line plot\n",
    "\n",
    "plt.figure(figsize=(10, 7))\n",
    "plt.plot(k_values, train_scores, c='blue', label='train')\n",
    "plt.plot(k_values, validation_scores, c='red', label='validation')\n",
    "plt.xlabel('n neighbors')\n",
    "plt.ylabel('accuracy')\n",
    "plt.title(\"KNN number of neighbors parameter tuning\")\n",
    "plt.legend()\n",
    "plt.show()"
   ]
  },
  {
   "cell_type": "markdown",
   "id": "7143d365",
   "metadata": {},
   "source": [
    "- According to the plot, the highest validation accuracy is achieved for small Ks.\n",
    "- Also, it seems to be an <b>intercept in the area where n neighbors is between 40 to 50.</b>"
   ]
  },
  {
   "cell_type": "markdown",
   "id": "bf1829f1",
   "metadata": {},
   "source": [
    "Look for the point in the chart where the training and validation accuracy is closest or intercept:"
   ]
  },
  {
   "cell_type": "code",
   "execution_count": 134,
   "id": "f9901c18",
   "metadata": {},
   "outputs": [
    {
     "data": {
      "text/plain": [
       "47"
      ]
     },
     "execution_count": 134,
     "metadata": {},
     "output_type": "execute_result"
    }
   ],
   "source": [
    "# the index of the minimal distance\n",
    "\n",
    "best_idx = np.argmin(np.abs(np.array(train_scores) - np.array(validation_scores)))\n",
    "k_values[best_idx]"
   ]
  },
  {
   "cell_type": "code",
   "execution_count": 135,
   "id": "031ab3c9",
   "metadata": {},
   "outputs": [
    {
     "name": "stdout",
     "output_type": "stream",
     "text": [
      "An optimal value for K in the KNN algorithm is 47.\n"
     ]
    }
   ],
   "source": [
    "print(f\"An optimal value for K in the KNN algorithm is {k_values[best_idx]}.\")"
   ]
  },
  {
   "cell_type": "code",
   "execution_count": 136,
   "id": "0b8bc8a7",
   "metadata": {},
   "outputs": [
    {
     "name": "stdout",
     "output_type": "stream",
     "text": [
      "Final test score: 0.7197093977033044\n"
     ]
    }
   ],
   "source": [
    "# Re-fit the model\n",
    "\n",
    "scaler = StandardScaler()\n",
    "scaler.fit(X_remainder)\n",
    "\n",
    "X_remainder = scaler.transform(X_remainder)\n",
    "X_test = scaler.transform(X_test)\n",
    "\n",
    "final_dt = KNeighborsClassifier(n_neighbors = k_values[best_idx])\n",
    "final_dt.fit(X_remainder, y_remainder)\n",
    "\n",
    "# Score on the test set\n",
    "print('Final test score:', final_dt.score(X_test, y_test))"
   ]
  },
  {
   "cell_type": "markdown",
   "id": "f94aaf21",
   "metadata": {},
   "source": [
    "#### What is the issue with splitting the data into train and validation sets after performing vectorization\n",
    "\n",
    "- Splitting the data into training and validation sets before performing vectorization is a common practice in machine learning. This is because the validation set is used to evaluate the performance of the model on unseen data, and thus it should not be used in any way to influence the feature extraction process.\n",
    "\n",
    "- If the vectorization is performed before the split, the validation set might leak information about the training set into the feature extraction process. This is because the vectorization process is often influenced by the characteristics of the data it is applied to. As a result, the validation set might contain information that the model has already \"seen\" during the vectorization process, which can lead to overly optimistic performance estimates.\n",
    "\n",
    "- Therefore, it is better to split the data into training and validation sets before performing vectorization. This ensures that the validation set is completely independent of the training set and any information contained in it."
   ]
  },
  {
   "cell_type": "markdown",
   "id": "64468cda",
   "metadata": {},
   "source": [
    "## Decision Tree Classifier"
   ]
  },
  {
   "cell_type": "markdown",
   "id": "ea806ca1",
   "metadata": {},
   "source": [
    "#### Fit a decision tree model to this data"
   ]
  },
  {
   "cell_type": "code",
   "execution_count": 137,
   "id": "f5c3bf2c",
   "metadata": {},
   "outputs": [
    {
     "name": "stdout",
     "output_type": "stream",
     "text": [
      "The train classification accuracy is:  1.0\n",
      "The test classification accuracy is:  0.7009608624326225\n"
     ]
    }
   ],
   "source": [
    "#Fit the model to the train dataframe\n",
    "\n",
    "DT_model = DecisionTreeClassifier()\n",
    "DT_model.fit(X_train, y_train)\n",
    "\n",
    "print(f\"The train classification accuracy is:  {DT_model.score(X_train,y_train)}\")\n",
    "print(f\"The test classification accuracy is:  {DT_model.score(X_test,y_test)}\")"
   ]
  },
  {
   "cell_type": "markdown",
   "id": "11ceb71b",
   "metadata": {},
   "source": [
    "#### Use the data set (or a subsample) to find an optimal value for the maximum depth of the decision tree"
   ]
  },
  {
   "cell_type": "code",
   "execution_count": 138,
   "id": "2efbe9ae",
   "metadata": {
    "scrolled": false
   },
   "outputs": [
    {
     "data": {
      "image/png": "[encoded data removed]",
      "text/plain": [
       "<Figure size 720x504 with 1 Axes>"
      ]
     },
     "metadata": {
      "needs_background": "light"
     },
     "output_type": "display_data"
    }
   ],
   "source": [
    "from sklearn.tree import DecisionTreeClassifier\n",
    "\n",
    "depths = list(range(1, int(np.sqrt(len(X_train)))))\n",
    "train_scores = []\n",
    "validation_scores = []\n",
    "\n",
    "for d in depths:    \n",
    "    dt = DecisionTreeClassifier(max_depth = d)\n",
    "    dt.fit(X_train, y_train)\n",
    "    \n",
    "    # Evaluate\n",
    "    train_scores.append(dt.score(X_train, y_train))\n",
    "    validation_scores.append(dt.score(X_validation, y_validation))\n",
    "    \n",
    "plt.figure(figsize=(10, 7))\n",
    "plt.plot(depths, train_scores, c='blue', label='train')\n",
    "plt.plot(depths, validation_scores, c='red', label='validation')\n",
    "plt.xlabel('max_depth')\n",
    "plt.ylabel('accuracy')\n",
    "plt.title(\"Decision tree max_depth tuning\")\n",
    "plt.legend()\n",
    "plt.show()"
   ]
  },
  {
   "cell_type": "markdown",
   "id": "2205dbac",
   "metadata": {},
   "source": [
    "- The best Decision Tree model gave accuracy around <b>60% with max_depth below 10.</b>"
   ]
  },
  {
   "cell_type": "markdown",
   "id": "6a8d4f93",
   "metadata": {},
   "source": [
    "#### Compare the accuracies between some max_depth values"
   ]
  },
  {
   "cell_type": "code",
   "execution_count": 139,
   "id": "2ffb91d0",
   "metadata": {},
   "outputs": [
    {
     "name": "stdout",
     "output_type": "stream",
     "text": [
      "The train classification accuracy is:  0.6406469760900141\n",
      "The test classification accuracy is:  0.6318256386219827\n"
     ]
    }
   ],
   "source": [
    "# Max_depth = 1\n",
    "\n",
    "DT_model1 = DecisionTreeClassifier(max_depth = 1)\n",
    "DT_model1.fit(X_train, y_train)\n",
    "\n",
    "print(f\"The train classification accuracy is:  {DT_model1.score(X_train,y_train)}\")\n",
    "print(f\"The test classification accuracy is:  {DT_model1.score(X_test,y_test)}\")"
   ]
  },
  {
   "cell_type": "code",
   "execution_count": 140,
   "id": "f5b560e6",
   "metadata": {},
   "outputs": [
    {
     "name": "stdout",
     "output_type": "stream",
     "text": [
      "The train classification accuracy is:  0.7551961243944366\n",
      "The test classification accuracy is:  0.739629716428404\n"
     ]
    }
   ],
   "source": [
    "# Max_depth = 5\n",
    "\n",
    "DT_model5 = DecisionTreeClassifier(max_depth = 5)\n",
    "DT_model5.fit(X_train, y_train)\n",
    "\n",
    "print(f\"The train classification accuracy is:  {DT_model5.score(X_train,y_train)}\")\n",
    "print(f\"The test classification accuracy is:  {DT_model5.score(X_test,y_test)}\")"
   ]
  },
  {
   "cell_type": "code",
   "execution_count": 141,
   "id": "09128983",
   "metadata": {},
   "outputs": [
    {
     "name": "stdout",
     "output_type": "stream",
     "text": [
      "The train classification accuracy is:  0.8246601031411158\n",
      "The test classification accuracy is:  0.7358800093742677\n"
     ]
    }
   ],
   "source": [
    "# Max_depth = 10\n",
    "\n",
    "DT_model10 = DecisionTreeClassifier(max_depth = 10)\n",
    "DT_model10.fit(X_train, y_train)\n",
    "\n",
    "print(f\"The train classification accuracy is:  {DT_model10.score(X_train,y_train)}\")\n",
    "print(f\"The test classification accuracy is:  {DT_model10.score(X_test,y_test)}\")"
   ]
  },
  {
   "cell_type": "markdown",
   "id": "31d12f16",
   "metadata": {},
   "source": [
    "#### Two advantages of decision trees over KNN\n",
    "\n",
    "- Decision tree supports automatic feature interaction, whereas KNN does not.\n",
    "- Decision tree is faster due to KNN's expensive real time execution."
   ]
  },
  {
   "cell_type": "markdown",
   "id": "34333e9c",
   "metadata": {},
   "source": [
    "#### Two weaknesses of decision trees (classification or regression trees)\n",
    "\n",
    "- Decision tree model may change considerably by a small change in the data. \n",
    "- Decision-tree learners can create over-complex trees that do not generalize the data well. This is called overfitting. "
   ]
  },
  {
   "cell_type": "markdown",
   "id": "0b0704cf",
   "metadata": {},
   "source": [
    "## Purpose of the Validation Set \n",
    "\n",
    "- The purpose of the validation set is to find and optimize the best model to solve a given problem. Moreover, this validation process gives information that helps tune the model's hyperparameters and configurations accordingly.\n",
    "\n",
    "- The `validation set` <b>is used to optimize the model parameters</b> while the `test set` <b>is used to provide an unbiased estimate of the final model.</b>"
   ]
  },
  {
   "cell_type": "markdown",
   "id": "c9995ecc",
   "metadata": {},
   "source": [
    "## Re-run a Decision Tree or Logistic Regression"
   ]
  },
  {
   "cell_type": "markdown",
   "id": "d9d3da8b",
   "metadata": {},
   "source": [
    "#### Perform a 5-fold cross validation to optimize the hyperparameters of the model"
   ]
  },
  {
   "cell_type": "code",
   "execution_count": 143,
   "id": "cdfd8053",
   "metadata": {},
   "outputs": [
    {
     "name": "stdout",
     "output_type": "stream",
     "text": [
      "[0.73782497 0.72720615 0.73479853 0.73186813 0.73699634]\n"
     ]
    }
   ],
   "source": [
    "# Instanitate model\n",
    "my_logreg = LogisticRegression(random_state=1)\n",
    "\n",
    "# Fit model on 5 folds.\n",
    "# The variable \"scores\" will hold 5 accuracy scores, \n",
    "# each from a different train and validation split\n",
    "scores = cross_val_score(my_logreg, X_remainder, y_remainder, cv = 5)\n",
    "print(scores)"
   ]
  },
  {
   "cell_type": "code",
   "execution_count": 144,
   "id": "e8632617",
   "metadata": {},
   "outputs": [
    {
     "name": "stdout",
     "output_type": "stream",
     "text": [
      "Fold 1: 0.737824972537532\n",
      "Fold 2: 0.7272061515928231\n",
      "Fold 3: 0.7347985347985349\n",
      "Fold 4: 0.7318681318681318\n",
      "Fold 5: 0.736996336996337\n"
     ]
    }
   ],
   "source": [
    "# Every score corresponds to a fold\n",
    "\n",
    "for i in range(len(scores)) :\n",
    "    print(f\"Fold {i+1}: {scores[i]}\")"
   ]
  },
  {
   "cell_type": "code",
   "execution_count": 145,
   "id": "762e19f7",
   "metadata": {},
   "outputs": [
    {
     "name": "stdout",
     "output_type": "stream",
     "text": [
      "Average Score:0.7337388255586718\n"
     ]
    }
   ],
   "source": [
    "# The average score over the 5 folds\n",
    "\n",
    "print(f\"Average Score:{np.mean(scores)}\")"
   ]
  },
  {
   "cell_type": "markdown",
   "id": "5750b2e5",
   "metadata": {},
   "source": [
    "#### Fit a logistic regression to predict the ratings, and see how the model performs"
   ]
  },
  {
   "cell_type": "code",
   "execution_count": 146,
   "id": "1723a6dd",
   "metadata": {
    "scrolled": true
   },
   "outputs": [
    {
     "data": {
      "text/html": [
       "<style>#sk-container-id-2 {color: black;background-color: white;}#sk-container-id-2 pre{padding: 0;}#sk-container-id-2 div.sk-toggleable {background-color: white;}#sk-container-id-2 label.sk-toggleable__label {cursor: pointer;display: block;width: 100%;margin-bottom: 0;padding: 0.3em;box-sizing: border-box;text-align: center;}#sk-container-id-2 label.sk-toggleable__label-arrow:before {content: \"▸\";float: left;margin-right: 0.25em;color: #696969;}#sk-container-id-2 label.sk-toggleable__label-arrow:hover:before {color: black;}#sk-container-id-2 div.sk-estimator:hover label.sk-toggleable__label-arrow:before {color: black;}#sk-container-id-2 div.sk-toggleable__content {max-height: 0;max-width: 0;overflow: hidden;text-align: left;background-color: #f0f8ff;}#sk-container-id-2 div.sk-toggleable__content pre {margin: 0.2em;color: black;border-radius: 0.25em;background-color: #f0f8ff;}#sk-container-id-2 input.sk-toggleable__control:checked~div.sk-toggleable__content {max-height: 200px;max-width: 100%;overflow: auto;}#sk-container-id-2 input.sk-toggleable__control:checked~label.sk-toggleable__label-arrow:before {content: \"▾\";}#sk-container-id-2 div.sk-estimator input.sk-toggleable__control:checked~label.sk-toggleable__label {background-color: #d4ebff;}#sk-container-id-2 div.sk-label input.sk-toggleable__control:checked~label.sk-toggleable__label {background-color: #d4ebff;}#sk-container-id-2 input.sk-hidden--visually {border: 0;clip: rect(1px 1px 1px 1px);clip: rect(1px, 1px, 1px, 1px);height: 1px;margin: -1px;overflow: hidden;padding: 0;position: absolute;width: 1px;}#sk-container-id-2 div.sk-estimator {font-family: monospace;background-color: #f0f8ff;border: 1px dotted black;border-radius: 0.25em;box-sizing: border-box;margin-bottom: 0.5em;}#sk-container-id-2 div.sk-estimator:hover {background-color: #d4ebff;}#sk-container-id-2 div.sk-parallel-item::after {content: \"\";width: 100%;border-bottom: 1px solid gray;flex-grow: 1;}#sk-container-id-2 div.sk-label:hover label.sk-toggleable__label {background-color: #d4ebff;}#sk-container-id-2 div.sk-serial::before {content: \"\";position: absolute;border-left: 1px solid gray;box-sizing: border-box;top: 0;bottom: 0;left: 50%;z-index: 0;}#sk-container-id-2 div.sk-serial {display: flex;flex-direction: column;align-items: center;background-color: white;padding-right: 0.2em;padding-left: 0.2em;position: relative;}#sk-container-id-2 div.sk-item {position: relative;z-index: 1;}#sk-container-id-2 div.sk-parallel {display: flex;align-items: stretch;justify-content: center;background-color: white;position: relative;}#sk-container-id-2 div.sk-item::before, #sk-container-id-2 div.sk-parallel-item::before {content: \"\";position: absolute;border-left: 1px solid gray;box-sizing: border-box;top: 0;bottom: 0;left: 50%;z-index: -1;}#sk-container-id-2 div.sk-parallel-item {display: flex;flex-direction: column;z-index: 1;position: relative;background-color: white;}#sk-container-id-2 div.sk-parallel-item:first-child::after {align-self: flex-end;width: 50%;}#sk-container-id-2 div.sk-parallel-item:last-child::after {align-self: flex-start;width: 50%;}#sk-container-id-2 div.sk-parallel-item:only-child::after {width: 0;}#sk-container-id-2 div.sk-dashed-wrapped {border: 1px dashed gray;margin: 0 0.4em 0.5em 0.4em;box-sizing: border-box;padding-bottom: 0.4em;background-color: white;}#sk-container-id-2 div.sk-label label {font-family: monospace;font-weight: bold;display: inline-block;line-height: 1.2em;}#sk-container-id-2 div.sk-label-container {text-align: center;}#sk-container-id-2 div.sk-container {/* jupyter's `normalize.less` sets `[hidden] { display: none; }` but bootstrap.min.css set `[hidden] { display: none !important; }` so we also need the `!important` here to be able to override the default hidden behavior on the sphinx rendered scikit-learn.org. See: https://github.com/scikit-learn/scikit-learn/issues/21755 */display: inline-block !important;position: relative;}#sk-container-id-2 div.sk-text-repr-fallback {display: none;}</style><div id=\"sk-container-id-2\" class=\"sk-top-container\"><div class=\"sk-text-repr-fallback\"><pre>LogisticRegression(max_iter=1000, random_state=1)</pre><b>In a Jupyter environment, please rerun this cell to show the HTML representation or trust the notebook. <br />On GitHub, the HTML representation is unable to render, please try loading this page with nbviewer.org.</b></div><div class=\"sk-container\" hidden><div class=\"sk-item\"><div class=\"sk-estimator sk-toggleable\"><input class=\"sk-toggleable__control sk-hidden--visually\" id=\"sk-estimator-id-2\" type=\"checkbox\" checked><label for=\"sk-estimator-id-2\" class=\"sk-toggleable__label sk-toggleable__label-arrow\">LogisticRegression</label><div class=\"sk-toggleable__content\"><pre>LogisticRegression(max_iter=1000, random_state=1)</pre></div></div></div></div></div>"
      ],
      "text/plain": [
       "LogisticRegression(max_iter=1000, random_state=1)"
      ]
     },
     "execution_count": 146,
     "metadata": {},
     "output_type": "execute_result"
    }
   ],
   "source": [
    "# Instantiate model\n",
    "hotel_logit = LogisticRegression(solver='lbfgs', random_state=1, max_iter=1000)\n",
    "\n",
    "# Fit model\n",
    "hotel_logit.fit(X_train, y_train)"
   ]
  },
  {
   "cell_type": "code",
   "execution_count": 148,
   "id": "d105c475",
   "metadata": {},
   "outputs": [
    {
     "name": "stdout",
     "output_type": "stream",
     "text": [
      "Score on train: 0.885841537740272\n",
      "Score on test: 0.7337707991563159\n"
     ]
    }
   ],
   "source": [
    "# Score model\n",
    "\n",
    "print(f\"Score on train set: {hotel_logit.score(X_train, y_train)}\")\n",
    "print(f\"Score on test set: {hotel_logit.score(X_test, y_test)}\")"
   ]
  },
  {
   "cell_type": "markdown",
   "id": "94868737",
   "metadata": {},
   "source": [
    "- At this point, it is approximately 88.5% accuracy on the train set and 73.3% accuracy on the test set."
   ]
  },
  {
   "cell_type": "markdown",
   "id": "3a66b0c3",
   "metadata": {},
   "source": [
    "#### What does your confusion matrix look like for your best model on the test set?"
   ]
  },
  {
   "cell_type": "code",
   "execution_count": 150,
   "id": "0778eb4e",
   "metadata": {},
   "outputs": [
    {
     "data": {
      "text/html": [
       "<div>\n",
       "<style scoped>\n",
       "    .dataframe tbody tr th:only-of-type {\n",
       "        vertical-align: middle;\n",
       "    }\n",
       "\n",
       "    .dataframe tbody tr th {\n",
       "        vertical-align: top;\n",
       "    }\n",
       "\n",
       "    .dataframe thead th {\n",
       "        text-align: right;\n",
       "    }\n",
       "</style>\n",
       "<table border=\"1\" class=\"dataframe\">\n",
       "  <thead>\n",
       "    <tr style=\"text-align: right;\">\n",
       "      <th></th>\n",
       "      <th>Predicted Good Ratings</th>\n",
       "      <th>Predicted Not Good Ratings</th>\n",
       "    </tr>\n",
       "  </thead>\n",
       "  <tbody>\n",
       "    <tr>\n",
       "      <th>True Good Ratings</th>\n",
       "      <td>1236</td>\n",
       "      <td>573</td>\n",
       "    </tr>\n",
       "    <tr>\n",
       "      <th>True Not Good Ratings</th>\n",
       "      <td>563</td>\n",
       "      <td>1895</td>\n",
       "    </tr>\n",
       "  </tbody>\n",
       "</table>\n",
       "</div>"
      ],
      "text/plain": [
       "                       Predicted Good Ratings  Predicted Not Good Ratings\n",
       "True Good Ratings                        1236                         573\n",
       "True Not Good Ratings                     563                        1895"
      ]
     },
     "metadata": {},
     "output_type": "display_data"
    }
   ],
   "source": [
    "# Get class predictions\n",
    "y_pred = hotel_logit.predict(X_test)\n",
    "\n",
    "# Generate confusion matrix\n",
    "cf_matrix = confusion_matrix(y_test, y_pred)\n",
    "\n",
    "# label rows and columns\n",
    "cf_df = pd.DataFrame(\n",
    "    cf_matrix, \n",
    "    columns=[\"Predicted Good Ratings\", \"Predicted Not Good Ratings\"],\n",
    "    index=[\"True Good Ratings\", \"True Not Good Ratings\"]\n",
    ")\n",
    "\n",
    "display(cf_df)"
   ]
  },
  {
   "cell_type": "code",
   "execution_count": 153,
   "id": "17256a36",
   "metadata": {
    "scrolled": true
   },
   "outputs": [
    {
     "data": {
      "image/png": "[encoded data removed]",
      "text/plain": [
       "<Figure size 432x288 with 2 Axes>"
      ]
     },
     "metadata": {
      "needs_background": "light"
     },
     "output_type": "display_data"
    }
   ],
   "source": [
    "# The function expects the estimator, inputs and target as parameters\n",
    "from sklearn.metrics import ConfusionMatrixDisplay\n",
    "\n",
    "ConfusionMatrixDisplay.from_estimator(hotel_logit, X_test, y_test);"
   ]
  },
  {
   "cell_type": "markdown",
   "id": "c15d3481",
   "metadata": {},
   "source": [
    "- <b>TP</b>: The vast majority of data points are from class 1 and they were correctly predicted as bad ratings.\n",
    "- <b>FN</b>: There was a small number of bad ratings that was incorrectly classified as good ratings.\n",
    "- <b>FP</b>: There was also a small number of good ratings that was incorrectly classified as bad ratings."
   ]
  },
  {
   "cell_type": "code",
   "execution_count": 154,
   "id": "4db96f3b",
   "metadata": {},
   "outputs": [
    {
     "name": "stdout",
     "output_type": "stream",
     "text": [
      "573 good ratings were misclassified as bad ratings.\n"
     ]
    }
   ],
   "source": [
    "# Select the FP from the confusion matrix\n",
    "# true label 0 & predicted label 1\n",
    "\n",
    "fp = cf_matrix[0, 1]\n",
    "\n",
    "print(f\"{fp} good ratings were misclassified as bad ratings.\")"
   ]
  },
  {
   "cell_type": "code",
   "execution_count": 156,
   "id": "83df0d07",
   "metadata": {},
   "outputs": [
    {
     "name": "stdout",
     "output_type": "stream",
     "text": [
      "1236 good ratings were predicted correctly by the model out of 1809 ratings.\n"
     ]
    }
   ],
   "source": [
    "# Select the TN from the confusion matrix\n",
    "# true label 0 & predicted label 0\n",
    "\n",
    "tn = cf_matrix[0, 0]\n",
    "\n",
    "# total number of true label 1\n",
    "num_rating = cf_matrix[0, :].sum()\n",
    "\n",
    "print(f\"{tn} good ratings were predicted correctly by the model out of {num_rating} ratings.\")"
   ]
  },
  {
   "cell_type": "code",
   "execution_count": 157,
   "id": "8819ecbb",
   "metadata": {},
   "outputs": [
    {
     "name": "stdout",
     "output_type": "stream",
     "text": [
      "1895 bad ratings were predicted correctly by the model out of 2458 ratings.\n"
     ]
    }
   ],
   "source": [
    "# select the TP from the confusion matrix\n",
    "# true label 1 & predicted label 1\n",
    "tp = cf_matrix[1, 1]\n",
    "\n",
    "# total number of true label 1\n",
    "num_rating = cf_matrix[1, :].sum()\n",
    "\n",
    "print(f\"{tp} bad ratings were predicted correctly by the model out of {num_rating} ratings.\")"
   ]
  },
  {
   "cell_type": "code",
   "execution_count": 159,
   "id": "58eefcee",
   "metadata": {},
   "outputs": [
    {
     "name": "stdout",
     "output_type": "stream",
     "text": [
      "1895 bad ratings were misclassified as good ratings.\n"
     ]
    }
   ],
   "source": [
    "# select the FN from the confusion matrix\n",
    "# true label 1 & predicted label 0\n",
    "fn = cf_matrix[1, 0]\n",
    "\n",
    "print(f\"{tp} bad ratings were misclassified as good ratings.\")"
   ]
  },
  {
   "cell_type": "markdown",
   "id": "5ce2a056",
   "metadata": {},
   "source": [
    "## Create One New Feature"
   ]
  },
  {
   "cell_type": "markdown",
   "id": "fada8d01",
   "metadata": {},
   "source": [
    "#### Explain your new feature and why you consider it will improve accuracy"
   ]
  },
  {
   "cell_type": "code",
   "execution_count": 162,
   "id": "d5504834",
   "metadata": {},
   "outputs": [
    {
     "data": {
      "text/html": [
       "<div>\n",
       "<style scoped>\n",
       "    .dataframe tbody tr th:only-of-type {\n",
       "        vertical-align: middle;\n",
       "    }\n",
       "\n",
       "    .dataframe tbody tr th {\n",
       "        vertical-align: top;\n",
       "    }\n",
       "\n",
       "    .dataframe thead th {\n",
       "        text-align: right;\n",
       "    }\n",
       "</style>\n",
       "<table border=\"1\" class=\"dataframe\">\n",
       "  <thead>\n",
       "    <tr style=\"text-align: right;\">\n",
       "      <th></th>\n",
       "      <th>Additional_Number_of_Scoring</th>\n",
       "      <th>Average_Score</th>\n",
       "      <th>Review_Total_Negative_Word_Counts</th>\n",
       "      <th>Total_Number_of_Reviews</th>\n",
       "      <th>Review_Total_Positive_Word_Counts</th>\n",
       "      <th>Total_Number_of_Reviews_Reviewer_Has_Given</th>\n",
       "      <th>days_since_review</th>\n",
       "      <th>lat</th>\n",
       "      <th>lng</th>\n",
       "      <th>weekday_of_review</th>\n",
       "      <th>...</th>\n",
       "      <th>n_worth</th>\n",
       "      <th>n_would</th>\n",
       "      <th>n_write</th>\n",
       "      <th>n_wrong</th>\n",
       "      <th>n_year</th>\n",
       "      <th>n_yes</th>\n",
       "      <th>n_yet</th>\n",
       "      <th>n_young</th>\n",
       "      <th>rating</th>\n",
       "      <th>Total_Num_of_Word_Counts</th>\n",
       "    </tr>\n",
       "  </thead>\n",
       "  <tbody>\n",
       "    <tr>\n",
       "      <th>0</th>\n",
       "      <td>620</td>\n",
       "      <td>9.0</td>\n",
       "      <td>0</td>\n",
       "      <td>1974</td>\n",
       "      <td>164</td>\n",
       "      <td>1</td>\n",
       "      <td>562</td>\n",
       "      <td>51.506558</td>\n",
       "      <td>-0.004514</td>\n",
       "      <td>1</td>\n",
       "      <td>...</td>\n",
       "      <td>0</td>\n",
       "      <td>0</td>\n",
       "      <td>0</td>\n",
       "      <td>0</td>\n",
       "      <td>0</td>\n",
       "      <td>0</td>\n",
       "      <td>0</td>\n",
       "      <td>0</td>\n",
       "      <td>1</td>\n",
       "      <td>164</td>\n",
       "    </tr>\n",
       "    <tr>\n",
       "      <th>1</th>\n",
       "      <td>1258</td>\n",
       "      <td>9.4</td>\n",
       "      <td>6</td>\n",
       "      <td>4204</td>\n",
       "      <td>4</td>\n",
       "      <td>5</td>\n",
       "      <td>276</td>\n",
       "      <td>51.502435</td>\n",
       "      <td>-0.000250</td>\n",
       "      <td>0</td>\n",
       "      <td>...</td>\n",
       "      <td>0</td>\n",
       "      <td>0</td>\n",
       "      <td>0</td>\n",
       "      <td>0</td>\n",
       "      <td>0</td>\n",
       "      <td>0</td>\n",
       "      <td>0</td>\n",
       "      <td>0</td>\n",
       "      <td>1</td>\n",
       "      <td>10</td>\n",
       "    </tr>\n",
       "    <tr>\n",
       "      <th>2</th>\n",
       "      <td>995</td>\n",
       "      <td>8.1</td>\n",
       "      <td>2</td>\n",
       "      <td>3826</td>\n",
       "      <td>38</td>\n",
       "      <td>1</td>\n",
       "      <td>129</td>\n",
       "      <td>51.504348</td>\n",
       "      <td>-0.033444</td>\n",
       "      <td>0</td>\n",
       "      <td>...</td>\n",
       "      <td>0</td>\n",
       "      <td>0</td>\n",
       "      <td>0</td>\n",
       "      <td>0</td>\n",
       "      <td>0</td>\n",
       "      <td>0</td>\n",
       "      <td>0</td>\n",
       "      <td>0</td>\n",
       "      <td>1</td>\n",
       "      <td>40</td>\n",
       "    </tr>\n",
       "    <tr>\n",
       "      <th>3</th>\n",
       "      <td>853</td>\n",
       "      <td>8.4</td>\n",
       "      <td>7</td>\n",
       "      <td>2726</td>\n",
       "      <td>10</td>\n",
       "      <td>10</td>\n",
       "      <td>164</td>\n",
       "      <td>51.507377</td>\n",
       "      <td>0.038657</td>\n",
       "      <td>0</td>\n",
       "      <td>...</td>\n",
       "      <td>0</td>\n",
       "      <td>0</td>\n",
       "      <td>0</td>\n",
       "      <td>0</td>\n",
       "      <td>0</td>\n",
       "      <td>0</td>\n",
       "      <td>0</td>\n",
       "      <td>0</td>\n",
       "      <td>0</td>\n",
       "      <td>17</td>\n",
       "    </tr>\n",
       "    <tr>\n",
       "      <th>4</th>\n",
       "      <td>1243</td>\n",
       "      <td>8.1</td>\n",
       "      <td>11</td>\n",
       "      <td>6608</td>\n",
       "      <td>8</td>\n",
       "      <td>69</td>\n",
       "      <td>639</td>\n",
       "      <td>51.513556</td>\n",
       "      <td>-0.180002</td>\n",
       "      <td>1</td>\n",
       "      <td>...</td>\n",
       "      <td>0</td>\n",
       "      <td>0</td>\n",
       "      <td>0</td>\n",
       "      <td>0</td>\n",
       "      <td>0</td>\n",
       "      <td>0</td>\n",
       "      <td>0</td>\n",
       "      <td>0</td>\n",
       "      <td>0</td>\n",
       "      <td>19</td>\n",
       "    </tr>\n",
       "  </tbody>\n",
       "</table>\n",
       "<p>5 rows × 2745 columns</p>\n",
       "</div>"
      ],
      "text/plain": [
       "   Additional_Number_of_Scoring  Average_Score  \\\n",
       "0                           620            9.0   \n",
       "1                          1258            9.4   \n",
       "2                           995            8.1   \n",
       "3                           853            8.4   \n",
       "4                          1243            8.1   \n",
       "\n",
       "   Review_Total_Negative_Word_Counts  Total_Number_of_Reviews  \\\n",
       "0                                  0                     1974   \n",
       "1                                  6                     4204   \n",
       "2                                  2                     3826   \n",
       "3                                  7                     2726   \n",
       "4                                 11                     6608   \n",
       "\n",
       "   Review_Total_Positive_Word_Counts  \\\n",
       "0                                164   \n",
       "1                                  4   \n",
       "2                                 38   \n",
       "3                                 10   \n",
       "4                                  8   \n",
       "\n",
       "   Total_Number_of_Reviews_Reviewer_Has_Given  days_since_review        lat  \\\n",
       "0                                           1                562  51.506558   \n",
       "1                                           5                276  51.502435   \n",
       "2                                           1                129  51.504348   \n",
       "3                                          10                164  51.507377   \n",
       "4                                          69                639  51.513556   \n",
       "\n",
       "        lng  weekday_of_review  ...  n_worth  n_would  n_write  n_wrong  \\\n",
       "0 -0.004514                  1  ...        0        0        0        0   \n",
       "1 -0.000250                  0  ...        0        0        0        0   \n",
       "2 -0.033444                  0  ...        0        0        0        0   \n",
       "3  0.038657                  0  ...        0        0        0        0   \n",
       "4 -0.180002                  1  ...        0        0        0        0   \n",
       "\n",
       "   n_year  n_yes  n_yet  n_young  rating  Total_Num_of_Word_Counts  \n",
       "0       0      0      0        0       1                       164  \n",
       "1       0      0      0        0       1                        10  \n",
       "2       0      0      0        0       1                        40  \n",
       "3       0      0      0        0       0                        17  \n",
       "4       0      0      0        0       0                        19  \n",
       "\n",
       "[5 rows x 2745 columns]"
      ]
     },
     "execution_count": 162,
     "metadata": {},
     "output_type": "execute_result"
    }
   ],
   "source": [
    "train_df.head()"
   ]
  },
  {
   "cell_type": "markdown",
   "id": "9f2ae9e7",
   "metadata": {},
   "source": [
    "- `Total_Num_of_Word_Counts` = `Review_Total_Positive_Word_Counts`+`Review_Total_Negative_Word_Counts` (+ Optional: Common_Used_Words)\n",
    "- The new feature would be `Total_Num_of_Word_Counts` which is the sum of `Review_Total_Positive_Word_Counts` and `Review_Total_Negative_Word_Counts`.\n",
    "- (Common_Used_Words represents the words such as is, am, are, the, in, at)\n",
    "- This new feature will allow the user/analyst to recheck whether the values in `Review_Total_Positive_Word_Counts`and`Review_Total_Negative_Word_Counts` columns are correct."
   ]
  },
  {
   "cell_type": "code",
   "execution_count": 161,
   "id": "237c31bb",
   "metadata": {
    "scrolled": false
   },
   "outputs": [
    {
     "data": {
      "text/plain": [
       "0    164\n",
       "1     10\n",
       "2     40\n",
       "3     17\n",
       "4     19\n",
       "Name: Total_Num_of_Word_Counts, dtype: int64"
      ]
     },
     "execution_count": 161,
     "metadata": {},
     "output_type": "execute_result"
    }
   ],
   "source": [
    "# Add `Total_Num_of_Word_Counts` column to train_df\n",
    "\n",
    "train_df[\"Total_Num_of_Word_Counts\"] = train_df[\"Review_Total_Positive_Word_Counts\"] + train_df[\"Review_Total_Negative_Word_Counts\"]\n",
    "\n",
    "train_df[\"Total_Num_of_Word_Counts\"].head()"
   ]
  },
  {
   "cell_type": "code",
   "execution_count": 170,
   "id": "bb0f6a27",
   "metadata": {
    "scrolled": false
   },
   "outputs": [
    {
     "data": {
      "text/plain": [
       "0      6\n",
       "1    167\n",
       "2      9\n",
       "3     19\n",
       "4     13\n",
       "Name: Total_Num_of_Word_Counts, dtype: int64"
      ]
     },
     "execution_count": 170,
     "metadata": {},
     "output_type": "execute_result"
    }
   ],
   "source": [
    "# Add `Total_Num_of_Word_Counts` column to test_df\n",
    "\n",
    "test_df[\"Total_Num_of_Word_Counts\"] = test_df[\"Review_Total_Positive_Word_Counts\"] + test_df[\"Review_Total_Negative_Word_Counts\"]\n",
    "\n",
    "test_df[\"Total_Num_of_Word_Counts\"].head()"
   ]
  },
  {
   "cell_type": "markdown",
   "id": "6e661efc",
   "metadata": {},
   "source": [
    "#### Run the model from question 5 again. You will have to re-optimize your hyperparameters. Has the accuracy score of your best model improved on the test set after adding the new feature you created?"
   ]
  },
  {
   "cell_type": "code",
   "execution_count": 171,
   "id": "9b309b14",
   "metadata": {},
   "outputs": [],
   "source": [
    "# Assign X and y to 'test_df' dataset\n",
    "\n",
    "# Independent variables\n",
    "# All columns but 'rating'\n",
    "new_X_test = test_df.drop(columns = ['rating'], axis = 1)\n",
    "\n",
    "# Dependent variable\n",
    "new_y_test = test_df['rating']"
   ]
  },
  {
   "cell_type": "code",
   "execution_count": 172,
   "id": "6b1fe275",
   "metadata": {},
   "outputs": [],
   "source": [
    "# Assign X and y to 'train_df' dataset\n",
    "\n",
    "# Independent variables\n",
    "# All columns but 'rating'\n",
    "new_X_train = train_df.drop(columns = ['rating'], axis = 1)\n",
    "\n",
    "# Dependent variable\n",
    "new_y_train = train_df['rating']"
   ]
  },
  {
   "cell_type": "code",
   "execution_count": 176,
   "id": "72c33bad",
   "metadata": {},
   "outputs": [
    {
     "ename": "ValueError",
     "evalue": "X has 2744 features, but StandardScaler is expecting 2743 features as input.",
     "output_type": "error",
     "traceback": [
      "\u001b[0;31m---------------------------------------------------------------------------\u001b[0m",
      "\u001b[0;31mValueError\u001b[0m                                Traceback (most recent call last)",
      "Input \u001b[0;32mIn [176]\u001b[0m, in \u001b[0;36m<cell line: 7>\u001b[0;34m()\u001b[0m\n\u001b[1;32m      4\u001b[0m scaler\u001b[38;5;241m.\u001b[39mfit(X_remainder)\n\u001b[1;32m      6\u001b[0m new_X_remainder \u001b[38;5;241m=\u001b[39m scaler\u001b[38;5;241m.\u001b[39mtransform(X_remainder)\n\u001b[0;32m----> 7\u001b[0m new_X_test \u001b[38;5;241m=\u001b[39m \u001b[43mscaler\u001b[49m\u001b[38;5;241;43m.\u001b[39;49m\u001b[43mtransform\u001b[49m\u001b[43m(\u001b[49m\u001b[43mnew_X_test\u001b[49m\u001b[43m)\u001b[49m\n",
      "File \u001b[0;32m~/opt/anaconda3/envs/machine_learning_techniques/lib/python3.9/site-packages/sklearn/utils/_set_output.py:140\u001b[0m, in \u001b[0;36m_wrap_method_output.<locals>.wrapped\u001b[0;34m(self, X, *args, **kwargs)\u001b[0m\n\u001b[1;32m    138\u001b[0m \u001b[38;5;129m@wraps\u001b[39m(f)\n\u001b[1;32m    139\u001b[0m \u001b[38;5;28;01mdef\u001b[39;00m \u001b[38;5;21mwrapped\u001b[39m(\u001b[38;5;28mself\u001b[39m, X, \u001b[38;5;241m*\u001b[39margs, \u001b[38;5;241m*\u001b[39m\u001b[38;5;241m*\u001b[39mkwargs):\n\u001b[0;32m--> 140\u001b[0m     data_to_wrap \u001b[38;5;241m=\u001b[39m \u001b[43mf\u001b[49m\u001b[43m(\u001b[49m\u001b[38;5;28;43mself\u001b[39;49m\u001b[43m,\u001b[49m\u001b[43m \u001b[49m\u001b[43mX\u001b[49m\u001b[43m,\u001b[49m\u001b[43m \u001b[49m\u001b[38;5;241;43m*\u001b[39;49m\u001b[43margs\u001b[49m\u001b[43m,\u001b[49m\u001b[43m \u001b[49m\u001b[38;5;241;43m*\u001b[39;49m\u001b[38;5;241;43m*\u001b[39;49m\u001b[43mkwargs\u001b[49m\u001b[43m)\u001b[49m\n\u001b[1;32m    141\u001b[0m     \u001b[38;5;28;01mif\u001b[39;00m \u001b[38;5;28misinstance\u001b[39m(data_to_wrap, \u001b[38;5;28mtuple\u001b[39m):\n\u001b[1;32m    142\u001b[0m         \u001b[38;5;66;03m# only wrap the first output for cross decomposition\u001b[39;00m\n\u001b[1;32m    143\u001b[0m         \u001b[38;5;28;01mreturn\u001b[39;00m (\n\u001b[1;32m    144\u001b[0m             _wrap_data_with_container(method, data_to_wrap[\u001b[38;5;241m0\u001b[39m], X, \u001b[38;5;28mself\u001b[39m),\n\u001b[1;32m    145\u001b[0m             \u001b[38;5;241m*\u001b[39mdata_to_wrap[\u001b[38;5;241m1\u001b[39m:],\n\u001b[1;32m    146\u001b[0m         )\n",
      "File \u001b[0;32m~/opt/anaconda3/envs/machine_learning_techniques/lib/python3.9/site-packages/sklearn/preprocessing/_data.py:992\u001b[0m, in \u001b[0;36mStandardScaler.transform\u001b[0;34m(self, X, copy)\u001b[0m\n\u001b[1;32m    989\u001b[0m check_is_fitted(\u001b[38;5;28mself\u001b[39m)\n\u001b[1;32m    991\u001b[0m copy \u001b[38;5;241m=\u001b[39m copy \u001b[38;5;28;01mif\u001b[39;00m copy \u001b[38;5;129;01mis\u001b[39;00m \u001b[38;5;129;01mnot\u001b[39;00m \u001b[38;5;28;01mNone\u001b[39;00m \u001b[38;5;28;01melse\u001b[39;00m \u001b[38;5;28mself\u001b[39m\u001b[38;5;241m.\u001b[39mcopy\n\u001b[0;32m--> 992\u001b[0m X \u001b[38;5;241m=\u001b[39m \u001b[38;5;28;43mself\u001b[39;49m\u001b[38;5;241;43m.\u001b[39;49m\u001b[43m_validate_data\u001b[49m\u001b[43m(\u001b[49m\n\u001b[1;32m    993\u001b[0m \u001b[43m    \u001b[49m\u001b[43mX\u001b[49m\u001b[43m,\u001b[49m\n\u001b[1;32m    994\u001b[0m \u001b[43m    \u001b[49m\u001b[43mreset\u001b[49m\u001b[38;5;241;43m=\u001b[39;49m\u001b[38;5;28;43;01mFalse\u001b[39;49;00m\u001b[43m,\u001b[49m\n\u001b[1;32m    995\u001b[0m \u001b[43m    \u001b[49m\u001b[43maccept_sparse\u001b[49m\u001b[38;5;241;43m=\u001b[39;49m\u001b[38;5;124;43m\"\u001b[39;49m\u001b[38;5;124;43mcsr\u001b[39;49m\u001b[38;5;124;43m\"\u001b[39;49m\u001b[43m,\u001b[49m\n\u001b[1;32m    996\u001b[0m \u001b[43m    \u001b[49m\u001b[43mcopy\u001b[49m\u001b[38;5;241;43m=\u001b[39;49m\u001b[43mcopy\u001b[49m\u001b[43m,\u001b[49m\n\u001b[1;32m    997\u001b[0m \u001b[43m    \u001b[49m\u001b[43mdtype\u001b[49m\u001b[38;5;241;43m=\u001b[39;49m\u001b[43mFLOAT_DTYPES\u001b[49m\u001b[43m,\u001b[49m\n\u001b[1;32m    998\u001b[0m \u001b[43m    \u001b[49m\u001b[43mforce_all_finite\u001b[49m\u001b[38;5;241;43m=\u001b[39;49m\u001b[38;5;124;43m\"\u001b[39;49m\u001b[38;5;124;43mallow-nan\u001b[39;49m\u001b[38;5;124;43m\"\u001b[39;49m\u001b[43m,\u001b[49m\n\u001b[1;32m    999\u001b[0m \u001b[43m\u001b[49m\u001b[43m)\u001b[49m\n\u001b[1;32m   1001\u001b[0m \u001b[38;5;28;01mif\u001b[39;00m sparse\u001b[38;5;241m.\u001b[39missparse(X):\n\u001b[1;32m   1002\u001b[0m     \u001b[38;5;28;01mif\u001b[39;00m \u001b[38;5;28mself\u001b[39m\u001b[38;5;241m.\u001b[39mwith_mean:\n",
      "File \u001b[0;32m~/opt/anaconda3/envs/machine_learning_techniques/lib/python3.9/site-packages/sklearn/base.py:588\u001b[0m, in \u001b[0;36mBaseEstimator._validate_data\u001b[0;34m(self, X, y, reset, validate_separately, **check_params)\u001b[0m\n\u001b[1;32m    585\u001b[0m     out \u001b[38;5;241m=\u001b[39m X, y\n\u001b[1;32m    587\u001b[0m \u001b[38;5;28;01mif\u001b[39;00m \u001b[38;5;129;01mnot\u001b[39;00m no_val_X \u001b[38;5;129;01mand\u001b[39;00m check_params\u001b[38;5;241m.\u001b[39mget(\u001b[38;5;124m\"\u001b[39m\u001b[38;5;124mensure_2d\u001b[39m\u001b[38;5;124m\"\u001b[39m, \u001b[38;5;28;01mTrue\u001b[39;00m):\n\u001b[0;32m--> 588\u001b[0m     \u001b[38;5;28;43mself\u001b[39;49m\u001b[38;5;241;43m.\u001b[39;49m\u001b[43m_check_n_features\u001b[49m\u001b[43m(\u001b[49m\u001b[43mX\u001b[49m\u001b[43m,\u001b[49m\u001b[43m \u001b[49m\u001b[43mreset\u001b[49m\u001b[38;5;241;43m=\u001b[39;49m\u001b[43mreset\u001b[49m\u001b[43m)\u001b[49m\n\u001b[1;32m    590\u001b[0m \u001b[38;5;28;01mreturn\u001b[39;00m out\n",
      "File \u001b[0;32m~/opt/anaconda3/envs/machine_learning_techniques/lib/python3.9/site-packages/sklearn/base.py:389\u001b[0m, in \u001b[0;36mBaseEstimator._check_n_features\u001b[0;34m(self, X, reset)\u001b[0m\n\u001b[1;32m    386\u001b[0m     \u001b[38;5;28;01mreturn\u001b[39;00m\n\u001b[1;32m    388\u001b[0m \u001b[38;5;28;01mif\u001b[39;00m n_features \u001b[38;5;241m!=\u001b[39m \u001b[38;5;28mself\u001b[39m\u001b[38;5;241m.\u001b[39mn_features_in_:\n\u001b[0;32m--> 389\u001b[0m     \u001b[38;5;28;01mraise\u001b[39;00m \u001b[38;5;167;01mValueError\u001b[39;00m(\n\u001b[1;32m    390\u001b[0m         \u001b[38;5;124mf\u001b[39m\u001b[38;5;124m\"\u001b[39m\u001b[38;5;124mX has \u001b[39m\u001b[38;5;132;01m{\u001b[39;00mn_features\u001b[38;5;132;01m}\u001b[39;00m\u001b[38;5;124m features, but \u001b[39m\u001b[38;5;132;01m{\u001b[39;00m\u001b[38;5;28mself\u001b[39m\u001b[38;5;241m.\u001b[39m\u001b[38;5;18m__class__\u001b[39m\u001b[38;5;241m.\u001b[39m\u001b[38;5;18m__name__\u001b[39m\u001b[38;5;132;01m}\u001b[39;00m\u001b[38;5;124m \u001b[39m\u001b[38;5;124m\"\u001b[39m\n\u001b[1;32m    391\u001b[0m         \u001b[38;5;124mf\u001b[39m\u001b[38;5;124m\"\u001b[39m\u001b[38;5;124mis expecting \u001b[39m\u001b[38;5;132;01m{\u001b[39;00m\u001b[38;5;28mself\u001b[39m\u001b[38;5;241m.\u001b[39mn_features_in_\u001b[38;5;132;01m}\u001b[39;00m\u001b[38;5;124m features as input.\u001b[39m\u001b[38;5;124m\"\u001b[39m\n\u001b[1;32m    392\u001b[0m     )\n",
      "\u001b[0;31mValueError\u001b[0m: X has 2744 features, but StandardScaler is expecting 2743 features as input."
     ]
    }
   ],
   "source": [
    "# Re-fit the model\n",
    "\n",
    "scaler = StandardScaler()\n",
    "scaler.fit(new_X_remainder)\n",
    "\n",
    "new_X_remainder = scaler.transform(new_X_remainder)\n",
    "new_X_test = scaler.transform(new_X_test)"
   ]
  },
  {
   "cell_type": "code",
   "execution_count": 165,
   "id": "7988b213",
   "metadata": {},
   "outputs": [
    {
     "name": "stdout",
     "output_type": "stream",
     "text": [
      "[0.73782497 0.72720615 0.73479853 0.73186813 0.73699634]\n"
     ]
    }
   ],
   "source": [
    "# Instanitate model\n",
    "my_new_logreg = LogisticRegression(random_state=1)\n",
    "\n",
    "# Fit model on 5 folds.\n",
    "# The variable \"scores\" will hold 5 accuracy scores, \n",
    "# each from a different train and validation split\n",
    "new_scores = cross_val_score(my_new_logreg, new_X_remainder, new_y_remainder, cv = 5)\n",
    "print(new_scores)"
   ]
  },
  {
   "cell_type": "code",
   "execution_count": 167,
   "id": "6acee0a9",
   "metadata": {
    "scrolled": true
   },
   "outputs": [
    {
     "name": "stdout",
     "output_type": "stream",
     "text": [
      "Fold 1: 0.737824972537532\n",
      "Fold 2: 0.7272061515928231\n",
      "Fold 3: 0.7347985347985349\n",
      "Fold 4: 0.7318681318681318\n",
      "Fold 5: 0.736996336996337\n"
     ]
    }
   ],
   "source": [
    "# Every score corresponds to a fold\n",
    "\n",
    "for i in range(len(new_scores)) :\n",
    "    print(f\"Fold {i+1}: {new_scores[i]}\")"
   ]
  },
  {
   "cell_type": "code",
   "execution_count": 166,
   "id": "a3492eea",
   "metadata": {},
   "outputs": [
    {
     "name": "stdout",
     "output_type": "stream",
     "text": [
      "Average Score:0.7337388255586718\n"
     ]
    }
   ],
   "source": [
    "# The average score over the 5 folds\n",
    "\n",
    "print(f\"Average Score:{np.mean(new_scores)}\")"
   ]
  },
  {
   "cell_type": "code",
   "execution_count": 168,
   "id": "bcba1f23",
   "metadata": {},
   "outputs": [
    {
     "data": {
      "text/html": [
       "<style>#sk-container-id-3 {color: black;background-color: white;}#sk-container-id-3 pre{padding: 0;}#sk-container-id-3 div.sk-toggleable {background-color: white;}#sk-container-id-3 label.sk-toggleable__label {cursor: pointer;display: block;width: 100%;margin-bottom: 0;padding: 0.3em;box-sizing: border-box;text-align: center;}#sk-container-id-3 label.sk-toggleable__label-arrow:before {content: \"▸\";float: left;margin-right: 0.25em;color: #696969;}#sk-container-id-3 label.sk-toggleable__label-arrow:hover:before {color: black;}#sk-container-id-3 div.sk-estimator:hover label.sk-toggleable__label-arrow:before {color: black;}#sk-container-id-3 div.sk-toggleable__content {max-height: 0;max-width: 0;overflow: hidden;text-align: left;background-color: #f0f8ff;}#sk-container-id-3 div.sk-toggleable__content pre {margin: 0.2em;color: black;border-radius: 0.25em;background-color: #f0f8ff;}#sk-container-id-3 input.sk-toggleable__control:checked~div.sk-toggleable__content {max-height: 200px;max-width: 100%;overflow: auto;}#sk-container-id-3 input.sk-toggleable__control:checked~label.sk-toggleable__label-arrow:before {content: \"▾\";}#sk-container-id-3 div.sk-estimator input.sk-toggleable__control:checked~label.sk-toggleable__label {background-color: #d4ebff;}#sk-container-id-3 div.sk-label input.sk-toggleable__control:checked~label.sk-toggleable__label {background-color: #d4ebff;}#sk-container-id-3 input.sk-hidden--visually {border: 0;clip: rect(1px 1px 1px 1px);clip: rect(1px, 1px, 1px, 1px);height: 1px;margin: -1px;overflow: hidden;padding: 0;position: absolute;width: 1px;}#sk-container-id-3 div.sk-estimator {font-family: monospace;background-color: #f0f8ff;border: 1px dotted black;border-radius: 0.25em;box-sizing: border-box;margin-bottom: 0.5em;}#sk-container-id-3 div.sk-estimator:hover {background-color: #d4ebff;}#sk-container-id-3 div.sk-parallel-item::after {content: \"\";width: 100%;border-bottom: 1px solid gray;flex-grow: 1;}#sk-container-id-3 div.sk-label:hover label.sk-toggleable__label {background-color: #d4ebff;}#sk-container-id-3 div.sk-serial::before {content: \"\";position: absolute;border-left: 1px solid gray;box-sizing: border-box;top: 0;bottom: 0;left: 50%;z-index: 0;}#sk-container-id-3 div.sk-serial {display: flex;flex-direction: column;align-items: center;background-color: white;padding-right: 0.2em;padding-left: 0.2em;position: relative;}#sk-container-id-3 div.sk-item {position: relative;z-index: 1;}#sk-container-id-3 div.sk-parallel {display: flex;align-items: stretch;justify-content: center;background-color: white;position: relative;}#sk-container-id-3 div.sk-item::before, #sk-container-id-3 div.sk-parallel-item::before {content: \"\";position: absolute;border-left: 1px solid gray;box-sizing: border-box;top: 0;bottom: 0;left: 50%;z-index: -1;}#sk-container-id-3 div.sk-parallel-item {display: flex;flex-direction: column;z-index: 1;position: relative;background-color: white;}#sk-container-id-3 div.sk-parallel-item:first-child::after {align-self: flex-end;width: 50%;}#sk-container-id-3 div.sk-parallel-item:last-child::after {align-self: flex-start;width: 50%;}#sk-container-id-3 div.sk-parallel-item:only-child::after {width: 0;}#sk-container-id-3 div.sk-dashed-wrapped {border: 1px dashed gray;margin: 0 0.4em 0.5em 0.4em;box-sizing: border-box;padding-bottom: 0.4em;background-color: white;}#sk-container-id-3 div.sk-label label {font-family: monospace;font-weight: bold;display: inline-block;line-height: 1.2em;}#sk-container-id-3 div.sk-label-container {text-align: center;}#sk-container-id-3 div.sk-container {/* jupyter's `normalize.less` sets `[hidden] { display: none; }` but bootstrap.min.css set `[hidden] { display: none !important; }` so we also need the `!important` here to be able to override the default hidden behavior on the sphinx rendered scikit-learn.org. See: https://github.com/scikit-learn/scikit-learn/issues/21755 */display: inline-block !important;position: relative;}#sk-container-id-3 div.sk-text-repr-fallback {display: none;}</style><div id=\"sk-container-id-3\" class=\"sk-top-container\"><div class=\"sk-text-repr-fallback\"><pre>LogisticRegression(max_iter=1000, random_state=1)</pre><b>In a Jupyter environment, please rerun this cell to show the HTML representation or trust the notebook. <br />On GitHub, the HTML representation is unable to render, please try loading this page with nbviewer.org.</b></div><div class=\"sk-container\" hidden><div class=\"sk-item\"><div class=\"sk-estimator sk-toggleable\"><input class=\"sk-toggleable__control sk-hidden--visually\" id=\"sk-estimator-id-3\" type=\"checkbox\" checked><label for=\"sk-estimator-id-3\" class=\"sk-toggleable__label sk-toggleable__label-arrow\">LogisticRegression</label><div class=\"sk-toggleable__content\"><pre>LogisticRegression(max_iter=1000, random_state=1)</pre></div></div></div></div></div>"
      ],
      "text/plain": [
       "LogisticRegression(max_iter=1000, random_state=1)"
      ]
     },
     "execution_count": 168,
     "metadata": {},
     "output_type": "execute_result"
    }
   ],
   "source": [
    "# Instantiate model\n",
    "new_hotel_logit = LogisticRegression(solver='lbfgs', random_state=1, max_iter=1000)\n",
    "\n",
    "# Fit model\n",
    "new_hotel_logit.fit(X_train, y_train)"
   ]
  },
  {
   "cell_type": "code",
   "execution_count": 169,
   "id": "5b87cf2b",
   "metadata": {},
   "outputs": [
    {
     "name": "stdout",
     "output_type": "stream",
     "text": [
      "Score on train set: 0.885841537740272\n",
      "Score on test set: 0.7337707991563159\n"
     ]
    }
   ],
   "source": [
    "# Score model\n",
    "\n",
    "print(f\"Score on train set: {new_hotel_logit.score(new_X_train, new_y_train)}\")\n",
    "print(f\"Score on test set: {new_hotel_logit.score(new_X_test, new_y_test)}\")"
   ]
  },
  {
   "cell_type": "markdown",
   "id": "63af407f",
   "metadata": {},
   "source": [
    "Conclusion:\n",
    "   - The accuracy score of my best model is slightly improved on the test set after adding the new feature."
   ]
  }
 ],
 "metadata": {
  "kernelspec": {
   "display_name": "Python [conda env:machine_learning_techniques] *",
   "language": "python",
   "name": "conda-env-machine_learning_techniques-py"
  },
  "language_info": {
   "codemirror_mode": {
    "name": "ipython",
    "version": 3
   },
   "file_extension": ".py",
   "mimetype": "text/x-python",
   "name": "python",
   "nbconvert_exporter": "python",
   "pygments_lexer": "ipython3",
   "version": "3.9.16"
  }
 },
 "nbformat": 4,
 "nbformat_minor": 5
}
